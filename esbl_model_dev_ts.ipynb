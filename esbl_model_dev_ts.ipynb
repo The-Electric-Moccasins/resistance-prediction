{
 "cells": [
  {
   "cell_type": "code",
   "execution_count": 1,
   "id": "maritime-maryland",
   "metadata": {},
   "outputs": [],
   "source": [
    "!pip install -q PyAthena[SQLAlchemy]"
   ]
  },
  {
   "cell_type": "markdown",
   "id": "beneficial-stations",
   "metadata": {},
   "source": [
    "## Prepare Datasets for Predictor Training, Validation and Testing"
   ]
  },
  {
   "cell_type": "markdown",
   "id": "floral-airport",
   "metadata": {},
   "source": [
    "#### TS"
   ]
  },
  {
   "cell_type": "markdown",
   "id": "auburn-study",
   "metadata": {},
   "source": [
    "Import modules that build patient cohort, extract demographics and lab events data:"
   ]
  },
  {
   "cell_type": "code",
   "execution_count": 1,
   "id": "phantom-marketing",
   "metadata": {
    "scrolled": true
   },
   "outputs": [],
   "source": [
    "from dataproc.cohort import query_esbl_pts, remove_dups, observation_window\n",
    "from dataproc.sampling import generate_samples\n",
    "from dataproc.create_dataset import dataset_creation\n",
    "from hyper_params import HyperParams\n",
    "\n",
    "import numpy as np\n",
    "import pandas as pd\n",
    "from pandas import DataFrame\n",
    "from matplotlib import pyplot\n",
    "%matplotlib inline\n",
    "\n",
    "from sklearn.preprocessing import OneHotEncoder"
   ]
  },
  {
   "cell_type": "code",
   "execution_count": 2,
   "id": "imperial-blade",
   "metadata": {},
   "outputs": [
    {
     "data": {
      "text/plain": [
       "'1.1.5'"
      ]
     },
     "execution_count": 2,
     "metadata": {},
     "output_type": "execute_result"
    }
   ],
   "source": [
    "pd.__version__"
   ]
  },
  {
   "cell_type": "code",
   "execution_count": 2,
   "id": "exclusive-closing",
   "metadata": {},
   "outputs": [],
   "source": [
    "# load hyperparams instance\n",
    "params = HyperParams()"
   ]
  },
  {
   "cell_type": "markdown",
   "id": "generous-nebraska",
   "metadata": {},
   "source": [
    "Patients cohort:"
   ]
  },
  {
   "cell_type": "code",
   "execution_count": 3,
   "id": "meaningful-harvard",
   "metadata": {},
   "outputs": [],
   "source": [
    "# Select esbl microbiology test\n",
    "esbl_admits = query_esbl_pts()\n",
    "# Remove dups\n",
    "esbl_admits = remove_dups(esbl_admits)\n",
    "# Create observation window\n",
    "esbl_admits_window = observation_window(esbl_admits, window_size=params.observation_window_hours)\n",
    "# Subset columns\n",
    "pts_labels = esbl_admits_window[['hadm_id', 'index_date','RESISTANT_YN']]\n",
    "pts_labels.to_pickle('data/patient_labels.pkl')"
   ]
  },
  {
   "cell_type": "markdown",
   "id": "damaged-journey",
   "metadata": {},
   "source": [
    "Import cohort/labels data from the .pkl file:"
   ]
  },
  {
   "cell_type": "code",
   "execution_count": 6,
   "id": "greek-treaty",
   "metadata": {},
   "outputs": [
    {
     "name": "stdout",
     "output_type": "stream",
     "text": [
      "(4636, 3)\n"
     ]
    },
    {
     "data": {
      "text/html": [
       "<div>\n",
       "<style scoped>\n",
       "    .dataframe tbody tr th:only-of-type {\n",
       "        vertical-align: middle;\n",
       "    }\n",
       "\n",
       "    .dataframe tbody tr th {\n",
       "        vertical-align: top;\n",
       "    }\n",
       "\n",
       "    .dataframe thead th {\n",
       "        text-align: right;\n",
       "    }\n",
       "</style>\n",
       "<table border=\"1\" class=\"dataframe\">\n",
       "  <thead>\n",
       "    <tr style=\"text-align: right;\">\n",
       "      <th></th>\n",
       "      <th>hadm_id</th>\n",
       "      <th>index_date</th>\n",
       "      <th>RESISTANT_YN</th>\n",
       "    </tr>\n",
       "  </thead>\n",
       "  <tbody>\n",
       "    <tr>\n",
       "      <th>7010</th>\n",
       "      <td>101757</td>\n",
       "      <td>2132-12-31 16:30:00</td>\n",
       "      <td>0</td>\n",
       "    </tr>\n",
       "    <tr>\n",
       "      <th>7015</th>\n",
       "      <td>186474</td>\n",
       "      <td>2155-02-25 18:45:00</td>\n",
       "      <td>0</td>\n",
       "    </tr>\n",
       "    <tr>\n",
       "      <th>7016</th>\n",
       "      <td>194730</td>\n",
       "      <td>2170-12-22 06:12:00</td>\n",
       "      <td>0</td>\n",
       "    </tr>\n",
       "    <tr>\n",
       "      <th>7017</th>\n",
       "      <td>112086</td>\n",
       "      <td>2147-04-05 14:00:00</td>\n",
       "      <td>0</td>\n",
       "    </tr>\n",
       "    <tr>\n",
       "      <th>7018</th>\n",
       "      <td>158569</td>\n",
       "      <td>2142-04-01 18:34:00</td>\n",
       "      <td>1</td>\n",
       "    </tr>\n",
       "  </tbody>\n",
       "</table>\n",
       "</div>"
      ],
      "text/plain": [
       "      hadm_id          index_date  RESISTANT_YN\n",
       "7010   101757 2132-12-31 16:30:00             0\n",
       "7015   186474 2155-02-25 18:45:00             0\n",
       "7016   194730 2170-12-22 06:12:00             0\n",
       "7017   112086 2147-04-05 14:00:00             0\n",
       "7018   158569 2142-04-01 18:34:00             1"
      ]
     },
     "execution_count": 6,
     "metadata": {},
     "output_type": "execute_result"
    }
   ],
   "source": [
    "pts_labels = pd.read_pickle('data/patient_labels.pkl')\n",
    "print(pts_labels.shape)\n",
    "pts_labels.head()"
   ]
  },
  {
   "cell_type": "markdown",
   "id": "talented-union",
   "metadata": {},
   "source": [
    "Patient's features data:"
   ]
  },
  {
   "cell_type": "code",
   "execution_count": null,
   "id": "prostate-diving",
   "metadata": {},
   "outputs": [],
   "source": [
    "# Loading the features\n",
    "features = dataset_creation(pts_labels['hadm_id'], params.observation_window_hours)\n",
    "features = features.merge(pts_labels[['hadm_id','RESISTANT_YN']], on='hadm_id')\n",
    "features.to_pickle('data/features.pkl')"
   ]
  },
  {
   "cell_type": "markdown",
   "id": "fifth-bernard",
   "metadata": {},
   "source": [
    "Import features data from the .pkl file:"
   ]
  },
  {
   "cell_type": "code",
   "execution_count": 7,
   "id": "reduced-pleasure",
   "metadata": {},
   "outputs": [
    {
     "name": "stdout",
     "output_type": "stream",
     "text": [
      "['hadm_id', 'subject_id', '10378-8', '10535-3', '10839-9', '11555-0', '11556-8', '11557-6', '11558-4', '13362-9', '1644-4', '1742-6', '1751-7', '17849-1', '1798-8', '1863-0', '1920-8', '1959-6', '1963-8', '1968-7', '1971-1', '1975-2', '1988-5', '1994-3', '19991-9', '19994-3', '2000-8', '20077-4', '20112-9', '20564-1', '20569-0', '20570-8', '20578-1', '2069-3', '2075-0', '2078-4', '2085-9', '2090-9', '2093-3', '2143-6', '2157-6', '2160-0', '2161-8', '2170-9', '2276-4', '2284-8', '2339-0', '2345-7', '2498-4', '2500-7', '2532-0', '2601-3', '26498-6', '2692-2', '2695-5', '2777-1', '2823-3', '2828-2', '28541-1', '2947-0', '2951-2', '2955-3', '30089-7', '3016-3', '30226-5', '3040-3', '3094-0', '3095-7', '3151-8', '3173-2', '3255-7', '32693-4', '3297-9', '3349-8', '3376-1', '33762-6', '3377-9', '3390-2', '33914-3', '3397-7', '34728-6', '3773-9', '3879-4', '3967-7', '4023-8', '4073-3', '42662-7', '4542-7', '4544-3', '4548-4', '48065-7', '5642-4', '5767-9', '5769-5', '5770-3', '5778-6', '5787-7', '5792-7', '5793-5', '5794-3', '5796-8', '5797-6', '5799-2', '5802-4', '5803-2', '5804-0', '5808-1', '5811-5', '5818-0', '5821-4', '5822-2', '5895-7', '5902-2', '6298-4', '6598-7', '6768-6', '6773-6', '702-1', '704-7', '711-2', '718-7', '728-6', '731-0', '733-6', '738-5', '741-9', '742-7', '761-7', '763-3', '772-4', '774-0', '777-3', '778-1', '779-9', '7790-9', '7791-7', '785-6', '786-4', '787-2', '788-0', '789-8', '800-3', '804-5', '8246-1', '8247-9', '9322-9', 'admittime', 'admission_type', 'admission_location', 'insurance', 'language', 'religion', 'marital_status', 'ethnicity', 'gender', 'age', 'RESISTANT_YN']\n"
     ]
    }
   ],
   "source": [
    "features = pd.read_pickle('data/features.pkl')\n",
    "print(list(features.columns))"
   ]
  },
  {
   "cell_type": "code",
   "execution_count": 8,
   "id": "governmental-syntax",
   "metadata": {},
   "outputs": [
    {
     "name": "stdout",
     "output_type": "stream",
     "text": [
      "['10378-8', '10535-3', '10839-9', '11555-0', '11556-8', '11557-6', '11558-4', '13362-9', '1644-4', '1742-6', '1751-7', '17849-1', '1798-8', '1863-0', '1920-8', '1959-6', '1963-8', '1968-7', '1971-1', '1975-2', '1988-5', '1994-3', '19991-9', '19994-3', '2000-8', '20077-4', '20112-9', '20564-1', '20569-0', '20570-8', '20578-1', '2069-3', '2075-0', '2078-4', '2085-9', '2090-9', '2093-3', '2143-6', '2157-6', '2160-0', '2161-8', '2170-9', '2276-4', '2284-8', '2339-0', '2345-7', '2498-4', '2500-7', '2532-0', '2601-3', '26498-6', '2692-2', '2695-5', '2777-1', '2823-3', '2828-2', '28541-1', '2947-0', '2951-2', '2955-3', '30089-7', '3016-3', '30226-5', '3040-3', '3094-0', '3095-7', '3151-8', '3173-2', '3255-7', '32693-4', '3297-9', '3349-8', '3376-1', '33762-6', '3377-9', '3390-2', '33914-3', '3397-7', '34728-6', '3773-9', '3879-4', '3967-7', '4023-8', '4073-3', '42662-7', '4542-7', '4544-3', '4548-4', '48065-7', '5642-4', '5767-9', '5769-5', '5770-3', '5778-6', '5787-7', '5792-7', '5793-5', '5794-3', '5796-8', '5797-6', '5799-2', '5802-4', '5803-2', '5804-0', '5808-1', '5811-5', '5818-0', '5821-4', '5822-2', '5895-7', '5902-2', '6298-4', '6598-7', '6768-6', '6773-6', '702-1', '704-7', '711-2', '718-7', '728-6', '731-0', '733-6', '738-5', '741-9', '742-7', '761-7', '763-3', '772-4', '774-0', '777-3', '778-1', '779-9', '7790-9', '7791-7', '785-6', '786-4', '787-2', '788-0', '789-8', '800-3', '804-5', '8246-1', '8247-9', '9322-9']\n"
     ]
    }
   ],
   "source": [
    "loinc_codes = list(features.drop(columns=['hadm_id', 'subject_id', 'admittime','admission_type']).columns)[:-9]\n",
    "print(list(loinc_codes))"
   ]
  },
  {
   "cell_type": "code",
   "execution_count": 9,
   "id": "divided-artwork",
   "metadata": {},
   "outputs": [],
   "source": [
    "features_summary = features[loinc_codes].describe()"
   ]
  },
  {
   "cell_type": "code",
   "execution_count": 9,
   "id": "tight-quilt",
   "metadata": {},
   "outputs": [
    {
     "data": {
      "text/html": [
       "<div>\n",
       "<style scoped>\n",
       "    .dataframe tbody tr th:only-of-type {\n",
       "        vertical-align: middle;\n",
       "    }\n",
       "\n",
       "    .dataframe tbody tr th {\n",
       "        vertical-align: top;\n",
       "    }\n",
       "\n",
       "    .dataframe thead th {\n",
       "        text-align: right;\n",
       "    }\n",
       "</style>\n",
       "<table border=\"1\" class=\"dataframe\">\n",
       "  <thead>\n",
       "    <tr style=\"text-align: right;\">\n",
       "      <th></th>\n",
       "      <th>value</th>\n",
       "    </tr>\n",
       "    <tr>\n",
       "      <th>loinc_code</th>\n",
       "      <th></th>\n",
       "    </tr>\n",
       "  </thead>\n",
       "  <tbody>\n",
       "    <tr>\n",
       "      <th>42662-7</th>\n",
       "      <td>NEG</td>\n",
       "    </tr>\n",
       "    <tr>\n",
       "      <th>2160-0</th>\n",
       "      <td>3.6</td>\n",
       "    </tr>\n",
       "    <tr>\n",
       "      <th>3040-3</th>\n",
       "      <td>27</td>\n",
       "    </tr>\n",
       "    <tr>\n",
       "      <th>5895-7</th>\n",
       "      <td>1.1</td>\n",
       "    </tr>\n",
       "    <tr>\n",
       "      <th>785-6</th>\n",
       "      <td>28.8</td>\n",
       "    </tr>\n",
       "    <tr>\n",
       "      <th>...</th>\n",
       "      <td>...</td>\n",
       "    </tr>\n",
       "    <tr>\n",
       "      <th>2160-0</th>\n",
       "      <td>0.8</td>\n",
       "    </tr>\n",
       "    <tr>\n",
       "      <th>2601-3</th>\n",
       "      <td>1.8</td>\n",
       "    </tr>\n",
       "    <tr>\n",
       "      <th>2777-1</th>\n",
       "      <td>3.6</td>\n",
       "    </tr>\n",
       "    <tr>\n",
       "      <th>2823-3</th>\n",
       "      <td>4.2</td>\n",
       "    </tr>\n",
       "    <tr>\n",
       "      <th>785-6</th>\n",
       "      <td>31.8</td>\n",
       "    </tr>\n",
       "  </tbody>\n",
       "</table>\n",
       "<p>26420286 rows × 1 columns</p>\n",
       "</div>"
      ],
      "text/plain": [
       "           value\n",
       "loinc_code      \n",
       "42662-7      NEG\n",
       "2160-0       3.6\n",
       "3040-3        27\n",
       "5895-7       1.1\n",
       "785-6       28.8\n",
       "...          ...\n",
       "2160-0       0.8\n",
       "2601-3       1.8\n",
       "2777-1       3.6\n",
       "2823-3       4.2\n",
       "785-6       31.8\n",
       "\n",
       "[26420286 rows x 1 columns]"
      ]
     },
     "execution_count": 9,
     "metadata": {},
     "output_type": "execute_result"
    }
   ],
   "source": [
    "# Embedding the features\n",
    "from dataproc.embeddings import loinc_values\n",
    "\n",
    "loinc_vals = loinc_values(loinc_codes)\n",
    "loinc_vals.to_pickle('data/loinc_vals_raw.pic')\n",
    "loinc_vals.shape\n",
    "# loinc_vals.set_index('loinc_code')"
   ]
  },
  {
   "cell_type": "code",
   "execution_count": 12,
   "id": "another-christmas",
   "metadata": {},
   "outputs": [],
   "source": [
    "loinc_vals.dropna(subset=['value'], inplace=True)\n",
    "loinc_vals = loinc_vals.astype({'value': 'string', 'loinc_code': 'category'})\n",
    "loinc_vals['value'] = loinc_vals['value'].map(lambda x: x.lstrip('LESS THAN '))\n",
    "loinc_vals['value'] = loinc_vals['value'].map(lambda x: x.lstrip('GREATER THAN '))\n",
    "loinc_vals['value'] = loinc_vals['value'].map(lambda x: x.lstrip('>GREATER THAN '))\n",
    "loinc_vals['value'] = loinc_vals['value'].map(lambda x: x.lstrip('<LESS THAN '))\n",
    "loinc_vals['value'] = loinc_vals['value'].map(lambda x: x.rstrip(' NG/ML'))\n",
    "loinc_vals['value'] = loinc_vals['value'].map(lambda x: x.lstrip('<>'))\n",
    "loinc_vals['value'] = loinc_vals['value'].map(lambda x: x.replace(',', '.'))\n",
    "loinc_vals.to_pickle('data/loinc_vals_str_clean.pic')"
   ]
  },
  {
   "cell_type": "code",
   "execution_count": 59,
   "id": "possible-flour",
   "metadata": {},
   "outputs": [],
   "source": [
    "if loinc_vals is None:\n",
    "    loinc_vals = pd.read_pickle('data/loinc_vals_str_clean.pic')"
   ]
  },
  {
   "cell_type": "code",
   "execution_count": 13,
   "id": "violent-alarm",
   "metadata": {},
   "outputs": [],
   "source": [
    "loinc_vals.drop(list(loinc_vals.loc[loinc_vals['value'] == 'UNABLE TO ANALYZE'].index),  inplace=True)\n",
    "loinc_vals.drop(list(loinc_vals.loc[loinc_vals['value'] == 'MOLYSIS FALSELY DECREASES THIS RESULT'].index),  inplace=True)\n",
    "loinc_vals.drop(list(loinc_vals.loc[loinc_vals['value'] == 'COMPUTER NETWORK FAILURE. TEST NOT RESULTED.'].index),  inplace=True)\n",
    "loinc_vals.drop(list(loinc_vals.loc[loinc_vals['value'] == 'UNABLE TO DETERMINE'].index),  inplace=True)\n",
    "loinc_vals.drop(list(loinc_vals.loc[loinc_vals['value'] == ':UNABLE TO DETERMINE'].index),  inplace=True)\n",
    "loinc_vals.drop(list(loinc_vals.loc[loinc_vals['value'] == 'UNABLE TO QUANTITATE'].index),  inplace=True)\n",
    "loinc_vals.drop(list(loinc_vals.loc[loinc_vals['value'] == 'UNABLE TO REPORT'].index),  inplace=True)\n",
    "loinc_vals.to_pickle('data/loinc_vals.pic')"
   ]
  },
  {
   "cell_type": "code",
   "execution_count": 10,
   "id": "awful-bookmark",
   "metadata": {},
   "outputs": [],
   "source": [
    "loinc_vals = pd.read_pickle('data/loinc_vals.pic')"
   ]
  },
  {
   "cell_type": "code",
   "execution_count": 26,
   "id": "flexible-plenty",
   "metadata": {},
   "outputs": [],
   "source": [
    "numeric = []\n",
    "categorical = []\n",
    "weird = []\n",
    "for code in loinc_codes:\n",
    "    size = len(loinc_vals.loc[loinc_vals['loinc_code'] == str(code), 'value'])\n",
    "    size_unique = len(loinc_vals.loc[loinc_vals['loinc_code'] == str(code), 'value'].unique())\n",
    "    sum_na = pd.to_numeric(loinc_vals.loc[loinc_vals['loinc_code'] == str(code), 'value'], errors='coerce').isna().sum()\n",
    "    if sum_na / size < 0.05:\n",
    "        numeric.append(code)\n",
    "    elif sum_na / size > 0.05 and size_unique < 100:\n",
    "        categorical.append(code)\n",
    "    else:\n",
    "        weird.append(code)"
   ]
  },
  {
   "cell_type": "code",
   "execution_count": 27,
   "id": "disturbed-movement",
   "metadata": {},
   "outputs": [],
   "source": [
    "numeric.append('age')"
   ]
  },
  {
   "cell_type": "code",
   "execution_count": 28,
   "id": "coated-algorithm",
   "metadata": {},
   "outputs": [],
   "source": [
    "# remove lab column that contains only 'inf' and 'Nan'\n",
    "numeric.remove('26498-6')\n",
    "# remove lab column that contains phrase 'See comments'\n",
    "categorical.remove('33914-3')\n",
    "# remove lab column that contains phrase 'Random'\n",
    "categorical.remove('13362-9')"
   ]
  },
  {
   "cell_type": "code",
   "execution_count": 29,
   "id": "comic-creature",
   "metadata": {},
   "outputs": [
    {
     "name": "stdout",
     "output_type": "stream",
     "text": [
      "All: 133\n",
      "Numeric:  95\n",
      "Categorical:  36\n",
      "Weird: 0\n"
     ]
    }
   ],
   "source": [
    "print('All:', len(loinc_codes))\n",
    "print('Numeric: ', len(numeric))\n",
    "print('Categorical: ', len(categorical))\n",
    "print('Weird:', len(weird))"
   ]
  },
  {
   "cell_type": "code",
   "execution_count": 110,
   "id": "friendly-officer",
   "metadata": {},
   "outputs": [],
   "source": [
    "numeric = ['age','10535-3','11555-0','11556-8','11557-6','11558-4','1644-4','1742-6','1751-7','17849-1','1798-8','1863-0','1920-8','1959-6','1963-8','1968-7','1971-1','1975-2','1988-5','1994-3','19991-9','19994-3','2000-8','20077-4','20112-9','20564-1','20569-0','20570-8','20578-1','2069-3','2075-0','2078-4','2085-9','2090-9','2093-3','2143-6','2157-6','2160-0','2161-8','2170-9','2276-4','2284-8','2339-0','2345-7','2498-4','2500-7','2532-0','2601-3','2692-2','2695-5','2777-1','2823-3','2828-2','28541-1','2947-0','2951-2','2955-3','3016-3','3040-3','3094-0','3095-7','3151-8','3173-2','3255-7','32693-4','33762-6','34728-6','3967-7','4544-3','5803-2','5811-5','5895-7','5902-2','6298-4','6768-6','704-7','711-2','718-7','731-0','733-6','742-7','761-7','763-3','772-4','777-3','785-6','786-4','787-2','788-0','789-8','804-5','9322-9']\n",
    "categorical = ['10378-8','30089-7','30226-5','3349-8','3376-1','3377-9','3390-2','3397-7','3773-9','3879-4','4073-3','42662-7','5767-9','5769-5','5770-3','5778-6','5792-7','5794-3','5797-6','5799-2','5802-4','5804-0','5818-0','5822-2','702-1','728-6','738-5','741-9','774-0','778-1','779-9','7790-9','7791-7','800-3','8246-1','8247-9']\n",
    "weird = ['10839-9','3297-9','4023-8','4542-7','4548-4','48065-7','5642-4','5787-7','5793-5','5796-8','5808-1','5821-4','6598-7','6773-6']               "
   ]
  },
  {
   "cell_type": "markdown",
   "id": "spread-roberts",
   "metadata": {},
   "source": [
    "Summary statistics for numeric lab codes:"
   ]
  },
  {
   "cell_type": "code",
   "execution_count": 30,
   "id": "brazilian-license",
   "metadata": {},
   "outputs": [],
   "source": [
    "numeric_stats = []\n",
    "for code in numeric:\n",
    "    a = pd.to_numeric(loinc_vals.loc[loinc_vals['loinc_code'] == str(code), 'value'], errors='coerce').describe(percentiles=[.01,.25, .5, .75, .95, .99])\n",
    "    numeric_stats.append(a)\n",
    "numeric_stats_df = pd.concat(numeric_stats, axis=1, keys=numeric)\n",
    "numeric_stats_df['age'] = features['age'].describe(percentiles=[.01,.25, .5, .75, .95, .99])"
   ]
  },
  {
   "cell_type": "code",
   "execution_count": 31,
   "id": "statewide-berry",
   "metadata": {},
   "outputs": [
    {
     "data": {
      "text/html": [
       "<div>\n",
       "<style scoped>\n",
       "    .dataframe tbody tr th:only-of-type {\n",
       "        vertical-align: middle;\n",
       "    }\n",
       "\n",
       "    .dataframe tbody tr th {\n",
       "        vertical-align: top;\n",
       "    }\n",
       "\n",
       "    .dataframe thead th {\n",
       "        text-align: right;\n",
       "    }\n",
       "</style>\n",
       "<table border=\"1\" class=\"dataframe\">\n",
       "  <thead>\n",
       "    <tr style=\"text-align: right;\">\n",
       "      <th></th>\n",
       "      <th>1994-3</th>\n",
       "      <th>1988-5</th>\n",
       "      <th>19991-9</th>\n",
       "      <th>1975-2</th>\n",
       "      <th>804-5</th>\n",
       "      <th>2947-0</th>\n",
       "      <th>3040-3</th>\n",
       "      <th>3016-3</th>\n",
       "      <th>2695-5</th>\n",
       "      <th>786-4</th>\n",
       "      <th>...</th>\n",
       "      <th>788-0</th>\n",
       "      <th>6298-4</th>\n",
       "      <th>4542-7</th>\n",
       "      <th>1920-8</th>\n",
       "      <th>711-2</th>\n",
       "      <th>17849-1</th>\n",
       "      <th>3151-8</th>\n",
       "      <th>2093-3</th>\n",
       "      <th>3095-7</th>\n",
       "      <th>age</th>\n",
       "    </tr>\n",
       "  </thead>\n",
       "  <tbody>\n",
       "    <tr>\n",
       "      <th>count</th>\n",
       "      <td>249069.000000</td>\n",
       "      <td>6604.000000</td>\n",
       "      <td>22014.000000</td>\n",
       "      <td>238245.000000</td>\n",
       "      <td>753127.000000</td>\n",
       "      <td>71495.000000</td>\n",
       "      <td>6.536800e+04</td>\n",
       "      <td>28218.000000</td>\n",
       "      <td>18835.000000</td>\n",
       "      <td>747921.000000</td>\n",
       "      <td>...</td>\n",
       "      <td>746408.000000</td>\n",
       "      <td>192909.000000</td>\n",
       "      <td>11970.000000</td>\n",
       "      <td>219438.000000</td>\n",
       "      <td>172095.000000</td>\n",
       "      <td>10073.000000</td>\n",
       "      <td>12307.000000</td>\n",
       "      <td>19443.000000</td>\n",
       "      <td>13293.000000</td>\n",
       "      <td>4328.000000</td>\n",
       "    </tr>\n",
       "    <tr>\n",
       "      <th>mean</th>\n",
       "      <td>1.134999</td>\n",
       "      <td>55.212041</td>\n",
       "      <td>472.580131</td>\n",
       "      <td>3.340469</td>\n",
       "      <td>10.499787</td>\n",
       "      <td>136.984213</td>\n",
       "      <td>1.432881e+02</td>\n",
       "      <td>4.027730</td>\n",
       "      <td>422.983010</td>\n",
       "      <td>33.508648</td>\n",
       "      <td>...</td>\n",
       "      <td>15.799282</td>\n",
       "      <td>4.219486</td>\n",
       "      <td>164.305764</td>\n",
       "      <td>151.152385</td>\n",
       "      <td>1.966389</td>\n",
       "      <td>2.534686</td>\n",
       "      <td>13.907264</td>\n",
       "      <td>169.315538</td>\n",
       "      <td>491.762958</td>\n",
       "      <td>73.722736</td>\n",
       "    </tr>\n",
       "    <tr>\n",
       "      <th>std</th>\n",
       "      <td>0.577964</td>\n",
       "      <td>74.236002</td>\n",
       "      <td>126.202253</td>\n",
       "      <td>6.114858</td>\n",
       "      <td>9.006713</td>\n",
       "      <td>6.753572</td>\n",
       "      <td>4.842950e+03</td>\n",
       "      <td>8.686665</td>\n",
       "      <td>161.662842</td>\n",
       "      <td>1.573992</td>\n",
       "      <td>...</td>\n",
       "      <td>2.356128</td>\n",
       "      <td>1.444981</td>\n",
       "      <td>126.432987</td>\n",
       "      <td>732.109472</td>\n",
       "      <td>2.949846</td>\n",
       "      <td>1.775861</td>\n",
       "      <td>28.125358</td>\n",
       "      <td>55.503212</td>\n",
       "      <td>289.952976</td>\n",
       "      <td>50.886496</td>\n",
       "    </tr>\n",
       "    <tr>\n",
       "      <th>min</th>\n",
       "      <td>0.090000</td>\n",
       "      <td>0.030000</td>\n",
       "      <td>-22.000000</td>\n",
       "      <td>0.000000</td>\n",
       "      <td>0.000000</td>\n",
       "      <td>1.070000</td>\n",
       "      <td>0.000000e+00</td>\n",
       "      <td>0.020000</td>\n",
       "      <td>3.000000</td>\n",
       "      <td>0.000000</td>\n",
       "      <td>...</td>\n",
       "      <td>0.000000</td>\n",
       "      <td>0.600000</td>\n",
       "      <td>5.000000</td>\n",
       "      <td>0.000000</td>\n",
       "      <td>0.000000</td>\n",
       "      <td>0.000000</td>\n",
       "      <td>0.000000</td>\n",
       "      <td>14.000000</td>\n",
       "      <td>0.000000</td>\n",
       "      <td>0.000000</td>\n",
       "    </tr>\n",
       "    <tr>\n",
       "      <th>1%</th>\n",
       "      <td>0.820000</td>\n",
       "      <td>0.100000</td>\n",
       "      <td>152.000000</td>\n",
       "      <td>0.100000</td>\n",
       "      <td>0.600000</td>\n",
       "      <td>124.000000</td>\n",
       "      <td>7.000000e+00</td>\n",
       "      <td>0.020000</td>\n",
       "      <td>108.000000</td>\n",
       "      <td>29.500000</td>\n",
       "      <td>...</td>\n",
       "      <td>12.300000</td>\n",
       "      <td>2.800000</td>\n",
       "      <td>12.000000</td>\n",
       "      <td>10.000000</td>\n",
       "      <td>0.000000</td>\n",
       "      <td>0.200000</td>\n",
       "      <td>0.600000</td>\n",
       "      <td>69.000000</td>\n",
       "      <td>50.000000</td>\n",
       "      <td>0.000000</td>\n",
       "    </tr>\n",
       "    <tr>\n",
       "      <th>25%</th>\n",
       "      <td>1.080000</td>\n",
       "      <td>4.100000</td>\n",
       "      <td>394.000000</td>\n",
       "      <td>0.400000</td>\n",
       "      <td>6.400000</td>\n",
       "      <td>134.000000</td>\n",
       "      <td>2.000000e+01</td>\n",
       "      <td>1.000000</td>\n",
       "      <td>321.000000</td>\n",
       "      <td>32.500000</td>\n",
       "      <td>...</td>\n",
       "      <td>14.100000</td>\n",
       "      <td>3.700000</td>\n",
       "      <td>54.000000</td>\n",
       "      <td>22.000000</td>\n",
       "      <td>0.200000</td>\n",
       "      <td>1.400000</td>\n",
       "      <td>3.000000</td>\n",
       "      <td>135.000000</td>\n",
       "      <td>273.000000</td>\n",
       "      <td>55.000000</td>\n",
       "    </tr>\n",
       "    <tr>\n",
       "      <th>50%</th>\n",
       "      <td>1.130000</td>\n",
       "      <td>21.485000</td>\n",
       "      <td>494.000000</td>\n",
       "      <td>0.900000</td>\n",
       "      <td>9.100000</td>\n",
       "      <td>137.000000</td>\n",
       "      <td>3.700000e+01</td>\n",
       "      <td>2.000000</td>\n",
       "      <td>389.000000</td>\n",
       "      <td>33.600000</td>\n",
       "      <td>...</td>\n",
       "      <td>15.300000</td>\n",
       "      <td>4.100000</td>\n",
       "      <td>143.000000</td>\n",
       "      <td>36.000000</td>\n",
       "      <td>1.000000</td>\n",
       "      <td>2.100000</td>\n",
       "      <td>4.000000</td>\n",
       "      <td>163.000000</td>\n",
       "      <td>442.000000</td>\n",
       "      <td>68.000000</td>\n",
       "    </tr>\n",
       "    <tr>\n",
       "      <th>75%</th>\n",
       "      <td>1.190000</td>\n",
       "      <td>78.025000</td>\n",
       "      <td>579.000000</td>\n",
       "      <td>3.400000</td>\n",
       "      <td>12.800000</td>\n",
       "      <td>140.000000</td>\n",
       "      <td>8.500000e+01</td>\n",
       "      <td>3.800000</td>\n",
       "      <td>506.000000</td>\n",
       "      <td>34.600000</td>\n",
       "      <td>...</td>\n",
       "      <td>17.000000</td>\n",
       "      <td>4.600000</td>\n",
       "      <td>243.000000</td>\n",
       "      <td>76.000000</td>\n",
       "      <td>2.700000</td>\n",
       "      <td>3.200000</td>\n",
       "      <td>12.000000</td>\n",
       "      <td>196.000000</td>\n",
       "      <td>653.000000</td>\n",
       "      <td>78.000000</td>\n",
       "    </tr>\n",
       "    <tr>\n",
       "      <th>95%</th>\n",
       "      <td>1.290000</td>\n",
       "      <td>232.470000</td>\n",
       "      <td>627.000000</td>\n",
       "      <td>14.200000</td>\n",
       "      <td>21.400000</td>\n",
       "      <td>144.000000</td>\n",
       "      <td>4.250000e+02</td>\n",
       "      <td>12.000000</td>\n",
       "      <td>738.000000</td>\n",
       "      <td>36.000000</td>\n",
       "      <td>...</td>\n",
       "      <td>20.300000</td>\n",
       "      <td>5.600000</td>\n",
       "      <td>403.550000</td>\n",
       "      <td>383.000000</td>\n",
       "      <td>6.700000</td>\n",
       "      <td>6.000000</td>\n",
       "      <td>60.000000</td>\n",
       "      <td>256.000000</td>\n",
       "      <td>1046.000000</td>\n",
       "      <td>88.000000</td>\n",
       "    </tr>\n",
       "    <tr>\n",
       "      <th>99%</th>\n",
       "      <td>1.440000</td>\n",
       "      <td>300.000000</td>\n",
       "      <td>648.000000</td>\n",
       "      <td>31.500000</td>\n",
       "      <td>33.500000</td>\n",
       "      <td>150.000000</td>\n",
       "      <td>1.336330e+03</td>\n",
       "      <td>44.000000</td>\n",
       "      <td>910.000000</td>\n",
       "      <td>37.000000</td>\n",
       "      <td>...</td>\n",
       "      <td>23.400000</td>\n",
       "      <td>6.700000</td>\n",
       "      <td>517.310000</td>\n",
       "      <td>2598.520000</td>\n",
       "      <td>13.000000</td>\n",
       "      <td>8.700000</td>\n",
       "      <td>100.000000</td>\n",
       "      <td>327.580000</td>\n",
       "      <td>1354.000000</td>\n",
       "      <td>300.000000</td>\n",
       "    </tr>\n",
       "    <tr>\n",
       "      <th>max</th>\n",
       "      <td>108.000000</td>\n",
       "      <td>332.000000</td>\n",
       "      <td>794.000000</td>\n",
       "      <td>82.800000</td>\n",
       "      <td>846.700000</td>\n",
       "      <td>1332.000000</td>\n",
       "      <td>1.210000e+06</td>\n",
       "      <td>200.000000</td>\n",
       "      <td>1640.000000</td>\n",
       "      <td>45.800000</td>\n",
       "      <td>...</td>\n",
       "      <td>36.400000</td>\n",
       "      <td>538.000000</td>\n",
       "      <td>823.000000</td>\n",
       "      <td>36400.000000</td>\n",
       "      <td>97.000000</td>\n",
       "      <td>22.100000</td>\n",
       "      <td>810.000000</td>\n",
       "      <td>1520.000000</td>\n",
       "      <td>2335.000000</td>\n",
       "      <td>308.000000</td>\n",
       "    </tr>\n",
       "  </tbody>\n",
       "</table>\n",
       "<p>11 rows × 95 columns</p>\n",
       "</div>"
      ],
      "text/plain": [
       "              1994-3       1988-5       19991-9         1975-2          804-5  \\\n",
       "count  249069.000000  6604.000000  22014.000000  238245.000000  753127.000000   \n",
       "mean        1.134999    55.212041    472.580131       3.340469      10.499787   \n",
       "std         0.577964    74.236002    126.202253       6.114858       9.006713   \n",
       "min         0.090000     0.030000    -22.000000       0.000000       0.000000   \n",
       "1%          0.820000     0.100000    152.000000       0.100000       0.600000   \n",
       "25%         1.080000     4.100000    394.000000       0.400000       6.400000   \n",
       "50%         1.130000    21.485000    494.000000       0.900000       9.100000   \n",
       "75%         1.190000    78.025000    579.000000       3.400000      12.800000   \n",
       "95%         1.290000   232.470000    627.000000      14.200000      21.400000   \n",
       "99%         1.440000   300.000000    648.000000      31.500000      33.500000   \n",
       "max       108.000000   332.000000    794.000000      82.800000     846.700000   \n",
       "\n",
       "             2947-0        3040-3        3016-3        2695-5          786-4  \\\n",
       "count  71495.000000  6.536800e+04  28218.000000  18835.000000  747921.000000   \n",
       "mean     136.984213  1.432881e+02      4.027730    422.983010      33.508648   \n",
       "std        6.753572  4.842950e+03      8.686665    161.662842       1.573992   \n",
       "min        1.070000  0.000000e+00      0.020000      3.000000       0.000000   \n",
       "1%       124.000000  7.000000e+00      0.020000    108.000000      29.500000   \n",
       "25%      134.000000  2.000000e+01      1.000000    321.000000      32.500000   \n",
       "50%      137.000000  3.700000e+01      2.000000    389.000000      33.600000   \n",
       "75%      140.000000  8.500000e+01      3.800000    506.000000      34.600000   \n",
       "95%      144.000000  4.250000e+02     12.000000    738.000000      36.000000   \n",
       "99%      150.000000  1.336330e+03     44.000000    910.000000      37.000000   \n",
       "max     1332.000000  1.210000e+06    200.000000   1640.000000      45.800000   \n",
       "\n",
       "       ...          788-0         6298-4        4542-7         1920-8  \\\n",
       "count  ...  746408.000000  192909.000000  11970.000000  219438.000000   \n",
       "mean   ...      15.799282       4.219486    164.305764     151.152385   \n",
       "std    ...       2.356128       1.444981    126.432987     732.109472   \n",
       "min    ...       0.000000       0.600000      5.000000       0.000000   \n",
       "1%     ...      12.300000       2.800000     12.000000      10.000000   \n",
       "25%    ...      14.100000       3.700000     54.000000      22.000000   \n",
       "50%    ...      15.300000       4.100000    143.000000      36.000000   \n",
       "75%    ...      17.000000       4.600000    243.000000      76.000000   \n",
       "95%    ...      20.300000       5.600000    403.550000     383.000000   \n",
       "99%    ...      23.400000       6.700000    517.310000    2598.520000   \n",
       "max    ...      36.400000     538.000000    823.000000   36400.000000   \n",
       "\n",
       "               711-2       17849-1        3151-8        2093-3        3095-7  \\\n",
       "count  172095.000000  10073.000000  12307.000000  19443.000000  13293.000000   \n",
       "mean        1.966389      2.534686     13.907264    169.315538    491.762958   \n",
       "std         2.949846      1.775861     28.125358     55.503212    289.952976   \n",
       "min         0.000000      0.000000      0.000000     14.000000      0.000000   \n",
       "1%          0.000000      0.200000      0.600000     69.000000     50.000000   \n",
       "25%         0.200000      1.400000      3.000000    135.000000    273.000000   \n",
       "50%         1.000000      2.100000      4.000000    163.000000    442.000000   \n",
       "75%         2.700000      3.200000     12.000000    196.000000    653.000000   \n",
       "95%         6.700000      6.000000     60.000000    256.000000   1046.000000   \n",
       "99%        13.000000      8.700000    100.000000    327.580000   1354.000000   \n",
       "max        97.000000     22.100000    810.000000   1520.000000   2335.000000   \n",
       "\n",
       "               age  \n",
       "count  4328.000000  \n",
       "mean     73.722736  \n",
       "std      50.886496  \n",
       "min       0.000000  \n",
       "1%        0.000000  \n",
       "25%      55.000000  \n",
       "50%      68.000000  \n",
       "75%      78.000000  \n",
       "95%      88.000000  \n",
       "99%     300.000000  \n",
       "max     308.000000  \n",
       "\n",
       "[11 rows x 95 columns]"
      ]
     },
     "execution_count": 31,
     "metadata": {},
     "output_type": "execute_result"
    }
   ],
   "source": [
    "numeric_stats_df"
   ]
  },
  {
   "cell_type": "code",
   "execution_count": 140,
   "id": "corrected-explanation",
   "metadata": {},
   "outputs": [],
   "source": [
    "weird = ['3297-9',\n",
    " '4023-8',\n",
    " '4548-4',\n",
    " '48065-7',\n",
    " '5642-4',\n",
    " '5787-7',\n",
    " '5793-5',\n",
    " '5796-8',\n",
    " '5808-1',\n",
    " '5821-4',\n",
    " '6773-6']"
   ]
  },
  {
   "cell_type": "code",
   "execution_count": 32,
   "id": "optimum-suffering",
   "metadata": {},
   "outputs": [],
   "source": [
    "loinc_codes = list(set(loinc_codes) - set(weird))"
   ]
  },
  {
   "cell_type": "code",
   "execution_count": 33,
   "id": "wanted-rwanda",
   "metadata": {},
   "outputs": [],
   "source": [
    "# for now, ignoring the mixed type lab tests\n",
    "dataset = features.drop(columns=weird, errors='ignore')"
   ]
  },
  {
   "cell_type": "code",
   "execution_count": 34,
   "id": "metric-imagination",
   "metadata": {},
   "outputs": [
    {
     "data": {
      "text/plain": [
       "(4328, 157)"
      ]
     },
     "execution_count": 34,
     "metadata": {},
     "output_type": "execute_result"
    }
   ],
   "source": [
    "dataset.shape"
   ]
  },
  {
   "cell_type": "markdown",
   "id": "exceptional-musician",
   "metadata": {},
   "source": [
    "### Data Preprocessing  and Embeddings:"
   ]
  },
  {
   "cell_type": "code",
   "execution_count": 35,
   "id": "superior-boxing",
   "metadata": {},
   "outputs": [
    {
     "name": "stdout",
     "output_type": "stream",
     "text": [
      "['hadm_id', 'subject_id', '10378-8', '10535-3', '10839-9', '11555-0', '11556-8', '11557-6', '11558-4', '13362-9', '1644-4', '1742-6', '1751-7', '17849-1', '1798-8', '1863-0', '1920-8', '1959-6', '1963-8', '1968-7', '1971-1', '1975-2', '1988-5', '1994-3', '19991-9', '19994-3', '2000-8', '20077-4', '20112-9', '20564-1', '20569-0', '20570-8', '20578-1', '2069-3', '2075-0', '2078-4', '2085-9', '2090-9', '2093-3', '2143-6', '2157-6', '2160-0', '2161-8', '2170-9', '2276-4', '2284-8', '2339-0', '2345-7', '2498-4', '2500-7', '2532-0', '2601-3', '26498-6', '2692-2', '2695-5', '2777-1', '2823-3', '2828-2', '28541-1', '2947-0', '2951-2', '2955-3', '30089-7', '3016-3', '30226-5', '3040-3', '3094-0', '3095-7', '3151-8', '3173-2', '3255-7', '32693-4', '3297-9', '3349-8', '3376-1', '33762-6', '3377-9', '3390-2', '33914-3', '3397-7', '34728-6', '3773-9', '3879-4', '3967-7', '4023-8', '4073-3', '42662-7', '4542-7', '4544-3', '4548-4', '48065-7', '5642-4', '5767-9', '5769-5', '5770-3', '5778-6', '5787-7', '5792-7', '5793-5', '5794-3', '5796-8', '5797-6', '5799-2', '5802-4', '5803-2', '5804-0', '5808-1', '5811-5', '5818-0', '5821-4', '5822-2', '5895-7', '5902-2', '6298-4', '6598-7', '6768-6', '6773-6', '702-1', '704-7', '711-2', '718-7', '728-6', '731-0', '733-6', '738-5', '741-9', '742-7', '761-7', '763-3', '772-4', '774-0', '777-3', '778-1', '779-9', '7790-9', '7791-7', '785-6', '786-4', '787-2', '788-0', '789-8', '800-3', '804-5', '8246-1', '8247-9', '9322-9', 'admittime', 'admission_type', 'admission_location', 'insurance', 'language', 'religion', 'marital_status', 'ethnicity', 'gender', 'age', 'RESISTANT_YN']\n"
     ]
    }
   ],
   "source": [
    "print(list(dataset.columns))"
   ]
  },
  {
   "cell_type": "markdown",
   "id": "million-bangkok",
   "metadata": {},
   "source": [
    "#### Remove rare lab tests"
   ]
  },
  {
   "cell_type": "raw",
   "id": "departmental-dakota",
   "metadata": {},
   "source": [
    "the plot below shows there are many lab tests which are rare in our cohort.\n",
    "Lets remove them from the dataset."
   ]
  },
  {
   "cell_type": "code",
   "execution_count": 36,
   "id": "widespread-grade",
   "metadata": {},
   "outputs": [],
   "source": [
    "missing_values_counts_for_labtests = dataset[loinc_codes].isna().sum()"
   ]
  },
  {
   "cell_type": "code",
   "execution_count": 146,
   "id": "accessible-collector",
   "metadata": {},
   "outputs": [
    {
     "data": {
      "text/plain": [
       "<AxesSubplot:>"
      ]
     },
     "execution_count": 146,
     "metadata": {},
     "output_type": "execute_result"
    },
    {
     "data": {
      "image/png": "[encoded data removed]",
      "text/plain": [
       "<Figure size 432x288 with 1 Axes>"
      ]
     },
     "metadata": {
      "needs_background": "light"
     },
     "output_type": "display_data"
    }
   ],
   "source": [
    "missing_values_counts_for_labtests.plot.bar()"
   ]
  },
  {
   "cell_type": "code",
   "execution_count": 37,
   "id": "transsexual-provincial",
   "metadata": {},
   "outputs": [
    {
     "data": {
      "text/plain": [
       "0.3007518796992481"
      ]
     },
     "execution_count": 37,
     "metadata": {},
     "output_type": "execute_result"
    }
   ],
   "source": [
    "# percent of columns with rare values\n",
    "max_missing_vals = 0.9 * dataset.shape[0]\n",
    "np.mean(missing_values_counts_for_labtests > max_missing_vals)"
   ]
  },
  {
   "cell_type": "code",
   "execution_count": 38,
   "id": "empirical-promise",
   "metadata": {},
   "outputs": [],
   "source": [
    "max_missing_vals = 0.9 * dataset.shape[0]\n",
    "rare_labtests = missing_values_counts_for_labtests[missing_values_counts_for_labtests > max_missing_vals].index.tolist()"
   ]
  },
  {
   "cell_type": "code",
   "execution_count": 39,
   "id": "solved-dining",
   "metadata": {},
   "outputs": [],
   "source": [
    "# drop the rare labtests from the dataset\n",
    "dataset = dataset.drop(columns=rare_labtests)"
   ]
  },
  {
   "cell_type": "code",
   "execution_count": 40,
   "id": "cloudy-fancy",
   "metadata": {},
   "outputs": [
    {
     "ename": "KeyError",
     "evalue": "\"['8246-1', '800-3', '1988-5', '2955-3', '2284-8', '2500-7', '2078-4', '7791-7', '3016-3', '2090-9', '2695-5', '3967-7', '2093-3', '2085-9', '2170-9', '10535-3', '774-0', '1644-4', '10839-9', '30226-5', '20569-0', '2143-6', '2828-2', '2276-4', '7790-9', '20578-1', '33762-6', '1971-1', '30089-7', '772-4', '1968-7', '2161-8', '4542-7', '2692-2', '2498-4', '17849-1', '3151-8', '8247-9', '3095-7', '9322-9'] not in index\"",
     "output_type": "error",
     "traceback": [
      "\u001b[0;31m---------------------------------------------------------------------------\u001b[0m",
      "\u001b[0;31mKeyError\u001b[0m                                  Traceback (most recent call last)",
      "\u001b[0;32m<ipython-input-40-4aa0d7867f8e>\u001b[0m in \u001b[0;36m<module>\u001b[0;34m\u001b[0m\n\u001b[1;32m      1\u001b[0m \u001b[0;31m# percent of columns with rare values after cleanup\u001b[0m\u001b[0;34m\u001b[0m\u001b[0;34m\u001b[0m\u001b[0;34m\u001b[0m\u001b[0m\n\u001b[0;32m----> 2\u001b[0;31m \u001b[0mmissing_values_counts_for_labtests\u001b[0m \u001b[0;34m=\u001b[0m \u001b[0mdataset\u001b[0m\u001b[0;34m[\u001b[0m\u001b[0mloinc_codes\u001b[0m\u001b[0;34m]\u001b[0m\u001b[0;34m.\u001b[0m\u001b[0misna\u001b[0m\u001b[0;34m(\u001b[0m\u001b[0;34m)\u001b[0m\u001b[0;34m.\u001b[0m\u001b[0msum\u001b[0m\u001b[0;34m(\u001b[0m\u001b[0;34m)\u001b[0m\u001b[0;34m\u001b[0m\u001b[0;34m\u001b[0m\u001b[0m\n\u001b[0m\u001b[1;32m      3\u001b[0m \u001b[0mnp\u001b[0m\u001b[0;34m.\u001b[0m\u001b[0mmean\u001b[0m\u001b[0;34m(\u001b[0m\u001b[0mmissing_values_counts_for_labtests\u001b[0m \u001b[0;34m>\u001b[0m \u001b[0mmax_missing_vals\u001b[0m\u001b[0;34m)\u001b[0m\u001b[0;34m\u001b[0m\u001b[0;34m\u001b[0m\u001b[0m\n",
      "\u001b[0;32m~/anaconda3/envs/amazonei_pytorch_latest_p36/lib/python3.6/site-packages/pandas/core/frame.py\u001b[0m in \u001b[0;36m__getitem__\u001b[0;34m(self, key)\u001b[0m\n\u001b[1;32m   2910\u001b[0m             \u001b[0;32mif\u001b[0m \u001b[0mis_iterator\u001b[0m\u001b[0;34m(\u001b[0m\u001b[0mkey\u001b[0m\u001b[0;34m)\u001b[0m\u001b[0;34m:\u001b[0m\u001b[0;34m\u001b[0m\u001b[0;34m\u001b[0m\u001b[0m\n\u001b[1;32m   2911\u001b[0m                 \u001b[0mkey\u001b[0m \u001b[0;34m=\u001b[0m \u001b[0mlist\u001b[0m\u001b[0;34m(\u001b[0m\u001b[0mkey\u001b[0m\u001b[0;34m)\u001b[0m\u001b[0;34m\u001b[0m\u001b[0;34m\u001b[0m\u001b[0m\n\u001b[0;32m-> 2912\u001b[0;31m             \u001b[0mindexer\u001b[0m \u001b[0;34m=\u001b[0m \u001b[0mself\u001b[0m\u001b[0;34m.\u001b[0m\u001b[0mloc\u001b[0m\u001b[0;34m.\u001b[0m\u001b[0m_get_listlike_indexer\u001b[0m\u001b[0;34m(\u001b[0m\u001b[0mkey\u001b[0m\u001b[0;34m,\u001b[0m \u001b[0maxis\u001b[0m\u001b[0;34m=\u001b[0m\u001b[0;36m1\u001b[0m\u001b[0;34m,\u001b[0m \u001b[0mraise_missing\u001b[0m\u001b[0;34m=\u001b[0m\u001b[0;32mTrue\u001b[0m\u001b[0;34m)\u001b[0m\u001b[0;34m[\u001b[0m\u001b[0;36m1\u001b[0m\u001b[0;34m]\u001b[0m\u001b[0;34m\u001b[0m\u001b[0;34m\u001b[0m\u001b[0m\n\u001b[0m\u001b[1;32m   2913\u001b[0m \u001b[0;34m\u001b[0m\u001b[0m\n\u001b[1;32m   2914\u001b[0m         \u001b[0;31m# take() does not accept boolean indexers\u001b[0m\u001b[0;34m\u001b[0m\u001b[0;34m\u001b[0m\u001b[0;34m\u001b[0m\u001b[0m\n",
      "\u001b[0;32m~/anaconda3/envs/amazonei_pytorch_latest_p36/lib/python3.6/site-packages/pandas/core/indexing.py\u001b[0m in \u001b[0;36m_get_listlike_indexer\u001b[0;34m(self, key, axis, raise_missing)\u001b[0m\n\u001b[1;32m   1252\u001b[0m             \u001b[0mkeyarr\u001b[0m\u001b[0;34m,\u001b[0m \u001b[0mindexer\u001b[0m\u001b[0;34m,\u001b[0m \u001b[0mnew_indexer\u001b[0m \u001b[0;34m=\u001b[0m \u001b[0max\u001b[0m\u001b[0;34m.\u001b[0m\u001b[0m_reindex_non_unique\u001b[0m\u001b[0;34m(\u001b[0m\u001b[0mkeyarr\u001b[0m\u001b[0;34m)\u001b[0m\u001b[0;34m\u001b[0m\u001b[0;34m\u001b[0m\u001b[0m\n\u001b[1;32m   1253\u001b[0m \u001b[0;34m\u001b[0m\u001b[0m\n\u001b[0;32m-> 1254\u001b[0;31m         \u001b[0mself\u001b[0m\u001b[0;34m.\u001b[0m\u001b[0m_validate_read_indexer\u001b[0m\u001b[0;34m(\u001b[0m\u001b[0mkeyarr\u001b[0m\u001b[0;34m,\u001b[0m \u001b[0mindexer\u001b[0m\u001b[0;34m,\u001b[0m \u001b[0maxis\u001b[0m\u001b[0;34m,\u001b[0m \u001b[0mraise_missing\u001b[0m\u001b[0;34m=\u001b[0m\u001b[0mraise_missing\u001b[0m\u001b[0;34m)\u001b[0m\u001b[0;34m\u001b[0m\u001b[0;34m\u001b[0m\u001b[0m\n\u001b[0m\u001b[1;32m   1255\u001b[0m         \u001b[0;32mreturn\u001b[0m \u001b[0mkeyarr\u001b[0m\u001b[0;34m,\u001b[0m \u001b[0mindexer\u001b[0m\u001b[0;34m\u001b[0m\u001b[0;34m\u001b[0m\u001b[0m\n\u001b[1;32m   1256\u001b[0m \u001b[0;34m\u001b[0m\u001b[0m\n",
      "\u001b[0;32m~/anaconda3/envs/amazonei_pytorch_latest_p36/lib/python3.6/site-packages/pandas/core/indexing.py\u001b[0m in \u001b[0;36m_validate_read_indexer\u001b[0;34m(self, key, indexer, axis, raise_missing)\u001b[0m\n\u001b[1;32m   1302\u001b[0m             \u001b[0;32mif\u001b[0m \u001b[0mraise_missing\u001b[0m\u001b[0;34m:\u001b[0m\u001b[0;34m\u001b[0m\u001b[0;34m\u001b[0m\u001b[0m\n\u001b[1;32m   1303\u001b[0m                 \u001b[0mnot_found\u001b[0m \u001b[0;34m=\u001b[0m \u001b[0mlist\u001b[0m\u001b[0;34m(\u001b[0m\u001b[0mset\u001b[0m\u001b[0;34m(\u001b[0m\u001b[0mkey\u001b[0m\u001b[0;34m)\u001b[0m \u001b[0;34m-\u001b[0m \u001b[0mset\u001b[0m\u001b[0;34m(\u001b[0m\u001b[0max\u001b[0m\u001b[0;34m)\u001b[0m\u001b[0;34m)\u001b[0m\u001b[0;34m\u001b[0m\u001b[0;34m\u001b[0m\u001b[0m\n\u001b[0;32m-> 1304\u001b[0;31m                 \u001b[0;32mraise\u001b[0m \u001b[0mKeyError\u001b[0m\u001b[0;34m(\u001b[0m\u001b[0;34mf\"{not_found} not in index\"\u001b[0m\u001b[0;34m)\u001b[0m\u001b[0;34m\u001b[0m\u001b[0;34m\u001b[0m\u001b[0m\n\u001b[0m\u001b[1;32m   1305\u001b[0m \u001b[0;34m\u001b[0m\u001b[0m\n\u001b[1;32m   1306\u001b[0m             \u001b[0;31m# we skip the warning on Categorical\u001b[0m\u001b[0;34m\u001b[0m\u001b[0;34m\u001b[0m\u001b[0;34m\u001b[0m\u001b[0m\n",
      "\u001b[0;31mKeyError\u001b[0m: \"['8246-1', '800-3', '1988-5', '2955-3', '2284-8', '2500-7', '2078-4', '7791-7', '3016-3', '2090-9', '2695-5', '3967-7', '2093-3', '2085-9', '2170-9', '10535-3', '774-0', '1644-4', '10839-9', '30226-5', '20569-0', '2143-6', '2828-2', '2276-4', '7790-9', '20578-1', '33762-6', '1971-1', '30089-7', '772-4', '1968-7', '2161-8', '4542-7', '2692-2', '2498-4', '17849-1', '3151-8', '8247-9', '3095-7', '9322-9'] not in index\""
     ]
    }
   ],
   "source": [
    "# percent of columns with rare values after cleanup\n",
    "missing_values_counts_for_labtests = dataset[loinc_codes].isna().sum()\n",
    "np.mean(missing_values_counts_for_labtests > max_missing_vals)"
   ]
  },
  {
   "cell_type": "code",
   "execution_count": 41,
   "id": "corrected-study",
   "metadata": {},
   "outputs": [],
   "source": [
    "# update the column names lists\n",
    "numeric = list(set(numeric) - set(rare_labtests))\n",
    "categorical = list(set(categorical) - set(rare_labtests))"
   ]
  },
  {
   "cell_type": "markdown",
   "id": "lonely-doctor",
   "metadata": {},
   "source": [
    "#### Clean lab numeric variables:"
   ]
  },
  {
   "cell_type": "code",
   "execution_count": 42,
   "id": "determined-reset",
   "metadata": {},
   "outputs": [],
   "source": [
    "# Convert to numeric selected columns\n",
    "dataset[numeric] = dataset[numeric].apply(pd.to_numeric, errors='coerce', axis=1)"
   ]
  },
  {
   "cell_type": "markdown",
   "id": "expired-quarterly",
   "metadata": {},
   "source": [
    "Since many lab data have outliers the median and interquartile range can be used to standardizing the numeric variables:   \n",
    "- value = (value – median) / (p75 – p25)"
   ]
  },
  {
   "cell_type": "code",
   "execution_count": 43,
   "id": "taken-colors",
   "metadata": {},
   "outputs": [],
   "source": [
    "def stanardize_numeric_values(df, list_of_clms, ref_df):\n",
    "    \"\"\"\n",
    "    Use the median and interquartile range to \n",
    "    standardize the numeric variables\n",
    "    value = (value – median) / (p75 – p25)\n",
    "    \"\"\"\n",
    "    for code in list_of_clms:\n",
    "        median = ref_df[code]['50%']\n",
    "        p25 = ref_df[code]['25%']\n",
    "        p75 = ref_df[code]['75%']\n",
    "        df[code] = (df[code] - median) / (p75 - p25)\n",
    "    return df\n",
    "\n",
    "def handle_extreme_numeric_values(df, list_of_clms, ref_df):\n",
    "    \"\"\"\n",
    "    clean extreme values outside pct 1-99\n",
    "    \"\"\"\n",
    "    for code in list_of_clms:\n",
    "        if code == 'age':\n",
    "            thresh = 105 # invented a believable max age \n",
    "            df[code] = df[code].apply(lambda x: x if x < thresh else np.nan)\n",
    "        else:\n",
    "            thresh = 4 * ref_df[code]['std']\n",
    "            df[code] = df[code].apply(lambda x: x if x < thresh else np.nan)\n",
    "        \n",
    "#         df[code] = np.maximum(df[code], p01)\n",
    "    return df\n",
    "    "
   ]
  },
  {
   "cell_type": "code",
   "execution_count": 44,
   "id": "secure-rainbow",
   "metadata": {},
   "outputs": [],
   "source": [
    "dataset = handle_extreme_numeric_values(dataset, numeric, numeric_stats_df)"
   ]
  },
  {
   "cell_type": "code",
   "execution_count": null,
   "id": "further-scratch",
   "metadata": {},
   "outputs": [],
   "source": [
    "dataset"
   ]
  },
  {
   "cell_type": "raw",
   "id": "adapted-relief",
   "metadata": {},
   "source": [
    "binning numerical values. \n",
    "saves on normalizing, imputing missing values.\n",
    "makes embeddings more straight forward, as we do not need to spearate numericals from binary."
   ]
  },
  {
   "cell_type": "code",
   "execution_count": 45,
   "id": "flying-paris",
   "metadata": {},
   "outputs": [],
   "source": [
    "def bin_numerics(dataset: DataFrame, numeric_columns:list, bins=6, labels=False):\n",
    "        df = dataset.copy(deep=True)\n",
    "        df[numeric_columns] = df[numeric_columns].apply(lambda x: pd.cut(x, bins=min(x.nunique(), 6), labels=False) if x.nunique() > 0  else x)\n",
    "#         df[numeric_columns].fillna(value=-1, inplace=True)\n",
    "        for col in numeric_columns:\n",
    "                df[col] = df[col].astype('str')\n",
    "\n",
    "        return df"
   ]
  },
  {
   "cell_type": "code",
   "execution_count": 37,
   "id": "binary-relations",
   "metadata": {},
   "outputs": [
    {
     "data": {
      "text/html": [
       "<div>\n",
       "<style scoped>\n",
       "    .dataframe tbody tr th:only-of-type {\n",
       "        vertical-align: middle;\n",
       "    }\n",
       "\n",
       "    .dataframe tbody tr th {\n",
       "        vertical-align: top;\n",
       "    }\n",
       "\n",
       "    .dataframe thead th {\n",
       "        text-align: right;\n",
       "    }\n",
       "</style>\n",
       "<table border=\"1\" class=\"dataframe\">\n",
       "  <thead>\n",
       "    <tr style=\"text-align: right;\">\n",
       "      <th></th>\n",
       "      <th>10535-3</th>\n",
       "      <th>10839-9</th>\n",
       "      <th>11555-0</th>\n",
       "      <th>11556-8</th>\n",
       "      <th>11557-6</th>\n",
       "      <th>11558-4</th>\n",
       "      <th>1644-4</th>\n",
       "      <th>1742-6</th>\n",
       "      <th>1751-7</th>\n",
       "      <th>17849-1</th>\n",
       "      <th>...</th>\n",
       "      <th>772-4</th>\n",
       "      <th>777-3</th>\n",
       "      <th>785-6</th>\n",
       "      <th>786-4</th>\n",
       "      <th>787-2</th>\n",
       "      <th>788-0</th>\n",
       "      <th>789-8</th>\n",
       "      <th>804-5</th>\n",
       "      <th>9322-9</th>\n",
       "      <th>age</th>\n",
       "    </tr>\n",
       "  </thead>\n",
       "  <tbody>\n",
       "    <tr>\n",
       "      <th>0</th>\n",
       "      <td>nan</td>\n",
       "      <td>nan</td>\n",
       "      <td>nan</td>\n",
       "      <td>nan</td>\n",
       "      <td>nan</td>\n",
       "      <td>nan</td>\n",
       "      <td>nan</td>\n",
       "      <td>0.0</td>\n",
       "      <td>nan</td>\n",
       "      <td>nan</td>\n",
       "      <td>...</td>\n",
       "      <td>nan</td>\n",
       "      <td>0.0</td>\n",
       "      <td>nan</td>\n",
       "      <td>nan</td>\n",
       "      <td>nan</td>\n",
       "      <td>nan</td>\n",
       "      <td>nan</td>\n",
       "      <td>1.0</td>\n",
       "      <td>nan</td>\n",
       "      <td>3.0</td>\n",
       "    </tr>\n",
       "    <tr>\n",
       "      <th>1</th>\n",
       "      <td>nan</td>\n",
       "      <td>nan</td>\n",
       "      <td>nan</td>\n",
       "      <td>nan</td>\n",
       "      <td>nan</td>\n",
       "      <td>nan</td>\n",
       "      <td>nan</td>\n",
       "      <td>0.0</td>\n",
       "      <td>nan</td>\n",
       "      <td>nan</td>\n",
       "      <td>...</td>\n",
       "      <td>nan</td>\n",
       "      <td>1.0</td>\n",
       "      <td>nan</td>\n",
       "      <td>nan</td>\n",
       "      <td>nan</td>\n",
       "      <td>nan</td>\n",
       "      <td>nan</td>\n",
       "      <td>1.0</td>\n",
       "      <td>nan</td>\n",
       "      <td>4.0</td>\n",
       "    </tr>\n",
       "    <tr>\n",
       "      <th>2</th>\n",
       "      <td>nan</td>\n",
       "      <td>nan</td>\n",
       "      <td>nan</td>\n",
       "      <td>nan</td>\n",
       "      <td>nan</td>\n",
       "      <td>nan</td>\n",
       "      <td>nan</td>\n",
       "      <td>0.0</td>\n",
       "      <td>nan</td>\n",
       "      <td>nan</td>\n",
       "      <td>...</td>\n",
       "      <td>nan</td>\n",
       "      <td>2.0</td>\n",
       "      <td>nan</td>\n",
       "      <td>nan</td>\n",
       "      <td>nan</td>\n",
       "      <td>nan</td>\n",
       "      <td>nan</td>\n",
       "      <td>1.0</td>\n",
       "      <td>nan</td>\n",
       "      <td>4.0</td>\n",
       "    </tr>\n",
       "    <tr>\n",
       "      <th>3</th>\n",
       "      <td>nan</td>\n",
       "      <td>nan</td>\n",
       "      <td>2.0</td>\n",
       "      <td>1.0</td>\n",
       "      <td>3.0</td>\n",
       "      <td>nan</td>\n",
       "      <td>nan</td>\n",
       "      <td>0.0</td>\n",
       "      <td>nan</td>\n",
       "      <td>nan</td>\n",
       "      <td>...</td>\n",
       "      <td>nan</td>\n",
       "      <td>1.0</td>\n",
       "      <td>nan</td>\n",
       "      <td>nan</td>\n",
       "      <td>nan</td>\n",
       "      <td>nan</td>\n",
       "      <td>nan</td>\n",
       "      <td>2.0</td>\n",
       "      <td>nan</td>\n",
       "      <td>3.0</td>\n",
       "    </tr>\n",
       "    <tr>\n",
       "      <th>4</th>\n",
       "      <td>nan</td>\n",
       "      <td>nan</td>\n",
       "      <td>nan</td>\n",
       "      <td>nan</td>\n",
       "      <td>nan</td>\n",
       "      <td>nan</td>\n",
       "      <td>nan</td>\n",
       "      <td>0.0</td>\n",
       "      <td>nan</td>\n",
       "      <td>nan</td>\n",
       "      <td>...</td>\n",
       "      <td>nan</td>\n",
       "      <td>2.0</td>\n",
       "      <td>nan</td>\n",
       "      <td>nan</td>\n",
       "      <td>nan</td>\n",
       "      <td>nan</td>\n",
       "      <td>nan</td>\n",
       "      <td>1.0</td>\n",
       "      <td>nan</td>\n",
       "      <td>5.0</td>\n",
       "    </tr>\n",
       "  </tbody>\n",
       "</table>\n",
       "<p>5 rows × 95 columns</p>\n",
       "</div>"
      ],
      "text/plain": [
       "  10535-3 10839-9 11555-0 11556-8 11557-6 11558-4 1644-4 1742-6 1751-7  \\\n",
       "0     nan     nan     nan     nan     nan     nan    nan    0.0    nan   \n",
       "1     nan     nan     nan     nan     nan     nan    nan    0.0    nan   \n",
       "2     nan     nan     nan     nan     nan     nan    nan    0.0    nan   \n",
       "3     nan     nan     2.0     1.0     3.0     nan    nan    0.0    nan   \n",
       "4     nan     nan     nan     nan     nan     nan    nan    0.0    nan   \n",
       "\n",
       "  17849-1  ... 772-4 777-3 785-6 786-4 787-2 788-0 789-8 804-5 9322-9  age  \n",
       "0     nan  ...   nan   0.0   nan   nan   nan   nan   nan   1.0    nan  3.0  \n",
       "1     nan  ...   nan   1.0   nan   nan   nan   nan   nan   1.0    nan  4.0  \n",
       "2     nan  ...   nan   2.0   nan   nan   nan   nan   nan   1.0    nan  4.0  \n",
       "3     nan  ...   nan   1.0   nan   nan   nan   nan   nan   2.0    nan  3.0  \n",
       "4     nan  ...   nan   2.0   nan   nan   nan   nan   nan   1.0    nan  5.0  \n",
       "\n",
       "[5 rows x 95 columns]"
      ]
     },
     "execution_count": 37,
     "metadata": {},
     "output_type": "execute_result"
    }
   ],
   "source": [
    "dataset[numeric].apply(lambda x: pd.cut(x, bins=min(x.nunique(), 6), labels=False).astype('str') if x.nunique() > 0 else x.astype('str')).head()"
   ]
  },
  {
   "cell_type": "code",
   "execution_count": 58,
   "id": "different-construction",
   "metadata": {},
   "outputs": [
    {
     "data": {
      "text/html": [
       "<div>\n",
       "<style scoped>\n",
       "    .dataframe tbody tr th:only-of-type {\n",
       "        vertical-align: middle;\n",
       "    }\n",
       "\n",
       "    .dataframe tbody tr th {\n",
       "        vertical-align: top;\n",
       "    }\n",
       "\n",
       "    .dataframe thead th {\n",
       "        text-align: right;\n",
       "    }\n",
       "</style>\n",
       "<table border=\"1\" class=\"dataframe\">\n",
       "  <thead>\n",
       "    <tr style=\"text-align: right;\">\n",
       "      <th></th>\n",
       "      <th>10535-3</th>\n",
       "      <th>10839-9</th>\n",
       "      <th>11555-0</th>\n",
       "      <th>11556-8</th>\n",
       "      <th>11557-6</th>\n",
       "      <th>11558-4</th>\n",
       "      <th>1644-4</th>\n",
       "      <th>1742-6</th>\n",
       "      <th>1751-7</th>\n",
       "      <th>17849-1</th>\n",
       "      <th>...</th>\n",
       "      <th>772-4</th>\n",
       "      <th>777-3</th>\n",
       "      <th>785-6</th>\n",
       "      <th>786-4</th>\n",
       "      <th>787-2</th>\n",
       "      <th>788-0</th>\n",
       "      <th>789-8</th>\n",
       "      <th>804-5</th>\n",
       "      <th>9322-9</th>\n",
       "      <th>age</th>\n",
       "    </tr>\n",
       "  </thead>\n",
       "  <tbody>\n",
       "    <tr>\n",
       "      <th>0</th>\n",
       "      <td>NaN</td>\n",
       "      <td>NaN</td>\n",
       "      <td>NaN</td>\n",
       "      <td>NaN</td>\n",
       "      <td>NaN</td>\n",
       "      <td>NaN</td>\n",
       "      <td>NaN</td>\n",
       "      <td>41.0</td>\n",
       "      <td>NaN</td>\n",
       "      <td>NaN</td>\n",
       "      <td>...</td>\n",
       "      <td>NaN</td>\n",
       "      <td>85.0</td>\n",
       "      <td>NaN</td>\n",
       "      <td>NaN</td>\n",
       "      <td>NaN</td>\n",
       "      <td>NaN</td>\n",
       "      <td>NaN</td>\n",
       "      <td>7.4</td>\n",
       "      <td>NaN</td>\n",
       "      <td>54.0</td>\n",
       "    </tr>\n",
       "    <tr>\n",
       "      <th>1</th>\n",
       "      <td>NaN</td>\n",
       "      <td>NaN</td>\n",
       "      <td>NaN</td>\n",
       "      <td>NaN</td>\n",
       "      <td>NaN</td>\n",
       "      <td>NaN</td>\n",
       "      <td>NaN</td>\n",
       "      <td>15.0</td>\n",
       "      <td>NaN</td>\n",
       "      <td>NaN</td>\n",
       "      <td>...</td>\n",
       "      <td>NaN</td>\n",
       "      <td>149.0</td>\n",
       "      <td>NaN</td>\n",
       "      <td>NaN</td>\n",
       "      <td>NaN</td>\n",
       "      <td>NaN</td>\n",
       "      <td>NaN</td>\n",
       "      <td>9.5</td>\n",
       "      <td>NaN</td>\n",
       "      <td>69.0</td>\n",
       "    </tr>\n",
       "    <tr>\n",
       "      <th>2</th>\n",
       "      <td>NaN</td>\n",
       "      <td>NaN</td>\n",
       "      <td>NaN</td>\n",
       "      <td>NaN</td>\n",
       "      <td>NaN</td>\n",
       "      <td>NaN</td>\n",
       "      <td>NaN</td>\n",
       "      <td>23.0</td>\n",
       "      <td>NaN</td>\n",
       "      <td>NaN</td>\n",
       "      <td>...</td>\n",
       "      <td>NaN</td>\n",
       "      <td>210.0</td>\n",
       "      <td>NaN</td>\n",
       "      <td>NaN</td>\n",
       "      <td>NaN</td>\n",
       "      <td>NaN</td>\n",
       "      <td>NaN</td>\n",
       "      <td>6.3</td>\n",
       "      <td>NaN</td>\n",
       "      <td>69.0</td>\n",
       "    </tr>\n",
       "    <tr>\n",
       "      <th>3</th>\n",
       "      <td>NaN</td>\n",
       "      <td>NaN</td>\n",
       "      <td>-8.0</td>\n",
       "      <td>119.0</td>\n",
       "      <td>30.0</td>\n",
       "      <td>NaN</td>\n",
       "      <td>NaN</td>\n",
       "      <td>53.0</td>\n",
       "      <td>NaN</td>\n",
       "      <td>NaN</td>\n",
       "      <td>...</td>\n",
       "      <td>NaN</td>\n",
       "      <td>143.0</td>\n",
       "      <td>NaN</td>\n",
       "      <td>NaN</td>\n",
       "      <td>NaN</td>\n",
       "      <td>NaN</td>\n",
       "      <td>NaN</td>\n",
       "      <td>12.1</td>\n",
       "      <td>NaN</td>\n",
       "      <td>56.0</td>\n",
       "    </tr>\n",
       "    <tr>\n",
       "      <th>4</th>\n",
       "      <td>NaN</td>\n",
       "      <td>NaN</td>\n",
       "      <td>NaN</td>\n",
       "      <td>NaN</td>\n",
       "      <td>NaN</td>\n",
       "      <td>NaN</td>\n",
       "      <td>NaN</td>\n",
       "      <td>55.0</td>\n",
       "      <td>NaN</td>\n",
       "      <td>NaN</td>\n",
       "      <td>...</td>\n",
       "      <td>NaN</td>\n",
       "      <td>239.0</td>\n",
       "      <td>NaN</td>\n",
       "      <td>NaN</td>\n",
       "      <td>NaN</td>\n",
       "      <td>NaN</td>\n",
       "      <td>NaN</td>\n",
       "      <td>8.6</td>\n",
       "      <td>NaN</td>\n",
       "      <td>85.0</td>\n",
       "    </tr>\n",
       "  </tbody>\n",
       "</table>\n",
       "<p>5 rows × 95 columns</p>\n",
       "</div>"
      ],
      "text/plain": [
       "   10535-3  10839-9  11555-0  11556-8  11557-6  11558-4  1644-4  1742-6  \\\n",
       "0      NaN      NaN      NaN      NaN      NaN      NaN     NaN    41.0   \n",
       "1      NaN      NaN      NaN      NaN      NaN      NaN     NaN    15.0   \n",
       "2      NaN      NaN      NaN      NaN      NaN      NaN     NaN    23.0   \n",
       "3      NaN      NaN     -8.0    119.0     30.0      NaN     NaN    53.0   \n",
       "4      NaN      NaN      NaN      NaN      NaN      NaN     NaN    55.0   \n",
       "\n",
       "   1751-7  17849-1  ...  772-4  777-3  785-6  786-4  787-2  788-0  789-8  \\\n",
       "0     NaN      NaN  ...    NaN   85.0    NaN    NaN    NaN    NaN    NaN   \n",
       "1     NaN      NaN  ...    NaN  149.0    NaN    NaN    NaN    NaN    NaN   \n",
       "2     NaN      NaN  ...    NaN  210.0    NaN    NaN    NaN    NaN    NaN   \n",
       "3     NaN      NaN  ...    NaN  143.0    NaN    NaN    NaN    NaN    NaN   \n",
       "4     NaN      NaN  ...    NaN  239.0    NaN    NaN    NaN    NaN    NaN   \n",
       "\n",
       "   804-5  9322-9   age  \n",
       "0    7.4     NaN  54.0  \n",
       "1    9.5     NaN  69.0  \n",
       "2    6.3     NaN  69.0  \n",
       "3   12.1     NaN  56.0  \n",
       "4    8.6     NaN  85.0  \n",
       "\n",
       "[5 rows x 95 columns]"
      ]
     },
     "execution_count": 58,
     "metadata": {},
     "output_type": "execute_result"
    }
   ],
   "source": [
    "dataset[numeric].head().fillna(value='Unknown')  #.apply(lambda x: pd.cut(x, bins=6, labels=False).astype('str')).head()"
   ]
  },
  {
   "cell_type": "code",
   "execution_count": 84,
   "id": "destroyed-bidding",
   "metadata": {},
   "outputs": [],
   "source": [
    "dataset = bin_numerics(dataset, numeric)\n",
    "categorical = categorical + numeric"
   ]
  },
  {
   "cell_type": "code",
   "execution_count": null,
   "id": "facial-classic",
   "metadata": {},
   "outputs": [],
   "source": []
  },
  {
   "cell_type": "code",
   "execution_count": 46,
   "id": "complimentary-austria",
   "metadata": {},
   "outputs": [],
   "source": [
    "dataset = stanardize_numeric_values(dataset, numeric, numeric_stats_df)"
   ]
  },
  {
   "cell_type": "markdown",
   "id": "bottom-resort",
   "metadata": {},
   "source": [
    "Imputation of missing values using scikit-learn https://scikit-learn.org/stable/modules/impute.html#impute"
   ]
  },
  {
   "cell_type": "code",
   "execution_count": 47,
   "id": "meaningful-reynolds",
   "metadata": {},
   "outputs": [],
   "source": [
    "from sklearn.impute import SimpleImputer\n",
    "\n",
    "def replace_missing_val(df, list_of_clms, how='median', fill_value=0):\n",
    "    \"\"\"\n",
    "    Imputation of missing values using median\n",
    "    \"\"\"\n",
    "    if how == 'constant':\n",
    "        imp = SimpleImputer(strategy=how, fill_value=fill_value)\n",
    "    else:\n",
    "        imp = SimpleImputer(strategy=how)\n",
    "    \n",
    "    df_prc = imp.fit_transform(df[list_of_clms])\n",
    "    #df[list_of_clms] = pd.DataFrame(df_prc, columns=list_of_clms)\n",
    "    return df_prc\n"
   ]
  },
  {
   "cell_type": "code",
   "execution_count": 48,
   "id": "western-caribbean",
   "metadata": {},
   "outputs": [],
   "source": [
    "numlabvars = dataset[numeric]"
   ]
  },
  {
   "cell_type": "code",
   "execution_count": 49,
   "id": "young-gardening",
   "metadata": {},
   "outputs": [],
   "source": [
    "numlabvars = replace_missing_val(dataset, numeric, how='median')\n",
    "# numlabvars = replace_missing_val(dataset, numeric, how='constant', fill_value=np.NINF)"
   ]
  },
  {
   "cell_type": "code",
   "execution_count": 50,
   "id": "later-artwork",
   "metadata": {},
   "outputs": [
    {
     "data": {
      "text/plain": [
       "(4328, 52)"
      ]
     },
     "execution_count": 50,
     "metadata": {},
     "output_type": "execute_result"
    }
   ],
   "source": [
    "numlabvars.shape"
   ]
  },
  {
   "cell_type": "markdown",
   "id": "saved-oregon",
   "metadata": {},
   "source": [
    "#### Clean lab categorical variables:"
   ]
  },
  {
   "cell_type": "code",
   "execution_count": 51,
   "id": "worldwide-advance",
   "metadata": {},
   "outputs": [],
   "source": [
    "# dataset['30089-7'] = np.where(dataset['30089-7'].isin(['<1','1','2']), '0-2',\n",
    "#                      np.where(dataset['30089-7'].isin(['3','4']),'3-5', dataset['30089-7']))\n",
    "\n",
    "dataset['5767-9'] = np.where(dataset['5767-9'].isin(['CLEAR']), 'Clear',\n",
    "                    np.where(dataset['5767-9'].isin(['SLHAZY']), 'SlHazy',\n",
    "                    np.where(dataset['5767-9'].isin(['HAZY']), 'Hazy',\n",
    "                    np.where(dataset['5767-9'].isin(['SlCloudy']),'SlCldy',  \n",
    "                    np.where(dataset['5767-9'].isin(['CLOUDY']),'Cloudy',dataset['5767-9'])))))\n",
    "\n",
    "dataset['5769-5'] = np.where(dataset['5769-5'].isin(['0']), 'NEG',\n",
    "                    np.where(dataset['5769-5'].isin(['NOTDONE']), 'NONE',\n",
    "                    np.where(dataset['5769-5'].isin(['LRG']), 'MANY', dataset['5769-5'])))\n",
    "\n",
    "dataset['5778-6'] = np.where(dataset['5778-6'].isin(['YELLOW','YEL']), 'Yellow',\n",
    "                    np.where(dataset['5778-6'].isin(['STRAW']), 'Straw',\n",
    "                    np.where(dataset['5778-6'].isin(['AMBER','AMB']), 'Amber', \n",
    "                    np.where(dataset['5778-6'].isin(['RED']), 'Red', \n",
    "                    np.where(dataset['5778-6'].isin(['ORANGE']), 'Orange', \n",
    "                    np.where(dataset['5778-6'].isin(['DKAMB','DKAMBER']), 'DkAmb', \n",
    "                    np.where(dataset['5778-6'].isin([' ']), np.nan, dataset['5778-6'])))))))\n",
    "\n",
    "dataset['5797-6'] = np.where(dataset['5797-6'].isin(['>80']), '80',dataset['5797-6'])\n",
    "\n",
    "dataset['5804-0'] = np.where(dataset['5804-0'].isin(['>300']), '300',\n",
    "                    np.where(dataset['5804-0'].isin([' ']), np.nan, dataset['5804-0']))\n",
    "\n",
    "dataset['5818-0'] = np.where(dataset['5818-0'].isin(['.2']), '0.2',\n",
    "                    np.where(dataset['5818-0'].isin(['>8','>8.0']), '8',\n",
    "                    np.where(dataset['5818-0'].isin(['>12']), '12',\n",
    "                    np.where(dataset['5818-0'].isin(['NotDone']), np.nan, dataset['5818-0']))))\n",
    "\n",
    "dataset['5822-2'] = np.where(dataset['5822-2'].isin(['0', 'N']), 'NONE',\n",
    "                    np.where(dataset['5822-2'].isin(['NOTDONE']), np.nan, dataset['5822-2']))\n",
    "\n",
    "dataset['778-1'] = np.where(dataset['778-1'].isin(['UNABLE TO ESTIMATE DUE TO PLATELET CLUMPS']), 'NOTDETECTED', dataset['778-1'])\n"
   ]
  },
  {
   "cell_type": "code",
   "execution_count": 52,
   "id": "disturbed-optimum",
   "metadata": {},
   "outputs": [
    {
     "name": "stdout",
     "output_type": "stream",
     "text": [
      "----------------------------------\n",
      "Column name:  728-6\n",
      "NORMAL        490\n",
      "1+            206\n",
      "2+            135\n",
      "3+            114\n",
      "OCCASIONAL     34\n",
      "Name: 728-6, dtype: int64\n",
      "----------------------------------\n",
      "Column name:  779-9\n",
      "NORMAL        485\n",
      "1+            262\n",
      "OCCASIONAL     84\n",
      "2+             66\n",
      "3+             15\n",
      "Name: 779-9, dtype: int64\n",
      "----------------------------------\n",
      "Column name:  3397-7\n",
      "NEG    412\n",
      "POS     27\n",
      "Name: 3397-7, dtype: int64\n",
      "----------------------------------\n",
      "Column name:  5804-0\n",
      "NEG    734\n",
      "30     402\n",
      "TR     348\n",
      "100    168\n",
      "500     66\n",
      "25      63\n",
      "75      43\n",
      "300     40\n",
      "150     24\n",
      "600      2\n",
      "Name: 5804-0, dtype: int64\n",
      "----------------------------------\n",
      "Column name:  5792-7\n",
      "NEG      1470\n",
      "1000       77\n",
      "TR         77\n",
      "100        72\n",
      "250        62\n",
      ">1000      12\n",
      "300         8\n",
      "500         5\n",
      "70          4\n",
      "150         3\n",
      "Name: 5792-7, dtype: int64\n",
      "----------------------------------\n",
      "Column name:  5778-6\n",
      "Yellow    1044\n",
      "Straw      458\n",
      "Amber      195\n",
      "LtAmb       22\n",
      "Red         16\n",
      "Orange      14\n",
      "DkAmb       14\n",
      "Brown        9\n",
      "None         2\n",
      "Green        1\n",
      "Name: 5778-6, dtype: int64\n",
      "----------------------------------\n",
      "Column name:  778-1\n",
      "NORMAL         374\n",
      "LOW            139\n",
      "VERY LOW        97\n",
      "HIGH            37\n",
      "VERY HIGH       22\n",
      "NOTDETECTED     11\n",
      "RARE             7\n",
      "Name: 778-1, dtype: int64\n",
      "----------------------------------\n",
      "Column name:  42662-7\n",
      "NEG    652\n",
      "POS     18\n",
      "Name: 42662-7, dtype: int64\n",
      "----------------------------------\n",
      "Column name:  10378-8\n",
      "NORMAL        457\n",
      "1+            141\n",
      "OCCASIONAL    126\n",
      "2+             45\n",
      "3+              8\n",
      "Name: 10378-8, dtype: int64\n",
      "----------------------------------\n",
      "Column name:  5802-4\n",
      "NEG    1644\n",
      "POS     120\n",
      "Name: 5802-4, dtype: int64\n",
      "----------------------------------\n",
      "Column name:  741-9\n",
      "NORMAL        608\n",
      "1+            190\n",
      "OCCASIONAL     56\n",
      "2+             50\n",
      "3+             18\n",
      "Name: 741-9, dtype: int64\n",
      "----------------------------------\n",
      "Column name:  5794-3\n",
      "NEG    698\n",
      "LG     444\n",
      "SM     208\n",
      "MOD    191\n",
      "TR     171\n",
      "LGE     51\n",
      "Name: 5794-3, dtype: int64\n",
      "----------------------------------\n",
      "Column name:  5769-5\n",
      "FEW     364\n",
      "NONE    289\n",
      "MANY    212\n",
      "OCC     201\n",
      "MOD     187\n",
      "RARE    135\n",
      "NEG      32\n",
      "Name: 5769-5, dtype: int64\n",
      "----------------------------------\n",
      "Column name:  5767-9\n",
      "Clear     1334\n",
      "Hazy       236\n",
      "Cloudy     138\n",
      "SlHazy      42\n",
      "SlCldy      13\n",
      "             1\n",
      "Name: 5767-9, dtype: int64\n",
      "----------------------------------\n",
      "Column name:  3390-2\n",
      "NEG    337\n",
      "POS    102\n",
      "Name: 3390-2, dtype: int64\n",
      "----------------------------------\n",
      "Column name:  5797-6\n",
      "NEG    1222\n",
      "TR      344\n",
      "15      106\n",
      "50       49\n",
      "10       35\n",
      "150      26\n",
      "40       25\n",
      "80        6\n",
      "Name: 5797-6, dtype: int64\n",
      "----------------------------------\n",
      "Column name:  3376-1\n",
      "NEG    665\n",
      "POS      4\n",
      "Name: 3376-1, dtype: int64\n",
      "----------------------------------\n",
      "Column name:  702-1\n",
      "1+            388\n",
      "NORMAL        353\n",
      "2+            163\n",
      "OCCASIONAL     43\n",
      "3+             27\n",
      "Name: 702-1, dtype: int64\n",
      "----------------------------------\n",
      "Column name:  5818-0\n",
      "NEG    1303\n",
      "0.2     224\n",
      "1       131\n",
      "4        65\n",
      "2        42\n",
      "8        37\n",
      "12        8\n",
      "Name: 5818-0, dtype: int64\n",
      "----------------------------------\n",
      "Column name:  3349-8\n",
      "NEG    427\n",
      "POS     10\n",
      "Name: 3349-8, dtype: int64\n",
      "----------------------------------\n",
      "Column name:  3773-9\n",
      "NEG    424\n",
      "POS     14\n",
      "Name: 3773-9, dtype: int64\n",
      "----------------------------------\n",
      "Column name:  3377-9\n",
      "NEG    427\n",
      "POS     11\n",
      "Name: 3377-9, dtype: int64\n",
      "----------------------------------\n",
      "Column name:  5799-2\n",
      "NEG    1230\n",
      "MOD     206\n",
      "TR      164\n",
      "SM       99\n",
      "LG       22\n",
      "Name: 5799-2, dtype: int64\n",
      "----------------------------------\n",
      "Column name:  3879-4\n",
      "NEG    367\n",
      "POS     72\n",
      "Name: 3879-4, dtype: int64\n",
      "----------------------------------\n",
      "Column name:  4073-3\n",
      "NEG    661\n",
      "POS      5\n",
      "Name: 4073-3, dtype: int64\n",
      "----------------------------------\n",
      "Column name:  5822-2\n",
      "NONE    1536\n",
      "FEW       32\n",
      "MOD       26\n",
      "MANY      26\n",
      "OCC       18\n",
      "RARE      13\n",
      "Name: 5822-2, dtype: int64\n",
      "----------------------------------\n",
      "Column name:  5770-3\n",
      "NEG    1532\n",
      "SM      178\n",
      "MOD      29\n",
      "LG       25\n",
      "Name: 5770-3, dtype: int64\n",
      "----------------------------------\n",
      "Column name:  738-5\n",
      "NORMAL        481\n",
      "1+            250\n",
      "2+            111\n",
      "3+             80\n",
      "OCCASIONAL     50\n",
      "Name: 738-5, dtype: int64\n"
     ]
    }
   ],
   "source": [
    "# print value counts for each lab categorical variable:\n",
    "for col in categorical:\n",
    "    print('----------------------------------')\n",
    "    print('Column name: ', col)\n",
    "    print(dataset[col].value_counts())"
   ]
  },
  {
   "cell_type": "code",
   "execution_count": 53,
   "id": "civilian-diary",
   "metadata": {},
   "outputs": [],
   "source": [
    "# replace 'Nan' values in categorical variables by 'UNKNOWN'\n",
    "dataset.update(dataset[categorical].fillna('UNKNOWN'))"
   ]
  },
  {
   "cell_type": "code",
   "execution_count": 54,
   "id": "permanent-realtor",
   "metadata": {},
   "outputs": [
    {
     "data": {
      "text/html": [
       "<div>\n",
       "<style scoped>\n",
       "    .dataframe tbody tr th:only-of-type {\n",
       "        vertical-align: middle;\n",
       "    }\n",
       "\n",
       "    .dataframe tbody tr th {\n",
       "        vertical-align: top;\n",
       "    }\n",
       "\n",
       "    .dataframe thead th {\n",
       "        text-align: right;\n",
       "    }\n",
       "</style>\n",
       "<table border=\"1\" class=\"dataframe\">\n",
       "  <thead>\n",
       "    <tr style=\"text-align: right;\">\n",
       "      <th></th>\n",
       "      <th>728-6</th>\n",
       "      <th>779-9</th>\n",
       "      <th>3397-7</th>\n",
       "      <th>5804-0</th>\n",
       "      <th>5792-7</th>\n",
       "      <th>5778-6</th>\n",
       "      <th>778-1</th>\n",
       "      <th>42662-7</th>\n",
       "      <th>10378-8</th>\n",
       "      <th>5802-4</th>\n",
       "      <th>...</th>\n",
       "      <th>5818-0</th>\n",
       "      <th>3349-8</th>\n",
       "      <th>3773-9</th>\n",
       "      <th>3377-9</th>\n",
       "      <th>5799-2</th>\n",
       "      <th>3879-4</th>\n",
       "      <th>4073-3</th>\n",
       "      <th>5822-2</th>\n",
       "      <th>5770-3</th>\n",
       "      <th>738-5</th>\n",
       "    </tr>\n",
       "  </thead>\n",
       "  <tbody>\n",
       "    <tr>\n",
       "      <th>0</th>\n",
       "      <td>UNKNOWN</td>\n",
       "      <td>UNKNOWN</td>\n",
       "      <td>POS</td>\n",
       "      <td>NEG</td>\n",
       "      <td>100</td>\n",
       "      <td>Amber</td>\n",
       "      <td>LOW</td>\n",
       "      <td>NEG</td>\n",
       "      <td>UNKNOWN</td>\n",
       "      <td>NEG</td>\n",
       "      <td>...</td>\n",
       "      <td>8</td>\n",
       "      <td>NEG</td>\n",
       "      <td>NEG</td>\n",
       "      <td>NEG</td>\n",
       "      <td>NEG</td>\n",
       "      <td>POS</td>\n",
       "      <td>NEG</td>\n",
       "      <td>NONE</td>\n",
       "      <td>NEG</td>\n",
       "      <td>UNKNOWN</td>\n",
       "    </tr>\n",
       "    <tr>\n",
       "      <th>1</th>\n",
       "      <td>2+</td>\n",
       "      <td>2+</td>\n",
       "      <td>UNKNOWN</td>\n",
       "      <td>UNKNOWN</td>\n",
       "      <td>UNKNOWN</td>\n",
       "      <td>UNKNOWN</td>\n",
       "      <td>LOW</td>\n",
       "      <td>NEG</td>\n",
       "      <td>2+</td>\n",
       "      <td>UNKNOWN</td>\n",
       "      <td>...</td>\n",
       "      <td>UNKNOWN</td>\n",
       "      <td>UNKNOWN</td>\n",
       "      <td>UNKNOWN</td>\n",
       "      <td>UNKNOWN</td>\n",
       "      <td>UNKNOWN</td>\n",
       "      <td>UNKNOWN</td>\n",
       "      <td>NEG</td>\n",
       "      <td>UNKNOWN</td>\n",
       "      <td>UNKNOWN</td>\n",
       "      <td>2+</td>\n",
       "    </tr>\n",
       "    <tr>\n",
       "      <th>2</th>\n",
       "      <td>UNKNOWN</td>\n",
       "      <td>UNKNOWN</td>\n",
       "      <td>UNKNOWN</td>\n",
       "      <td>UNKNOWN</td>\n",
       "      <td>UNKNOWN</td>\n",
       "      <td>UNKNOWN</td>\n",
       "      <td>UNKNOWN</td>\n",
       "      <td>UNKNOWN</td>\n",
       "      <td>UNKNOWN</td>\n",
       "      <td>UNKNOWN</td>\n",
       "      <td>...</td>\n",
       "      <td>UNKNOWN</td>\n",
       "      <td>UNKNOWN</td>\n",
       "      <td>UNKNOWN</td>\n",
       "      <td>UNKNOWN</td>\n",
       "      <td>UNKNOWN</td>\n",
       "      <td>UNKNOWN</td>\n",
       "      <td>UNKNOWN</td>\n",
       "      <td>UNKNOWN</td>\n",
       "      <td>UNKNOWN</td>\n",
       "      <td>UNKNOWN</td>\n",
       "    </tr>\n",
       "    <tr>\n",
       "      <th>3</th>\n",
       "      <td>UNKNOWN</td>\n",
       "      <td>1+</td>\n",
       "      <td>UNKNOWN</td>\n",
       "      <td>UNKNOWN</td>\n",
       "      <td>UNKNOWN</td>\n",
       "      <td>UNKNOWN</td>\n",
       "      <td>UNKNOWN</td>\n",
       "      <td>UNKNOWN</td>\n",
       "      <td>UNKNOWN</td>\n",
       "      <td>UNKNOWN</td>\n",
       "      <td>...</td>\n",
       "      <td>UNKNOWN</td>\n",
       "      <td>UNKNOWN</td>\n",
       "      <td>UNKNOWN</td>\n",
       "      <td>UNKNOWN</td>\n",
       "      <td>UNKNOWN</td>\n",
       "      <td>UNKNOWN</td>\n",
       "      <td>UNKNOWN</td>\n",
       "      <td>UNKNOWN</td>\n",
       "      <td>UNKNOWN</td>\n",
       "      <td>1+</td>\n",
       "    </tr>\n",
       "    <tr>\n",
       "      <th>4</th>\n",
       "      <td>UNKNOWN</td>\n",
       "      <td>UNKNOWN</td>\n",
       "      <td>UNKNOWN</td>\n",
       "      <td>UNKNOWN</td>\n",
       "      <td>UNKNOWN</td>\n",
       "      <td>UNKNOWN</td>\n",
       "      <td>UNKNOWN</td>\n",
       "      <td>UNKNOWN</td>\n",
       "      <td>UNKNOWN</td>\n",
       "      <td>UNKNOWN</td>\n",
       "      <td>...</td>\n",
       "      <td>UNKNOWN</td>\n",
       "      <td>UNKNOWN</td>\n",
       "      <td>UNKNOWN</td>\n",
       "      <td>UNKNOWN</td>\n",
       "      <td>UNKNOWN</td>\n",
       "      <td>UNKNOWN</td>\n",
       "      <td>UNKNOWN</td>\n",
       "      <td>UNKNOWN</td>\n",
       "      <td>UNKNOWN</td>\n",
       "      <td>UNKNOWN</td>\n",
       "    </tr>\n",
       "  </tbody>\n",
       "</table>\n",
       "<p>5 rows × 28 columns</p>\n",
       "</div>"
      ],
      "text/plain": [
       "     728-6    779-9   3397-7   5804-0   5792-7   5778-6    778-1  42662-7  \\\n",
       "0  UNKNOWN  UNKNOWN      POS      NEG      100    Amber      LOW      NEG   \n",
       "1       2+       2+  UNKNOWN  UNKNOWN  UNKNOWN  UNKNOWN      LOW      NEG   \n",
       "2  UNKNOWN  UNKNOWN  UNKNOWN  UNKNOWN  UNKNOWN  UNKNOWN  UNKNOWN  UNKNOWN   \n",
       "3  UNKNOWN       1+  UNKNOWN  UNKNOWN  UNKNOWN  UNKNOWN  UNKNOWN  UNKNOWN   \n",
       "4  UNKNOWN  UNKNOWN  UNKNOWN  UNKNOWN  UNKNOWN  UNKNOWN  UNKNOWN  UNKNOWN   \n",
       "\n",
       "   10378-8   5802-4  ...   5818-0   3349-8   3773-9   3377-9   5799-2  \\\n",
       "0  UNKNOWN      NEG  ...        8      NEG      NEG      NEG      NEG   \n",
       "1       2+  UNKNOWN  ...  UNKNOWN  UNKNOWN  UNKNOWN  UNKNOWN  UNKNOWN   \n",
       "2  UNKNOWN  UNKNOWN  ...  UNKNOWN  UNKNOWN  UNKNOWN  UNKNOWN  UNKNOWN   \n",
       "3  UNKNOWN  UNKNOWN  ...  UNKNOWN  UNKNOWN  UNKNOWN  UNKNOWN  UNKNOWN   \n",
       "4  UNKNOWN  UNKNOWN  ...  UNKNOWN  UNKNOWN  UNKNOWN  UNKNOWN  UNKNOWN   \n",
       "\n",
       "    3879-4   4073-3   5822-2   5770-3    738-5  \n",
       "0      POS      NEG     NONE      NEG  UNKNOWN  \n",
       "1  UNKNOWN      NEG  UNKNOWN  UNKNOWN       2+  \n",
       "2  UNKNOWN  UNKNOWN  UNKNOWN  UNKNOWN  UNKNOWN  \n",
       "3  UNKNOWN  UNKNOWN  UNKNOWN  UNKNOWN       1+  \n",
       "4  UNKNOWN  UNKNOWN  UNKNOWN  UNKNOWN  UNKNOWN  \n",
       "\n",
       "[5 rows x 28 columns]"
      ]
     },
     "execution_count": 54,
     "metadata": {},
     "output_type": "execute_result"
    }
   ],
   "source": [
    "dataset[categorical].head()"
   ]
  },
  {
   "cell_type": "markdown",
   "id": "pressed-company",
   "metadata": {},
   "source": [
    "Use one hot encoder for categoric lab features:"
   ]
  },
  {
   "cell_type": "code",
   "execution_count": 90,
   "id": "looking-governor",
   "metadata": {},
   "outputs": [
    {
     "data": {
      "text/plain": [
       "[array(['1+', '2+', '3+', 'NORMAL', 'OCCASIONAL', 'UNKNOWN'], dtype=object),\n",
       " array(['0-2', '1', '11-20', '2', '21-50', '3', '3-5', '4', '6-10', '<1',\n",
       "        'UNKNOWN'], dtype=object),\n",
       " array(['0-10', '10-40', '160-320', '40-80', '640-1280', '80-160', '>1280',\n",
       "        'UNKNOWN'], dtype=object),\n",
       " array(['NEG', 'POS', 'UNKNOWN'], dtype=object)]"
      ]
     },
     "execution_count": 90,
     "metadata": {},
     "output_type": "execute_result"
    }
   ],
   "source": [
    "enc = OneHotEncoder()\n",
    "enc.fit(dataset[categorical])\n",
    "enc.categories_[0:4]"
   ]
  },
  {
   "cell_type": "code",
   "execution_count": 91,
   "id": "standard-retirement",
   "metadata": {},
   "outputs": [],
   "source": [
    "onehotlabvars = enc.transform(dataset[categorical]).toarray()"
   ]
  },
  {
   "cell_type": "code",
   "execution_count": 92,
   "id": "french-faculty",
   "metadata": {},
   "outputs": [
    {
     "data": {
      "text/plain": [
       "(4328, 793)"
      ]
     },
     "execution_count": 92,
     "metadata": {},
     "output_type": "execute_result"
    }
   ],
   "source": [
    "onehotlabvars.shape"
   ]
  },
  {
   "cell_type": "markdown",
   "id": "silent-actress",
   "metadata": {},
   "source": [
    "#### Clean demographic static variables:"
   ]
  },
  {
   "cell_type": "code",
   "execution_count": 93,
   "id": "organizational-detector",
   "metadata": {},
   "outputs": [],
   "source": [
    "staticvars = ['admission_type', 'admission_location', 'insurance', 'language', \n",
    "               'religion', 'marital_status', 'ethnicity', 'gender']"
   ]
  },
  {
   "cell_type": "code",
   "execution_count": 94,
   "id": "romantic-cycle",
   "metadata": {},
   "outputs": [],
   "source": [
    "dataset['admission_location'] = \\\n",
    "np.where(dataset['admission_location'].isin(['** INFO NOT AVAILABLE **']), 'EMERGENCY ROOM ADMIT',\n",
    "np.where(dataset['admission_location'].isin(['TRANSFER FROM SKILLED NUR','TRANSFER FROM OTHER HEALT',\n",
    "                        'TRANSFER FROM HOSP/EXTRAM']), 'TRANSFER FROM MED FACILITY',dataset['admission_location']))\n",
    "dataset['language'] = \\\n",
    "np.where(~dataset['language'].isin(['ENGL','SPAN']),'OTHER',dataset['language'])\n",
    "\n",
    "dataset['religion'] = \\\n",
    "np.where(~dataset['religion'].isin(['CATHOLIC','NOT SPECIFIED','UNOBTAINABLE','PROTESTANT QUAKER','JEWISH']),'OTHER',\n",
    "np.where(dataset['religion'].isin(['UNOBTAINABLE']),'NOT SPECIFIED', dataset['religion'] ))\n",
    "\n",
    "dataset['ethnicity'] = \\\n",
    "np.where(dataset['ethnicity'].isin(['ASIAN - CHINESE',\n",
    "                                    'ASIAN - ASIAN INDIAN',\n",
    "                                    'ASIAN - VIETNAMESE',\n",
    "                                    'ASIAN - OTHER',\n",
    "                                    'ASIAN - FILIPINO',\n",
    "                                    'ASIAN - CAMBODIAN']), 'ASIAN',\n",
    "np.where(dataset['ethnicity'].isin(['WHITE - RUSSIAN',\n",
    "                                    'WHITE - BRAZILIAN',\n",
    "                                    'WHITE - OTHER EUROPEAN']),'WHITE',\n",
    "np.where(dataset['ethnicity'].isin(['BLACK/CAPE VERDEAN',\n",
    "                                    'BLACK/HAITIAN',\n",
    "                                    'BLACK/AFRICAN']), 'BLACK/AFRICAN AMERICAN',\n",
    "np.where(dataset['ethnicity'].isin(['HISPANIC/LATINO - PUERTO RICAN',\n",
    "                                   'HISPANIC/LATINO - DOMINICAN',\n",
    "                                   'HISPANIC/LATINO - SALVADORAN',\n",
    "                                   'HISPANIC/LATINO - CUBAN',\n",
    "                                   'HISPANIC/LATINO - MEXICAN']), 'HISPANIC OR LATINO',   \n",
    "np.where(dataset['ethnicity'].isin(['MULTI RACE ETHNICITY',\n",
    "                                    'MIDDLE EASTERN',\n",
    "                                    'PORTUGUESE',\n",
    "                                    'AMERICAN INDIAN/ALASKA NATIVE',\n",
    "                                    'NATIVE HAWAIIAN OR OTHER PACIFIC ISLANDER',\n",
    "                                    'AMERICAN INDIAN/ALASKA NATIVE FEDERALLY RECOGNIZED TRIBE']), 'OTHER',\n",
    "np.where(dataset['ethnicity'].isin(['UNABLE TO OBTAIN',\n",
    "                                    'PATIENT DECLINED TO ANSWER']), 'UNKNOWN/NOT SPECIFIED',\n",
    "dataset['ethnicity']))))))"
   ]
  },
  {
   "cell_type": "code",
   "execution_count": 95,
   "id": "motivated-memorial",
   "metadata": {},
   "outputs": [],
   "source": [
    "dataset['marital_status'] = dataset['marital_status'].fillna(value='UNKNOWN')"
   ]
  },
  {
   "cell_type": "code",
   "execution_count": 96,
   "id": "ranging-seafood",
   "metadata": {},
   "outputs": [
    {
     "name": "stdout",
     "output_type": "stream",
     "text": [
      "----------------------------------\n",
      "Column name:  admission_type\n",
      "EMERGENCY    3682\n",
      "ELECTIVE      445\n",
      "URGENT        130\n",
      "NEWBORN        71\n",
      "Name: admission_type, dtype: int64\n",
      "----------------------------------\n",
      "Column name:  admission_location\n",
      "EMERGENCY ROOM ADMIT          2088\n",
      "TRANSFER FROM MED FACILITY     822\n",
      "CLINIC REFERRAL/PREMATURE      802\n",
      "PHYS REFERRAL/NORMAL DELI      616\n",
      "Name: admission_location, dtype: int64\n",
      "----------------------------------\n",
      "Column name:  insurance\n",
      "Medicare      2688\n",
      "Private       1183\n",
      "Medicaid       347\n",
      "Government      89\n",
      "Self Pay        21\n",
      "Name: insurance, dtype: int64\n",
      "----------------------------------\n",
      "Column name:  language\n",
      "ENGL     2269\n",
      "OTHER    1963\n",
      "SPAN       96\n",
      "Name: language, dtype: int64\n",
      "----------------------------------\n",
      "Column name:  religion\n",
      "CATHOLIC             1598\n",
      "NOT SPECIFIED        1254\n",
      "PROTESTANT QUAKER     589\n",
      "OTHER                 477\n",
      "JEWISH                410\n",
      "Name: religion, dtype: int64\n",
      "----------------------------------\n",
      "Column name:  marital_status\n",
      "MARRIED              1925\n",
      "SINGLE               1026\n",
      "WIDOWED               708\n",
      "DIVORCED              320\n",
      "UNKNOWN               274\n",
      "SEPARATED              47\n",
      "UNKNOWN (DEFAULT)      28\n",
      "Name: marital_status, dtype: int64\n",
      "----------------------------------\n",
      "Column name:  ethnicity\n",
      "WHITE                     3098\n",
      "BLACK/AFRICAN AMERICAN     435\n",
      "UNKNOWN/NOT SPECIFIED      418\n",
      "HISPANIC OR LATINO         143\n",
      "OTHER                      125\n",
      "ASIAN                      109\n",
      "Name: ethnicity, dtype: int64\n",
      "----------------------------------\n",
      "Column name:  gender\n",
      "F    2174\n",
      "M    2154\n",
      "Name: gender, dtype: int64\n"
     ]
    }
   ],
   "source": [
    "# print value counts for each demographic variable:\n",
    "for col in staticvars:\n",
    "    print('----------------------------------')\n",
    "    print('Column name: ', col)\n",
    "    print(dataset[col].value_counts(dropna=False))"
   ]
  },
  {
   "cell_type": "markdown",
   "id": "independent-windows",
   "metadata": {},
   "source": [
    "#### Use one hot encoder for demographic features:"
   ]
  },
  {
   "cell_type": "code",
   "execution_count": null,
   "id": "desperate-bulgaria",
   "metadata": {},
   "outputs": [],
   "source": []
  },
  {
   "cell_type": "code",
   "execution_count": 97,
   "id": "velvet-wilson",
   "metadata": {},
   "outputs": [
    {
     "data": {
      "text/plain": [
       "(4328, 8)"
      ]
     },
     "execution_count": 97,
     "metadata": {},
     "output_type": "execute_result"
    }
   ],
   "source": [
    "dataset[staticvars].shape"
   ]
  },
  {
   "cell_type": "code",
   "execution_count": 98,
   "id": "front-cooper",
   "metadata": {},
   "outputs": [
    {
     "data": {
      "text/plain": [
       "[array(['ELECTIVE', 'EMERGENCY', 'NEWBORN', 'URGENT'], dtype=object),\n",
       " array(['CLINIC REFERRAL/PREMATURE', 'EMERGENCY ROOM ADMIT',\n",
       "        'PHYS REFERRAL/NORMAL DELI', 'TRANSFER FROM MED FACILITY'],\n",
       "       dtype=object),\n",
       " array(['Government', 'Medicaid', 'Medicare', 'Private', 'Self Pay'],\n",
       "       dtype=object),\n",
       " array(['ENGL', 'OTHER', 'SPAN'], dtype=object),\n",
       " array(['CATHOLIC', 'JEWISH', 'NOT SPECIFIED', 'OTHER',\n",
       "        'PROTESTANT QUAKER'], dtype=object),\n",
       " array(['DIVORCED', 'MARRIED', 'SEPARATED', 'SINGLE', 'UNKNOWN',\n",
       "        'UNKNOWN (DEFAULT)', 'WIDOWED'], dtype=object),\n",
       " array(['ASIAN', 'BLACK/AFRICAN AMERICAN', 'HISPANIC OR LATINO', 'OTHER',\n",
       "        'UNKNOWN/NOT SPECIFIED', 'WHITE'], dtype=object),\n",
       " array(['F', 'M'], dtype=object)]"
      ]
     },
     "execution_count": 98,
     "metadata": {},
     "output_type": "execute_result"
    }
   ],
   "source": [
    "enc = OneHotEncoder(handle_unknown='ignore')\n",
    "enc.fit(dataset[staticvars])\n",
    "enc.categories_"
   ]
  },
  {
   "cell_type": "code",
   "execution_count": 99,
   "id": "detailed-selection",
   "metadata": {},
   "outputs": [],
   "source": [
    "onehotstaticvars = enc.transform(dataset[staticvars]).toarray()"
   ]
  },
  {
   "cell_type": "code",
   "execution_count": 100,
   "id": "rapid-photograph",
   "metadata": {},
   "outputs": [
    {
     "data": {
      "text/plain": [
       "(4328, 36)"
      ]
     },
     "execution_count": 100,
     "metadata": {},
     "output_type": "execute_result"
    }
   ],
   "source": [
    "onehotstaticvars.shape"
   ]
  },
  {
   "cell_type": "code",
   "execution_count": 101,
   "id": "extra-pleasure",
   "metadata": {},
   "outputs": [
    {
     "data": {
      "text/plain": [
       "array([[0., 1., 0., ..., 0., 0., 1.],\n",
       "       [0., 1., 0., ..., 1., 1., 0.],\n",
       "       [1., 0., 0., ..., 1., 0., 1.],\n",
       "       ...,\n",
       "       [0., 1., 0., ..., 0., 1., 0.],\n",
       "       [0., 1., 0., ..., 1., 0., 1.],\n",
       "       [1., 0., 0., ..., 1., 0., 1.]])"
      ]
     },
     "execution_count": 101,
     "metadata": {},
     "output_type": "execute_result"
    }
   ],
   "source": [
    "onehotstaticvars"
   ]
  },
  {
   "cell_type": "markdown",
   "id": "comprehensive-bacon",
   "metadata": {},
   "source": [
    "#### Combine all features and constract full dataset"
   ]
  },
  {
   "cell_type": "code",
   "execution_count": 102,
   "id": "thousand-norway",
   "metadata": {},
   "outputs": [
    {
     "data": {
      "text/plain": [
       "(4328, 1)"
      ]
     },
     "execution_count": 102,
     "metadata": {},
     "output_type": "execute_result"
    }
   ],
   "source": [
    "# response variable\n",
    "response = np.array([dataset['RESISTANT_YN']])\n",
    "response = response.T\n",
    "response.shape"
   ]
  },
  {
   "cell_type": "code",
   "execution_count": null,
   "id": "centered-variance",
   "metadata": {},
   "outputs": [],
   "source": [
    "# the last variable is a target variable \n",
    "# only static values\n",
    "#fulldata = np.concatenate((onehotstaticvars, response), axis=1)\n",
    "\n",
    "# only lab values\n",
    "fulldata = np.concatenate((onehotlabvars, response), axis=1)\n",
    "# all data, numerics as bins\n",
    "# fulldata = np.concatenate((onehotlabvars, onehotstaticvars, response), axis=1)\n",
    "# all data, numeric as numbers\n",
    "# fulldata = np.concatenate((numlabvars, onehotlabvars, onehotstaticvars, response), axis=1)\n",
    "fulldata.shape"
   ]
  },
  {
   "cell_type": "code",
   "execution_count": null,
   "id": "textile-yacht",
   "metadata": {},
   "outputs": [],
   "source": [
    "# Save to a file\n",
    "np.save('data/labdata.npy', fulldata)"
   ]
  },
  {
   "cell_type": "code",
   "execution_count": 184,
   "id": "proprietary-antique",
   "metadata": {},
   "outputs": [],
   "source": [
    "# Load data\n",
    "fulldata = np.load('data/fulldata.npy')"
   ]
  },
  {
   "cell_type": "code",
   "execution_count": 159,
   "id": "organizational-spectrum",
   "metadata": {},
   "outputs": [
    {
     "data": {
      "text/plain": [
       "'1.5.1'"
      ]
     },
     "execution_count": 159,
     "metadata": {},
     "output_type": "execute_result"
    }
   ],
   "source": [
    "import torch\n",
    "torch.__version__"
   ]
  },
  {
   "cell_type": "code",
   "execution_count": null,
   "id": "prompt-integrity",
   "metadata": {},
   "outputs": [],
   "source": []
  },
  {
   "cell_type": "code",
   "execution_count": null,
   "id": "fatty-portal",
   "metadata": {},
   "outputs": [],
   "source": []
  }
 ],
 "metadata": {
  "kernelspec": {
   "display_name": "conda_amazonei_pytorch_latest_p36",
   "language": "python",
   "name": "conda_amazonei_pytorch_latest_p36"
  },
  "language_info": {
   "codemirror_mode": {
    "name": "ipython",
    "version": 3
   },
   "file_extension": ".py",
   "mimetype": "text/x-python",
   "name": "python",
   "nbconvert_exporter": "python",
   "pygments_lexer": "ipython3",
   "version": "3.6.13"
  }
 },
 "nbformat": 4,
 "nbformat_minor": 5
}
