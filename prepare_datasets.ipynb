{
 "cells": [
  {
   "cell_type": "code",
   "execution_count": null,
   "id": "complicated-soundtrack",
   "metadata": {},
   "outputs": [],
   "source": [
    "!pip install -q PyAthena"
   ]
  },
  {
   "cell_type": "markdown",
   "id": "painful-sellers",
   "metadata": {},
   "source": [
    "## Prepare Datasets for Predictor Training, Validation and Testing"
   ]
  },
  {
   "cell_type": "code",
   "execution_count": 1,
   "id": "turned-mortality",
   "metadata": {},
   "outputs": [],
   "source": [
    "from dataproc.cohort import query_esbl_pts, remove_dups, observation_window\n",
    "from dataproc.sampling import generate_samples\n",
    "from hyper_params import HyperParams\n",
    "import pandas as pd"
   ]
  },
  {
   "cell_type": "code",
   "execution_count": 8,
   "id": "functional-ranch",
   "metadata": {},
   "outputs": [],
   "source": [
    "# load hyperparams instance\n",
    "params = HyperParams()"
   ]
  },
  {
   "cell_type": "code",
   "execution_count": 3,
   "id": "general-circular",
   "metadata": {},
   "outputs": [],
   "source": [
    "# Select esbl microbiology test\n",
    "esbl_admits = query_esbl_pts()\n",
    "# Remove dups\n",
    "esbl_admits = remove_dups(esbl_admits)\n",
    "# Create observation window\n",
    "esbl_admits_window = observation_window(esbl_admits, window_size=params.observation_window_hours)\n",
    "# Subset columns\n",
    "pts_labels = esbl_admits_window[['hadm_id', 'RESISTANT_YN']]"
   ]
  },
  {
   "cell_type": "code",
   "execution_count": 4,
   "id": "addressed-bahamas",
   "metadata": {},
   "outputs": [],
   "source": [
    "pts_labels.to_csv('data/patient_labels.csv')"
   ]
  },
  {
   "cell_type": "code",
   "execution_count": 5,
   "id": "broad-secondary",
   "metadata": {},
   "outputs": [],
   "source": [
    "pts_labels = pd.read_csv('data/patient_labels.csv')"
   ]
  },
  {
   "cell_type": "code",
   "execution_count": 9,
   "id": "mathematical-seeking",
   "metadata": {},
   "outputs": [],
   "source": [
    "# TODO James \n",
    "# TODO Loading the features"
   ]
  },
  {
   "cell_type": "code",
   "execution_count": 11,
   "id": "stunning-purple",
   "metadata": {},
   "outputs": [],
   "source": [
    "# TODO James \n",
    "# TODO Embedding the features"
   ]
  },
  {
   "cell_type": "code",
   "execution_count": 6,
   "id": "experienced-lingerie",
   "metadata": {},
   "outputs": [],
   "source": [
    "# splot to train / validation / test sets\n",
    "df_train, df_validation, df_test = generate_samples(df_dataset = pts_labels,\n",
    "                 negative_to_positive_ratio = params.negative_to_positive_ratio,\n",
    "                 test_set_fraction = params.test_set_fraction,\n",
    "                 validation_set_fraction = params.validation_set_fraction,\n",
    "                 random_state = params.random_state)"
   ]
  },
  {
   "cell_type": "code",
   "execution_count": null,
   "id": "neither-coffee",
   "metadata": {},
   "outputs": [],
   "source": []
  },
  {
   "cell_type": "code",
   "execution_count": 14,
   "id": "sudden-reply",
   "metadata": {},
   "outputs": [],
   "source": [
    "# persist datasets\n",
    "df_train.to_csv('data/df_predictor_train.csv')\n",
    "df_validation.to_csv('data/df_predictor_validation.csv')\n",
    "df_test.to_csv('data/df_predictor_test.csv')"
   ]
  },
  {
   "cell_type": "code",
   "execution_count": null,
   "id": "loving-parts",
   "metadata": {},
   "outputs": [],
   "source": []
  },
  {
   "cell_type": "markdown",
   "id": "simple-architecture",
   "metadata": {},
   "source": [
    "## Prepare Datasets for Encoder Training"
   ]
  },
  {
   "cell_type": "code",
   "execution_count": 1,
   "id": "contrary-islam",
   "metadata": {},
   "outputs": [],
   "source": [
    "from dataproc.cohort import query_esbl_pts, remove_dups, observation_window\n",
    "from dataproc.sampling import generate_samples\n",
    "from hyper_params import HyperParams\n",
    "import pandas as pd"
   ]
  },
  {
   "cell_type": "code",
   "execution_count": 8,
   "id": "distinguished-basement",
   "metadata": {},
   "outputs": [],
   "source": [
    "# load hyperparams instance\n",
    "params = HyperParams()"
   ]
  },
  {
   "cell_type": "code",
   "execution_count": null,
   "id": "cheap-purchase",
   "metadata": {},
   "outputs": [],
   "source": [
    "# TODO James\n",
    "# TODO Run the query that loads all patient data into => df_all_patients_data\n",
    "assert df_all_patients_data"
   ]
  },
  {
   "cell_type": "code",
   "execution_count": 6,
   "id": "expressed-dodge",
   "metadata": {},
   "outputs": [],
   "source": [
    "# splot to train / validation / test sets\n",
    "df_embedding_train, df_embedding_validation, df_embedding_test = generate_samples(df_dataset = df_all_patients_data,\n",
    "                 negative_to_positive_ratio = params.negative_to_positive_ratio,\n",
    "                 test_set_fraction = params.test_set_fraction,\n",
    "                 validation_set_fraction = params.validation_set_fraction,\n",
    "                 random_state = params.random_state)"
   ]
  },
  {
   "cell_type": "code",
   "execution_count": 7,
   "id": "valued-university",
   "metadata": {},
   "outputs": [],
   "source": [
    "df_embedding_train.to_csv('data/df_embedding_train.csv')\n",
    "df_embedding_validation.to_csv('data/df_embedding_validation.csv')\n",
    "df_embedding_test.to_csv('data/df_embedding_test.csv')"
   ]
  }
 ],
 "metadata": {
  "kernelspec": {
   "display_name": "conda_pytorch_p36",
   "language": "python",
   "name": "conda_pytorch_p36"
  },
  "language_info": {
   "codemirror_mode": {
    "name": "ipython",
    "version": 3
   },
   "file_extension": ".py",
   "mimetype": "text/x-python",
   "name": "python",
   "nbconvert_exporter": "python",
   "pygments_lexer": "ipython3",
   "version": "3.6.13"
  }
 },
 "nbformat": 4,
 "nbformat_minor": 5
}
