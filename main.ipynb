{
 "cells": [
  {
   "cell_type": "code",
   "execution_count": null,
   "id": "03e80930",
   "metadata": {},
   "outputs": [],
   "source": [
    "%pip install -q -r requirements.txt"
   ]
  },
  {
   "cell_type": "code",
   "execution_count": 1,
   "id": "8da4c217",
   "metadata": {},
   "outputs": [],
   "source": [
    "%load_ext autoreload\n",
    "%autoreload 2"
   ]
  },
  {
   "cell_type": "markdown",
   "id": "e8b347b9",
   "metadata": {},
   "source": [
    "## build dataset"
   ]
  },
  {
   "cell_type": "code",
   "execution_count": 2,
   "id": "2e49d17d",
   "metadata": {},
   "outputs": [],
   "source": [
    "import dataset"
   ]
  },
  {
   "cell_type": "code",
   "execution_count": null,
   "id": "b39f7a2d",
   "metadata": {},
   "outputs": [],
   "source": [
    "df_dataset = dataset.build_normal_dataframe(numpy_output_file='fulldata.npy', dataframe_output_file='df_cohort')"
   ]
  },
  {
   "cell_type": "markdown",
   "id": "03f6fb06",
   "metadata": {},
   "source": [
    "## baseline model: train and evaluate"
   ]
  },
  {
   "cell_type": "code",
   "execution_count": null,
   "id": "4829df6a",
   "metadata": {},
   "outputs": [],
   "source": []
  },
  {
   "cell_type": "markdown",
   "id": "f2458d86",
   "metadata": {},
   "source": [
    "## MLP: train and evaluate"
   ]
  },
  {
   "cell_type": "code",
   "execution_count": null,
   "id": "3d4c57bf",
   "metadata": {},
   "outputs": [],
   "source": []
  }
 ],
 "metadata": {
  "kernelspec": {
   "display_name": "conda_amazonei_pytorch_latest_p36",
   "language": "python",
   "name": "conda_amazonei_pytorch_latest_p36"
  },
  "language_info": {
   "codemirror_mode": {
    "name": "ipython",
    "version": 3
   },
   "file_extension": ".py",
   "mimetype": "text/x-python",
   "name": "python",
   "nbconvert_exporter": "python",
   "pygments_lexer": "ipython3",
   "version": "3.6.13"
  }
 },
 "nbformat": 4,
 "nbformat_minor": 5
}
