{
 "cells": [
  {
   "cell_type": "code",
   "execution_count": 1,
   "id": "neutral-costs",
   "metadata": {},
   "outputs": [],
   "source": [
    "import numpy as np\n",
    "\n",
    "import torch\n",
    "import torch.nn as nn\n",
    "import torch.nn.functional as F\n",
    "from torch.utils.data import Dataset\n",
    "from embeddings.dataloader import TheDataSet\n",
    "%matplotlib inline\n",
    "import matplotlib.pyplot as plt\n",
    "# import tensorboard\n",
    "# from tensorboard import SummaryWriter\n",
    "\n"
   ]
  },
  {
   "cell_type": "code",
   "execution_count": 2,
   "id": "interracial-patrick",
   "metadata": {
    "collapsed": false,
    "jupyter": {
     "outputs_hidden": false
    },
    "pycharm": {
     "name": "#%%\n"
    }
   },
   "outputs": [],
   "source": [
    "encoder_training_epochs = 151\n",
    "# dataset_file = 'data_ae_train/fulldata.npy'\n",
    "# dataset_file = 'data/fulldata.npy'\n",
    "dataset_file = 'data/labdata.npy'"
   ]
  },
  {
   "cell_type": "code",
   "execution_count": 2,
   "id": "appreciated-blocking",
   "metadata": {
    "collapsed": false,
    "jupyter": {
     "outputs_hidden": false
    },
    "pycharm": {
     "name": "#%%\n"
    }
   },
   "outputs": [
    {
     "ename": "NameError",
     "evalue": "name 'SummaryWriter' is not defined",
     "output_type": "error",
     "traceback": [
      "\u001b[0;31m---------------------------------------------------------------------------\u001b[0m",
      "\u001b[0;31mNameError\u001b[0m                                 Traceback (most recent call last)",
      "\u001b[0;32m<ipython-input-2-8f30ab457ceb>\u001b[0m in \u001b[0;36m<module>\u001b[0;34m\u001b[0m\n\u001b[1;32m      1\u001b[0m \u001b[0;31m# default `log_dir` is \"runs\" - we'll be more specific here\u001b[0m\u001b[0;34m\u001b[0m\u001b[0;34m\u001b[0m\u001b[0;34m\u001b[0m\u001b[0m\n\u001b[0;32m----> 2\u001b[0;31m \u001b[0mwriter\u001b[0m \u001b[0;34m=\u001b[0m \u001b[0mSummaryWriter\u001b[0m\u001b[0;34m(\u001b[0m\u001b[0;34mf\"runs/autoencoder_experiment_{encoder_training_epochs}\"\u001b[0m\u001b[0;34m)\u001b[0m\u001b[0;34m\u001b[0m\u001b[0;34m\u001b[0m\u001b[0m\n\u001b[0m",
      "\u001b[0;31mNameError\u001b[0m: name 'SummaryWriter' is not defined"
     ]
    }
   ],
   "source": [
    "# default `log_dir` is \"runs\" - we'll be more specific here\n",
    "writer = SummaryWriter(f\"runs/autoencoder_experiment_{encoder_training_epochs}\")\n"
   ]
  },
  {
   "cell_type": "markdown",
   "id": "informative-theorem",
   "metadata": {},
   "source": [
    "## AutoEncoder\n"
   ]
  },
  {
   "cell_type": "code",
   "execution_count": 11,
   "id": "reported-croatia",
   "metadata": {},
   "outputs": [
    {
     "name": "stdout",
     "output_type": "stream",
     "text": [
      "Overwriting embeddings/autoencoder.py\n"
     ]
    }
   ],
   "source": [
    "%%writefile embeddings/autoencoder.py\n",
    "\n",
    "import torch\n",
    "import torch.nn as nn\n",
    "\n",
    "\n",
    "class Autoencoder(nn.Module):\n",
    "    def __init__(self, num_features):\n",
    "        super(Autoencoder, self).__init__()\n",
    "        self.encoder = nn.Sequential(\n",
    "            nn.Linear(in_features=num_features, out_features=num_features // 2 , bias=True),\n",
    "            nn.Tanh(),\n",
    "            nn.Linear(in_features=num_features // 2, out_features=128, bias=True),\n",
    "            nn.Tanh(),\n",
    "            nn.Linear(in_features=128, out_features=64, bias=True),\n",
    "            nn.Tanh()\n",
    "        )\n",
    "        self.decoder = nn.Sequential(\n",
    "            nn.Linear(in_features=64, out_features=128, bias=True),\n",
    "            nn.Tanh(),\n",
    "            nn.Linear(in_features=128, out_features=num_features // 2, bias=True),\n",
    "            nn.Tanh(),\n",
    "            nn.Linear(in_features=num_features // 2, out_features=num_features, bias=True ),\n",
    "            #nn.Sigmoid()\n",
    "            nn.Tanh()\n",
    "#             nn.Tanh()\n",
    "        )\n",
    "\n",
    "    def forward(self, x):\n",
    "        x = self.encoder(x)\n",
    "        x = self.decoder(x)\n",
    "        return x\n"
   ]
  },
  {
   "cell_type": "code",
   "execution_count": 3,
   "id": "chicken-liberal",
   "metadata": {},
   "outputs": [
    {
     "name": "stdout",
     "output_type": "stream",
     "text": [
      "Overwriting embeddings/autoencoder.py\n"
     ]
    }
   ],
   "source": [
    "%%writefile embeddings/autoencoder.py\n",
    "\n",
    "import torch\n",
    "import torch.nn as nn\n",
    "\n",
    "\n",
    "class Autoencoder(nn.Module):\n",
    "    def __init__(self, num_features):\n",
    "        super(Autoencoder, self).__init__()\n",
    "        self.encoder = nn.Sequential(\n",
    "            nn.Linear(in_features=num_features, out_features=128 , bias=True),\n",
    "            nn.Tanh(),\n",
    "            nn.Linear(in_features=128, out_features=64, bias=True),\n",
    "            nn.Tanh(),\n",
    "#             nn.Linear(in_features=64, out_features=32, bias=True),\n",
    "#             nn.Tanh()\n",
    "        )\n",
    "        self.decoder = nn.Sequential(\n",
    "#             nn.Linear(in_features=32, out_features=64, bias=True),\n",
    "#             nn.Tanh(),\n",
    "            nn.Linear(in_features=64, out_features=128, bias=True),\n",
    "            nn.Tanh(),\n",
    "            nn.Linear(in_features=128, out_features=num_features, bias=True ),\n",
    "            #nn.Sigmoid()\n",
    "            nn.Tanh()\n",
    "#             nn.Tanh()\n",
    "        )\n",
    "\n",
    "    def forward(self, x):\n",
    "        x = self.encoder(x)\n",
    "        x = self.decoder(x)\n",
    "        return x\n"
   ]
  },
  {
   "cell_type": "code",
   "execution_count": 4,
   "id": "another-designer",
   "metadata": {
    "collapsed": false,
    "jupyter": {
     "outputs_hidden": false
    },
    "pycharm": {
     "name": "#%%\n"
    }
   },
   "outputs": [],
   "source": [
    "from embeddings.autoencoder import Autoencoder"
   ]
  },
  {
   "cell_type": "markdown",
   "id": "crude-gravity",
   "metadata": {},
   "source": [
    "## Training"
   ]
  },
  {
   "cell_type": "code",
   "execution_count": 5,
   "id": "accessory-concept",
   "metadata": {},
   "outputs": [],
   "source": [
    "def train(model, dataset, num_epochs=5, batch_size=64, learning_rate=1e-3):\n",
    "    torch.manual_seed(42)\n",
    "    criterion = nn.MSELoss() # mean square error loss\n",
    "#     criterion = nn.L1Loss()\n",
    "    optimizer = torch.optim.Adam(model.parameters(),\n",
    "                                 lr=learning_rate, \n",
    "                                 weight_decay=1e-5) # <--\n",
    "    train_loader = torch.utils.data.DataLoader(dataset, batch_size=batch_size, shuffle=True)\n",
    "    outputs = []\n",
    "    losses = []\n",
    "    for epoch in range(num_epochs):\n",
    "        for X, y in train_loader:\n",
    "            recon = model(X.float())\n",
    "            loss = criterion(recon, X.float())\n",
    "            loss.backward()\n",
    "            optimizer.step()\n",
    "            optimizer.zero_grad()\n",
    "\n",
    "        print('Epoch:{}, Loss:{:.4f}'.format(epoch+1, float(loss)))\n",
    "        losses.append(float(loss))\n",
    "#         writer.add_scalar(f'training loss {num_epochs}',\n",
    "#                             loss,\n",
    "#                             epoch * len(train_loader))\n",
    "    return outputs, losses"
   ]
  },
  {
   "cell_type": "code",
   "execution_count": 6,
   "id": "liked-picnic",
   "metadata": {},
   "outputs": [
    {
     "name": "stdout",
     "output_type": "stream",
     "text": [
      "Autoencoder(\n",
      "  (encoder): Sequential(\n",
      "    (0): Linear(in_features=216, out_features=128, bias=True)\n",
      "    (1): Tanh()\n",
      "    (2): Linear(in_features=128, out_features=64, bias=True)\n",
      "    (3): Tanh()\n",
      "  )\n",
      "  (decoder): Sequential(\n",
      "    (0): Linear(in_features=64, out_features=128, bias=True)\n",
      "    (1): Tanh()\n",
      "    (2): Linear(in_features=128, out_features=216, bias=True)\n",
      "    (3): Tanh()\n",
      "  )\n",
      ")\n",
      "Epoch:1, Loss:0.0219\n",
      "Epoch:2, Loss:0.0218\n",
      "Epoch:3, Loss:0.0160\n",
      "Epoch:4, Loss:0.0152\n",
      "Epoch:5, Loss:0.0123\n",
      "Epoch:6, Loss:0.0106\n",
      "Epoch:7, Loss:0.0107\n",
      "Epoch:8, Loss:0.0098\n",
      "Epoch:9, Loss:0.0096\n",
      "Epoch:10, Loss:0.0095\n",
      "Epoch:11, Loss:0.0120\n",
      "Epoch:12, Loss:0.0047\n",
      "Epoch:13, Loss:0.0068\n",
      "Epoch:14, Loss:0.0074\n",
      "Epoch:15, Loss:0.0080\n",
      "Epoch:16, Loss:0.0098\n",
      "Epoch:17, Loss:0.0070\n",
      "Epoch:18, Loss:0.0076\n",
      "Epoch:19, Loss:0.0069\n",
      "Epoch:20, Loss:0.0057\n",
      "Epoch:21, Loss:0.0063\n",
      "Epoch:22, Loss:0.0074\n",
      "Epoch:23, Loss:0.0061\n",
      "Epoch:24, Loss:0.0059\n",
      "Epoch:25, Loss:0.0051\n",
      "Epoch:26, Loss:0.0043\n",
      "Epoch:27, Loss:0.0074\n",
      "Epoch:28, Loss:0.0065\n",
      "Epoch:29, Loss:0.0057\n",
      "Epoch:30, Loss:0.0053\n",
      "Epoch:31, Loss:0.0050\n",
      "Epoch:32, Loss:0.0061\n",
      "Epoch:33, Loss:0.0054\n",
      "Epoch:34, Loss:0.0040\n",
      "Epoch:35, Loss:0.0048\n",
      "Epoch:36, Loss:0.0046\n",
      "Epoch:37, Loss:0.0044\n",
      "Epoch:38, Loss:0.0045\n",
      "Epoch:39, Loss:0.0058\n",
      "Epoch:40, Loss:0.0046\n",
      "Epoch:41, Loss:0.0041\n",
      "Epoch:42, Loss:0.0049\n",
      "Epoch:43, Loss:0.0045\n",
      "Epoch:44, Loss:0.0050\n",
      "Epoch:45, Loss:0.0039\n",
      "Epoch:46, Loss:0.0056\n",
      "Epoch:47, Loss:0.0041\n",
      "Epoch:48, Loss:0.0038\n",
      "Epoch:49, Loss:0.0058\n",
      "Epoch:50, Loss:0.0048\n",
      "Epoch:51, Loss:0.0044\n",
      "Epoch:52, Loss:0.0055\n",
      "Epoch:53, Loss:0.0045\n",
      "Epoch:54, Loss:0.0043\n",
      "Epoch:55, Loss:0.0049\n",
      "Epoch:56, Loss:0.0048\n",
      "Epoch:57, Loss:0.0045\n",
      "Epoch:58, Loss:0.0054\n",
      "Epoch:59, Loss:0.0051\n",
      "Epoch:60, Loss:0.0044\n",
      "Epoch:61, Loss:0.0057\n",
      "Epoch:62, Loss:0.0048\n",
      "Epoch:63, Loss:0.0045\n",
      "Epoch:64, Loss:0.0039\n",
      "Epoch:65, Loss:0.0050\n",
      "Epoch:66, Loss:0.0030\n",
      "Epoch:67, Loss:0.0059\n",
      "Epoch:68, Loss:0.0038\n",
      "Epoch:69, Loss:0.0037\n",
      "Epoch:70, Loss:0.0043\n",
      "Epoch:71, Loss:0.0050\n",
      "Epoch:72, Loss:0.0049\n",
      "Epoch:73, Loss:0.0047\n",
      "Epoch:74, Loss:0.0036\n",
      "Epoch:75, Loss:0.0035\n",
      "Epoch:76, Loss:0.0034\n",
      "Epoch:77, Loss:0.0030\n",
      "Epoch:78, Loss:0.0046\n",
      "Epoch:79, Loss:0.0034\n",
      "Epoch:80, Loss:0.0041\n",
      "Epoch:81, Loss:0.0058\n",
      "Epoch:82, Loss:0.0034\n",
      "Epoch:83, Loss:0.0053\n",
      "Epoch:84, Loss:0.0036\n",
      "Epoch:85, Loss:0.0048\n",
      "Epoch:86, Loss:0.0040\n",
      "Epoch:87, Loss:0.0036\n",
      "Epoch:88, Loss:0.0053\n",
      "Epoch:89, Loss:0.0041\n",
      "Epoch:90, Loss:0.0051\n",
      "Epoch:91, Loss:0.0050\n",
      "Epoch:92, Loss:0.0047\n",
      "Epoch:93, Loss:0.0053\n",
      "Epoch:94, Loss:0.0052\n",
      "Epoch:95, Loss:0.0033\n",
      "Epoch:96, Loss:0.0049\n",
      "Epoch:97, Loss:0.0038\n",
      "Epoch:98, Loss:0.0037\n",
      "Epoch:99, Loss:0.0032\n",
      "Epoch:100, Loss:0.0048\n",
      "Epoch:101, Loss:0.0041\n",
      "Epoch:102, Loss:0.0039\n",
      "Epoch:103, Loss:0.0034\n",
      "Epoch:104, Loss:0.0046\n",
      "Epoch:105, Loss:0.0032\n",
      "Epoch:106, Loss:0.0044\n",
      "Epoch:107, Loss:0.0039\n",
      "Epoch:108, Loss:0.0038\n",
      "Epoch:109, Loss:0.0045\n",
      "Epoch:110, Loss:0.0043\n",
      "Epoch:111, Loss:0.0041\n",
      "Epoch:112, Loss:0.0036\n",
      "Epoch:113, Loss:0.0035\n",
      "Epoch:114, Loss:0.0051\n",
      "Epoch:115, Loss:0.0037\n",
      "Epoch:116, Loss:0.0038\n",
      "Epoch:117, Loss:0.0050\n",
      "Epoch:118, Loss:0.0040\n",
      "Epoch:119, Loss:0.0050\n",
      "Epoch:120, Loss:0.0035\n",
      "Epoch:121, Loss:0.0054\n",
      "Epoch:122, Loss:0.0057\n",
      "Epoch:123, Loss:0.0050\n",
      "Epoch:124, Loss:0.0055\n",
      "Epoch:125, Loss:0.0102\n",
      "Epoch:126, Loss:0.0041\n",
      "Epoch:127, Loss:0.0058\n",
      "Epoch:128, Loss:0.0056\n",
      "Epoch:129, Loss:0.0033\n",
      "Epoch:130, Loss:0.0038\n",
      "Epoch:131, Loss:0.0049\n",
      "Epoch:132, Loss:0.0028\n",
      "Epoch:133, Loss:0.0042\n",
      "Epoch:134, Loss:0.0045\n",
      "Epoch:135, Loss:0.0049\n",
      "Epoch:136, Loss:0.0037\n",
      "Epoch:137, Loss:0.0036\n",
      "Epoch:138, Loss:0.0042\n",
      "Epoch:139, Loss:0.0047\n",
      "Epoch:140, Loss:0.0041\n",
      "Epoch:141, Loss:0.0054\n",
      "Epoch:142, Loss:0.0043\n",
      "Epoch:143, Loss:0.0054\n",
      "Epoch:144, Loss:0.0033\n",
      "Epoch:145, Loss:0.0048\n",
      "Epoch:146, Loss:0.0035\n",
      "Epoch:147, Loss:0.0045\n",
      "Epoch:148, Loss:0.0037\n",
      "Epoch:149, Loss:0.0035\n",
      "Epoch:150, Loss:0.0053\n",
      "Epoch:151, Loss:0.0035\n"
     ]
    }
   ],
   "source": [
    "dataset = TheDataSet(datafile=dataset_file, pad_to_360=False)\n",
    "model = Autoencoder(num_features=dataset.num_features())\n",
    "print(model)\n",
    "max_epochs = encoder_training_epochs\n",
    "outputs, losses = train(model, dataset=dataset, num_epochs=max_epochs, batch_size = 64, learning_rate=1e-3)"
   ]
  },
  {
   "cell_type": "code",
   "execution_count": 7,
   "id": "warming-karaoke",
   "metadata": {},
   "outputs": [
    {
     "data": {
      "image/png": "[encoded data removed]",
      "text/plain": [
       "<Figure size 432x288 with 1 Axes>"
      ]
     },
     "metadata": {
      "needs_background": "light"
     },
     "output_type": "display_data"
    }
   ],
   "source": [
    "fig = plt.figure()\n",
    "ax = plt.axes()\n",
    "\n",
    "# x = np.linspace(0, 10, 1000)\n",
    "ax.plot(losses);"
   ]
  },
  {
   "cell_type": "code",
   "execution_count": 8,
   "id": "powerful-chorus",
   "metadata": {
    "collapsed": false,
    "jupyter": {
     "outputs_hidden": false
    },
    "pycharm": {
     "name": "#%%\n"
    }
   },
   "outputs": [],
   "source": [
    "# persist the encoder\n",
    "\n",
    "\n",
    "with open('data/autoencoder.pic', 'bw') as f:\n",
    "    torch.save(model, f, pickle_protocol=4)\n",
    "\n",
    "\n"
   ]
  },
  {
   "cell_type": "code",
   "execution_count": 10,
   "id": "physical-jesus",
   "metadata": {
    "collapsed": false,
    "jupyter": {
     "outputs_hidden": false
    },
    "pycharm": {
     "name": "#%%\n"
    }
   },
   "outputs": [],
   "source": [
    "with open('data/autoencoder.pic', 'rb') as f:\n",
    "    autoencoder = torch.load(f)"
   ]
  },
  {
   "cell_type": "code",
   "execution_count": 10,
   "id": "cellular-addiction",
   "metadata": {
    "collapsed": false,
    "jupyter": {
     "outputs_hidden": false
    },
    "pycharm": {
     "name": "#%%\n"
    }
   },
   "outputs": [],
   "source": []
  }
 ],
 "metadata": {
  "kernelspec": {
   "display_name": "conda_amazonei_pytorch_latest_p36",
   "language": "python",
   "name": "conda_amazonei_pytorch_latest_p36"
  },
  "language_info": {
   "codemirror_mode": {
    "name": "ipython",
    "version": 3
   },
   "file_extension": ".py",
   "mimetype": "text/x-python",
   "name": "python",
   "nbconvert_exporter": "python",
   "pygments_lexer": "ipython3",
   "version": "3.6.13"
  }
 },
 "nbformat": 4,
 "nbformat_minor": 5
}
