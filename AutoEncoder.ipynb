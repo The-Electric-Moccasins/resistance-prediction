{
 "cells": [
  {
   "cell_type": "code",
   "execution_count": 4,
   "id": "middle-mongolia",
   "metadata": {},
   "outputs": [],
   "source": [
    "import numpy as np\n",
    "\n",
    "import torch\n",
    "import torch.nn as nn\n",
    "import torch.nn.functional as F\n",
    "from torch.utils.data import Dataset\n",
    "from embeddings.dataloader import TheDataSet\n",
    "%matplotlib inline\n",
    "import matplotlib.pyplot as plt\n",
    "# import tensorboard\n",
    "# from tensorboard import SummaryWriter\n",
    "\n"
   ]
  },
  {
   "cell_type": "code",
   "execution_count": 25,
   "id": "neural-haiti",
   "metadata": {
    "collapsed": false,
    "jupyter": {
     "outputs_hidden": false
    },
    "pycharm": {
     "name": "#%%\n"
    }
   },
   "outputs": [],
   "source": [
    "encoder_training_epochs = 151\n",
    "# dataset_file = 'data_ae_train/fulldata.npy'\n",
    "dataset_file = 'data/fulldata.npy'"
   ]
  },
  {
   "cell_type": "code",
   "execution_count": 3,
   "id": "particular-finland",
   "metadata": {
    "collapsed": false,
    "jupyter": {
     "outputs_hidden": false
    },
    "pycharm": {
     "name": "#%%\n"
    }
   },
   "outputs": [],
   "source": [
    "# default `log_dir` is \"runs\" - we'll be more specific here\n",
    "writer = SummaryWriter(f\"runs/autoencoder_experiment_{encoder_training_epochs}\")\n"
   ]
  },
  {
   "cell_type": "markdown",
   "id": "funded-oxide",
   "metadata": {},
   "source": [
    "## AutoEncoder\n"
   ]
  },
  {
   "cell_type": "code",
   "execution_count": 23,
   "id": "following-deficit",
   "metadata": {},
   "outputs": [
    {
     "name": "stdout",
     "output_type": "stream",
     "text": [
      "Overwriting embeddings/autoencoder.py\n"
     ]
    }
   ],
   "source": [
    "%%writefile embeddings/autoencoder.py\n",
    "\n",
    "import torch\n",
    "import torch.nn as nn\n",
    "\n",
    "\n",
    "class Autoencoder(nn.Module):\n",
    "    def __init__(self, num_features):\n",
    "        super(Autoencoder, self).__init__()\n",
    "        self.encoder = nn.Sequential(\n",
    "            nn.Linear(in_features=num_features, out_features=num_features // 2 , bias=True),\n",
    "            nn.Tanh(),\n",
    "            nn.Linear(in_features=256, out_features=128, bias=True),\n",
    "            nn.Tanh(),\n",
    "            nn.Linear(in_features=128, out_features=64, bias=True),\n",
    "            nn.Tanh()\n",
    "        )\n",
    "        self.decoder = nn.Sequential(\n",
    "            nn.Linear(in_features=64, out_features=128, bias=True),\n",
    "            nn.Tanh(),\n",
    "            nn.Linear(in_features=128, out_features=256, bias=True),\n",
    "            nn.Tanh(),\n",
    "            nn.Linear(in_features=num_features // 2, out_features=num_features, bias=True ),\n",
    "            #nn.Sigmoid()\n",
    "            nn.Tanh()\n",
    "#             nn.Tanh()\n",
    "        )\n",
    "\n",
    "    def forward(self, x):\n",
    "        x = self.encoder(x)\n",
    "        x = self.decoder(x)\n",
    "        return x\n"
   ]
  },
  {
   "cell_type": "code",
   "execution_count": 24,
   "id": "simplified-preference",
   "metadata": {
    "collapsed": false,
    "jupyter": {
     "outputs_hidden": false
    },
    "pycharm": {
     "name": "#%%\n"
    }
   },
   "outputs": [],
   "source": [
    "from embeddings.autoencoder import Autoencoder"
   ]
  },
  {
   "cell_type": "markdown",
   "id": "sapphire-eating",
   "metadata": {},
   "source": [
    "## Training"
   ]
  },
  {
   "cell_type": "code",
   "execution_count": 26,
   "id": "american-description",
   "metadata": {},
   "outputs": [],
   "source": [
    "def train(model, dataset, num_epochs=5, batch_size=64, learning_rate=1e-3):\n",
    "    torch.manual_seed(42)\n",
    "    criterion = nn.MSELoss() # mean square error loss\n",
    "#     criterion = nn.L1Loss()\n",
    "    optimizer = torch.optim.Adam(model.parameters(),\n",
    "                                 lr=learning_rate, \n",
    "                                 weight_decay=1e-5) # <--\n",
    "    train_loader = torch.utils.data.DataLoader(dataset, batch_size=batch_size, shuffle=True)\n",
    "    outputs = []\n",
    "    losses = []\n",
    "    for epoch in range(num_epochs):\n",
    "        for X, y in train_loader:\n",
    "            recon = model(X.float())\n",
    "            loss = criterion(recon, X.float())\n",
    "            loss.backward()\n",
    "            optimizer.step()\n",
    "            optimizer.zero_grad()\n",
    "\n",
    "        print('Epoch:{}, Loss:{:.4f}'.format(epoch+1, float(loss)))\n",
    "        losses.append(float(loss))\n",
    "#         writer.add_scalar(f'training loss {num_epochs}',\n",
    "#                             loss,\n",
    "#                             epoch * len(train_loader))\n",
    "    return outputs, losses"
   ]
  },
  {
   "cell_type": "code",
   "execution_count": null,
   "id": "later-remark",
   "metadata": {},
   "outputs": [],
   "source": []
  },
  {
   "cell_type": "code",
   "execution_count": 27,
   "id": "normal-offset",
   "metadata": {},
   "outputs": [
    {
     "name": "stdout",
     "output_type": "stream",
     "text": [
      "Autoencoder(\n",
      "  (encoder): Sequential(\n",
      "    (0): Linear(in_features=829, out_features=256, bias=True)\n",
      "    (1): Tanh()\n",
      "    (2): Linear(in_features=256, out_features=128, bias=True)\n",
      "    (3): Tanh()\n",
      "    (4): Linear(in_features=128, out_features=32, bias=True)\n",
      "    (5): Tanh()\n",
      "  )\n",
      "  (decoder): Sequential(\n",
      "    (0): Linear(in_features=32, out_features=128, bias=True)\n",
      "    (1): Tanh()\n",
      "    (2): Linear(in_features=128, out_features=256, bias=True)\n",
      "    (3): Tanh()\n",
      "    (4): Linear(in_features=256, out_features=829, bias=True)\n",
      "    (5): Tanh()\n",
      "  )\n",
      ")\n",
      "Epoch:1, Loss:0.0481\n",
      "Epoch:2, Loss:0.0446\n",
      "Epoch:3, Loss:0.0415\n",
      "Epoch:4, Loss:0.0368\n",
      "Epoch:5, Loss:0.0315\n",
      "Epoch:6, Loss:0.0316\n",
      "Epoch:7, Loss:0.0298\n",
      "Epoch:8, Loss:0.0302\n",
      "Epoch:9, Loss:0.0259\n",
      "Epoch:10, Loss:0.0286\n",
      "Epoch:11, Loss:0.0295\n",
      "Epoch:12, Loss:0.0226\n",
      "Epoch:13, Loss:0.0238\n",
      "Epoch:14, Loss:0.0256\n",
      "Epoch:15, Loss:0.0231\n",
      "Epoch:16, Loss:0.0290\n",
      "Epoch:17, Loss:0.0251\n",
      "Epoch:18, Loss:0.0239\n",
      "Epoch:19, Loss:0.0248\n",
      "Epoch:20, Loss:0.0246\n",
      "Epoch:21, Loss:0.0235\n",
      "Epoch:22, Loss:0.0243\n",
      "Epoch:23, Loss:0.0211\n",
      "Epoch:24, Loss:0.0229\n",
      "Epoch:25, Loss:0.0208\n",
      "Epoch:26, Loss:0.0233\n",
      "Epoch:27, Loss:0.0250\n",
      "Epoch:28, Loss:0.0255\n",
      "Epoch:29, Loss:0.0224\n",
      "Epoch:30, Loss:0.0225\n",
      "Epoch:31, Loss:0.0233\n",
      "Epoch:32, Loss:0.0230\n",
      "Epoch:33, Loss:0.0244\n",
      "Epoch:34, Loss:0.0216\n",
      "Epoch:35, Loss:0.0235\n",
      "Epoch:36, Loss:0.0214\n",
      "Epoch:37, Loss:0.0202\n",
      "Epoch:38, Loss:0.0202\n",
      "Epoch:39, Loss:0.0235\n",
      "Epoch:40, Loss:0.0212\n",
      "Epoch:41, Loss:0.0192\n",
      "Epoch:42, Loss:0.0200\n",
      "Epoch:43, Loss:0.0212\n",
      "Epoch:44, Loss:0.0217\n",
      "Epoch:45, Loss:0.0201\n",
      "Epoch:46, Loss:0.0216\n",
      "Epoch:47, Loss:0.0196\n",
      "Epoch:48, Loss:0.0192\n",
      "Epoch:49, Loss:0.0217\n",
      "Epoch:50, Loss:0.0225\n",
      "Epoch:51, Loss:0.0215\n",
      "Epoch:52, Loss:0.0237\n",
      "Epoch:53, Loss:0.0216\n",
      "Epoch:54, Loss:0.0209\n",
      "Epoch:55, Loss:0.0235\n",
      "Epoch:56, Loss:0.0207\n",
      "Epoch:57, Loss:0.0217\n",
      "Epoch:58, Loss:0.0206\n",
      "Epoch:59, Loss:0.0201\n",
      "Epoch:60, Loss:0.0212\n",
      "Epoch:61, Loss:0.0214\n",
      "Epoch:62, Loss:0.0224\n",
      "Epoch:63, Loss:0.0180\n",
      "Epoch:64, Loss:0.0200\n",
      "Epoch:65, Loss:0.0225\n",
      "Epoch:66, Loss:0.0202\n",
      "Epoch:67, Loss:0.0215\n",
      "Epoch:68, Loss:0.0192\n",
      "Epoch:69, Loss:0.0208\n",
      "Epoch:70, Loss:0.0202\n",
      "Epoch:71, Loss:0.0213\n",
      "Epoch:72, Loss:0.0198\n",
      "Epoch:73, Loss:0.0205\n",
      "Epoch:74, Loss:0.0188\n",
      "Epoch:75, Loss:0.0180\n",
      "Epoch:76, Loss:0.0191\n",
      "Epoch:77, Loss:0.0187\n",
      "Epoch:78, Loss:0.0219\n",
      "Epoch:79, Loss:0.0169\n",
      "Epoch:80, Loss:0.0189\n",
      "Epoch:81, Loss:0.0235\n",
      "Epoch:82, Loss:0.0165\n",
      "Epoch:83, Loss:0.0222\n",
      "Epoch:84, Loss:0.0195\n",
      "Epoch:85, Loss:0.0189\n",
      "Epoch:86, Loss:0.0196\n",
      "Epoch:87, Loss:0.0186\n",
      "Epoch:88, Loss:0.0205\n",
      "Epoch:89, Loss:0.0190\n",
      "Epoch:90, Loss:0.0196\n",
      "Epoch:91, Loss:0.0201\n",
      "Epoch:92, Loss:0.0193\n",
      "Epoch:93, Loss:0.0203\n",
      "Epoch:94, Loss:0.0214\n",
      "Epoch:95, Loss:0.0187\n",
      "Epoch:96, Loss:0.0183\n",
      "Epoch:97, Loss:0.0176\n",
      "Epoch:98, Loss:0.0184\n",
      "Epoch:99, Loss:0.0167\n",
      "Epoch:100, Loss:0.0218\n",
      "Epoch:101, Loss:0.0195\n",
      "Epoch:102, Loss:0.0174\n",
      "Epoch:103, Loss:0.0164\n",
      "Epoch:104, Loss:0.0194\n",
      "Epoch:105, Loss:0.0195\n",
      "Epoch:106, Loss:0.0222\n",
      "Epoch:107, Loss:0.0185\n",
      "Epoch:108, Loss:0.0168\n",
      "Epoch:109, Loss:0.0183\n",
      "Epoch:110, Loss:0.0202\n",
      "Epoch:111, Loss:0.0186\n",
      "Epoch:112, Loss:0.0172\n",
      "Epoch:113, Loss:0.0186\n",
      "Epoch:114, Loss:0.0189\n",
      "Epoch:115, Loss:0.0178\n",
      "Epoch:116, Loss:0.0174\n",
      "Epoch:117, Loss:0.0199\n",
      "Epoch:118, Loss:0.0166\n",
      "Epoch:119, Loss:0.0194\n",
      "Epoch:120, Loss:0.0196\n",
      "Epoch:121, Loss:0.0235\n",
      "Epoch:122, Loss:0.0179\n",
      "Epoch:123, Loss:0.0199\n",
      "Epoch:124, Loss:0.0214\n",
      "Epoch:125, Loss:0.0178\n",
      "Epoch:126, Loss:0.0176\n",
      "Epoch:127, Loss:0.0202\n",
      "Epoch:128, Loss:0.0214\n",
      "Epoch:129, Loss:0.0169\n",
      "Epoch:130, Loss:0.0210\n",
      "Epoch:131, Loss:0.0188\n",
      "Epoch:132, Loss:0.0161\n",
      "Epoch:133, Loss:0.0197\n",
      "Epoch:134, Loss:0.0179\n",
      "Epoch:135, Loss:0.0188\n",
      "Epoch:136, Loss:0.0161\n",
      "Epoch:137, Loss:0.0185\n",
      "Epoch:138, Loss:0.0174\n",
      "Epoch:139, Loss:0.0214\n",
      "Epoch:140, Loss:0.0176\n",
      "Epoch:141, Loss:0.0187\n",
      "Epoch:142, Loss:0.0187\n",
      "Epoch:143, Loss:0.0211\n",
      "Epoch:144, Loss:0.0154\n",
      "Epoch:145, Loss:0.0170\n",
      "Epoch:146, Loss:0.0167\n",
      "Epoch:147, Loss:0.0185\n",
      "Epoch:148, Loss:0.0177\n",
      "Epoch:149, Loss:0.0158\n",
      "Epoch:150, Loss:0.0206\n",
      "Epoch:151, Loss:0.0176\n"
     ]
    }
   ],
   "source": [
    "dataset = TheDataSet(datafile=dataset_file, pad_to_360=False)\n",
    "model = Autoencoder(num_features=dataset.num_features())\n",
    "print(model)\n",
    "max_epochs = encoder_training_epochs\n",
    "outputs, losses = train(model, dataset=dataset, num_epochs=max_epochs, batch_size = 64, learning_rate=1e-3)"
   ]
  },
  {
   "cell_type": "code",
   "execution_count": 28,
   "id": "defined-connectivity",
   "metadata": {},
   "outputs": [
    {
     "data": {
      "image/png": "[encoded data removed]",
      "text/plain": [
       "<Figure size 432x288 with 1 Axes>"
      ]
     },
     "metadata": {
      "needs_background": "light"
     },
     "output_type": "display_data"
    }
   ],
   "source": [
    "fig = plt.figure()\n",
    "ax = plt.axes()\n",
    "\n",
    "# x = np.linspace(0, 10, 1000)\n",
    "ax.plot(losses);"
   ]
  },
  {
   "cell_type": "code",
   "execution_count": 29,
   "id": "reduced-broadway",
   "metadata": {
    "collapsed": false,
    "jupyter": {
     "outputs_hidden": false
    },
    "pycharm": {
     "name": "#%%\n"
    }
   },
   "outputs": [],
   "source": [
    "# persist the encoder\n",
    "\n",
    "\n",
    "with open('data/autoencoder.pic', 'bw') as f:\n",
    "    torch.save(model, f, pickle_protocol=4)\n",
    "\n",
    "\n"
   ]
  },
  {
   "cell_type": "code",
   "execution_count": 10,
   "id": "extraordinary-resident",
   "metadata": {
    "collapsed": false,
    "jupyter": {
     "outputs_hidden": false
    },
    "pycharm": {
     "name": "#%%\n"
    }
   },
   "outputs": [],
   "source": [
    "with open('data/autoencoder.pic', 'rb') as f:\n",
    "    autoencoder = torch.load(f)"
   ]
  },
  {
   "cell_type": "code",
   "execution_count": 10,
   "id": "demographic-volume",
   "metadata": {
    "collapsed": false,
    "jupyter": {
     "outputs_hidden": false
    },
    "pycharm": {
     "name": "#%%\n"
    }
   },
   "outputs": [],
   "source": []
  }
 ],
 "metadata": {
  "kernelspec": {
   "display_name": "conda_amazonei_pytorch_latest_p36",
   "language": "python",
   "name": "conda_amazonei_pytorch_latest_p36"
  },
  "language_info": {
   "codemirror_mode": {
    "name": "ipython",
    "version": 3
   },
   "file_extension": ".py",
   "mimetype": "text/x-python",
   "name": "python",
   "nbconvert_exporter": "python",
   "pygments_lexer": "ipython3",
   "version": "3.6.13"
  }
 },
 "nbformat": 4,
 "nbformat_minor": 5
}
