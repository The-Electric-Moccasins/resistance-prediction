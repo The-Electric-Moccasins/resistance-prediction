{
 "cells": [
  {
   "cell_type": "code",
   "execution_count": 1,
   "id": "architectural-values",
   "metadata": {},
   "outputs": [],
   "source": [
    "!pip install -q PyAthena"
   ]
  },
  {
   "cell_type": "markdown",
   "id": "persistent-investigation",
   "metadata": {},
   "source": [
    "## Prepare Datasets for Predictor Training, Validation and Testing"
   ]
  },
  {
   "cell_type": "markdown",
   "id": "rough-distinction",
   "metadata": {},
   "source": [
    "#### TS"
   ]
  },
  {
   "cell_type": "markdown",
   "id": "adjacent-times",
   "metadata": {},
   "source": [
    "Import modules that build patient cohort, extract demographics and lab events data:"
   ]
  },
  {
   "cell_type": "code",
   "execution_count": 23,
   "id": "floating-breed",
   "metadata": {
    "scrolled": true
   },
   "outputs": [],
   "source": [
    "from dataproc.cohort import query_esbl_pts, remove_dups, observation_window\n",
    "from dataproc.sampling import generate_samples\n",
    "from dataproc.roc_auc_curves import plt_roc_auc_curve, plt_precision_recall_curve\n",
    "from dataproc.sampling import stratify_set\n",
    "from dataproc.create_dataset import dataset_creation\n",
    "from hyper_params import HyperParams\n",
    "\n",
    "import numpy as np\n",
    "import pandas as pd\n",
    "\n",
    "from sklearn.preprocessing import OneHotEncoder"
   ]
  },
  {
   "cell_type": "code",
   "execution_count": 3,
   "id": "fallen-anthropology",
   "metadata": {},
   "outputs": [],
   "source": [
    "# load hyperparams instance\n",
    "params = HyperParams()"
   ]
  },
  {
   "cell_type": "markdown",
   "id": "square-bleeding",
   "metadata": {},
   "source": [
    "Patients cohort:"
   ]
  },
  {
   "cell_type": "code",
   "execution_count": 6,
   "id": "creative-mother",
   "metadata": {},
   "outputs": [
    {
     "data": {
      "text/plain": [
       "0    2530\n",
       "1    2106\n",
       "Name: RESISTANT_YN, dtype: int64"
      ]
     },
     "execution_count": 6,
     "metadata": {},
     "output_type": "execute_result"
    }
   ],
   "source": [
    "# Select esbl microbiology test\n",
    "esbl_admits = query_esbl_pts()\n",
    "# Remove dups\n",
    "esbl_admits = remove_dups(esbl_admits)\n",
    "# Create observation window\n",
    "esbl_admits_window = observation_window(esbl_admits, window_size=params.observation_window_hours)\n",
    "# Subset columns\n",
    "pts_labels = esbl_admits_window[['hadm_id', 'index_date','RESISTANT_YN']]\n",
    "pts_labels.to_pickle('data/patient_labels.pkl')\n",
    "pts_labels['RESISTANT_YN'].value_counts()"
   ]
  },
  {
   "cell_type": "markdown",
   "id": "positive-heading",
   "metadata": {},
   "source": [
    "Import cohort/labels data from the .pkl file:"
   ]
  },
  {
   "cell_type": "code",
   "execution_count": 7,
   "id": "worldwide-space",
   "metadata": {},
   "outputs": [
    {
     "name": "stdout",
     "output_type": "stream",
     "text": [
      "(4636, 3)\n"
     ]
    },
    {
     "data": {
      "text/html": [
       "<div>\n",
       "<style scoped>\n",
       "    .dataframe tbody tr th:only-of-type {\n",
       "        vertical-align: middle;\n",
       "    }\n",
       "\n",
       "    .dataframe tbody tr th {\n",
       "        vertical-align: top;\n",
       "    }\n",
       "\n",
       "    .dataframe thead th {\n",
       "        text-align: right;\n",
       "    }\n",
       "</style>\n",
       "<table border=\"1\" class=\"dataframe\">\n",
       "  <thead>\n",
       "    <tr style=\"text-align: right;\">\n",
       "      <th></th>\n",
       "      <th>hadm_id</th>\n",
       "      <th>index_date</th>\n",
       "      <th>RESISTANT_YN</th>\n",
       "    </tr>\n",
       "  </thead>\n",
       "  <tbody>\n",
       "    <tr>\n",
       "      <th>14564</th>\n",
       "      <td>101757</td>\n",
       "      <td>2132-12-31 16:30:00</td>\n",
       "      <td>0</td>\n",
       "    </tr>\n",
       "    <tr>\n",
       "      <th>14608</th>\n",
       "      <td>186474</td>\n",
       "      <td>2155-02-25 18:45:00</td>\n",
       "      <td>1</td>\n",
       "    </tr>\n",
       "    <tr>\n",
       "      <th>14612</th>\n",
       "      <td>194730</td>\n",
       "      <td>2170-12-22 06:12:00</td>\n",
       "      <td>0</td>\n",
       "    </tr>\n",
       "    <tr>\n",
       "      <th>14625</th>\n",
       "      <td>112086</td>\n",
       "      <td>2147-04-05 14:00:00</td>\n",
       "      <td>1</td>\n",
       "    </tr>\n",
       "    <tr>\n",
       "      <th>14634</th>\n",
       "      <td>158569</td>\n",
       "      <td>2142-04-01 18:34:00</td>\n",
       "      <td>1</td>\n",
       "    </tr>\n",
       "  </tbody>\n",
       "</table>\n",
       "</div>"
      ],
      "text/plain": [
       "       hadm_id          index_date  RESISTANT_YN\n",
       "14564   101757 2132-12-31 16:30:00             0\n",
       "14608   186474 2155-02-25 18:45:00             1\n",
       "14612   194730 2170-12-22 06:12:00             0\n",
       "14625   112086 2147-04-05 14:00:00             1\n",
       "14634   158569 2142-04-01 18:34:00             1"
      ]
     },
     "execution_count": 7,
     "metadata": {},
     "output_type": "execute_result"
    }
   ],
   "source": [
    "pts_labels = pd.read_pickle('data/patient_labels_multiple.pkl')\n",
    "print(pts_labels.shape)\n",
    "pts_labels.head()"
   ]
  },
  {
   "cell_type": "markdown",
   "id": "cross-appraisal",
   "metadata": {},
   "source": [
    "Patient's features data:"
   ]
  },
  {
   "cell_type": "code",
   "execution_count": 8,
   "id": "acquired-relative",
   "metadata": {},
   "outputs": [],
   "source": [
    "# Loading the features\n",
    "features = dataset_creation(pts_labels['hadm_id'], params.observation_window_hours)\n",
    "features = features.merge(pts_labels[['hadm_id','RESISTANT_YN']], on='hadm_id')\n",
    "features.to_pickle('data/features.pkl')"
   ]
  },
  {
   "cell_type": "markdown",
   "id": "public-mercury",
   "metadata": {},
   "source": [
    "Import features data from the .pkl file:"
   ]
  },
  {
   "cell_type": "code",
   "execution_count": 9,
   "id": "encouraging-teacher",
   "metadata": {},
   "outputs": [
    {
     "name": "stdout",
     "output_type": "stream",
     "text": [
      "['hadm_id', 'subject_id', '10378-8', '10535-3', '10839-9', '11555-0', '11556-8', '11557-6', '11558-4', '13362-9', '1644-4', '1742-6', '1751-7', '17849-1', '1798-8', '1863-0', '1920-8', '1959-6', '1963-8', '1968-7', '1971-1', '1975-2', '1988-5', '1994-3', '19991-9', '19994-3', '2000-8', '20077-4', '20112-9', '20564-1', '20569-0', '20570-8', '20578-1', '2069-3', '2075-0', '2078-4', '2085-9', '2090-9', '2093-3', '2143-6', '2157-6', '2160-0', '2161-8', '2170-9', '2276-4', '2284-8', '2339-0', '2345-7', '2498-4', '2500-7', '2532-0', '2601-3', '26498-6', '2692-2', '2695-5', '2777-1', '2823-3', '2828-2', '28541-1', '2947-0', '2951-2', '2955-3', '30089-7', '3016-3', '30226-5', '3040-3', '3094-0', '3095-7', '3151-8', '3173-2', '3255-7', '32693-4', '3297-9', '3349-8', '3376-1', '33762-6', '3377-9', '3390-2', '33914-3', '3397-7', '34728-6', '3773-9', '3879-4', '3967-7', '4023-8', '4073-3', '42662-7', '4542-7', '4544-3', '4548-4', '48065-7', '5642-4', '5767-9', '5769-5', '5770-3', '5778-6', '5787-7', '5792-7', '5793-5', '5794-3', '5796-8', '5797-6', '5799-2', '5802-4', '5803-2', '5804-0', '5808-1', '5811-5', '5818-0', '5821-4', '5822-2', '5895-7', '5902-2', '6298-4', '6598-7', '6768-6', '6773-6', '702-1', '704-7', '711-2', '718-7', '728-6', '731-0', '733-6', '738-5', '741-9', '742-7', '761-7', '763-3', '772-4', '774-0', '777-3', '778-1', '779-9', '7790-9', '7791-7', '785-6', '786-4', '787-2', '788-0', '789-8', '800-3', '804-5', '8246-1', '8247-9', '9322-9', 'admittime', 'admission_type', 'admission_location', 'insurance', 'language', 'religion', 'marital_status', 'ethnicity', 'gender', 'RESISTANT_YN']\n"
     ]
    }
   ],
   "source": [
    "features = pd.read_pickle('data/features.pkl')\n",
    "print(list(features.columns))"
   ]
  },
  {
   "cell_type": "code",
   "execution_count": 10,
   "id": "norwegian-multiple",
   "metadata": {},
   "outputs": [
    {
     "name": "stdout",
     "output_type": "stream",
     "text": [
      "['10378-8', '10535-3', '10839-9', '11555-0', '11556-8', '11557-6', '11558-4', '13362-9', '1644-4', '1742-6', '1751-7', '17849-1', '1798-8', '1863-0', '1920-8', '1959-6', '1963-8', '1968-7', '1971-1', '1975-2', '1988-5', '1994-3', '19991-9', '19994-3', '2000-8', '20077-4', '20112-9', '20564-1', '20569-0', '20570-8', '20578-1', '2069-3', '2075-0', '2078-4', '2085-9', '2090-9', '2093-3', '2143-6', '2157-6', '2160-0', '2161-8', '2170-9', '2276-4', '2284-8', '2339-0', '2345-7', '2498-4', '2500-7', '2532-0', '2601-3', '26498-6', '2692-2', '2695-5', '2777-1', '2823-3', '2828-2', '28541-1', '2947-0', '2951-2', '2955-3', '30089-7', '3016-3', '30226-5', '3040-3', '3094-0', '3095-7', '3151-8', '3173-2', '3255-7', '32693-4', '3297-9', '3349-8', '3376-1', '33762-6', '3377-9', '3390-2', '33914-3', '3397-7', '34728-6', '3773-9', '3879-4', '3967-7', '4023-8', '4073-3', '42662-7', '4542-7', '4544-3', '4548-4', '48065-7', '5642-4', '5767-9', '5769-5', '5770-3', '5778-6', '5787-7', '5792-7', '5793-5', '5794-3', '5796-8', '5797-6', '5799-2', '5802-4', '5803-2', '5804-0', '5808-1', '5811-5', '5818-0', '5821-4', '5822-2', '5895-7', '5902-2', '6298-4', '6598-7', '6768-6', '6773-6', '702-1', '704-7', '711-2', '718-7', '728-6', '731-0', '733-6', '738-5', '741-9', '742-7', '761-7', '763-3', '772-4', '774-0', '777-3', '778-1', '779-9', '7790-9', '7791-7', '785-6', '786-4', '787-2', '788-0', '789-8', '800-3', '804-5', '8246-1', '8247-9', '9322-9']\n"
     ]
    }
   ],
   "source": [
    "loinc_codes = list(features.drop(columns=['hadm_id', 'subject_id', 'admittime','admission_type']).columns)[:-8]\n",
    "print(list(loinc_codes))"
   ]
  },
  {
   "cell_type": "code",
   "execution_count": 11,
   "id": "fuzzy-orleans",
   "metadata": {},
   "outputs": [],
   "source": [
    "features_summary = features[loinc_codes].describe()"
   ]
  },
  {
   "cell_type": "code",
   "execution_count": 12,
   "id": "incorporate-celebrity",
   "metadata": {},
   "outputs": [],
   "source": [
    "# Embedding the features\n",
    "from dataproc.embeddings import loinc_values\n",
    "\n",
    "loinc_vals = loinc_values(loinc_codes)\n",
    "loinc_vals.dropna(subset=['value'], inplace=True)\n",
    "loinc_vals = loinc_vals.astype({'value': 'string', 'loinc_code': 'category'})\n",
    "loinc_vals['value'] = loinc_vals['value'].map(lambda x: x.lstrip('LESS THAN '))\n",
    "loinc_vals['value'] = loinc_vals['value'].map(lambda x: x.lstrip('GREATER THAN '))\n",
    "loinc_vals['value'] = loinc_vals['value'].map(lambda x: x.lstrip('>GREATER THAN '))\n",
    "loinc_vals['value'] = loinc_vals['value'].map(lambda x: x.lstrip('<LESS THAN '))\n",
    "loinc_vals['value'] = loinc_vals['value'].map(lambda x: x.rstrip(' NG/ML'))\n",
    "loinc_vals['value'] = loinc_vals['value'].map(lambda x: x.lstrip('<>'))\n",
    "loinc_vals['value'] = loinc_vals['value'].map(lambda x: x.replace(',', '.'))\n",
    "loinc_vals.drop(list(loinc_vals.loc[loinc_vals['value'] == 'UNABLE TO ANALYZE'].index),  inplace=True)\n",
    "loinc_vals.drop(list(loinc_vals.loc[loinc_vals['value'] == 'MOLYSIS FALSELY DECREASES THIS RESULT'].index),  inplace=True)\n",
    "loinc_vals.drop(list(loinc_vals.loc[loinc_vals['value'] == 'COMPUTER NETWORK FAILURE. TEST NOT RESULTED.'].index),  inplace=True)\n",
    "loinc_vals.drop(list(loinc_vals.loc[loinc_vals['value'] == 'UNABLE TO DETERMINE'].index),  inplace=True)\n",
    "loinc_vals.drop(list(loinc_vals.loc[loinc_vals['value'] == ':UNABLE TO DETERMINE'].index),  inplace=True)\n",
    "loinc_vals.drop(list(loinc_vals.loc[loinc_vals['value'] == 'UNABLE TO QUANTITATE'].index),  inplace=True)\n",
    "loinc_vals.drop(list(loinc_vals.loc[loinc_vals['value'] == 'UNABLE TO REPORT'].index),  inplace=True)"
   ]
  },
  {
   "cell_type": "code",
   "execution_count": 13,
   "id": "sublime-match",
   "metadata": {},
   "outputs": [],
   "source": [
    "numeric = []\n",
    "categorical = []\n",
    "weird = []\n",
    "for code in loinc_codes:\n",
    "    size = len(loinc_vals.loc[loinc_vals['loinc_code'] == str(code), 'value'])\n",
    "    size_unique = len(loinc_vals.loc[loinc_vals['loinc_code'] == str(code), 'value'].unique())\n",
    "    sum_na = pd.to_numeric(loinc_vals.loc[loinc_vals['loinc_code'] == str(code), 'value'], errors='coerce').isna().sum()\n",
    "    if sum_na / size < 0.05:\n",
    "        numeric.append(code)\n",
    "    elif sum_na / size > 0.05 and size_unique < 100:\n",
    "        categorical.append(code)\n",
    "    else:\n",
    "        weird.append(code)"
   ]
  },
  {
   "cell_type": "code",
   "execution_count": 14,
   "id": "tamil-gateway",
   "metadata": {},
   "outputs": [],
   "source": [
    "# remove lab column that contains only 'inf' and 'Nan'\n",
    "numeric.remove('26498-6')\n",
    "# remove lab column that contains phrase 'See comments'\n",
    "categorical.remove('33914-3')\n",
    "# remove lab column that contains phrase 'Random'\n",
    "categorical.remove('13362-9')"
   ]
  },
  {
   "cell_type": "code",
   "execution_count": 15,
   "id": "centered-slave",
   "metadata": {},
   "outputs": [
    {
     "name": "stdout",
     "output_type": "stream",
     "text": [
      "All: 144\n",
      "Numeric:  94\n",
      "Categorical:  36\n",
      "Weird: 11\n"
     ]
    }
   ],
   "source": [
    "print('All:', len(loinc_codes))\n",
    "print('Numeric: ', len(numeric))\n",
    "print('Categorical: ', len(categorical))\n",
    "print('Weird:', len(weird))"
   ]
  },
  {
   "cell_type": "markdown",
   "id": "realistic-venice",
   "metadata": {},
   "source": [
    "Summary statistics for numeric lab codes:"
   ]
  },
  {
   "cell_type": "code",
   "execution_count": 16,
   "id": "floppy-french",
   "metadata": {},
   "outputs": [],
   "source": [
    "numeric_stats = []\n",
    "for code in numeric:\n",
    "    a = pd.to_numeric(loinc_vals.loc[loinc_vals['loinc_code'] == str(code), 'value'], errors='coerce').describe()\n",
    "    numeric_stats.append(a)\n",
    "numeric_stats_df = pd.concat(numeric_stats, axis=1, keys=numeric)"
   ]
  },
  {
   "cell_type": "code",
   "execution_count": 17,
   "id": "assured-oasis",
   "metadata": {},
   "outputs": [
    {
     "data": {
      "text/html": [
       "<div>\n",
       "<style scoped>\n",
       "    .dataframe tbody tr th:only-of-type {\n",
       "        vertical-align: middle;\n",
       "    }\n",
       "\n",
       "    .dataframe tbody tr th {\n",
       "        vertical-align: top;\n",
       "    }\n",
       "\n",
       "    .dataframe thead th {\n",
       "        text-align: right;\n",
       "    }\n",
       "</style>\n",
       "<table border=\"1\" class=\"dataframe\">\n",
       "  <thead>\n",
       "    <tr style=\"text-align: right;\">\n",
       "      <th></th>\n",
       "      <th>10535-3</th>\n",
       "      <th>10839-9</th>\n",
       "      <th>11555-0</th>\n",
       "      <th>11556-8</th>\n",
       "      <th>11557-6</th>\n",
       "      <th>11558-4</th>\n",
       "      <th>1644-4</th>\n",
       "      <th>1742-6</th>\n",
       "      <th>1751-7</th>\n",
       "      <th>17849-1</th>\n",
       "      <th>...</th>\n",
       "      <th>763-3</th>\n",
       "      <th>772-4</th>\n",
       "      <th>777-3</th>\n",
       "      <th>785-6</th>\n",
       "      <th>786-4</th>\n",
       "      <th>787-2</th>\n",
       "      <th>788-0</th>\n",
       "      <th>789-8</th>\n",
       "      <th>804-5</th>\n",
       "      <th>9322-9</th>\n",
       "    </tr>\n",
       "  </thead>\n",
       "  <tbody>\n",
       "    <tr>\n",
       "      <th>count</th>\n",
       "      <td>8358.000000</td>\n",
       "      <td>11447.000000</td>\n",
       "      <td>490527.000000</td>\n",
       "      <td>490523.000000</td>\n",
       "      <td>490504.000000</td>\n",
       "      <td>530658.000000</td>\n",
       "      <td>24986.000000</td>\n",
       "      <td>219448.000000</td>\n",
       "      <td>146690.000000</td>\n",
       "      <td>10073.000000</td>\n",
       "      <td>...</td>\n",
       "      <td>75587.000000</td>\n",
       "      <td>16564.000000</td>\n",
       "      <td>778241.000000</td>\n",
       "      <td>747560.000000</td>\n",
       "      <td>747921.000000</td>\n",
       "      <td>747537.000000</td>\n",
       "      <td>746408.000000</td>\n",
       "      <td>747568.000000</td>\n",
       "      <td>753127.000000</td>\n",
       "      <td>18128.000000</td>\n",
       "    </tr>\n",
       "    <tr>\n",
       "      <th>mean</th>\n",
       "      <td>1.129834</td>\n",
       "      <td>7.479856</td>\n",
       "      <td>-0.090604</td>\n",
       "      <td>136.737019</td>\n",
       "      <td>42.736738</td>\n",
       "      <td>7.379366</td>\n",
       "      <td>167.710318</td>\n",
       "      <td>129.960002</td>\n",
       "      <td>3.178038</td>\n",
       "      <td>2.534686</td>\n",
       "      <td>...</td>\n",
       "      <td>3.046492</td>\n",
       "      <td>13.766542</td>\n",
       "      <td>239.295564</td>\n",
       "      <td>30.220467</td>\n",
       "      <td>33.508648</td>\n",
       "      <td>90.264973</td>\n",
       "      <td>15.799282</td>\n",
       "      <td>3.510249</td>\n",
       "      <td>10.499787</td>\n",
       "      <td>3.920383</td>\n",
       "    </tr>\n",
       "    <tr>\n",
       "      <th>std</th>\n",
       "      <td>0.749934</td>\n",
       "      <td>16.189266</td>\n",
       "      <td>5.353903</td>\n",
       "      <td>92.114782</td>\n",
       "      <td>11.388981</td>\n",
       "      <td>0.087115</td>\n",
       "      <td>229.124373</td>\n",
       "      <td>536.810586</td>\n",
       "      <td>0.757973</td>\n",
       "      <td>1.775861</td>\n",
       "      <td>...</td>\n",
       "      <td>6.148193</td>\n",
       "      <td>59.786263</td>\n",
       "      <td>150.321123</td>\n",
       "      <td>2.574024</td>\n",
       "      <td>1.573992</td>\n",
       "      <td>6.987865</td>\n",
       "      <td>2.356128</td>\n",
       "      <td>0.656843</td>\n",
       "      <td>9.006713</td>\n",
       "      <td>2.365156</td>\n",
       "    </tr>\n",
       "    <tr>\n",
       "      <th>min</th>\n",
       "      <td>0.020000</td>\n",
       "      <td>0.000000</td>\n",
       "      <td>-414.000000</td>\n",
       "      <td>0.000000</td>\n",
       "      <td>0.000000</td>\n",
       "      <td>0.000000</td>\n",
       "      <td>1.000000</td>\n",
       "      <td>0.000000</td>\n",
       "      <td>0.900000</td>\n",
       "      <td>0.000000</td>\n",
       "      <td>...</td>\n",
       "      <td>0.000000</td>\n",
       "      <td>0.000000</td>\n",
       "      <td>4.000000</td>\n",
       "      <td>0.000000</td>\n",
       "      <td>0.000000</td>\n",
       "      <td>0.000000</td>\n",
       "      <td>0.000000</td>\n",
       "      <td>0.000000</td>\n",
       "      <td>0.000000</td>\n",
       "      <td>0.800000</td>\n",
       "    </tr>\n",
       "    <tr>\n",
       "      <th>25%</th>\n",
       "      <td>0.600000</td>\n",
       "      <td>0.300000</td>\n",
       "      <td>-3.000000</td>\n",
       "      <td>81.000000</td>\n",
       "      <td>36.000000</td>\n",
       "      <td>7.330000</td>\n",
       "      <td>85.000000</td>\n",
       "      <td>18.000000</td>\n",
       "      <td>2.600000</td>\n",
       "      <td>1.400000</td>\n",
       "      <td>...</td>\n",
       "      <td>0.000000</td>\n",
       "      <td>1.000000</td>\n",
       "      <td>139.000000</td>\n",
       "      <td>28.900000</td>\n",
       "      <td>32.500000</td>\n",
       "      <td>86.000000</td>\n",
       "      <td>14.100000</td>\n",
       "      <td>3.050000</td>\n",
       "      <td>6.400000</td>\n",
       "      <td>2.800000</td>\n",
       "    </tr>\n",
       "    <tr>\n",
       "      <th>50%</th>\n",
       "      <td>1.000000</td>\n",
       "      <td>0.400000</td>\n",
       "      <td>0.000000</td>\n",
       "      <td>109.000000</td>\n",
       "      <td>41.000000</td>\n",
       "      <td>7.390000</td>\n",
       "      <td>124.000000</td>\n",
       "      <td>32.000000</td>\n",
       "      <td>3.100000</td>\n",
       "      <td>2.100000</td>\n",
       "      <td>...</td>\n",
       "      <td>0.000000</td>\n",
       "      <td>3.000000</td>\n",
       "      <td>215.000000</td>\n",
       "      <td>30.300000</td>\n",
       "      <td>33.600000</td>\n",
       "      <td>90.000000</td>\n",
       "      <td>15.300000</td>\n",
       "      <td>3.440000</td>\n",
       "      <td>9.100000</td>\n",
       "      <td>3.500000</td>\n",
       "    </tr>\n",
       "    <tr>\n",
       "      <th>75%</th>\n",
       "      <td>1.400000</td>\n",
       "      <td>4.700000</td>\n",
       "      <td>3.000000</td>\n",
       "      <td>156.000000</td>\n",
       "      <td>47.000000</td>\n",
       "      <td>7.440000</td>\n",
       "      <td>187.000000</td>\n",
       "      <td>69.000000</td>\n",
       "      <td>3.700000</td>\n",
       "      <td>3.200000</td>\n",
       "      <td>...</td>\n",
       "      <td>3.000000</td>\n",
       "      <td>8.000000</td>\n",
       "      <td>307.000000</td>\n",
       "      <td>31.600000</td>\n",
       "      <td>34.600000</td>\n",
       "      <td>94.000000</td>\n",
       "      <td>17.000000</td>\n",
       "      <td>3.900000</td>\n",
       "      <td>12.800000</td>\n",
       "      <td>4.500000</td>\n",
       "    </tr>\n",
       "    <tr>\n",
       "      <th>max</th>\n",
       "      <td>8.000000</td>\n",
       "      <td>575.000000</td>\n",
       "      <td>162.000000</td>\n",
       "      <td>1914.000000</td>\n",
       "      <td>247.000000</td>\n",
       "      <td>7.990000</td>\n",
       "      <td>12496.000000</td>\n",
       "      <td>25460.000000</td>\n",
       "      <td>6.900000</td>\n",
       "      <td>22.100000</td>\n",
       "      <td>...</td>\n",
       "      <td>94.000000</td>\n",
       "      <td>2879.000000</td>\n",
       "      <td>4504.000000</td>\n",
       "      <td>48.900000</td>\n",
       "      <td>45.800000</td>\n",
       "      <td>147.000000</td>\n",
       "      <td>36.400000</td>\n",
       "      <td>32.970000</td>\n",
       "      <td>846.700000</td>\n",
       "      <td>65.400000</td>\n",
       "    </tr>\n",
       "  </tbody>\n",
       "</table>\n",
       "<p>8 rows × 94 columns</p>\n",
       "</div>"
      ],
      "text/plain": [
       "           10535-3       10839-9        11555-0        11556-8        11557-6  \\\n",
       "count  8358.000000  11447.000000  490527.000000  490523.000000  490504.000000   \n",
       "mean      1.129834      7.479856      -0.090604     136.737019      42.736738   \n",
       "std       0.749934     16.189266       5.353903      92.114782      11.388981   \n",
       "min       0.020000      0.000000    -414.000000       0.000000       0.000000   \n",
       "25%       0.600000      0.300000      -3.000000      81.000000      36.000000   \n",
       "50%       1.000000      0.400000       0.000000     109.000000      41.000000   \n",
       "75%       1.400000      4.700000       3.000000     156.000000      47.000000   \n",
       "max       8.000000    575.000000     162.000000    1914.000000     247.000000   \n",
       "\n",
       "             11558-4        1644-4         1742-6         1751-7  \\\n",
       "count  530658.000000  24986.000000  219448.000000  146690.000000   \n",
       "mean        7.379366    167.710318     129.960002       3.178038   \n",
       "std         0.087115    229.124373     536.810586       0.757973   \n",
       "min         0.000000      1.000000       0.000000       0.900000   \n",
       "25%         7.330000     85.000000      18.000000       2.600000   \n",
       "50%         7.390000    124.000000      32.000000       3.100000   \n",
       "75%         7.440000    187.000000      69.000000       3.700000   \n",
       "max         7.990000  12496.000000   25460.000000       6.900000   \n",
       "\n",
       "            17849-1  ...         763-3         772-4          777-3  \\\n",
       "count  10073.000000  ...  75587.000000  16564.000000  778241.000000   \n",
       "mean       2.534686  ...      3.046492     13.766542     239.295564   \n",
       "std        1.775861  ...      6.148193     59.786263     150.321123   \n",
       "min        0.000000  ...      0.000000      0.000000       4.000000   \n",
       "25%        1.400000  ...      0.000000      1.000000     139.000000   \n",
       "50%        2.100000  ...      0.000000      3.000000     215.000000   \n",
       "75%        3.200000  ...      3.000000      8.000000     307.000000   \n",
       "max       22.100000  ...     94.000000   2879.000000    4504.000000   \n",
       "\n",
       "               785-6          786-4          787-2          788-0  \\\n",
       "count  747560.000000  747921.000000  747537.000000  746408.000000   \n",
       "mean       30.220467      33.508648      90.264973      15.799282   \n",
       "std         2.574024       1.573992       6.987865       2.356128   \n",
       "min         0.000000       0.000000       0.000000       0.000000   \n",
       "25%        28.900000      32.500000      86.000000      14.100000   \n",
       "50%        30.300000      33.600000      90.000000      15.300000   \n",
       "75%        31.600000      34.600000      94.000000      17.000000   \n",
       "max        48.900000      45.800000     147.000000      36.400000   \n",
       "\n",
       "               789-8          804-5        9322-9  \n",
       "count  747568.000000  753127.000000  18128.000000  \n",
       "mean        3.510249      10.499787      3.920383  \n",
       "std         0.656843       9.006713      2.365156  \n",
       "min         0.000000       0.000000      0.800000  \n",
       "25%         3.050000       6.400000      2.800000  \n",
       "50%         3.440000       9.100000      3.500000  \n",
       "75%         3.900000      12.800000      4.500000  \n",
       "max        32.970000     846.700000     65.400000  \n",
       "\n",
       "[8 rows x 94 columns]"
      ]
     },
     "execution_count": 17,
     "metadata": {},
     "output_type": "execute_result"
    }
   ],
   "source": [
    "numeric_stats_df"
   ]
  },
  {
   "cell_type": "code",
   "execution_count": 18,
   "id": "overall-viking",
   "metadata": {},
   "outputs": [],
   "source": [
    "# for now, ignoring the mixed type lab tests\n",
    "dataset = features.drop(columns=weird, errors='ignore')"
   ]
  },
  {
   "cell_type": "code",
   "execution_count": 19,
   "id": "brave-valve",
   "metadata": {},
   "outputs": [
    {
     "data": {
      "text/plain": [
       "(4328, 145)"
      ]
     },
     "execution_count": 19,
     "metadata": {},
     "output_type": "execute_result"
    }
   ],
   "source": [
    "dataset.shape"
   ]
  },
  {
   "cell_type": "markdown",
   "id": "centered-condition",
   "metadata": {},
   "source": [
    "### Data Preprocessing  and Embeddings:"
   ]
  },
  {
   "cell_type": "code",
   "execution_count": 20,
   "id": "editorial-broadway",
   "metadata": {},
   "outputs": [
    {
     "name": "stdout",
     "output_type": "stream",
     "text": [
      "['hadm_id', 'subject_id', '10378-8', '10535-3', '10839-9', '11555-0', '11556-8', '11557-6', '11558-4', '13362-9', '1644-4', '1742-6', '1751-7', '17849-1', '1798-8', '1863-0', '1920-8', '1959-6', '1963-8', '1968-7', '1971-1', '1975-2', '1988-5', '1994-3', '19991-9', '19994-3', '2000-8', '20077-4', '20112-9', '20564-1', '20569-0', '20570-8', '20578-1', '2069-3', '2075-0', '2078-4', '2085-9', '2090-9', '2093-3', '2143-6', '2157-6', '2160-0', '2161-8', '2170-9', '2276-4', '2284-8', '2339-0', '2345-7', '2498-4', '2500-7', '2532-0', '2601-3', '26498-6', '2692-2', '2695-5', '2777-1', '2823-3', '2828-2', '28541-1', '2947-0', '2951-2', '2955-3', '30089-7', '3016-3', '30226-5', '3040-3', '3094-0', '3095-7', '3151-8', '3173-2', '3255-7', '32693-4', '3349-8', '3376-1', '33762-6', '3377-9', '3390-2', '33914-3', '3397-7', '34728-6', '3773-9', '3879-4', '3967-7', '4073-3', '42662-7', '4542-7', '4544-3', '5767-9', '5769-5', '5770-3', '5778-6', '5792-7', '5794-3', '5797-6', '5799-2', '5802-4', '5803-2', '5804-0', '5811-5', '5818-0', '5822-2', '5895-7', '5902-2', '6298-4', '6598-7', '6768-6', '702-1', '704-7', '711-2', '718-7', '728-6', '731-0', '733-6', '738-5', '741-9', '742-7', '761-7', '763-3', '772-4', '774-0', '777-3', '778-1', '779-9', '7790-9', '7791-7', '785-6', '786-4', '787-2', '788-0', '789-8', '800-3', '804-5', '8246-1', '8247-9', '9322-9', 'admittime', 'admission_type', 'admission_location', 'insurance', 'language', 'religion', 'marital_status', 'ethnicity', 'gender', 'RESISTANT_YN']\n"
     ]
    }
   ],
   "source": [
    "print(list(dataset.columns))"
   ]
  },
  {
   "cell_type": "markdown",
   "id": "optional-engine",
   "metadata": {},
   "source": [
    "#### Clean lab numeric variables:"
   ]
  },
  {
   "cell_type": "code",
   "execution_count": 21,
   "id": "tutorial-ladder",
   "metadata": {},
   "outputs": [],
   "source": [
    "# Convert to numeric selected columns\n",
    "dataset[numeric] = dataset[numeric].apply(pd.to_numeric, errors='coerce', axis=1)"
   ]
  },
  {
   "cell_type": "markdown",
   "id": "affiliated-sphere",
   "metadata": {},
   "source": [
    "Since many lab data have outliers the median and interquartile range can be used to standardizing the numeric variables:   \n",
    "- value = (value – median) / (p75 – p25)"
   ]
  },
  {
   "cell_type": "code",
   "execution_count": 22,
   "id": "worst-inventory",
   "metadata": {},
   "outputs": [],
   "source": [
    "def stanardize_numeric_values(df, list_of_clms, ref_df):\n",
    "    \"\"\"\n",
    "    Use the median and interquartile range to \n",
    "    standardize the numeric variables\n",
    "    value = (value – median) / (p75 – p25)\n",
    "    \"\"\"\n",
    "    for code in list_of_clms:\n",
    "        median = ref_df[code]['50%']\n",
    "        p25 = ref_df[code]['25%']\n",
    "        p75 = ref_df[code]['75%']\n",
    "        df[code] = (df[code] - median) / (p75 - p25)\n",
    "    return df\n",
    "    "
   ]
  },
  {
   "cell_type": "code",
   "execution_count": 23,
   "id": "solar-station",
   "metadata": {},
   "outputs": [],
   "source": [
    "dataset = stanardize_numeric_values(dataset, numeric, numeric_stats_df)"
   ]
  },
  {
   "cell_type": "markdown",
   "id": "quick-tattoo",
   "metadata": {},
   "source": [
    "Imputation of missing values using scikit-learn https://scikit-learn.org/stable/modules/impute.html#impute"
   ]
  },
  {
   "cell_type": "code",
   "execution_count": 24,
   "id": "current-patrol",
   "metadata": {},
   "outputs": [],
   "source": [
    "from sklearn.impute import SimpleImputer\n",
    "\n",
    "def replace_missing_val(df, list_of_clms, how='median'):\n",
    "    \"\"\"\n",
    "    Imputation of missing values using median\n",
    "    \"\"\"\n",
    "    imp = SimpleImputer(strategy=how)\n",
    "    df_prc = imp.fit_transform(df[list_of_clms])\n",
    "    df = pd.DataFrame(df_prc, columns=list_of_clms)\n",
    "    return df\n"
   ]
  },
  {
   "cell_type": "code",
   "execution_count": 25,
   "id": "parental-yeast",
   "metadata": {},
   "outputs": [],
   "source": [
    "numlabvars_df = replace_missing_val(dataset, numeric, how='median')"
   ]
  },
  {
   "cell_type": "code",
   "execution_count": 26,
   "id": "supported-collectible",
   "metadata": {},
   "outputs": [
    {
     "data": {
      "text/plain": [
       "(4328, 94)"
      ]
     },
     "execution_count": 26,
     "metadata": {},
     "output_type": "execute_result"
    }
   ],
   "source": [
    "numlabvars_df.shape"
   ]
  },
  {
   "cell_type": "markdown",
   "id": "incorrect-disaster",
   "metadata": {},
   "source": [
    "#### Clean lab categorical variables:"
   ]
  },
  {
   "cell_type": "code",
   "execution_count": 27,
   "id": "handmade-confidence",
   "metadata": {},
   "outputs": [],
   "source": [
    "dataset['30089-7'] = np.where(dataset['30089-7'].isin(['<1','1','2']), '0-2',\n",
    "                     np.where(dataset['30089-7'].isin(['3','4']),'3-5', dataset['30089-7']))\n",
    "\n",
    "dataset['5767-9'] = np.where(dataset['5767-9'].isin(['CLEAR']), 'Clear',\n",
    "                    np.where(dataset['5767-9'].isin(['SLHAZY']), 'SlHazy',\n",
    "                    np.where(dataset['5767-9'].isin(['HAZY']), 'Hazy',\n",
    "                    np.where(dataset['5767-9'].isin(['SlCloudy']),'SlCldy',  \n",
    "                    np.where(dataset['5767-9'].isin(['CLOUDY']),'Cloudy',dataset['5767-9'])))))\n",
    "\n",
    "dataset['5769-5'] = np.where(dataset['5769-5'].isin(['0']), 'NEG',\n",
    "                    np.where(dataset['5769-5'].isin(['NOTDONE']), 'NONE',\n",
    "                    np.where(dataset['5769-5'].isin(['LRG']), 'MANY', dataset['5769-5'])))\n",
    "\n",
    "dataset['5778-6'] = np.where(dataset['5778-6'].isin(['YELLOW','YEL']), 'Yellow',\n",
    "                    np.where(dataset['5778-6'].isin(['STRAW']), 'Straw',\n",
    "                    np.where(dataset['5778-6'].isin(['AMBER','AMB']), 'Amber', \n",
    "                    np.where(dataset['5778-6'].isin(['RED']), 'Red', \n",
    "                    np.where(dataset['5778-6'].isin(['ORANGE']), 'Orange', \n",
    "                    np.where(dataset['5778-6'].isin(['DKAMB','DKAMBER']), 'DkAmb', \n",
    "                    np.where(dataset['5778-6'].isin([' ']), np.nan, dataset['5778-6'])))))))\n",
    "\n",
    "dataset['5797-6'] = np.where(dataset['5797-6'].isin(['>80']), '80',dataset['5797-6'])\n",
    "\n",
    "dataset['5804-0'] = np.where(dataset['5804-0'].isin(['>300']), '300',\n",
    "                    np.where(dataset['5804-0'].isin([' ']), np.nan, dataset['5804-0']))\n",
    "\n",
    "dataset['5818-0'] = np.where(dataset['5818-0'].isin(['.2']), '0.2',\n",
    "                    np.where(dataset['5818-0'].isin(['>8','>8.0']), '8',\n",
    "                    np.where(dataset['5818-0'].isin(['>12']), '12',\n",
    "                    np.where(dataset['5818-0'].isin(['NotDone']), np.nan, dataset['5818-0']))))\n",
    "\n",
    "dataset['5822-2'] = np.where(dataset['5822-2'].isin(['0', 'N']), 'NONE',\n",
    "                    np.where(dataset['5822-2'].isin(['NOTDONE']), np.nan, dataset['5822-2']))\n",
    "\n",
    "dataset['778-1'] = np.where(dataset['778-1'].isin(['UNABLE TO ESTIMATE DUE TO PLATELET CLUMPS']), 'NOTDETECTED', dataset['778-1'])\n"
   ]
  },
  {
   "cell_type": "code",
   "execution_count": 28,
   "id": "coated-senator",
   "metadata": {},
   "outputs": [
    {
     "name": "stdout",
     "output_type": "stream",
     "text": [
      "----------------------------------\n",
      "Column name:  10378-8\n",
      "NORMAL        457\n",
      "1+            141\n",
      "OCCASIONAL    126\n",
      "2+             45\n",
      "3+              8\n",
      "Name: 10378-8, dtype: int64\n",
      "----------------------------------\n",
      "Column name:  30089-7\n",
      "0-2      88\n",
      "3-5      19\n",
      "6-10      3\n",
      "21-50     1\n",
      "11-20     1\n",
      "Name: 30089-7, dtype: int64\n",
      "----------------------------------\n",
      "Column name:  30226-5\n",
      "0-10        15\n",
      "10-40       15\n",
      "40-80       15\n",
      "80-160       4\n",
      "160-320      2\n",
      "640-1280     1\n",
      ">1280        1\n",
      "Name: 30226-5, dtype: int64\n",
      "----------------------------------\n",
      "Column name:  3349-8\n",
      "NEG    427\n",
      "POS     10\n",
      "Name: 3349-8, dtype: int64\n",
      "----------------------------------\n",
      "Column name:  3376-1\n",
      "NEG    665\n",
      "POS      4\n",
      "Name: 3376-1, dtype: int64\n",
      "----------------------------------\n",
      "Column name:  3377-9\n",
      "NEG    427\n",
      "POS     11\n",
      "Name: 3377-9, dtype: int64\n",
      "----------------------------------\n",
      "Column name:  3390-2\n",
      "NEG    337\n",
      "POS    102\n",
      "Name: 3390-2, dtype: int64\n",
      "----------------------------------\n",
      "Column name:  3397-7\n",
      "NEG    412\n",
      "POS     27\n",
      "Name: 3397-7, dtype: int64\n",
      "----------------------------------\n",
      "Column name:  3773-9\n",
      "NEG    424\n",
      "POS     14\n",
      "Name: 3773-9, dtype: int64\n",
      "----------------------------------\n",
      "Column name:  3879-4\n",
      "NEG    367\n",
      "POS     72\n",
      "Name: 3879-4, dtype: int64\n",
      "----------------------------------\n",
      "Column name:  4073-3\n",
      "NEG    661\n",
      "POS      5\n",
      "Name: 4073-3, dtype: int64\n",
      "----------------------------------\n",
      "Column name:  42662-7\n",
      "NEG    652\n",
      "POS     18\n",
      "Name: 42662-7, dtype: int64\n",
      "----------------------------------\n",
      "Column name:  5767-9\n",
      "Clear     1334\n",
      "Hazy       236\n",
      "Cloudy     138\n",
      "SlHazy      42\n",
      "SlCldy      13\n",
      "             1\n",
      "Name: 5767-9, dtype: int64\n",
      "----------------------------------\n",
      "Column name:  5769-5\n",
      "FEW     364\n",
      "NONE    289\n",
      "MANY    212\n",
      "OCC     201\n",
      "MOD     187\n",
      "RARE    135\n",
      "NEG      32\n",
      "Name: 5769-5, dtype: int64\n",
      "----------------------------------\n",
      "Column name:  5770-3\n",
      "NEG    1532\n",
      "SM      178\n",
      "MOD      29\n",
      "LG       25\n",
      "Name: 5770-3, dtype: int64\n",
      "----------------------------------\n",
      "Column name:  5778-6\n",
      "Yellow    1044\n",
      "Straw      458\n",
      "Amber      195\n",
      "LtAmb       22\n",
      "Red         16\n",
      "DkAmb       14\n",
      "Orange      14\n",
      "Brown        9\n",
      "None         2\n",
      "Green        1\n",
      "Name: 5778-6, dtype: int64\n",
      "----------------------------------\n",
      "Column name:  5792-7\n",
      "NEG      1470\n",
      "1000       77\n",
      "TR         77\n",
      "100        72\n",
      "250        62\n",
      ">1000      12\n",
      "300         8\n",
      "500         5\n",
      "70          4\n",
      "150         3\n",
      "Name: 5792-7, dtype: int64\n",
      "----------------------------------\n",
      "Column name:  5794-3\n",
      "NEG    698\n",
      "LG     444\n",
      "SM     208\n",
      "MOD    191\n",
      "TR     171\n",
      "LGE     51\n",
      "Name: 5794-3, dtype: int64\n",
      "----------------------------------\n",
      "Column name:  5797-6\n",
      "NEG    1222\n",
      "TR      344\n",
      "15      106\n",
      "50       49\n",
      "10       35\n",
      "150      26\n",
      "40       25\n",
      "80        6\n",
      "Name: 5797-6, dtype: int64\n",
      "----------------------------------\n",
      "Column name:  5799-2\n",
      "NEG    1230\n",
      "MOD     206\n",
      "TR      164\n",
      "SM       99\n",
      "LG       22\n",
      "Name: 5799-2, dtype: int64\n",
      "----------------------------------\n",
      "Column name:  5802-4\n",
      "NEG    1644\n",
      "POS     120\n",
      "Name: 5802-4, dtype: int64\n",
      "----------------------------------\n",
      "Column name:  5804-0\n",
      "NEG    734\n",
      "30     402\n",
      "TR     348\n",
      "100    168\n",
      "500     66\n",
      "25      63\n",
      "75      43\n",
      "300     40\n",
      "150     24\n",
      "600      2\n",
      "Name: 5804-0, dtype: int64\n",
      "----------------------------------\n",
      "Column name:  5818-0\n",
      "NEG    1303\n",
      "0.2     224\n",
      "1       131\n",
      "4        65\n",
      "2        42\n",
      "8        37\n",
      "12        8\n",
      "Name: 5818-0, dtype: int64\n",
      "----------------------------------\n",
      "Column name:  5822-2\n",
      "NONE    1536\n",
      "FEW       32\n",
      "MOD       26\n",
      "MANY      26\n",
      "OCC       18\n",
      "RARE      13\n",
      "Name: 5822-2, dtype: int64\n",
      "----------------------------------\n",
      "Column name:  702-1\n",
      "1+            388\n",
      "NORMAL        353\n",
      "2+            163\n",
      "OCCASIONAL     43\n",
      "3+             27\n",
      "Name: 702-1, dtype: int64\n",
      "----------------------------------\n",
      "Column name:  728-6\n",
      "NORMAL        490\n",
      "1+            206\n",
      "2+            135\n",
      "3+            114\n",
      "OCCASIONAL     34\n",
      "Name: 728-6, dtype: int64\n",
      "----------------------------------\n",
      "Column name:  738-5\n",
      "NORMAL        481\n",
      "1+            250\n",
      "2+            111\n",
      "3+             80\n",
      "OCCASIONAL     50\n",
      "Name: 738-5, dtype: int64\n",
      "----------------------------------\n",
      "Column name:  741-9\n",
      "NORMAL        608\n",
      "1+            190\n",
      "OCCASIONAL     56\n",
      "2+             50\n",
      "3+             18\n",
      "Name: 741-9, dtype: int64\n",
      "----------------------------------\n",
      "Column name:  774-0\n",
      "1+            122\n",
      "OCCASIONAL     77\n",
      "2+             15\n",
      "Name: 774-0, dtype: int64\n",
      "----------------------------------\n",
      "Column name:  778-1\n",
      "NORMAL         374\n",
      "LOW            139\n",
      "VERY LOW        97\n",
      "HIGH            37\n",
      "VERY HIGH       22\n",
      "NOTDETECTED     11\n",
      "RARE             7\n",
      "Name: 778-1, dtype: int64\n",
      "----------------------------------\n",
      "Column name:  779-9\n",
      "NORMAL        485\n",
      "1+            262\n",
      "OCCASIONAL     84\n",
      "2+             66\n",
      "3+             15\n",
      "Name: 779-9, dtype: int64\n",
      "----------------------------------\n",
      "Column name:  7790-9\n",
      "1+            57\n",
      "OCCASIONAL    35\n",
      "2+            27\n",
      "3+             2\n",
      "NORMAL         1\n",
      "Name: 7790-9, dtype: int64\n",
      "----------------------------------\n",
      "Column name:  7791-7\n",
      "OCCASIONAL    75\n",
      "1+            38\n",
      "2+             9\n",
      "Name: 7791-7, dtype: int64\n",
      "----------------------------------\n",
      "Column name:  800-3\n",
      "OCCASIONAL    71\n",
      "1+            55\n",
      "2+             8\n",
      "Name: 800-3, dtype: int64\n",
      "----------------------------------\n",
      "Column name:  8246-1\n",
      "FEW     62\n",
      "MOD     52\n",
      "MANY    25\n",
      "OCC     24\n",
      "RARE     5\n",
      "Name: 8246-1, dtype: int64\n",
      "----------------------------------\n",
      "Column name:  8247-9\n",
      "FEW     58\n",
      "RARE    52\n",
      "OCC     48\n",
      "MOD     28\n",
      "MANY    15\n",
      "Name: 8247-9, dtype: int64\n"
     ]
    }
   ],
   "source": [
    "# print value counts for each lab categorical variable:\n",
    "for col in categorical:\n",
    "    print('----------------------------------')\n",
    "    print('Column name: ', col)\n",
    "    print(dataset[col].value_counts())"
   ]
  },
  {
   "cell_type": "code",
   "execution_count": 29,
   "id": "humanitarian-friendship",
   "metadata": {},
   "outputs": [],
   "source": [
    "# replace 'Nan' values in categorical variables by 'UNKNOWN'\n",
    "dataset.update(dataset[categorical].fillna('UNKNOWN'))"
   ]
  },
  {
   "cell_type": "code",
   "execution_count": 31,
   "id": "tender-track",
   "metadata": {},
   "outputs": [
    {
     "data": {
      "text/html": [
       "<div>\n",
       "<style scoped>\n",
       "    .dataframe tbody tr th:only-of-type {\n",
       "        vertical-align: middle;\n",
       "    }\n",
       "\n",
       "    .dataframe tbody tr th {\n",
       "        vertical-align: top;\n",
       "    }\n",
       "\n",
       "    .dataframe thead th {\n",
       "        text-align: right;\n",
       "    }\n",
       "</style>\n",
       "<table border=\"1\" class=\"dataframe\">\n",
       "  <thead>\n",
       "    <tr style=\"text-align: right;\">\n",
       "      <th></th>\n",
       "      <th>10378-8</th>\n",
       "      <th>30089-7</th>\n",
       "      <th>30226-5</th>\n",
       "      <th>3349-8</th>\n",
       "      <th>3376-1</th>\n",
       "      <th>3377-9</th>\n",
       "      <th>3390-2</th>\n",
       "      <th>3397-7</th>\n",
       "      <th>3773-9</th>\n",
       "      <th>3879-4</th>\n",
       "      <th>...</th>\n",
       "      <th>738-5</th>\n",
       "      <th>741-9</th>\n",
       "      <th>774-0</th>\n",
       "      <th>778-1</th>\n",
       "      <th>779-9</th>\n",
       "      <th>7790-9</th>\n",
       "      <th>7791-7</th>\n",
       "      <th>800-3</th>\n",
       "      <th>8246-1</th>\n",
       "      <th>8247-9</th>\n",
       "    </tr>\n",
       "  </thead>\n",
       "  <tbody>\n",
       "    <tr>\n",
       "      <th>0</th>\n",
       "      <td>UNKNOWN</td>\n",
       "      <td>UNKNOWN</td>\n",
       "      <td>UNKNOWN</td>\n",
       "      <td>NEG</td>\n",
       "      <td>NEG</td>\n",
       "      <td>NEG</td>\n",
       "      <td>NEG</td>\n",
       "      <td>POS</td>\n",
       "      <td>NEG</td>\n",
       "      <td>POS</td>\n",
       "      <td>...</td>\n",
       "      <td>UNKNOWN</td>\n",
       "      <td>UNKNOWN</td>\n",
       "      <td>UNKNOWN</td>\n",
       "      <td>LOW</td>\n",
       "      <td>UNKNOWN</td>\n",
       "      <td>UNKNOWN</td>\n",
       "      <td>UNKNOWN</td>\n",
       "      <td>UNKNOWN</td>\n",
       "      <td>UNKNOWN</td>\n",
       "      <td>UNKNOWN</td>\n",
       "    </tr>\n",
       "    <tr>\n",
       "      <th>1</th>\n",
       "      <td>2+</td>\n",
       "      <td>UNKNOWN</td>\n",
       "      <td>UNKNOWN</td>\n",
       "      <td>UNKNOWN</td>\n",
       "      <td>NEG</td>\n",
       "      <td>UNKNOWN</td>\n",
       "      <td>UNKNOWN</td>\n",
       "      <td>UNKNOWN</td>\n",
       "      <td>UNKNOWN</td>\n",
       "      <td>UNKNOWN</td>\n",
       "      <td>...</td>\n",
       "      <td>2+</td>\n",
       "      <td>2+</td>\n",
       "      <td>2+</td>\n",
       "      <td>LOW</td>\n",
       "      <td>2+</td>\n",
       "      <td>UNKNOWN</td>\n",
       "      <td>1+</td>\n",
       "      <td>1+</td>\n",
       "      <td>UNKNOWN</td>\n",
       "      <td>UNKNOWN</td>\n",
       "    </tr>\n",
       "    <tr>\n",
       "      <th>2</th>\n",
       "      <td>UNKNOWN</td>\n",
       "      <td>UNKNOWN</td>\n",
       "      <td>UNKNOWN</td>\n",
       "      <td>UNKNOWN</td>\n",
       "      <td>UNKNOWN</td>\n",
       "      <td>UNKNOWN</td>\n",
       "      <td>UNKNOWN</td>\n",
       "      <td>UNKNOWN</td>\n",
       "      <td>UNKNOWN</td>\n",
       "      <td>UNKNOWN</td>\n",
       "      <td>...</td>\n",
       "      <td>UNKNOWN</td>\n",
       "      <td>UNKNOWN</td>\n",
       "      <td>UNKNOWN</td>\n",
       "      <td>UNKNOWN</td>\n",
       "      <td>UNKNOWN</td>\n",
       "      <td>UNKNOWN</td>\n",
       "      <td>UNKNOWN</td>\n",
       "      <td>UNKNOWN</td>\n",
       "      <td>UNKNOWN</td>\n",
       "      <td>UNKNOWN</td>\n",
       "    </tr>\n",
       "    <tr>\n",
       "      <th>3</th>\n",
       "      <td>UNKNOWN</td>\n",
       "      <td>UNKNOWN</td>\n",
       "      <td>UNKNOWN</td>\n",
       "      <td>UNKNOWN</td>\n",
       "      <td>UNKNOWN</td>\n",
       "      <td>UNKNOWN</td>\n",
       "      <td>UNKNOWN</td>\n",
       "      <td>UNKNOWN</td>\n",
       "      <td>UNKNOWN</td>\n",
       "      <td>UNKNOWN</td>\n",
       "      <td>...</td>\n",
       "      <td>1+</td>\n",
       "      <td>1+</td>\n",
       "      <td>UNKNOWN</td>\n",
       "      <td>UNKNOWN</td>\n",
       "      <td>1+</td>\n",
       "      <td>UNKNOWN</td>\n",
       "      <td>UNKNOWN</td>\n",
       "      <td>UNKNOWN</td>\n",
       "      <td>UNKNOWN</td>\n",
       "      <td>UNKNOWN</td>\n",
       "    </tr>\n",
       "    <tr>\n",
       "      <th>4</th>\n",
       "      <td>UNKNOWN</td>\n",
       "      <td>UNKNOWN</td>\n",
       "      <td>UNKNOWN</td>\n",
       "      <td>UNKNOWN</td>\n",
       "      <td>UNKNOWN</td>\n",
       "      <td>UNKNOWN</td>\n",
       "      <td>UNKNOWN</td>\n",
       "      <td>UNKNOWN</td>\n",
       "      <td>UNKNOWN</td>\n",
       "      <td>UNKNOWN</td>\n",
       "      <td>...</td>\n",
       "      <td>UNKNOWN</td>\n",
       "      <td>UNKNOWN</td>\n",
       "      <td>UNKNOWN</td>\n",
       "      <td>UNKNOWN</td>\n",
       "      <td>UNKNOWN</td>\n",
       "      <td>UNKNOWN</td>\n",
       "      <td>UNKNOWN</td>\n",
       "      <td>UNKNOWN</td>\n",
       "      <td>UNKNOWN</td>\n",
       "      <td>UNKNOWN</td>\n",
       "    </tr>\n",
       "  </tbody>\n",
       "</table>\n",
       "<p>5 rows × 36 columns</p>\n",
       "</div>"
      ],
      "text/plain": [
       "   10378-8  30089-7  30226-5   3349-8   3376-1   3377-9   3390-2   3397-7  \\\n",
       "0  UNKNOWN  UNKNOWN  UNKNOWN      NEG      NEG      NEG      NEG      POS   \n",
       "1       2+  UNKNOWN  UNKNOWN  UNKNOWN      NEG  UNKNOWN  UNKNOWN  UNKNOWN   \n",
       "2  UNKNOWN  UNKNOWN  UNKNOWN  UNKNOWN  UNKNOWN  UNKNOWN  UNKNOWN  UNKNOWN   \n",
       "3  UNKNOWN  UNKNOWN  UNKNOWN  UNKNOWN  UNKNOWN  UNKNOWN  UNKNOWN  UNKNOWN   \n",
       "4  UNKNOWN  UNKNOWN  UNKNOWN  UNKNOWN  UNKNOWN  UNKNOWN  UNKNOWN  UNKNOWN   \n",
       "\n",
       "    3773-9   3879-4  ...    738-5    741-9    774-0    778-1    779-9  \\\n",
       "0      NEG      POS  ...  UNKNOWN  UNKNOWN  UNKNOWN      LOW  UNKNOWN   \n",
       "1  UNKNOWN  UNKNOWN  ...       2+       2+       2+      LOW       2+   \n",
       "2  UNKNOWN  UNKNOWN  ...  UNKNOWN  UNKNOWN  UNKNOWN  UNKNOWN  UNKNOWN   \n",
       "3  UNKNOWN  UNKNOWN  ...       1+       1+  UNKNOWN  UNKNOWN       1+   \n",
       "4  UNKNOWN  UNKNOWN  ...  UNKNOWN  UNKNOWN  UNKNOWN  UNKNOWN  UNKNOWN   \n",
       "\n",
       "    7790-9   7791-7    800-3   8246-1   8247-9  \n",
       "0  UNKNOWN  UNKNOWN  UNKNOWN  UNKNOWN  UNKNOWN  \n",
       "1  UNKNOWN       1+       1+  UNKNOWN  UNKNOWN  \n",
       "2  UNKNOWN  UNKNOWN  UNKNOWN  UNKNOWN  UNKNOWN  \n",
       "3  UNKNOWN  UNKNOWN  UNKNOWN  UNKNOWN  UNKNOWN  \n",
       "4  UNKNOWN  UNKNOWN  UNKNOWN  UNKNOWN  UNKNOWN  \n",
       "\n",
       "[5 rows x 36 columns]"
      ]
     },
     "execution_count": 31,
     "metadata": {},
     "output_type": "execute_result"
    }
   ],
   "source": [
    "dataset[categorical].head()"
   ]
  },
  {
   "cell_type": "markdown",
   "id": "joint-columbia",
   "metadata": {},
   "source": [
    "Use one hot encoder for categoric lab features:"
   ]
  },
  {
   "cell_type": "code",
   "execution_count": 32,
   "id": "primary-invalid",
   "metadata": {},
   "outputs": [
    {
     "data": {
      "text/plain": [
       "[array(['1+', '2+', '3+', 'NORMAL', 'OCCASIONAL', 'UNKNOWN'], dtype=object),\n",
       " array(['0-2', '11-20', '21-50', '3-5', '6-10', 'UNKNOWN'], dtype=object),\n",
       " array(['0-10', '10-40', '160-320', '40-80', '640-1280', '80-160', '>1280',\n",
       "        'UNKNOWN'], dtype=object),\n",
       " array(['NEG', 'POS', 'UNKNOWN'], dtype=object)]"
      ]
     },
     "execution_count": 32,
     "metadata": {},
     "output_type": "execute_result"
    }
   ],
   "source": [
    "enc = OneHotEncoder()\n",
    "enc.fit(dataset[categorical])\n",
    "enc.categories_[0:4]"
   ]
  },
  {
   "cell_type": "code",
   "execution_count": null,
   "id": "dietary-function",
   "metadata": {},
   "outputs": [],
   "source": [
    "#onehotlabvars = enc.transform(dataset[categorical]).toarray()"
   ]
  },
  {
   "cell_type": "code",
   "execution_count": 33,
   "id": "intellectual-election",
   "metadata": {},
   "outputs": [
    {
     "name": "stdout",
     "output_type": "stream",
     "text": [
      "Index(['10378-8_1+', '10378-8_2+', '10378-8_3+', '10378-8_NORMAL',\n",
      "       '10378-8_OCCASIONAL', '10378-8_UNKNOWN', '30089-7_0-2', '30089-7_11-20',\n",
      "       '30089-7_21-50', '30089-7_3-5',\n",
      "       ...\n",
      "       '8246-1_MOD', '8246-1_OCC', '8246-1_RARE', '8246-1_UNKNOWN',\n",
      "       '8247-9_FEW', '8247-9_MANY', '8247-9_MOD', '8247-9_OCC', '8247-9_RARE',\n",
      "       '8247-9_UNKNOWN'],\n",
      "      dtype='object', length=208)\n"
     ]
    }
   ],
   "source": [
    "onehotlabvars_df = pd.get_dummies(dataset[categorical])\n",
    "print(onehotlabvars_df.columns)"
   ]
  },
  {
   "cell_type": "markdown",
   "id": "agricultural-austria",
   "metadata": {},
   "source": [
    "To reduce the correlation among variables, remove one feature column from the one-hot encoded array:"
   ]
  },
  {
   "cell_type": "code",
   "execution_count": 34,
   "id": "confirmed-whale",
   "metadata": {},
   "outputs": [],
   "source": [
    "col_list = list(onehotlabvars_df.filter(regex='_UNKNOWN'))\n",
    "onehotlabvars_df = onehotlabvars_df[onehotlabvars_df.columns.drop(col_list)]"
   ]
  },
  {
   "cell_type": "code",
   "execution_count": 35,
   "id": "norwegian-walker",
   "metadata": {},
   "outputs": [
    {
     "data": {
      "text/plain": [
       "(4328, 172)"
      ]
     },
     "execution_count": 35,
     "metadata": {},
     "output_type": "execute_result"
    }
   ],
   "source": [
    "onehotlabvars_df.shape"
   ]
  },
  {
   "cell_type": "markdown",
   "id": "adjusted-operation",
   "metadata": {},
   "source": [
    "#### Clean demographic static variables:"
   ]
  },
  {
   "cell_type": "code",
   "execution_count": 36,
   "id": "soviet-bench",
   "metadata": {},
   "outputs": [],
   "source": [
    "staticvars = ['admission_type', 'admission_location', 'insurance', 'language', \n",
    "               'religion', 'marital_status', 'ethnicity', 'gender']"
   ]
  },
  {
   "cell_type": "code",
   "execution_count": 37,
   "id": "confidential-disaster",
   "metadata": {},
   "outputs": [],
   "source": [
    "dataset['admission_location'] = \\\n",
    "np.where(dataset['admission_location'].isin(['** INFO NOT AVAILABLE **']), 'EMERGENCY ROOM ADMIT',\n",
    "np.where(dataset['admission_location'].isin(['TRANSFER FROM SKILLED NUR','TRANSFER FROM OTHER HEALT',\n",
    "                        'TRANSFER FROM HOSP/EXTRAM']), 'TRANSFER FROM MED FACILITY',dataset['admission_location']))\n",
    "dataset['language'] = \\\n",
    "np.where(~dataset['language'].isin(['ENGL','SPAN']),'OTHER',dataset['language'])\n",
    "\n",
    "dataset['religion'] = \\\n",
    "np.where(~dataset['religion'].isin(['CATHOLIC','NOT SPECIFIED','UNOBTAINABLE','PROTESTANT QUAKER','JEWISH']),'OTHER',\n",
    "np.where(dataset['religion'].isin(['UNOBTAINABLE']),'NOT SPECIFIED', dataset['religion'] ))\n",
    "\n",
    "dataset['ethnicity'] = \\\n",
    "np.where(dataset['ethnicity'].isin(['ASIAN - CHINESE',\n",
    "                                    'ASIAN - ASIAN INDIAN',\n",
    "                                    'ASIAN - VIETNAMESE',\n",
    "                                    'ASIAN - OTHER',\n",
    "                                    'ASIAN - FILIPINO',\n",
    "                                    'ASIAN - CAMBODIAN']), 'ASIAN',\n",
    "np.where(dataset['ethnicity'].isin(['WHITE - RUSSIAN',\n",
    "                                    'WHITE - BRAZILIAN',\n",
    "                                    'WHITE - OTHER EUROPEAN']),'WHITE',\n",
    "np.where(dataset['ethnicity'].isin(['BLACK/CAPE VERDEAN',\n",
    "                                    'BLACK/HAITIAN',\n",
    "                                    'BLACK/AFRICAN']), 'BLACK/AFRICAN AMERICAN',\n",
    "np.where(dataset['ethnicity'].isin(['HISPANIC/LATINO - PUERTO RICAN',\n",
    "                                   'HISPANIC/LATINO - DOMINICAN',\n",
    "                                   'HISPANIC/LATINO - SALVADORAN',\n",
    "                                   'HISPANIC/LATINO - CUBAN',\n",
    "                                   'HISPANIC/LATINO - MEXICAN']), 'HISPANIC OR LATINO',   \n",
    "np.where(dataset['ethnicity'].isin(['MULTI RACE ETHNICITY',\n",
    "                                    'MIDDLE EASTERN',\n",
    "                                    'PORTUGUESE',\n",
    "                                    'AMERICAN INDIAN/ALASKA NATIVE',\n",
    "                                    'NATIVE HAWAIIAN OR OTHER PACIFIC ISLANDER',\n",
    "                                    'AMERICAN INDIAN/ALASKA NATIVE FEDERALLY RECOGNIZED TRIBE']), 'OTHER',\n",
    "np.where(dataset['ethnicity'].isin(['UNABLE TO OBTAIN',\n",
    "                                    'PATIENT DECLINED TO ANSWER']), 'UNKNOWN/NOT SPECIFIED',\n",
    "dataset['ethnicity']))))))"
   ]
  },
  {
   "cell_type": "code",
   "execution_count": 38,
   "id": "analyzed-zambia",
   "metadata": {},
   "outputs": [
    {
     "name": "stdout",
     "output_type": "stream",
     "text": [
      "----------------------------------\n",
      "Column name:  admission_type\n",
      "EMERGENCY    3682\n",
      "ELECTIVE      445\n",
      "URGENT        130\n",
      "NEWBORN        71\n",
      "Name: admission_type, dtype: int64\n",
      "----------------------------------\n",
      "Column name:  admission_location\n",
      "EMERGENCY ROOM ADMIT          2088\n",
      "TRANSFER FROM MED FACILITY     822\n",
      "CLINIC REFERRAL/PREMATURE      802\n",
      "PHYS REFERRAL/NORMAL DELI      616\n",
      "Name: admission_location, dtype: int64\n",
      "----------------------------------\n",
      "Column name:  insurance\n",
      "Medicare      2688\n",
      "Private       1183\n",
      "Medicaid       347\n",
      "Government      89\n",
      "Self Pay        21\n",
      "Name: insurance, dtype: int64\n",
      "----------------------------------\n",
      "Column name:  language\n",
      "ENGL     2269\n",
      "OTHER    1963\n",
      "SPAN       96\n",
      "Name: language, dtype: int64\n",
      "----------------------------------\n",
      "Column name:  religion\n",
      "CATHOLIC             1598\n",
      "NOT SPECIFIED        1254\n",
      "PROTESTANT QUAKER     589\n",
      "OTHER                 477\n",
      "JEWISH                410\n",
      "Name: religion, dtype: int64\n",
      "----------------------------------\n",
      "Column name:  marital_status\n",
      "MARRIED              1925\n",
      "SINGLE               1026\n",
      "WIDOWED               708\n",
      "DIVORCED              320\n",
      "SEPARATED              47\n",
      "UNKNOWN (DEFAULT)      28\n",
      "Name: marital_status, dtype: int64\n",
      "----------------------------------\n",
      "Column name:  ethnicity\n",
      "WHITE                     3098\n",
      "BLACK/AFRICAN AMERICAN     435\n",
      "UNKNOWN/NOT SPECIFIED      418\n",
      "HISPANIC OR LATINO         143\n",
      "OTHER                      125\n",
      "ASIAN                      109\n",
      "Name: ethnicity, dtype: int64\n",
      "----------------------------------\n",
      "Column name:  gender\n",
      "F    2174\n",
      "M    2154\n",
      "Name: gender, dtype: int64\n"
     ]
    }
   ],
   "source": [
    "# print value counts for each demographic variable:\n",
    "for col in staticvars:\n",
    "    print('----------------------------------')\n",
    "    print('Column name: ', col)\n",
    "    print(dataset[col].value_counts())"
   ]
  },
  {
   "cell_type": "markdown",
   "id": "thick-particle",
   "metadata": {},
   "source": [
    "#### Use one hot encoder for demographic features:"
   ]
  },
  {
   "cell_type": "code",
   "execution_count": 39,
   "id": "broken-scottish",
   "metadata": {},
   "outputs": [
    {
     "data": {
      "text/plain": [
       "[array(['ELECTIVE', 'EMERGENCY', 'NEWBORN', 'URGENT'], dtype=object),\n",
       " array(['CLINIC REFERRAL/PREMATURE', 'EMERGENCY ROOM ADMIT',\n",
       "        'PHYS REFERRAL/NORMAL DELI', 'TRANSFER FROM MED FACILITY'],\n",
       "       dtype=object),\n",
       " array(['Government', 'Medicaid', 'Medicare', 'Private', 'Self Pay'],\n",
       "       dtype=object),\n",
       " array(['ENGL', 'OTHER', 'SPAN'], dtype=object),\n",
       " array(['CATHOLIC', 'JEWISH', 'NOT SPECIFIED', 'OTHER',\n",
       "        'PROTESTANT QUAKER'], dtype=object),\n",
       " array(['DIVORCED', 'MARRIED', 'SEPARATED', 'SINGLE', 'UNKNOWN (DEFAULT)',\n",
       "        'WIDOWED', nan], dtype=object),\n",
       " array(['ASIAN', 'BLACK/AFRICAN AMERICAN', 'HISPANIC OR LATINO', 'OTHER',\n",
       "        'UNKNOWN/NOT SPECIFIED', 'WHITE'], dtype=object),\n",
       " array(['F', 'M'], dtype=object)]"
      ]
     },
     "execution_count": 39,
     "metadata": {},
     "output_type": "execute_result"
    }
   ],
   "source": [
    "enc = OneHotEncoder()\n",
    "enc.fit(dataset[staticvars])\n",
    "enc.categories_"
   ]
  },
  {
   "cell_type": "code",
   "execution_count": null,
   "id": "defensive-dietary",
   "metadata": {},
   "outputs": [],
   "source": [
    "#onehotstaticvars = enc.transform(dataset[staticvars]).toarray()"
   ]
  },
  {
   "cell_type": "code",
   "execution_count": 40,
   "id": "piano-joint",
   "metadata": {},
   "outputs": [
    {
     "name": "stdout",
     "output_type": "stream",
     "text": [
      "Index(['admission_type_ELECTIVE', 'admission_type_EMERGENCY',\n",
      "       'admission_type_NEWBORN', 'admission_type_URGENT',\n",
      "       'admission_location_CLINIC REFERRAL/PREMATURE',\n",
      "       'admission_location_EMERGENCY ROOM ADMIT',\n",
      "       'admission_location_PHYS REFERRAL/NORMAL DELI',\n",
      "       'admission_location_TRANSFER FROM MED FACILITY', 'insurance_Government',\n",
      "       'insurance_Medicaid', 'insurance_Medicare', 'insurance_Private',\n",
      "       'insurance_Self Pay', 'language_ENGL', 'language_OTHER',\n",
      "       'language_SPAN', 'religion_CATHOLIC', 'religion_JEWISH',\n",
      "       'religion_NOT SPECIFIED', 'religion_OTHER',\n",
      "       'religion_PROTESTANT QUAKER', 'marital_status_DIVORCED',\n",
      "       'marital_status_MARRIED', 'marital_status_SEPARATED',\n",
      "       'marital_status_SINGLE', 'marital_status_UNKNOWN (DEFAULT)',\n",
      "       'marital_status_WIDOWED', 'ethnicity_ASIAN',\n",
      "       'ethnicity_BLACK/AFRICAN AMERICAN', 'ethnicity_HISPANIC OR LATINO',\n",
      "       'ethnicity_OTHER', 'ethnicity_UNKNOWN/NOT SPECIFIED', 'ethnicity_WHITE',\n",
      "       'gender_F', 'gender_M'],\n",
      "      dtype='object')\n"
     ]
    }
   ],
   "source": [
    "onehotstaticvars_df = pd.get_dummies(dataset[staticvars])\n",
    "print(onehotstaticvars_df.columns)"
   ]
  },
  {
   "cell_type": "markdown",
   "id": "architectural-philip",
   "metadata": {},
   "source": [
    "To reduce the correlation among variables, remove one feature column from the one-hot encoded array:"
   ]
  },
  {
   "cell_type": "code",
   "execution_count": 41,
   "id": "engaged-wireless",
   "metadata": {},
   "outputs": [],
   "source": [
    "col_list = ['admission_type_URGENT', 'admission_location_TRANSFER FROM MED FACILITY', \n",
    "            'insurance_Self Pay', 'language_OTHER', 'religion_NOT SPECIFIED', 'marital_status_UNKNOWN (DEFAULT)',\n",
    "            'ethnicity_UNKNOWN/NOT SPECIFIED', 'gender_M']\n",
    "onehotstaticvars_df = onehotstaticvars_df[onehotstaticvars_df.columns.drop(col_list)]"
   ]
  },
  {
   "cell_type": "code",
   "execution_count": 42,
   "id": "accepting-monday",
   "metadata": {},
   "outputs": [
    {
     "data": {
      "text/plain": [
       "(4328, 27)"
      ]
     },
     "execution_count": 42,
     "metadata": {},
     "output_type": "execute_result"
    }
   ],
   "source": [
    "onehotstaticvars_df.shape"
   ]
  },
  {
   "cell_type": "markdown",
   "id": "married-confidentiality",
   "metadata": {},
   "source": [
    "#### Combine all features and constract full dataset"
   ]
  },
  {
   "cell_type": "code",
   "execution_count": null,
   "id": "fantastic-acquisition",
   "metadata": {},
   "outputs": [],
   "source": [
    "# response variable\n",
    "#response = np.array([dataset['RESISTANT_YN']])\n",
    "#response = response.T\n",
    "#response.shape"
   ]
  },
  {
   "cell_type": "code",
   "execution_count": null,
   "id": "optional-dodge",
   "metadata": {},
   "outputs": [],
   "source": [
    "# the last variable is a target variable \n",
    "#fulldata = np.concatenate((numlabvars_df, onehotlabvars_df, onehotstaticvars_df, response), axis=1)\n",
    "#fulldata.shape"
   ]
  },
  {
   "cell_type": "code",
   "execution_count": 43,
   "id": "prerequisite-loading",
   "metadata": {},
   "outputs": [
    {
     "name": "stdout",
     "output_type": "stream",
     "text": [
      "(4328, 94) (4328, 172) (4328, 27)\n"
     ]
    }
   ],
   "source": [
    "print(numlabvars_df.shape, onehotlabvars_df.shape, onehotstaticvars_df.shape)"
   ]
  },
  {
   "cell_type": "code",
   "execution_count": 44,
   "id": "instructional-porcelain",
   "metadata": {},
   "outputs": [
    {
     "data": {
      "text/plain": [
       "(4328, 294)"
      ]
     },
     "execution_count": 44,
     "metadata": {},
     "output_type": "execute_result"
    }
   ],
   "source": [
    "fulldata = pd.concat([numlabvars_df, onehotlabvars_df, onehotstaticvars_df, dataset['RESISTANT_YN']], axis=1)\n",
    "fulldata.shape"
   ]
  },
  {
   "cell_type": "code",
   "execution_count": 45,
   "id": "compatible-blocking",
   "metadata": {},
   "outputs": [],
   "source": [
    "# Save to a file\n",
    "#np.save('data/fulldata.npy', fulldata)\n",
    "fulldata.to_csv('data/fulldata.csv', sep=',', index=False)"
   ]
  },
  {
   "cell_type": "code",
   "execution_count": 2,
   "id": "funded-weekend",
   "metadata": {},
   "outputs": [
    {
     "data": {
      "text/html": [
       "<div>\n",
       "<style scoped>\n",
       "    .dataframe tbody tr th:only-of-type {\n",
       "        vertical-align: middle;\n",
       "    }\n",
       "\n",
       "    .dataframe tbody tr th {\n",
       "        vertical-align: top;\n",
       "    }\n",
       "\n",
       "    .dataframe thead th {\n",
       "        text-align: right;\n",
       "    }\n",
       "</style>\n",
       "<table border=\"1\" class=\"dataframe\">\n",
       "  <thead>\n",
       "    <tr style=\"text-align: right;\">\n",
       "      <th></th>\n",
       "      <th>10535-3</th>\n",
       "      <th>10839-9</th>\n",
       "      <th>11555-0</th>\n",
       "      <th>11556-8</th>\n",
       "      <th>11557-6</th>\n",
       "      <th>11558-4</th>\n",
       "      <th>1644-4</th>\n",
       "      <th>1742-6</th>\n",
       "      <th>1751-7</th>\n",
       "      <th>17849-1</th>\n",
       "      <th>...</th>\n",
       "      <th>marital_status_SEPARATED</th>\n",
       "      <th>marital_status_SINGLE</th>\n",
       "      <th>marital_status_WIDOWED</th>\n",
       "      <th>ethnicity_ASIAN</th>\n",
       "      <th>ethnicity_BLACK/AFRICAN AMERICAN</th>\n",
       "      <th>ethnicity_HISPANIC OR LATINO</th>\n",
       "      <th>ethnicity_OTHER</th>\n",
       "      <th>ethnicity_WHITE</th>\n",
       "      <th>gender_F</th>\n",
       "      <th>RESISTANT_YN</th>\n",
       "    </tr>\n",
       "  </thead>\n",
       "  <tbody>\n",
       "    <tr>\n",
       "      <th>0</th>\n",
       "      <td>0.125</td>\n",
       "      <td>0.840909</td>\n",
       "      <td>0.000000</td>\n",
       "      <td>0.333333</td>\n",
       "      <td>0.090909</td>\n",
       "      <td>-0.272727</td>\n",
       "      <td>-0.181373</td>\n",
       "      <td>0.176471</td>\n",
       "      <td>0.272727</td>\n",
       "      <td>0.0</td>\n",
       "      <td>...</td>\n",
       "      <td>0</td>\n",
       "      <td>0</td>\n",
       "      <td>0</td>\n",
       "      <td>0</td>\n",
       "      <td>0</td>\n",
       "      <td>1</td>\n",
       "      <td>0</td>\n",
       "      <td>0</td>\n",
       "      <td>0</td>\n",
       "      <td>0</td>\n",
       "    </tr>\n",
       "    <tr>\n",
       "      <th>1</th>\n",
       "      <td>0.125</td>\n",
       "      <td>0.840909</td>\n",
       "      <td>0.000000</td>\n",
       "      <td>0.333333</td>\n",
       "      <td>0.090909</td>\n",
       "      <td>-0.272727</td>\n",
       "      <td>-0.181373</td>\n",
       "      <td>-0.333333</td>\n",
       "      <td>0.000000</td>\n",
       "      <td>0.0</td>\n",
       "      <td>...</td>\n",
       "      <td>0</td>\n",
       "      <td>0</td>\n",
       "      <td>1</td>\n",
       "      <td>0</td>\n",
       "      <td>0</td>\n",
       "      <td>0</td>\n",
       "      <td>0</td>\n",
       "      <td>1</td>\n",
       "      <td>1</td>\n",
       "      <td>0</td>\n",
       "    </tr>\n",
       "    <tr>\n",
       "      <th>2</th>\n",
       "      <td>0.125</td>\n",
       "      <td>0.840909</td>\n",
       "      <td>0.000000</td>\n",
       "      <td>0.333333</td>\n",
       "      <td>0.090909</td>\n",
       "      <td>-0.272727</td>\n",
       "      <td>-0.181373</td>\n",
       "      <td>-0.176471</td>\n",
       "      <td>1.000000</td>\n",
       "      <td>0.0</td>\n",
       "      <td>...</td>\n",
       "      <td>0</td>\n",
       "      <td>0</td>\n",
       "      <td>0</td>\n",
       "      <td>0</td>\n",
       "      <td>0</td>\n",
       "      <td>0</td>\n",
       "      <td>0</td>\n",
       "      <td>1</td>\n",
       "      <td>0</td>\n",
       "      <td>0</td>\n",
       "    </tr>\n",
       "    <tr>\n",
       "      <th>3</th>\n",
       "      <td>0.125</td>\n",
       "      <td>0.840909</td>\n",
       "      <td>-1.333333</td>\n",
       "      <td>0.133333</td>\n",
       "      <td>-1.000000</td>\n",
       "      <td>-0.545455</td>\n",
       "      <td>-0.181373</td>\n",
       "      <td>0.411765</td>\n",
       "      <td>0.090909</td>\n",
       "      <td>0.0</td>\n",
       "      <td>...</td>\n",
       "      <td>0</td>\n",
       "      <td>1</td>\n",
       "      <td>0</td>\n",
       "      <td>0</td>\n",
       "      <td>0</td>\n",
       "      <td>0</td>\n",
       "      <td>0</td>\n",
       "      <td>1</td>\n",
       "      <td>0</td>\n",
       "      <td>1</td>\n",
       "    </tr>\n",
       "    <tr>\n",
       "      <th>4</th>\n",
       "      <td>0.125</td>\n",
       "      <td>0.840909</td>\n",
       "      <td>0.000000</td>\n",
       "      <td>0.333333</td>\n",
       "      <td>0.090909</td>\n",
       "      <td>-0.272727</td>\n",
       "      <td>-0.181373</td>\n",
       "      <td>0.450980</td>\n",
       "      <td>0.090909</td>\n",
       "      <td>0.0</td>\n",
       "      <td>...</td>\n",
       "      <td>0</td>\n",
       "      <td>1</td>\n",
       "      <td>0</td>\n",
       "      <td>0</td>\n",
       "      <td>0</td>\n",
       "      <td>0</td>\n",
       "      <td>0</td>\n",
       "      <td>1</td>\n",
       "      <td>0</td>\n",
       "      <td>0</td>\n",
       "    </tr>\n",
       "  </tbody>\n",
       "</table>\n",
       "<p>5 rows × 294 columns</p>\n",
       "</div>"
      ],
      "text/plain": [
       "   10535-3   10839-9   11555-0   11556-8   11557-6   11558-4    1644-4  \\\n",
       "0    0.125  0.840909  0.000000  0.333333  0.090909 -0.272727 -0.181373   \n",
       "1    0.125  0.840909  0.000000  0.333333  0.090909 -0.272727 -0.181373   \n",
       "2    0.125  0.840909  0.000000  0.333333  0.090909 -0.272727 -0.181373   \n",
       "3    0.125  0.840909 -1.333333  0.133333 -1.000000 -0.545455 -0.181373   \n",
       "4    0.125  0.840909  0.000000  0.333333  0.090909 -0.272727 -0.181373   \n",
       "\n",
       "     1742-6    1751-7  17849-1  ...  marital_status_SEPARATED  \\\n",
       "0  0.176471  0.272727      0.0  ...                         0   \n",
       "1 -0.333333  0.000000      0.0  ...                         0   \n",
       "2 -0.176471  1.000000      0.0  ...                         0   \n",
       "3  0.411765  0.090909      0.0  ...                         0   \n",
       "4  0.450980  0.090909      0.0  ...                         0   \n",
       "\n",
       "   marital_status_SINGLE  marital_status_WIDOWED  ethnicity_ASIAN  \\\n",
       "0                      0                       0                0   \n",
       "1                      0                       1                0   \n",
       "2                      0                       0                0   \n",
       "3                      1                       0                0   \n",
       "4                      1                       0                0   \n",
       "\n",
       "   ethnicity_BLACK/AFRICAN AMERICAN  ethnicity_HISPANIC OR LATINO  \\\n",
       "0                                 0                             1   \n",
       "1                                 0                             0   \n",
       "2                                 0                             0   \n",
       "3                                 0                             0   \n",
       "4                                 0                             0   \n",
       "\n",
       "   ethnicity_OTHER  ethnicity_WHITE  gender_F  RESISTANT_YN  \n",
       "0                0                0         0             0  \n",
       "1                0                1         1             0  \n",
       "2                0                1         0             0  \n",
       "3                0                1         0             1  \n",
       "4                0                1         0             0  \n",
       "\n",
       "[5 rows x 294 columns]"
      ]
     },
     "execution_count": 2,
     "metadata": {},
     "output_type": "execute_result"
    }
   ],
   "source": [
    "# Load data\n",
    "#fulldata = np.load('data/fulldata.npy')\n",
    "fulldata = pd.read_csv('data/fulldata.csv')\n",
    "#fulldata = pd.read_csv('data/fulldata_multiple.csv')\n",
    "fulldata.head()"
   ]
  },
  {
   "cell_type": "markdown",
   "id": "alpha-species",
   "metadata": {},
   "source": [
    "### Machine Learning Model Development"
   ]
  },
  {
   "cell_type": "code",
   "execution_count": 3,
   "id": "alleged-destruction",
   "metadata": {},
   "outputs": [],
   "source": [
    "from sklearn.model_selection import train_test_split\n",
    "from sklearn.model_selection import cross_val_score\n",
    "from sklearn.pipeline import make_pipeline\n",
    "from sklearn.ensemble import RandomForestClassifier, VotingClassifier\n",
    "from sklearn.linear_model import LogisticRegression\n",
    "from sklearn.neighbors import KNeighborsClassifier\n",
    "\n",
    "from sklearn.model_selection import learning_curve\n",
    "from sklearn.model_selection import validation_curve\n",
    "from sklearn.model_selection import GridSearchCV\n",
    "from sklearn.metrics import make_scorer\n",
    "from sklearn.metrics import f1_score\n",
    "from sklearn.metrics import precision_score\n",
    "from sklearn.metrics import classification_report\n",
    "from sklearn.metrics import confusion_matrix\n",
    "\n",
    "from imblearn.over_sampling import RandomOverSampler\n",
    "from imblearn.under_sampling import RandomUnderSampler\n",
    "from collections import Counter\n",
    "import matplotlib.pyplot as plt\n",
    "%matplotlib inline\n",
    "RANDOM_STATE = 42\n",
    "\n",
    "score_f1 = make_scorer(f1_score, average='weighted')\n",
    "score_pr = make_scorer(precision_score, average='weighted')"
   ]
  },
  {
   "cell_type": "code",
   "execution_count": 4,
   "id": "suffering-appraisal",
   "metadata": {},
   "outputs": [
    {
     "name": "stdout",
     "output_type": "stream",
     "text": [
      "Counter({0: 2540, 1: 489})\n"
     ]
    }
   ],
   "source": [
    "# Split data\n",
    "y = fulldata['RESISTANT_YN']\n",
    "X = fulldata.drop(columns=['RESISTANT_YN'])\n",
    "X_train, X_test, y_train, y_test = train_test_split(X, y, stratify=y, test_size=0.3, random_state=RANDOM_STATE)\n",
    "# summarize class distribution\n",
    "print(Counter(y_train))"
   ]
  },
  {
   "cell_type": "code",
   "execution_count": 5,
   "id": "cosmetic-consultancy",
   "metadata": {},
   "outputs": [
    {
     "name": "stdout",
     "output_type": "stream",
     "text": [
      "Counter({0: 2540, 1: 2540})\n"
     ]
    }
   ],
   "source": [
    "# Oversample minority class\n",
    "oversample = RandomOverSampler(sampling_strategy = 'minority')\n",
    "# fit and apply the transform\n",
    "X_over, y_over = oversample.fit_resample(X_train, y_train)\n",
    "print(Counter(y_over))"
   ]
  },
  {
   "cell_type": "code",
   "execution_count": 6,
   "id": "mature-burke",
   "metadata": {},
   "outputs": [
    {
     "name": "stdout",
     "output_type": "stream",
     "text": [
      "Counter({0: 978, 1: 489})\n"
     ]
    }
   ],
   "source": [
    "# Undersample majority class\n",
    "undersample = RandomUnderSampler(sampling_strategy = 0.5)\n",
    "# fit and apply the transform\n",
    "X_under, y_under = undersample.fit_resample(X_train, y_train)\n",
    "print(Counter(y_under))"
   ]
  },
  {
   "cell_type": "markdown",
   "id": "hungarian-tactics",
   "metadata": {},
   "source": [
    "Learning curve plot:"
   ]
  },
  {
   "cell_type": "code",
   "execution_count": 7,
   "id": "outside-expert",
   "metadata": {},
   "outputs": [
    {
     "data": {
      "image/png": "[encoded data removed]",
      "text/plain": [
       "<Figure size 432x288 with 1 Axes>"
      ]
     },
     "metadata": {
      "needs_background": "light"
     },
     "output_type": "display_data"
    }
   ],
   "source": [
    "# Learning curve as function of sample size\n",
    "pipe_forest = make_pipeline(RandomForestClassifier(random_state=RANDOM_STATE, \n",
    "                               class_weight='balanced_subsample',\n",
    "                               n_estimators=150,\n",
    "                               max_depth=20,\n",
    "                               max_leaf_nodes=70,\n",
    "                               max_features=40,\n",
    "                               max_samples=0.9,\n",
    "                               min_samples_leaf=2,\n",
    "                               min_samples_split=10))\n",
    "\n",
    "train_sizes, train_scores, test_scores = learning_curve(estimator=pipe_forest,\n",
    "                              X=X_over,\n",
    "                              y=y_over,\n",
    "                              train_sizes = np.linspace(0.1, 1.0, 5),\n",
    "                              scoring=score_f1,   \n",
    "                              cv=3)\n",
    "train_mean= np.mean(train_scores, axis=1)\n",
    "train_std = np.std(train_scores, axis=1)\n",
    "test_mean= np.mean(test_scores, axis=1)\n",
    "test_std = np.std(test_scores, axis=1)\n",
    "\n",
    "plt.plot(train_sizes, train_mean, color='blue', marker='o', markersize=5, label='training')\n",
    "plt.fill_between(train_sizes, train_mean+train_std, train_mean-train_std, alpha=0.15, color='blue')\n",
    "plt.plot(train_sizes, test_mean, color='orange', linestyle='--', marker='s', markersize=5, label='test')\n",
    "plt.fill_between(train_sizes, test_mean+test_std, test_mean-test_std, alpha=0.15, color='orange')\n",
    "plt.grid()\n",
    "plt.xlabel('Sample size')\n",
    "plt.ylabel('F1-score')\n",
    "plt.title('Learning Curve')\n",
    "plt.legend(loc='upper right')\n",
    "plt.show()"
   ]
  },
  {
   "cell_type": "markdown",
   "id": "virtual-hepatitis",
   "metadata": {},
   "source": [
    "Validation curve:"
   ]
  },
  {
   "cell_type": "code",
   "execution_count": 8,
   "id": "mexican-power",
   "metadata": {},
   "outputs": [
    {
     "data": {
      "image/png": "[encoded data removed]",
      "text/plain": [
       "<Figure size 432x288 with 1 Axes>"
      ]
     },
     "metadata": {
      "needs_background": "light"
     },
     "output_type": "display_data"
    }
   ],
   "source": [
    "# Change on of the hyperparameters\n",
    "pipe_forest = make_pipeline(RandomForestClassifier(random_state=RANDOM_STATE, \n",
    "                                                   class_weight='balanced_subsample',\n",
    "                                                   n_estimators=150,\n",
    "                                                   max_depth=20,\n",
    "                                                   max_leaf_nodes=70,\n",
    "                                                   max_features=40,\n",
    "                                                   max_samples=0.9,\n",
    "                                                   min_samples_leaf=2,\n",
    "                                                   min_samples_split=10))\n",
    "# Set parameter range\n",
    "param_name = 'max_leaf_nodes'\n",
    "param_range = [10, 20, 30, 40, 50, 60, 70, 80, 90, 100]\n",
    "train_scores, test_scores = \\\n",
    "                validation_curve(estimator=pipe_forest,\n",
    "                              X=X_over,\n",
    "                              y=y_over,\n",
    "                              param_name='randomforestclassifier__'+param_name,\n",
    "                              param_range =param_range,\n",
    "                              scoring=score_f1,   \n",
    "                              cv=3)\n",
    "train_mean= np.mean(train_scores, axis=1)\n",
    "train_std = np.std(train_scores, axis=1)\n",
    "test_mean= np.mean(test_scores, axis=1)\n",
    "test_std = np.std(test_scores, axis=1)\n",
    "\n",
    "plt.plot(param_range, train_mean, color='blue', marker='o', markersize=5, label='training')\n",
    "plt.fill_between(param_range, train_mean+train_std, train_mean-train_std, alpha=0.15, color='blue')\n",
    "plt.plot(param_range, test_mean, color='orange', linestyle='--', marker='s', markersize=5, label='test')\n",
    "plt.fill_between(param_range, test_mean+test_std, test_mean-test_std, alpha=0.15, color='orange')\n",
    "plt.grid()\n",
    "plt.xlabel(param_name)\n",
    "plt.ylabel('F1-Score')\n",
    "plt.title('Validation Curve: ' + param_name)\n",
    "plt.legend(loc='upper right')\n",
    "plt.show()"
   ]
  },
  {
   "cell_type": "markdown",
   "id": "toxic-click",
   "metadata": {},
   "source": [
    "Grid Search:"
   ]
  },
  {
   "cell_type": "code",
   "execution_count": null,
   "id": "involved-transformation",
   "metadata": {},
   "outputs": [],
   "source": [
    "gs = GridSearchCV(estimator = RandomForestClassifier(random_state=RANDOM_STATE, \n",
    "                               class_weight='balanced_subsample', n_estimators=100),\n",
    "                  param_grid={'max_depth': [10, 20, 30],\n",
    "                             'max_leaf_nodes': [30, 50, 70],\n",
    "                             'max_features': [20, 40, 60],\n",
    "                             'max_samples': [0.7, 0.9],\n",
    "                             'min_samples_leaf':[2, 5, 7, 10],\n",
    "                             'min_samples_split':[5, 10, 15]},\n",
    "                  scoring = score_pr,\n",
    "                  cv=2)\n",
    "\n",
    "gs = gs.fit(X_over, y_over)\n",
    "print(gs.best_params_)\n",
    "#scores = cross_val_score(gs, X_over, y_over, scoring=score_pr, cv=2)\n",
    "#print('CV precision: %.3f +/- %.3f' % (np.mean(scores), np.std(scores)))"
   ]
  },
  {
   "cell_type": "markdown",
   "id": "discrete-integer",
   "metadata": {},
   "source": [
    "Random Forest Model:"
   ]
  },
  {
   "cell_type": "code",
   "execution_count": 9,
   "id": "designing-delay",
   "metadata": {},
   "outputs": [
    {
     "name": "stdout",
     "output_type": "stream",
     "text": [
      "              precision    recall  f1-score   support\n",
      "\n",
      "           0       0.87      0.90      0.88      1089\n",
      "           1       0.35      0.27      0.30       210\n",
      "\n",
      "    accuracy                           0.80      1299\n",
      "   macro avg       0.61      0.59      0.59      1299\n",
      "weighted avg       0.78      0.80      0.79      1299\n",
      "\n",
      "\n",
      "TN: 981 FP: 108 FN: 153 TP: 57\n",
      "\n",
      "CV F1-score: 0.786 +/- 0.015\n"
     ]
    }
   ],
   "source": [
    "forest = RandomForestClassifier(random_state=RANDOM_STATE, \n",
    "                               class_weight='balanced_subsample',\n",
    "                               n_estimators=100,\n",
    "                               max_depth=10,\n",
    "                               max_leaf_nodes=90,\n",
    "                               max_features=20,\n",
    "                               max_samples=0.9,\n",
    "                               min_samples_leaf=5,\n",
    "                               min_samples_split=10)\n",
    "# Train model\n",
    "forest.fit(X_train, y_train)\n",
    "# Prediction\n",
    "y_true, y_pred = y_test, forest.predict(X_test)\n",
    "# Classification report (recall, preccision, f-score, accuracy):\n",
    "print(classification_report(y_true, y_pred))\n",
    "print()\n",
    "tn, fp, fn, tp = confusion_matrix(y_true=y_test, y_pred=y_pred).ravel()\n",
    "print('TN:',tn, 'FP:',fp, 'FN:',fn, 'TP:',tp )\n",
    "print()\n",
    "scores = cross_val_score(forest, X_train, y_train, scoring=score_f1, cv=5)\n",
    "print('CV F1-score: %.3f +/- %.3f' % (np.mean(scores), np.std(scores)))"
   ]
  },
  {
   "cell_type": "code",
   "execution_count": 25,
   "id": "adjusted-moses",
   "metadata": {},
   "outputs": [
    {
     "name": "stdout",
     "output_type": "stream",
     "text": [
      "              precision    recall  f1-score   support\n",
      "\n",
      "           0       0.90      0.81      0.85      1089\n",
      "           1       0.35      0.52      0.42       210\n",
      "\n",
      "    accuracy                           0.76      1299\n",
      "   macro avg       0.62      0.67      0.63      1299\n",
      "weighted avg       0.81      0.76      0.78      1299\n",
      "\n",
      "\n",
      "TN: 884 FP: 205 FN: 101 TP: 109\n",
      "\n",
      "CV F1-score: 0.783 +/- 0.009\n",
      "\n",
      "No Skill: ROC AUC=0.500\n",
      "Random Forest: ROC AUC=0.742\n"
     ]
    },
    {
     "data": {
      "image/png": "[encoded data removed]",
      "text/plain": [
       "<Figure size 432x288 with 1 Axes>"
      ]
     },
     "metadata": {
      "needs_background": "light"
     },
     "output_type": "display_data"
    },
    {
     "name": "stdout",
     "output_type": "stream",
     "text": [
      "\n",
      "Random Forest: f1=0.416 auc=0.322\n"
     ]
    },
    {
     "data": {
      "image/png": "[encoded data removed]",
      "text/plain": [
       "<Figure size 432x288 with 1 Axes>"
      ]
     },
     "metadata": {
      "needs_background": "light"
     },
     "output_type": "display_data"
    }
   ],
   "source": [
    "# Retrain Model for after sampled test set\n",
    "forest = RandomForestClassifier(random_state=RANDOM_STATE, \n",
    "                               class_weight='balanced_subsample',\n",
    "                               n_estimators=150,\n",
    "                               max_depth=20,\n",
    "                               max_leaf_nodes=70,\n",
    "                               max_features=40,\n",
    "                               max_samples=0.9,\n",
    "                               min_samples_leaf=2,\n",
    "                               min_samples_split=10)\n",
    "\n",
    "# Train model\n",
    "forest.fit(X_over, y_over)\n",
    "# Prediction\n",
    "y_true, y_pred = y_test, forest.predict(X_test)\n",
    "# Classification report (recall, preccision, f-score, accuracy)\n",
    "print(classification_report(y_true, y_pred))\n",
    "print()\n",
    "tn, fp, fn, tp = confusion_matrix(y_true=y_test, y_pred=y_pred).ravel()\n",
    "print('TN:',tn, 'FP:',fp, 'FN:',fn, 'TP:',tp )\n",
    "print()\n",
    "scores = cross_val_score(forest, X_train, y_train, scoring=score_f1, cv=5)\n",
    "print('CV F1-score: %.3f +/- %.3f' % (np.mean(scores), np.std(scores)))\n",
    "# ROC_AUC curve\n",
    "print()\n",
    "plt_roc_auc_curve(forest, X_test, y_test, model_name='Random Forest')\n",
    "# Precision_Recall curve\n",
    "print()\n",
    "plt_precision_recall_curve(forest, X_test, y_test, model_name='Random Forest')  "
   ]
  },
  {
   "cell_type": "code",
   "execution_count": 11,
   "id": "narrow-completion",
   "metadata": {},
   "outputs": [],
   "source": [
    "# save classification report\n",
    "clsf_report = pd.DataFrame(classification_report(y_true, y_pred, output_dict=True)).transpose()\n",
    "clsf_report.to_csv('rand_forest_summary_report.csv', index= True)"
   ]
  },
  {
   "cell_type": "markdown",
   "id": "lesbian-intelligence",
   "metadata": {},
   "source": [
    "#### Ensemble Learning:\n",
    "- Logistic Regression\n",
    "- Random Forest\n",
    "- k-nearest Neighbors"
   ]
  },
  {
   "cell_type": "code",
   "execution_count": 86,
   "id": "compatible-navigation",
   "metadata": {},
   "outputs": [
    {
     "name": "stdout",
     "output_type": "stream",
     "text": [
      "f-1 score: 0.6516263615378044 0.014259096056788701 Logistic Reg\n",
      "f-1 score: 0.8326789022191834 0.009025519397306928 Random Forest\n",
      "f-1 score: 0.7110106730574878 0.010980145880698063 KNN\n"
     ]
    }
   ],
   "source": [
    "clf1 = LogisticRegression(penalty='l2', C=0.0001, random_state=RANDOM_STATE, max_iter=8000)\n",
    "clf2 = RandomForestClassifier(random_state=RANDOM_STATE, \n",
    "                               class_weight='balanced_subsample',\n",
    "                               n_estimators=150,\n",
    "                               max_depth=20,\n",
    "                               max_leaf_nodes=70,\n",
    "                               max_features=40,\n",
    "                               max_samples=0.9,\n",
    "                               min_samples_leaf=2,\n",
    "                               min_samples_split=10)\n",
    "clf3 = KNeighborsClassifier(n_neighbors=10, p=2, metric='minkowski')\n",
    "\n",
    "clf_labels = ['Logistic Reg', 'Random Forest', 'KNN']\n",
    "for clf, label in zip([clf1, clf2, clf3], clf_labels):\n",
    "    scores = cross_val_score(estimator = clf,\n",
    "                            X=X_over,\n",
    "                            y=y_over,\n",
    "                            cv=5,\n",
    "                            scoring=score_f1)\n",
    "    print('f-1 score:', scores.mean(), scores.std(), label)"
   ]
  },
  {
   "cell_type": "code",
   "execution_count": 91,
   "id": "fresh-algeria",
   "metadata": {},
   "outputs": [
    {
     "name": "stdout",
     "output_type": "stream",
     "text": [
      "              precision    recall  f1-score   support\n",
      "\n",
      "           0       0.90      0.77      0.83      1089\n",
      "           1       0.32      0.55      0.41       210\n",
      "\n",
      "    accuracy                           0.74      1299\n",
      "   macro avg       0.61      0.66      0.62      1299\n",
      "weighted avg       0.81      0.74      0.76      1299\n",
      "\n",
      "\n",
      "TN: 843 FP: 246 FN: 94 TP: 116\n",
      "\n",
      "CV F1-score: 0.783 +/- 0.009\n"
     ]
    }
   ],
   "source": [
    "eclf = VotingClassifier(estimators=[\n",
    "         ('lr', clf1), ('rf', clf2), ('knn', clf3)], voting='hard')\n",
    "eclf = eclf.fit(X_over, y_over)\n",
    "# Prediction\n",
    "y_true, y_pred = y_test, eclf.predict(X_test)\n",
    "# Classification report (recall, preccision, f-score, accuracy)\n",
    "print(classification_report(y_true, y_pred))\n",
    "print()\n",
    "tn, fp, fn, tp = confusion_matrix(y_true=y_test, y_pred=y_pred).ravel()\n",
    "print('TN:',tn, 'FP:',fp, 'FN:',fn, 'TP:',tp )\n",
    "print()\n",
    "scores = cross_val_score(forest, X_train, y_train, scoring=score_f1, cv=5)\n",
    "print('CV F1-score: %.3f +/- %.3f' % (np.mean(scores), np.std(scores)))"
   ]
  },
  {
   "cell_type": "code",
   "execution_count": null,
   "id": "inclusive-intellectual",
   "metadata": {},
   "outputs": [],
   "source": []
  }
 ],
 "metadata": {
  "kernelspec": {
   "display_name": "Python 3",
   "language": "python",
   "name": "python3"
  },
  "language_info": {
   "codemirror_mode": {
    "name": "ipython",
    "version": 3
   },
   "file_extension": ".py",
   "mimetype": "text/x-python",
   "name": "python",
   "nbconvert_exporter": "python",
   "pygments_lexer": "ipython3",
   "version": "3.8.5"
  }
 },
 "nbformat": 4,
 "nbformat_minor": 5
}
