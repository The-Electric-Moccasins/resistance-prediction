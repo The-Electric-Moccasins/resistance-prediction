{
 "cells": [
  {
   "cell_type": "code",
   "execution_count": 1,
   "id": "departmental-update",
   "metadata": {},
   "outputs": [],
   "source": [
    "!pip install -q PyAthena"
   ]
  },
  {
   "cell_type": "code",
   "execution_count": 1,
   "id": "baking-blake",
   "metadata": {},
   "outputs": [
    {
     "name": "stdout",
     "output_type": "stream",
     "text": [
      "{'observation_window_hours': 6, 'antibiotics_name': ['CEFTAZIDIME'], 'bacteria_ids': [80004, 80026, 80005, 80017, 80040, 80008, 80007, 80002], 'negative_to_positive_ratio': 3.0, 'test_set_fraction': 0.1, 'validation_set_fraction': 0.1, 'train_set_fraction': 0.8, 'random_state': 11}\n"
     ]
    }
   ],
   "source": [
    "from data_pipeline import main"
   ]
  },
  {
   "cell_type": "code",
   "execution_count": null,
   "id": "played-yorkshire",
   "metadata": {},
   "outputs": [],
   "source": []
  },
  {
   "cell_type": "code",
   "execution_count": 2,
   "id": "periodic-montreal",
   "metadata": {},
   "outputs": [
    {
     "name": "stdout",
     "output_type": "stream",
     "text": [
      "loaded 10000 patients\n",
      "removed dups\n",
      "esbl_admits: (10000, 8)\n",
      "      subject_id  hadm_id           admittime           charttime  \\\n",
      "4035          24   161859 2139-06-06 16:14:00 2139-06-06 23:14:00   \n",
      "8615          25   129635 2160-11-02 02:06:00 2160-11-02 09:06:00   \n",
      "795           30   104557 2172-10-14 14:17:00 2172-10-14 21:17:00   \n",
      "3715          36   122659 2131-05-12 19:49:00 2131-05-13 02:49:00   \n",
      "3             39   106266 2114-11-29 21:04:00 2114-11-30 04:04:00   \n",
      "\n",
      "                    diff  time_to_rslt  RESISTANT_YN  SENSITIVE_YN  \n",
      "4035 2139-06-06 22:14:00             1             0             1  \n",
      "8615 2160-11-02 08:06:00             1             0             1  \n",
      "795  2172-10-14 20:17:00             1             0             1  \n",
      "3715 2131-05-13 01:49:00             1             0             1  \n",
      "3    2114-11-30 03:04:00             1             0             1  \n",
      "esbl_admits_window: (10000, 9)\n",
      "(10000, 3)\n",
      "All: 144\n",
      "Numeric:  94\n",
      "Categorical:  36\n",
      "Weird: 11\n",
      "stanardize_numeric_values\n",
      "One Hot Encoding\n",
      "done, saved to data_ae_train/fulldata.npy\n"
     ]
    }
   ],
   "source": [
    "main()"
   ]
  },
  {
   "cell_type": "code",
   "execution_count": null,
   "id": "ranking-blast",
   "metadata": {},
   "outputs": [],
   "source": []
  }
 ],
 "metadata": {
  "kernelspec": {
   "display_name": "conda_amazonei_pytorch_latest_p36",
   "language": "python",
   "name": "conda_amazonei_pytorch_latest_p36"
  },
  "language_info": {
   "codemirror_mode": {
    "name": "ipython",
    "version": 3
   },
   "file_extension": ".py",
   "mimetype": "text/x-python",
   "name": "python",
   "nbconvert_exporter": "python",
   "pygments_lexer": "ipython3",
   "version": "3.6.13"
  }
 },
 "nbformat": 4,
 "nbformat_minor": 5
}
