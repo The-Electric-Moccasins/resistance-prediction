{
 "cells": [
  {
   "cell_type": "code",
   "execution_count": null,
   "id": "2d589da0",
   "metadata": {},
   "outputs": [],
   "source": [
    "%pip install -q -r requirements.txt"
   ]
  },
  {
   "cell_type": "code",
   "execution_count": 1,
   "id": "ec6f2db6",
   "metadata": {},
   "outputs": [],
   "source": [
    "%load_ext autoreload\n",
    "%autoreload 2"
   ]
  },
  {
   "cell_type": "code",
   "execution_count": 2,
   "id": "615fc4bd",
   "metadata": {},
   "outputs": [],
   "source": [
    "# load hyperparams instance\n",
    "from hyper_params import HyperParams\n",
    "params = HyperParams()"
   ]
  },
  {
   "cell_type": "code",
   "execution_count": 3,
   "id": "b80064cc",
   "metadata": {},
   "outputs": [],
   "source": [
    "DATA_DIR='data'"
   ]
  },
  {
   "cell_type": "code",
   "execution_count": 4,
   "id": "f334932d",
   "metadata": {},
   "outputs": [],
   "source": [
    "from dataproc import io\n",
    "io.DATA_DIR='data'"
   ]
  },
  {
   "cell_type": "code",
   "execution_count": null,
   "id": "56a034f7",
   "metadata": {},
   "outputs": [],
   "source": [
    "# build all features dataset\n",
    "import featues_datasets_all_patients\n",
    "featues_datasets_all_patients.DATA_DIR = DATA_DIR\n",
    "df_final_dataset = featues_datasets_all_patients.run(params)"
   ]
  },
  {
   "cell_type": "code",
   "execution_count": 6,
   "id": "acd8ab30",
   "metadata": {},
   "outputs": [],
   "source": [
    "df_final_dataset = io.load_dataframe('df_final_dataset')"
   ]
  },
  {
   "cell_type": "code",
   "execution_count": 7,
   "id": "c7773b7d",
   "metadata": {},
   "outputs": [
    {
     "name": "stdout",
     "output_type": "stream",
     "text": [
      "df_labels: (4130, 2)\n",
      "cohort dataset: (4085, 843)\n",
      "cohort data saved to data/fulldata.npy\n"
     ]
    }
   ],
   "source": [
    "# create a cohort dataframe and numpy file\n",
    "import build_cohort_dataset\n",
    "df_cohort = build_cohort_dataset.build_cohort(params, df_final_dataset)"
   ]
  },
  {
   "cell_type": "markdown",
   "id": "c208ac11",
   "metadata": {},
   "source": [
    "## Tools to explore too many unique values"
   ]
  },
  {
   "cell_type": "code",
   "execution_count": null,
   "id": "4e2955ec",
   "metadata": {},
   "outputs": [],
   "source": [
    "df_dataset_unprocessed[categorical_cols].nunique().sort_values(ascending=False)[0:20]"
   ]
  },
  {
   "cell_type": "code",
   "execution_count": null,
   "id": "4ac7a61b",
   "metadata": {},
   "outputs": [],
   "source": [
    "allvals = df_dataset_unprocessed['51508'].unique().tolist()\n",
    "len(allvals), df_dataset_unprocessed['51508'].notna().sum()"
   ]
  },
  {
   "cell_type": "code",
   "execution_count": null,
   "id": "4a416a89",
   "metadata": {},
   "outputs": [],
   "source": [
    "df_dataset_unprocessed['51508'].value_counts()"
   ]
  },
  {
   "cell_type": "code",
   "execution_count": null,
   "id": "7c807b8d",
   "metadata": {},
   "outputs": [],
   "source": []
  },
  {
   "cell_type": "code",
   "execution_count": null,
   "id": "e698d544",
   "metadata": {},
   "outputs": [],
   "source": [
    "[x for x in allvals if x and not x == np.nan and not str(x).replace('.','').isnumeric()]"
   ]
  },
  {
   "cell_type": "code",
   "execution_count": null,
   "id": "1934898d",
   "metadata": {},
   "outputs": [],
   "source": [
    "pd.Series(sorted([float(x) for x in allvals if x and str(x).replace('.','').isnumeric() and float(x) > 1000.0])).describe()\n"
   ]
  },
  {
   "cell_type": "code",
   "execution_count": null,
   "id": "175b3bfb",
   "metadata": {},
   "outputs": [],
   "source": [
    "df_dataset_unprocessed.nunique().sort_values(ascending=False)"
   ]
  },
  {
   "cell_type": "markdown",
   "id": "35ffe368",
   "metadata": {},
   "source": [
    "## THE END"
   ]
  },
  {
   "cell_type": "code",
   "execution_count": null,
   "id": "cb88f1d9",
   "metadata": {},
   "outputs": [],
   "source": [
    "import torch\n",
    "torch.__version__"
   ]
  },
  {
   "cell_type": "code",
   "execution_count": null,
   "id": "a9790c1d",
   "metadata": {},
   "outputs": [],
   "source": []
  },
  {
   "cell_type": "code",
   "execution_count": null,
   "id": "1885b655",
   "metadata": {},
   "outputs": [],
   "source": [
    "fulldata"
   ]
  },
  {
   "cell_type": "code",
   "execution_count": null,
   "id": "05121331",
   "metadata": {},
   "outputs": [],
   "source": []
  }
 ],
 "metadata": {
  "kernelspec": {
   "display_name": "conda_amazonei_pytorch_latest_p36",
   "language": "python",
   "name": "conda_amazonei_pytorch_latest_p36"
  },
  "language_info": {
   "codemirror_mode": {
    "name": "ipython",
    "version": 3
   },
   "file_extension": ".py",
   "mimetype": "text/x-python",
   "name": "python",
   "nbconvert_exporter": "python",
   "pygments_lexer": "ipython3",
   "version": "3.6.13"
  }
 },
 "nbformat": 4,
 "nbformat_minor": 5
}
