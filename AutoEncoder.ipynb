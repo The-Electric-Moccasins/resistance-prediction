{
 "cells": [
  {
   "cell_type": "code",
   "execution_count": 132,
   "id": "harmful-detail",
   "metadata": {},
   "outputs": [],
   "source": [
    "import numpy as np\n",
    "import pandas as pd\n",
    "import torch\n",
    "import torch.nn as nn\n",
    "import torch.nn.functional as F\n",
    "from torch.utils.data import Dataset\n",
    "%matplotlib inline\n",
    "import matplotlib.pyplot as plt"
   ]
  },
  {
   "cell_type": "code",
   "execution_count": 2,
   "id": "welcome-modeling",
   "metadata": {},
   "outputs": [],
   "source": [
    "fulldata = np.load('data/fulldata.npy')"
   ]
  },
  {
   "cell_type": "code",
   "execution_count": 7,
   "id": "revolutionary-horizontal",
   "metadata": {},
   "outputs": [
    {
     "data": {
      "text/plain": [
       "4328"
      ]
     },
     "execution_count": 7,
     "metadata": {},
     "output_type": "execute_result"
    }
   ],
   "source": [
    "len(fulldata)"
   ]
  },
  {
   "cell_type": "code",
   "execution_count": 101,
   "id": "special-special",
   "metadata": {},
   "outputs": [],
   "source": [
    "num_features = fulldata.shape[1] - 1\n",
    "num_features = 360 # padded"
   ]
  },
  {
   "cell_type": "code",
   "execution_count": 18,
   "id": "adapted-progress",
   "metadata": {},
   "outputs": [
    {
     "data": {
      "text/plain": [
       "(338,)"
      ]
     },
     "execution_count": 18,
     "metadata": {},
     "output_type": "execute_result"
    }
   ],
   "source": [
    "fulldata[:,:-1][0].shape"
   ]
  },
  {
   "cell_type": "code",
   "execution_count": 96,
   "id": "fiscal-thanks",
   "metadata": {},
   "outputs": [
    {
     "data": {
      "text/plain": [
       "180.0"
      ]
     },
     "execution_count": 96,
     "metadata": {},
     "output_type": "execute_result"
    }
   ],
   "source": [
    "360 / 2 \n"
   ]
  },
  {
   "cell_type": "markdown",
   "id": "yellow-gibraltar",
   "metadata": {},
   "source": [
    "## DataLoader"
   ]
  },
  {
   "cell_type": "code",
   "execution_count": 94,
   "id": "reliable-classification",
   "metadata": {},
   "outputs": [],
   "source": [
    "class TheDataSet(Dataset):\n",
    "    \n",
    "\n",
    "    def __init__(self):\n",
    "        \"\"\"\n",
    "        Args:\n",
    "            csv_file (string): Path to the csv file with annotations.\n",
    "            root_dir (string): Directory with all the images.\n",
    "            transform (callable, optional): Optional transform to be applied\n",
    "                on a sample.\n",
    "        \"\"\"\n",
    "        self.fulldata = np.load('data/fulldata.npy')[:,:-1]\n",
    "        y, x = self.fulldata.shape\n",
    "        self.fulldata = np.pad(self.fulldata, ((0, 0),(0,360-x)), 'constant', constant_values=(0,0))\n",
    "\n",
    "    def __len__(self):\n",
    "        return len(self.fulldata)\n",
    "\n",
    "    def __getitem__(self, idx):\n",
    "        if torch.is_tensor(idx):\n",
    "            idx = idx.tolist()\n",
    "        return self.fulldata[idx]\n",
    "       "
   ]
  },
  {
   "cell_type": "markdown",
   "id": "knowing-tower",
   "metadata": {},
   "source": [
    "## AutoEncoder"
   ]
  },
  {
   "cell_type": "code",
   "execution_count": 134,
   "id": "flying-snake",
   "metadata": {},
   "outputs": [],
   "source": [
    "class Autoencoder(nn.Module):\n",
    "    def __init__(self):\n",
    "        super(Autoencoder, self).__init__()\n",
    "        self.encoder = nn.Sequential( # like the Composition layer you built\n",
    "            nn.Linear(in_features=num_features, out_features=num_features // 2 , bias=True),\n",
    "            nn.ReLU(),\n",
    "            nn.Linear(in_features=num_features // 2, out_features=num_features // 2, bias=True),\n",
    "            nn.ReLU()\n",
    "        )\n",
    "        self.decoder = nn.Sequential(\n",
    "            nn.Linear(in_features=num_features // 2, out_features=num_features // 2, bias=True),\n",
    "            nn.ReLU(),\n",
    "            nn.Linear(in_features=num_features // 2, out_features=num_features, bias=True ),\n",
    "            #nn.Sigmoid()\n",
    "            nn.ReLU()\n",
    "#             nn.Tanh()\n",
    "        )\n",
    "\n",
    "    def forward(self, x):\n",
    "        x = self.encoder(x)\n",
    "        x = self.decoder(x)\n",
    "        return x"
   ]
  },
  {
   "cell_type": "code",
   "execution_count": 122,
   "id": "grand-minutes",
   "metadata": {},
   "outputs": [
    {
     "data": {
      "text/plain": [
       "(4328, 339)"
      ]
     },
     "execution_count": 122,
     "metadata": {},
     "output_type": "execute_result"
    }
   ],
   "source": [
    "fulldata.shape"
   ]
  },
  {
   "cell_type": "markdown",
   "id": "solid-canon",
   "metadata": {},
   "source": [
    "## Training"
   ]
  },
  {
   "cell_type": "code",
   "execution_count": 146,
   "id": "beginning-imaging",
   "metadata": {},
   "outputs": [],
   "source": [
    "def train(model, num_epochs=5, batch_size=64, learning_rate=1e-3):\n",
    "    torch.manual_seed(42)\n",
    "#     criterion = nn.MSELoss() # mean square error loss\n",
    "    criterion = nn.L1Loss()\n",
    "    optimizer = torch.optim.Adam(model.parameters(),\n",
    "                                 lr=learning_rate, \n",
    "                                 weight_decay=1e-5) # <--\n",
    "    dataset = TheDataSet()\n",
    "    train_loader = torch.utils.data.DataLoader(dataset, batch_size=batch_size, shuffle=True)\n",
    "    outputs = []\n",
    "    losses = []\n",
    "    for epoch in range(num_epochs):\n",
    "        for data in train_loader:\n",
    "            recon = model(data.float())\n",
    "            loss = criterion(recon, data.float())\n",
    "            loss.backward()\n",
    "            optimizer.step()\n",
    "            optimizer.zero_grad()\n",
    "\n",
    "        print('Epoch:{}, Loss:{:.4f}'.format(epoch+1, float(loss)))\n",
    "        losses.append(float(loss))\n",
    "        outputs.append((epoch, data, recon),)\n",
    "    return outputs, losses"
   ]
  },
  {
   "cell_type": "code",
   "execution_count": 145,
   "id": "diagnostic-commonwealth",
   "metadata": {},
   "outputs": [
    {
     "name": "stderr",
     "output_type": "stream",
     "text": [
      "/home/ec2-user/anaconda3/envs/amazonei_pytorch_latest_p36/lib/python3.6/site-packages/torch/nn/functional.py:2247: UserWarning: reduction: 'mean' divides the total loss by both the batch size and the support size.'batchmean' divides only by the batch size, and aligns with the KL div math definition.'mean' will be changed to behave the same as 'batchmean' in the next major release.\n",
      "  warnings.warn(\"reduction: 'mean' divides the total loss by both the batch size and the support size.\"\n"
     ]
    },
    {
     "name": "stdout",
     "output_type": "stream",
     "text": [
      "Epoch:1, Loss:-69067.4844\n",
      "Epoch:2, Loss:-3207027.2500\n",
      "Epoch:3, Loss:-21742114.0000\n",
      "Epoch:4, Loss:-75132384.0000\n",
      "Epoch:5, Loss:-212468400.0000\n",
      "Epoch:6, Loss:-386564544.0000\n",
      "Epoch:7, Loss:-839988736.0000\n",
      "Epoch:8, Loss:-1202934784.0000\n",
      "Epoch:9, Loss:-3122966272.0000\n",
      "Epoch:10, Loss:-3341343488.0000\n",
      "Epoch:11, Loss:-4652107264.0000\n",
      "Epoch:12, Loss:-5354986496.0000\n",
      "Epoch:13, Loss:-7547451904.0000\n",
      "Epoch:14, Loss:-14747789312.0000\n",
      "Epoch:15, Loss:-14139575296.0000\n",
      "Epoch:16, Loss:-18873499648.0000\n",
      "Epoch:17, Loss:-20532471808.0000\n",
      "Epoch:18, Loss:-23740262400.0000\n",
      "Epoch:19, Loss:-31402858496.0000\n",
      "Epoch:20, Loss:-43489726464.0000\n",
      "Epoch:21, Loss:-40830091264.0000\n",
      "Epoch:22, Loss:-49737936896.0000\n",
      "Epoch:23, Loss:-65710809088.0000\n",
      "Epoch:24, Loss:-70328696832.0000\n",
      "Epoch:25, Loss:-73621536768.0000\n",
      "Epoch:26, Loss:-89101033472.0000\n",
      "Epoch:27, Loss:-97152393216.0000\n",
      "Epoch:28, Loss:-157180346368.0000\n",
      "Epoch:29, Loss:-145525751808.0000\n",
      "Epoch:30, Loss:-135115194368.0000\n",
      "Epoch:31, Loss:-165891112960.0000\n",
      "Epoch:32, Loss:-202694000640.0000\n",
      "Epoch:33, Loss:-199552253952.0000\n",
      "Epoch:34, Loss:-241687150592.0000\n",
      "Epoch:35, Loss:-229456461824.0000\n",
      "Epoch:36, Loss:-280454397952.0000\n",
      "Epoch:37, Loss:-312515362816.0000\n",
      "Epoch:38, Loss:-310245588992.0000\n",
      "Epoch:39, Loss:-345886294016.0000\n",
      "Epoch:40, Loss:-401564205056.0000\n",
      "Epoch:41, Loss:-363627315200.0000\n",
      "Epoch:42, Loss:-383769772032.0000\n",
      "Epoch:43, Loss:-433326456832.0000\n",
      "Epoch:44, Loss:-504049926144.0000\n",
      "Epoch:45, Loss:-597781774336.0000\n",
      "Epoch:46, Loss:-540923461632.0000\n",
      "Epoch:47, Loss:-572268412928.0000\n",
      "Epoch:48, Loss:-612473896960.0000\n",
      "Epoch:49, Loss:-886965731328.0000\n",
      "Epoch:50, Loss:-857115000832.0000\n"
     ]
    }
   ],
   "source": [
    "model = Autoencoder()\n",
    "max_epochs = 50\n",
    "outputs, losses = train(model, num_epochs=max_epochs, batch_size = 32, learning_rate=1e-3)"
   ]
  },
  {
   "cell_type": "code",
   "execution_count": 141,
   "id": "enhanced-terrace",
   "metadata": {},
   "outputs": [
    {
     "data": {
      "image/png": "[encoded data removed]",
      "text/plain": [
       "<Figure size 432x288 with 1 Axes>"
      ]
     },
     "metadata": {
      "needs_background": "light"
     },
     "output_type": "display_data"
    }
   ],
   "source": [
    "fig = plt.figure()\n",
    "ax = plt.axes()\n",
    "\n",
    "# x = np.linspace(0, 10, 1000)\n",
    "ax.plot(losses);"
   ]
  },
  {
   "cell_type": "code",
   "execution_count": 106,
   "id": "devoted-consumption",
   "metadata": {},
   "outputs": [
    {
     "data": {
      "text/plain": [
       "[(0,\n",
       "  tensor([[0.1250, 0.8409, 0.0000,  ..., 0.0000, 0.0000, 0.0000],\n",
       "          [0.1250, 0.8409, 0.0000,  ..., 0.0000, 0.0000, 0.0000],\n",
       "          [0.1250, 0.8409, 0.0000,  ..., 0.0000, 0.0000, 0.0000],\n",
       "          ...,\n",
       "          [0.1250, 0.8409, 0.0000,  ..., 0.0000, 0.0000, 0.0000],\n",
       "          [0.1250, 0.8409, 0.0000,  ..., 0.0000, 0.0000, 0.0000],\n",
       "          [0.1250, 0.8409, 1.8333,  ..., 0.0000, 0.0000, 0.0000]],\n",
       "         dtype=torch.float64),\n",
       "  tensor([[0.4998, 0.5199, 0.4721,  ..., 0.5062, 0.4704, 0.5015],\n",
       "          [0.4957, 0.5167, 0.4710,  ..., 0.5131, 0.4780, 0.4965],\n",
       "          [0.4925, 0.5210, 0.4680,  ..., 0.5117, 0.4754, 0.4987],\n",
       "          ...,\n",
       "          [0.4924, 0.5213, 0.4700,  ..., 0.5101, 0.4731, 0.4977],\n",
       "          [0.4996, 0.5150, 0.4704,  ..., 0.5145, 0.4760, 0.5003],\n",
       "          [0.5011, 0.5165, 0.4772,  ..., 0.5141, 0.4840, 0.4923]],\n",
       "         grad_fn=<SigmoidBackward>)),\n",
       " (1,\n",
       "  tensor([[0.1250, 0.8409, 2.3333,  ..., 0.0000, 0.0000, 0.0000],\n",
       "          [0.1250, 0.8409, 0.8333,  ..., 0.0000, 0.0000, 0.0000],\n",
       "          [0.1250, 0.8409, 0.0000,  ..., 0.0000, 0.0000, 0.0000],\n",
       "          ...,\n",
       "          [0.1250, 0.8409, 0.0000,  ..., 0.0000, 0.0000, 0.0000],\n",
       "          [0.1250, 0.8409, 0.1667,  ..., 0.0000, 0.0000, 0.0000],\n",
       "          [0.1250, 0.8409, 0.3333,  ..., 0.0000, 0.0000, 0.0000]],\n",
       "         dtype=torch.float64),\n",
       "  tensor([[0.4481, 0.5794, 0.4183,  ..., 0.4916, 0.4050, 0.4480],\n",
       "          [0.4373, 0.5938, 0.4183,  ..., 0.4719, 0.3777, 0.4548],\n",
       "          [0.4503, 0.5785, 0.4304,  ..., 0.4710, 0.3928, 0.4551],\n",
       "          ...,\n",
       "          [0.4430, 0.5884, 0.4192,  ..., 0.4619, 0.3780, 0.4552],\n",
       "          [0.4468, 0.5845, 0.4206,  ..., 0.4663, 0.3796, 0.4549],\n",
       "          [0.4568, 0.5775, 0.4320,  ..., 0.4770, 0.3964, 0.4634]],\n",
       "         grad_fn=<SigmoidBackward>)),\n",
       " (2,\n",
       "  tensor([[ 0.1250,  0.8409,  0.0000,  ...,  0.0000,  0.0000,  0.0000],\n",
       "          [ 0.1250,  0.8409,  0.8333,  ...,  0.0000,  0.0000,  0.0000],\n",
       "          [ 0.1250,  0.8409,  0.0000,  ...,  0.0000,  0.0000,  0.0000],\n",
       "          ...,\n",
       "          [ 0.1250,  0.8409, -1.3333,  ...,  0.0000,  0.0000,  0.0000],\n",
       "          [ 0.1250,  0.8409, -0.8333,  ...,  0.0000,  0.0000,  0.0000],\n",
       "          [ 0.1250,  0.8409, -0.5000,  ...,  0.0000,  0.0000,  0.0000]],\n",
       "         dtype=torch.float64),\n",
       "  tensor([[0.2976, 0.7440, 0.2838,  ..., 0.3026, 0.1956, 0.3269],\n",
       "          [0.2940, 0.7470, 0.2813,  ..., 0.2989, 0.1883, 0.3247],\n",
       "          [0.2973, 0.7747, 0.2867,  ..., 0.3058, 0.1762, 0.3092],\n",
       "          ...,\n",
       "          [0.2698, 0.7760, 0.2523,  ..., 0.2738, 0.1654, 0.3128],\n",
       "          [0.3077, 0.7346, 0.2903,  ..., 0.3092, 0.1986, 0.3347],\n",
       "          [0.3141, 0.7311, 0.2964,  ..., 0.3160, 0.1971, 0.3382]],\n",
       "         grad_fn=<SigmoidBackward>)),\n",
       " (3,\n",
       "  tensor([[ 0.1250,  0.8409, -1.6667,  ...,  0.0000,  0.0000,  0.0000],\n",
       "          [ 0.1250,  0.8409,  1.3333,  ...,  0.0000,  0.0000,  0.0000],\n",
       "          [-0.3750,  0.8409,  1.1667,  ...,  0.0000,  0.0000,  0.0000],\n",
       "          ...,\n",
       "          [ 0.1250,  0.8409, -0.1667,  ...,  0.0000,  0.0000,  0.0000],\n",
       "          [ 0.1250,  0.8409,  0.0000,  ...,  0.0000,  0.0000,  0.0000],\n",
       "          [ 0.1250,  0.8409, -0.3333,  ...,  0.0000,  0.0000,  0.0000]],\n",
       "         dtype=torch.float64),\n",
       "  tensor([[0.1428, 0.8769, 0.1229,  ..., 0.1301, 0.0647, 0.1725],\n",
       "          [0.1837, 0.8399, 0.1571,  ..., 0.1695, 0.0959, 0.1956],\n",
       "          [0.1669, 0.8540, 0.1427,  ..., 0.1591, 0.0839, 0.1847],\n",
       "          ...,\n",
       "          [0.1713, 0.8516, 0.1459,  ..., 0.1569, 0.0825, 0.1875],\n",
       "          [0.1616, 0.8612, 0.1348,  ..., 0.1491, 0.0765, 0.1786],\n",
       "          [0.1504, 0.8720, 0.1256,  ..., 0.1375, 0.0661, 0.1674]],\n",
       "         grad_fn=<SigmoidBackward>)),\n",
       " (4,\n",
       "  tensor([[ 0.1250,  0.8409,  0.0000,  ...,  0.0000,  0.0000,  0.0000],\n",
       "          [ 0.1250,  0.8409, -0.1667,  ...,  0.0000,  0.0000,  0.0000],\n",
       "          [ 0.1250,  0.8409,  3.1667,  ...,  0.0000,  0.0000,  0.0000],\n",
       "          ...,\n",
       "          [ 0.1250,  0.8409, -0.5000,  ...,  0.0000,  0.0000,  0.0000],\n",
       "          [ 0.1250,  0.8409,  0.0000,  ...,  0.0000,  0.0000,  0.0000],\n",
       "          [ 0.1250,  0.8409,  0.1667,  ...,  0.0000,  0.0000,  0.0000]],\n",
       "         dtype=torch.float64),\n",
       "  tensor([[0.1077, 0.9036, 0.0680,  ..., 0.0770, 0.0352, 0.1017],\n",
       "          [0.0823, 0.9299, 0.0534,  ..., 0.0566, 0.0222, 0.0796],\n",
       "          [0.1099, 0.8998, 0.0724,  ..., 0.0831, 0.0374, 0.0999],\n",
       "          ...,\n",
       "          [0.0875, 0.9203, 0.0518,  ..., 0.0577, 0.0247, 0.0812],\n",
       "          [0.1224, 0.8887, 0.0801,  ..., 0.0926, 0.0445, 0.1160],\n",
       "          [0.1174, 0.8940, 0.0758,  ..., 0.0877, 0.0416, 0.1112]],\n",
       "         grad_fn=<SigmoidBackward>))]"
      ]
     },
     "execution_count": 106,
     "metadata": {},
     "output_type": "execute_result"
    }
   ],
   "source": [
    "outputs"
   ]
  },
  {
   "cell_type": "code",
   "execution_count": null,
   "id": "viral-singapore",
   "metadata": {},
   "outputs": [],
   "source": []
  }
 ],
 "metadata": {
  "kernelspec": {
   "display_name": "conda_amazonei_pytorch_latest_p36",
   "language": "python",
   "name": "conda_amazonei_pytorch_latest_p36"
  },
  "language_info": {
   "codemirror_mode": {
    "name": "ipython",
    "version": 3
   },
   "file_extension": ".py",
   "mimetype": "text/x-python",
   "name": "python",
   "nbconvert_exporter": "python",
   "pygments_lexer": "ipython3",
   "version": "3.6.13"
  }
 },
 "nbformat": 4,
 "nbformat_minor": 5
}
