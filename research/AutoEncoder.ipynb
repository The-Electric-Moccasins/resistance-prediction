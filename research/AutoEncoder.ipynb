{
 "cells": [
  {
   "cell_type": "code",
   "execution_count": 1,
   "id": "8399b4ae",
   "metadata": {},
   "outputs": [],
   "source": [
    "%load_ext autoreload\n",
    "%autoreload 2"
   ]
  },
  {
   "cell_type": "code",
   "execution_count": 7,
   "id": "664a4404",
   "metadata": {},
   "outputs": [
    {
     "name": "stdout",
     "output_type": "stream",
     "text": [
      "/home/ec2-user/SageMaker/resistance-prediction\n"
     ]
    }
   ],
   "source": [
    "%cd .."
   ]
  },
  {
   "cell_type": "code",
   "execution_count": 8,
   "id": "b1e5eb00",
   "metadata": {},
   "outputs": [],
   "source": [
    "import numpy as np\n",
    "\n",
    "import torch\n",
    "import torch.nn as nn\n",
    "import torch.nn.functional as F\n",
    "from torch.utils.data import Dataset\n",
    "from embeddings.dataloader import TheDataSet\n",
    "%matplotlib inline\n",
    "import matplotlib.pyplot as plt\n",
    "# import tensorboard\n",
    "# from tensorboard import SummaryWriter\n",
    "\n"
   ]
  },
  {
   "cell_type": "code",
   "execution_count": 9,
   "id": "32f1226d",
   "metadata": {
    "collapsed": false,
    "jupyter": {
     "outputs_hidden": false
    },
    "pycharm": {
     "name": "#%%\n"
    }
   },
   "outputs": [],
   "source": [
    "encoder_training_epochs = 500\n",
    "# dataset_file = 'data_ae_train/fulldata.npy'\n",
    "# dataset_file = 'data/fulldata.npy'\n",
    "dataset_file = 'data/autoencoder_fulldata.npy'\n",
    "# dataset_file = 'data/autoencoder_fulldata_mini.npy'\n",
    "\n",
    "# dataset_file = 'data/labdata.npy'"
   ]
  },
  {
   "cell_type": "code",
   "execution_count": 4,
   "id": "a4290eb1",
   "metadata": {},
   "outputs": [],
   "source": [
    "mxxx = np.load(dataset_file)"
   ]
  },
  {
   "cell_type": "code",
   "execution_count": 5,
   "id": "98e4cfa1",
   "metadata": {},
   "outputs": [
    {
     "data": {
      "text/plain": [
       "((54871, 1338), 1.0, 0.0)"
      ]
     },
     "execution_count": 5,
     "metadata": {},
     "output_type": "execute_result"
    }
   ],
   "source": [
    "mxxx.shape, np.max(mxxx), np.min(mxxx)"
   ]
  },
  {
   "cell_type": "code",
   "execution_count": 6,
   "id": "ffc88036",
   "metadata": {},
   "outputs": [],
   "source": [
    "del mxxx"
   ]
  },
  {
   "cell_type": "code",
   "execution_count": 6,
   "id": "02106020",
   "metadata": {
    "collapsed": false,
    "jupyter": {
     "outputs_hidden": false
    },
    "pycharm": {
     "name": "#%%\n"
    }
   },
   "outputs": [],
   "source": [
    "# default `log_dir` is \"runs\" - we'll be more specific here\n",
    "# writer = SummaryWriter(f\"runs/autoencoder_experiment_{encoder_training_epochs}\")\n"
   ]
  },
  {
   "cell_type": "markdown",
   "id": "fc8e7547",
   "metadata": {},
   "source": [
    "## AutoEncoder\n"
   ]
  },
  {
   "cell_type": "code",
   "execution_count": 7,
   "id": "ed928883",
   "metadata": {},
   "outputs": [
    {
     "name": "stdout",
     "output_type": "stream",
     "text": [
      "Overwriting embeddings/autoencoder.py\n"
     ]
    }
   ],
   "source": [
    "%%writefile embeddings/autoencoder.py\n",
    "\n",
    "# d=64\n",
    "import torch\n",
    "import torch.nn as nn\n",
    "\n",
    "\n",
    "class Autoencoder(nn.Module):\n",
    "    def __init__(self, num_features):\n",
    "        super(Autoencoder, self).__init__()\n",
    "        self.encoder = nn.Sequential(\n",
    "            nn.Linear(in_features=num_features, out_features=num_features // 2 , bias=True),\n",
    "            #nn.Dropout(p = 0.1),\n",
    "            nn.ReLU(),\n",
    "            nn.Linear(in_features=num_features // 2, out_features=128, bias=True),\n",
    "            nn.ReLU(),\n",
    "            nn.Linear(in_features=128, out_features=64, bias=True),\n",
    "            nn.Tanh()\n",
    "        )\n",
    "        self.decoder = nn.Sequential(\n",
    "            nn.Linear(in_features=64, out_features=128, bias=True),\n",
    "            nn.Tanh(),\n",
    "            nn.Linear(in_features=128, out_features=num_features // 2, bias=True),\n",
    "            nn.ReLU(),\n",
    "            nn.Linear(in_features=num_features // 2, out_features=num_features, bias=True ),\n",
    "            #nn.Sigmoid()\n",
    "            nn.ReLU()\n",
    "#             nn.Tanh()\n",
    "        )\n",
    "\n",
    "    def forward(self, x):\n",
    "        x = self.encoder(x)\n",
    "        x = self.decoder(x)\n",
    "        return x\n"
   ]
  },
  {
   "cell_type": "code",
   "execution_count": 11,
   "id": "0225b29f",
   "metadata": {},
   "outputs": [
    {
     "name": "stdout",
     "output_type": "stream",
     "text": [
      "Overwriting embeddings/autoencoder.py\n"
     ]
    }
   ],
   "source": [
    "%%writefile embeddings/autoencoder.py\n",
    "\n",
    "# d= 128\n",
    "import torch\n",
    "import torch.nn as nn\n",
    "\n",
    "\n",
    "class Autoencoder(nn.Module):\n",
    "    def __init__(self, num_features):\n",
    "        super(Autoencoder, self).__init__()\n",
    "        self.encoder = nn.Sequential(\n",
    "            nn.Linear(in_features=num_features, out_features=num_features // 2 , bias=True),\n",
    "            # nn.Dropout(p = 0.1),\n",
    "            nn.ReLU(),\n",
    "            nn.Linear(in_features=num_features // 2, out_features=256, bias=True),\n",
    "            nn.ReLU(),\n",
    "            nn.Linear(in_features=256, out_features=128, bias=True),\n",
    "            nn.Tanh()\n",
    "        )\n",
    "        self.decoder = nn.Sequential(\n",
    "            nn.Linear(in_features=128, out_features=256, bias=True),\n",
    "            nn.Tanh(),\n",
    "            nn.Linear(in_features=256, out_features=num_features // 2, bias=True),\n",
    "            nn.ReLU(),\n",
    "            nn.Linear(in_features=num_features // 2, out_features=num_features, bias=True ),\n",
    "            #nn.Sigmoid()\n",
    "            nn.ReLU()\n",
    "#             nn.Tanh()\n",
    "        )\n",
    "\n",
    "    def forward(self, x):\n",
    "        x = self.encoder(x)\n",
    "        x = self.decoder(x)\n",
    "        return x\n"
   ]
  },
  {
   "cell_type": "code",
   "execution_count": 3,
   "id": "2d1f2c3a",
   "metadata": {},
   "outputs": [
    {
     "name": "stdout",
     "output_type": "stream",
     "text": [
      "Overwriting embeddings/autoencoder.py\n"
     ]
    }
   ],
   "source": [
    "%%writefile embeddings/autoencoder.py\n",
    "\n",
    "import torch\n",
    "import torch.nn as nn\n",
    "\n",
    "\n",
    "class Autoencoder(nn.Module):\n",
    "    def __init__(self, num_features):\n",
    "        super(Autoencoder, self).__init__()\n",
    "        self.encoder = nn.Sequential(\n",
    "            nn.Linear(in_features=num_features, out_features=128 , bias=True),\n",
    "            nn.Tanh(),\n",
    "            nn.Linear(in_features=128, out_features=64, bias=True),\n",
    "            nn.Tanh(),\n",
    "#             nn.Linear(in_features=64, out_features=32, bias=True),\n",
    "#             nn.Tanh()\n",
    "        )\n",
    "        self.decoder = nn.Sequential(\n",
    "#             nn.Linear(in_features=32, out_features=64, bias=True),\n",
    "#             nn.Tanh(),\n",
    "            nn.Linear(in_features=64, out_features=128, bias=True),\n",
    "            nn.Tanh(),\n",
    "            nn.Linear(in_features=128, out_features=num_features, bias=True ),\n",
    "            #nn.Sigmoid()\n",
    "            nn.Tanh()\n",
    "#             nn.Tanh()\n",
    "        )\n",
    "\n",
    "    def forward(self, x):\n",
    "        x = self.encoder(x)\n",
    "        x = self.decoder(x)\n",
    "        return x\n"
   ]
  },
  {
   "cell_type": "code",
   "execution_count": 12,
   "id": "2bb2c5f1",
   "metadata": {
    "collapsed": false,
    "jupyter": {
     "outputs_hidden": false
    },
    "pycharm": {
     "name": "#%%\n"
    }
   },
   "outputs": [],
   "source": [
    "from embeddings.autoencoder import Autoencoder"
   ]
  },
  {
   "cell_type": "markdown",
   "id": "d2dfcb91",
   "metadata": {},
   "source": [
    "## Training"
   ]
  },
  {
   "cell_type": "code",
   "execution_count": 23,
   "id": "dc2e3ece",
   "metadata": {},
   "outputs": [],
   "source": [
    "from torch.autograd import Variable\n",
    "def train(model, dataset, num_epochs=5, batch_size=64, learning_rate=1e-3):\n",
    "    device = 'cuda' if torch.cuda.is_available() else 'cpu'\n",
    "    model = model.to(device)\n",
    "    torch.manual_seed(42)\n",
    "    criterion = nn.MSELoss() # mean square error loss\n",
    "#     criterion = nn.L1Loss()\n",
    "#     criterion = nn.BCELoss()\n",
    "    optimizer = torch.optim.Adam(model.parameters(),\n",
    "                                 lr=learning_rate, \n",
    "                                 weight_decay=1e-5) # <--\n",
    "    train_loader = torch.utils.data.DataLoader(dataset, batch_size=batch_size, shuffle=True)\n",
    "    outputs = []\n",
    "    losses = []\n",
    "    for epoch in range(num_epochs):\n",
    "        for X, y in train_loader:\n",
    "             # Train each autoencoder individually\n",
    "            x_noisy = X.detach()\n",
    "            # Add noise, but use the original lossless input as the target.\n",
    "            x_noisy = x_noisy * (Variable(X.data.new(X.size()).normal_(0, 0.1)) > -.1).type_as(X)\n",
    "            X = X.to(device)\n",
    "            x_noisy = x_noisy.to(device)\n",
    "            recon = model(x_noisy.float())\n",
    "            loss = criterion(recon, X.float())\n",
    "            loss.backward()\n",
    "            optimizer.step()\n",
    "            optimizer.zero_grad()\n",
    "\n",
    "        print('Epoch:{}, Loss:{:.4f}'.format(epoch+1, float(loss)))\n",
    "        losses.append(float(loss))\n",
    "#         writer.add_scalar(f'training loss {num_epochs}',\n",
    "#                             loss,\n",
    "#                             epoch * len(train_loader))\n",
    "        # stop training if loss is low\n",
    "        if loss < 0.0050:\n",
    "            break\n",
    "    return outputs, losses"
   ]
  },
  {
   "cell_type": "code",
   "execution_count": 24,
   "id": "83c9da4f",
   "metadata": {},
   "outputs": [
    {
     "name": "stdout",
     "output_type": "stream",
     "text": [
      "dataset length = 54871 num features = 1440\n",
      "Autoencoder(\n",
      "  (encoder): Sequential(\n",
      "    (0): Linear(in_features=1440, out_features=720, bias=True)\n",
      "    (1): ReLU()\n",
      "    (2): Linear(in_features=720, out_features=256, bias=True)\n",
      "    (3): ReLU()\n",
      "    (4): Linear(in_features=256, out_features=128, bias=True)\n",
      "    (5): Tanh()\n",
      "  )\n",
      "  (decoder): Sequential(\n",
      "    (0): Linear(in_features=128, out_features=256, bias=True)\n",
      "    (1): Tanh()\n",
      "    (2): Linear(in_features=256, out_features=720, bias=True)\n",
      "    (3): ReLU()\n",
      "    (4): Linear(in_features=720, out_features=1440, bias=True)\n",
      "    (5): ReLU()\n",
      "  )\n",
      ")\n"
     ]
    }
   ],
   "source": [
    "dataset = TheDataSet(datafile=dataset_file)\n",
    "print(f\"dataset length = {len(dataset)} num features = {dataset.num_features()}\")\n",
    "model = Autoencoder(num_features=dataset.num_features())\n",
    "print(model)\n",
    "max_epochs = 10 #encoder_training_epochs"
   ]
  },
  {
   "cell_type": "code",
   "execution_count": 25,
   "id": "8fced35a",
   "metadata": {},
   "outputs": [
    {
     "name": "stdout",
     "output_type": "stream",
     "text": [
      "Epoch:1, Loss:0.0394\n",
      "Epoch:2, Loss:0.0324\n",
      "Epoch:3, Loss:0.0273\n",
      "Epoch:4, Loss:0.0254\n",
      "Epoch:5, Loss:0.0241\n",
      "Epoch:6, Loss:0.0240\n",
      "Epoch:7, Loss:0.0235\n",
      "Epoch:8, Loss:0.0232\n",
      "Epoch:9, Loss:0.0220\n",
      "Epoch:10, Loss:0.0205\n",
      "CPU times: user 2min 47s, sys: 5.37 s, total: 2min 52s\n",
      "Wall time: 1min 26s\n"
     ]
    }
   ],
   "source": [
    "%%time\n",
    "outputs, losses = train(model, dataset=dataset, num_epochs=max_epochs, batch_size = 512, learning_rate=1e-3)"
   ]
  },
  {
   "cell_type": "code",
   "execution_count": 26,
   "id": "dd0caa3e",
   "metadata": {},
   "outputs": [
    {
     "data": {
      "image/png": "[encoded data removed]",
      "text/plain": [
       "<Figure size 432x288 with 1 Axes>"
      ]
     },
     "metadata": {
      "needs_background": "light"
     },
     "output_type": "display_data"
    }
   ],
   "source": [
    "fig = plt.figure()\n",
    "ax = plt.axes()\n",
    "\n",
    "# x = np.linspace(0, 10, 1000)\n",
    "ax.plot(losses);"
   ]
  },
  {
   "cell_type": "code",
   "execution_count": 16,
   "id": "84c8369a",
   "metadata": {},
   "outputs": [],
   "source": [
    "device = 'cuda' if torch.cuda.is_available() else 'cpu'\n",
    "dataset = TheDataSet(datafile='data/fulldata.npy', pad_to_360=False)\n",
    "data_loader = torch.utils.data.DataLoader(dataset, batch_size=1, shuffle=False)\n",
    "rows=[]\n",
    "for X, y in data_loader:\n",
    "    X = X.to(device)\n",
    "    y = y.to(device)\n",
    "    row = model.encoder(X.float())\n",
    "    row = torch.cat([row.reshape(1,-1),y.reshape(1,-1).float()], dim=1)\n",
    "    rows.append(row)"
   ]
  },
  {
   "cell_type": "code",
   "execution_count": 17,
   "id": "d7d6e032",
   "metadata": {},
   "outputs": [
    {
     "data": {
      "text/plain": [
       "4085"
      ]
     },
     "execution_count": 17,
     "metadata": {},
     "output_type": "execute_result"
    }
   ],
   "source": [
    "len(rows)"
   ]
  },
  {
   "cell_type": "code",
   "execution_count": 18,
   "id": "63a9303a",
   "metadata": {},
   "outputs": [],
   "source": [
    "encoded_data = torch.cat(rows, dim=0)"
   ]
  },
  {
   "cell_type": "code",
   "execution_count": 19,
   "id": "ec5d6260",
   "metadata": {},
   "outputs": [],
   "source": [
    "np_labeled_data = encoded_data.detach().to('cpu').numpy()"
   ]
  },
  {
   "cell_type": "code",
   "execution_count": 20,
   "id": "6c7b69f4",
   "metadata": {},
   "outputs": [],
   "source": [
    "np.save('data/np_autoencoded_labeled_data.npy', np_labeled_data)"
   ]
  },
  {
   "cell_type": "code",
   "execution_count": 34,
   "id": "2b26de36",
   "metadata": {},
   "outputs": [
    {
     "data": {
      "text/plain": [
       "(torch.Size([1, 65]),\n",
       " tensor([[ 0.1479, -0.2890, -0.5155, -0.3377, -0.1543,  0.9087,  0.3199, -0.0341,\n",
       "          -0.6982,  0.9970,  0.3223, -0.0421, -0.2520,  0.6466, -0.0977,  0.2991,\n",
       "           0.8181,  0.4294, -0.0431, -0.3838,  0.9970,  0.6513, -0.9836,  0.9970,\n",
       "           0.2387, -0.9970,  0.9970, -0.1760, -0.5356, -0.8139, -0.4584, -0.3392,\n",
       "           0.0995,  0.9159, -0.9970,  0.0716, -0.1129,  0.4067,  0.9970, -0.4828,\n",
       "           0.8070,  0.1122,  0.0312, -0.9970,  0.0856, -0.1463, -0.9970,  0.3189,\n",
       "           0.8918,  0.1904,  0.9970, -0.9951, -0.5434,  0.1786, -0.7900, -0.5141,\n",
       "           0.3048, -0.8398, -0.9355,  0.1171,  0.8686,  0.2800,  0.4023, -0.3393,\n",
       "           0.0000,  0.0000]], device='cuda:0', grad_fn=<CatBackward>))"
      ]
     },
     "execution_count": 34,
     "metadata": {},
     "output_type": "execute_result"
    }
   ],
   "source": [
    "row.reshape(1,-1).shape, torch.cat([row.reshape(1,-1),y.reshape(1,-1).float()], dim=1)"
   ]
  },
  {
   "cell_type": "code",
   "execution_count": null,
   "id": "d13ff80f",
   "metadata": {},
   "outputs": [],
   "source": [
    "import numpy as np\n",
    "np.save()"
   ]
  },
  {
   "cell_type": "code",
   "execution_count": 41,
   "id": "f4d852a4",
   "metadata": {},
   "outputs": [
    {
     "data": {
      "text/plain": [
       "0.009168824180960655"
      ]
     },
     "execution_count": 41,
     "metadata": {},
     "output_type": "execute_result"
    }
   ],
   "source": [
    "min(losses)"
   ]
  },
  {
   "cell_type": "code",
   "execution_count": 14,
   "id": "afc52717",
   "metadata": {
    "collapsed": false,
    "jupyter": {
     "outputs_hidden": false
    },
    "pycharm": {
     "name": "#%%\n"
    }
   },
   "outputs": [],
   "source": [
    "# persist the encoder\n",
    "\n",
    "\n",
    "with open('data/autoencoder.pic', 'bw') as f:\n",
    "    torch.save(model, f, pickle_protocol=4)\n",
    "\n",
    "\n"
   ]
  },
  {
   "cell_type": "code",
   "execution_count": 10,
   "id": "79ce45b6",
   "metadata": {
    "collapsed": false,
    "jupyter": {
     "outputs_hidden": false
    },
    "pycharm": {
     "name": "#%%\n"
    }
   },
   "outputs": [],
   "source": [
    "with open('data/autoencoder.pic', 'rb') as f:\n",
    "    autoencoder = torch.load(f)"
   ]
  },
  {
   "cell_type": "code",
   "execution_count": 10,
   "id": "b3f202f1",
   "metadata": {
    "collapsed": false,
    "jupyter": {
     "outputs_hidden": false
    },
    "pycharm": {
     "name": "#%%\n"
    }
   },
   "outputs": [],
   "source": []
  }
 ],
 "metadata": {
  "kernelspec": {
   "display_name": "conda_amazonei_pytorch_latest_p36",
   "language": "python",
   "name": "conda_amazonei_pytorch_latest_p36"
  },
  "language_info": {
   "codemirror_mode": {
    "name": "ipython",
    "version": 3
   },
   "file_extension": ".py",
   "mimetype": "text/x-python",
   "name": "python",
   "nbconvert_exporter": "python",
   "pygments_lexer": "ipython3",
   "version": "3.6.13"
  }
 },
 "nbformat": 4,
 "nbformat_minor": 5
}
