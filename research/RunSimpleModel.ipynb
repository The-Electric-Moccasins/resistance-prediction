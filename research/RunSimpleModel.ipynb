{
 "cells": [
  {
   "cell_type": "code",
   "execution_count": null,
   "id": "2a626ca9",
   "metadata": {},
   "outputs": [],
   "source": []
  },
  {
   "cell_type": "code",
   "execution_count": null,
   "id": "1d87e473",
   "metadata": {},
   "outputs": [],
   "source": [
    "%pip install -q imbalanced-learn"
   ]
  },
  {
   "cell_type": "code",
   "execution_count": null,
   "id": "70011b16",
   "metadata": {},
   "outputs": [],
   "source": [
    "%pip install -q xgboost"
   ]
  },
  {
   "cell_type": "code",
   "execution_count": 1,
   "id": "f8a542e5",
   "metadata": {},
   "outputs": [],
   "source": [
    "%load_ext autoreload\n",
    "%autoreload 2"
   ]
  },
  {
   "cell_type": "code",
   "execution_count": null,
   "id": "fd4113eb",
   "metadata": {},
   "outputs": [],
   "source": [
    "import simple_model"
   ]
  },
  {
   "cell_type": "markdown",
   "id": "6931d25f",
   "metadata": {},
   "source": [
    "### Lab Values Only, No embeddings, XGBoost"
   ]
  },
  {
   "cell_type": "code",
   "execution_count": null,
   "id": "77077f02",
   "metadata": {},
   "outputs": [],
   "source": [
    "import simple_model"
   ]
  },
  {
   "cell_type": "markdown",
   "id": "1d9b0b34",
   "metadata": {},
   "source": [
    "### Lab Values Only, AE Embeddings, XGBoost"
   ]
  },
  {
   "cell_type": "code",
   "execution_count": null,
   "id": "18ab46a3",
   "metadata": {},
   "outputs": [],
   "source": [
    "import simple_model"
   ]
  },
  {
   "cell_type": "markdown",
   "id": "cd746620",
   "metadata": {},
   "source": [
    "## new dataframe loading proc"
   ]
  },
  {
   "cell_type": "code",
   "execution_count": null,
   "id": "280155da",
   "metadata": {},
   "outputs": [],
   "source": [
    "import simple_model"
   ]
  },
  {
   "cell_type": "markdown",
   "id": "a86e0d06",
   "metadata": {},
   "source": [
    "## New timewindow admission-7 days <--> admission + 24h"
   ]
  },
  {
   "cell_type": "code",
   "execution_count": null,
   "id": "f502bc49",
   "metadata": {},
   "outputs": [],
   "source": [
    "import simple_model"
   ]
  },
  {
   "cell_type": "code",
   "execution_count": null,
   "id": "15c2575c",
   "metadata": {},
   "outputs": [],
   "source": []
  },
  {
   "cell_type": "markdown",
   "id": "7b77fee8",
   "metadata": {},
   "source": [
    "## New timewindow admission-7 days <--> admission + 24h + New Features (abiotics, open wounds, prev addmissions)"
   ]
  },
  {
   "cell_type": "code",
   "execution_count": 2,
   "id": "50ee59ca",
   "metadata": {},
   "outputs": [
    {
     "name": "stdout",
     "output_type": "stream",
     "text": [
      "Using Plain Embeddings\n",
      "float64\n",
      "{'observation_window_hours': 24, 'antibiotics_name': ['CEFTAZIDIME'], 'bacteria_ids': [80004, 80026, 80005, 80017, 80040, 80008, 80007, 80002], 'negative_to_positive_ratio': 2, 'test_set_fraction': 0.01, 'validation_set_fraction': 0.29, 'train_set_fraction': 0.8, 'random_state': 11}\n",
      "Train count: Counter({0.0: 2024, 1.0: 876})\n",
      "Validate count: Counter({0.0: 827, 1.0: 358})\n",
      "0.30210970464135023\n",
      "Train shape: (2900, 842)\n",
      "Validate shape: (1185, 842)\n",
      "Training XGBoost\n"
     ]
    },
    {
     "name": "stderr",
     "output_type": "stream",
     "text": [
      "/home/ec2-user/anaconda3/envs/amazonei_pytorch_latest_p36/lib/python3.6/site-packages/xgboost/sklearn.py:1146: UserWarning: The use of label encoder in XGBClassifier is deprecated and will be removed in a future release. To remove this warning, do the following: 1) Pass option use_label_encoder=False when constructing XGBClassifier object; and 2) Encode your labels (y) as integers starting with 0, i.e. 0, 1, 2, ..., [num_class - 1].\n",
      "  warnings.warn(label_encoder_deprecation_msg, UserWarning)\n",
      "/home/ec2-user/anaconda3/envs/amazonei_pytorch_latest_p36/lib/python3.6/site-packages/sklearn/utils/validation.py:63: DataConversionWarning: A column-vector y was passed when a 1d array was expected. Please change the shape of y to (n_samples, ), for example using ravel().\n",
      "  return f(*args, **kwargs)\n"
     ]
    },
    {
     "name": "stdout",
     "output_type": "stream",
     "text": [
      "predictions mean: 0.17637130801687764\n",
      "simple_score: 0.7122362869198312\n"
     ]
    },
    {
     "name": "stderr",
     "output_type": "stream",
     "text": [
      "/home/ec2-user/anaconda3/envs/amazonei_pytorch_latest_p36/lib/python3.6/site-packages/xgboost/sklearn.py:1146: UserWarning: The use of label encoder in XGBClassifier is deprecated and will be removed in a future release. To remove this warning, do the following: 1) Pass option use_label_encoder=False when constructing XGBClassifier object; and 2) Encode your labels (y) as integers starting with 0, i.e. 0, 1, 2, ..., [num_class - 1].\n",
      "  warnings.warn(label_encoder_deprecation_msg, UserWarning)\n",
      "/home/ec2-user/anaconda3/envs/amazonei_pytorch_latest_p36/lib/python3.6/site-packages/xgboost/sklearn.py:1146: UserWarning: The use of label encoder in XGBClassifier is deprecated and will be removed in a future release. To remove this warning, do the following: 1) Pass option use_label_encoder=False when constructing XGBClassifier object; and 2) Encode your labels (y) as integers starting with 0, i.e. 0, 1, 2, ..., [num_class - 1].\n",
      "  warnings.warn(label_encoder_deprecation_msg, UserWarning)\n",
      "/home/ec2-user/anaconda3/envs/amazonei_pytorch_latest_p36/lib/python3.6/site-packages/xgboost/sklearn.py:1146: UserWarning: The use of label encoder in XGBClassifier is deprecated and will be removed in a future release. To remove this warning, do the following: 1) Pass option use_label_encoder=False when constructing XGBClassifier object; and 2) Encode your labels (y) as integers starting with 0, i.e. 0, 1, 2, ..., [num_class - 1].\n",
      "  warnings.warn(label_encoder_deprecation_msg, UserWarning)\n",
      "/home/ec2-user/anaconda3/envs/amazonei_pytorch_latest_p36/lib/python3.6/site-packages/xgboost/sklearn.py:1146: UserWarning: The use of label encoder in XGBClassifier is deprecated and will be removed in a future release. To remove this warning, do the following: 1) Pass option use_label_encoder=False when constructing XGBClassifier object; and 2) Encode your labels (y) as integers starting with 0, i.e. 0, 1, 2, ..., [num_class - 1].\n",
      "  warnings.warn(label_encoder_deprecation_msg, UserWarning)\n",
      "/home/ec2-user/anaconda3/envs/amazonei_pytorch_latest_p36/lib/python3.6/site-packages/xgboost/sklearn.py:1146: UserWarning: The use of label encoder in XGBClassifier is deprecated and will be removed in a future release. To remove this warning, do the following: 1) Pass option use_label_encoder=False when constructing XGBClassifier object; and 2) Encode your labels (y) as integers starting with 0, i.e. 0, 1, 2, ..., [num_class - 1].\n",
      "  warnings.warn(label_encoder_deprecation_msg, UserWarning)\n"
     ]
    },
    {
     "name": "stdout",
     "output_type": "stream",
     "text": [
      "fit_time: 3.57 (+/- 0.05)\n",
      "score_time: 0.02 (+/- 0.00)\n",
      "test_roc_auc: 0.66 (+/- 0.05)\n",
      "test_accuracy: 0.69 (+/- 0.03)\n",
      "test_precision: 0.49 (+/- 0.06)\n",
      "test_recall: 0.31 (+/- 0.07)\n",
      "test_f1: 0.38 (+/- 0.05)\n",
      "              precision    recall  f1-score   support\n",
      "\n",
      "         0.0       0.75      0.88      0.81       827\n",
      "         1.0       0.54      0.32      0.40       358\n",
      "\n",
      "    accuracy                           0.71      1185\n",
      "   macro avg       0.64      0.60      0.60      1185\n",
      "weighted avg       0.69      0.71      0.69      1185\n",
      "\n"
     ]
    }
   ],
   "source": [
    "import simple_model"
   ]
  },
  {
   "cell_type": "code",
   "execution_count": 3,
   "id": "ee5bb4b4",
   "metadata": {},
   "outputs": [
    {
     "name": "stdout",
     "output_type": "stream",
     "text": [
      "Using Plain Embeddings\n",
      "float64\n",
      "{'observation_window_hours': 24, 'antibiotics_name': ['CEFTAZIDIME'], 'bacteria_ids': [80004, 80026, 80005, 80017, 80040, 80008, 80007, 80002], 'negative_to_positive_ratio': 2, 'test_set_fraction': 0.01, 'validation_set_fraction': 0.29, 'train_set_fraction': 0.8, 'random_state': 11, 'num_of_bins_for_numerics': 6}\n",
      "Train count: Counter({0.0: 2808, 1.0: 1729})\n",
      "Validate count: Counter({0.0: 1147, 1.0: 707})\n",
      "0.3813376483279396\n",
      "Train shape: (4537, 844)\n",
      "Validate shape: (1854, 844)\n",
      "Training Random Forest\n"
     ]
    },
    {
     "name": "stderr",
     "output_type": "stream",
     "text": [
      "/home/ec2-user/SageMaker/resistance-prediction/simple_model.py:114: DataConversionWarning: A column-vector y was passed when a 1d array was expected. Please change the shape of y to (n_samples,), for example using ravel().\n",
      "  rf.fit(X_train, y_train)\n"
     ]
    },
    {
     "name": "stdout",
     "output_type": "stream",
     "text": [
      "predictions mean: 0.24217907227615965\n",
      "simple_score: 0.7292340884573895\n",
      "fit_time: 5.47 (+/- 0.96)\n",
      "score_time: 0.23 (+/- 0.00)\n",
      "test_roc_auc: 0.75 (+/- 0.04)\n",
      "test_accuracy: 0.72 (+/- 0.03)\n",
      "test_precision: 0.70 (+/- 0.06)\n",
      "test_recall: 0.44 (+/- 0.06)\n",
      "test_f1: 0.54 (+/- 0.06)\n",
      "              precision    recall  f1-score   support\n",
      "\n",
      "         0.0       0.73      0.89      0.80      1147\n",
      "         1.0       0.73      0.46      0.57       707\n",
      "\n",
      "    accuracy                           0.73      1854\n",
      "   macro avg       0.73      0.68      0.68      1854\n",
      "weighted avg       0.73      0.73      0.71      1854\n",
      "\n"
     ]
    }
   ],
   "source": [
    "import simple_model"
   ]
  },
  {
   "cell_type": "code",
   "execution_count": 4,
   "id": "b1932966",
   "metadata": {},
   "outputs": [
    {
     "name": "stdout",
     "output_type": "stream",
     "text": [
      "Using Plain Embeddings\n",
      "float64\n",
      "{'observation_window_hours': 24, 'antibiotics_name': ['CEFTAZIDIME'], 'bacteria_ids': [80004, 80026, 80005, 80017, 80040, 80008, 80007, 80002], 'negative_to_positive_ratio': 2, 'test_set_fraction': 0.01, 'validation_set_fraction': 0.29, 'train_set_fraction': 0.8, 'random_state': 11, 'num_of_bins_for_numerics': 6}\n",
      "Train count: Counter({0.0: 2808, 1.0: 1729})\n",
      "Validate count: Counter({0.0: 1147, 1.0: 707})\n",
      "0.3813376483279396\n",
      "Train shape: (4537, 844)\n",
      "Validate shape: (1854, 844)\n",
      "Training XGBoost\n"
     ]
    },
    {
     "name": "stderr",
     "output_type": "stream",
     "text": [
      "/home/ec2-user/anaconda3/envs/amazonei_pytorch_latest_p36/lib/python3.6/site-packages/xgboost/sklearn.py:1146: UserWarning: The use of label encoder in XGBClassifier is deprecated and will be removed in a future release. To remove this warning, do the following: 1) Pass option use_label_encoder=False when constructing XGBClassifier object; and 2) Encode your labels (y) as integers starting with 0, i.e. 0, 1, 2, ..., [num_class - 1].\n",
      "  warnings.warn(label_encoder_deprecation_msg, UserWarning)\n",
      "/home/ec2-user/anaconda3/envs/amazonei_pytorch_latest_p36/lib/python3.6/site-packages/sklearn/utils/validation.py:63: DataConversionWarning: A column-vector y was passed when a 1d array was expected. Please change the shape of y to (n_samples, ), for example using ravel().\n",
      "  return f(*args, **kwargs)\n"
     ]
    },
    {
     "name": "stdout",
     "output_type": "stream",
     "text": [
      "predictions mean: 0.3112189859762675\n",
      "simple_score: 0.7421790722761596\n"
     ]
    },
    {
     "name": "stderr",
     "output_type": "stream",
     "text": [
      "/home/ec2-user/anaconda3/envs/amazonei_pytorch_latest_p36/lib/python3.6/site-packages/xgboost/sklearn.py:1146: UserWarning: The use of label encoder in XGBClassifier is deprecated and will be removed in a future release. To remove this warning, do the following: 1) Pass option use_label_encoder=False when constructing XGBClassifier object; and 2) Encode your labels (y) as integers starting with 0, i.e. 0, 1, 2, ..., [num_class - 1].\n",
      "  warnings.warn(label_encoder_deprecation_msg, UserWarning)\n",
      "/home/ec2-user/anaconda3/envs/amazonei_pytorch_latest_p36/lib/python3.6/site-packages/xgboost/sklearn.py:1146: UserWarning: The use of label encoder in XGBClassifier is deprecated and will be removed in a future release. To remove this warning, do the following: 1) Pass option use_label_encoder=False when constructing XGBClassifier object; and 2) Encode your labels (y) as integers starting with 0, i.e. 0, 1, 2, ..., [num_class - 1].\n",
      "  warnings.warn(label_encoder_deprecation_msg, UserWarning)\n",
      "/home/ec2-user/anaconda3/envs/amazonei_pytorch_latest_p36/lib/python3.6/site-packages/xgboost/sklearn.py:1146: UserWarning: The use of label encoder in XGBClassifier is deprecated and will be removed in a future release. To remove this warning, do the following: 1) Pass option use_label_encoder=False when constructing XGBClassifier object; and 2) Encode your labels (y) as integers starting with 0, i.e. 0, 1, 2, ..., [num_class - 1].\n",
      "  warnings.warn(label_encoder_deprecation_msg, UserWarning)\n",
      "/home/ec2-user/anaconda3/envs/amazonei_pytorch_latest_p36/lib/python3.6/site-packages/xgboost/sklearn.py:1146: UserWarning: The use of label encoder in XGBClassifier is deprecated and will be removed in a future release. To remove this warning, do the following: 1) Pass option use_label_encoder=False when constructing XGBClassifier object; and 2) Encode your labels (y) as integers starting with 0, i.e. 0, 1, 2, ..., [num_class - 1].\n",
      "  warnings.warn(label_encoder_deprecation_msg, UserWarning)\n",
      "/home/ec2-user/anaconda3/envs/amazonei_pytorch_latest_p36/lib/python3.6/site-packages/xgboost/sklearn.py:1146: UserWarning: The use of label encoder in XGBClassifier is deprecated and will be removed in a future release. To remove this warning, do the following: 1) Pass option use_label_encoder=False when constructing XGBClassifier object; and 2) Encode your labels (y) as integers starting with 0, i.e. 0, 1, 2, ..., [num_class - 1].\n",
      "  warnings.warn(label_encoder_deprecation_msg, UserWarning)\n"
     ]
    },
    {
     "name": "stdout",
     "output_type": "stream",
     "text": [
      "fit_time: 4.39 (+/- 0.05)\n",
      "score_time: 0.02 (+/- 0.00)\n",
      "test_roc_auc: 0.76 (+/- 0.04)\n",
      "test_accuracy: 0.72 (+/- 0.05)\n",
      "test_precision: 0.65 (+/- 0.07)\n",
      "test_recall: 0.56 (+/- 0.07)\n",
      "test_f1: 0.60 (+/- 0.07)\n",
      "              precision    recall  f1-score   support\n",
      "\n",
      "         0.0       0.76      0.85      0.80      1147\n",
      "         1.0       0.70      0.57      0.63       707\n",
      "\n",
      "    accuracy                           0.74      1854\n",
      "   macro avg       0.73      0.71      0.72      1854\n",
      "weighted avg       0.74      0.74      0.74      1854\n",
      "\n"
     ]
    }
   ],
   "source": [
    "import simple_model"
   ]
  },
  {
   "cell_type": "markdown",
   "id": "12758530",
   "metadata": {},
   "source": [
    "## new dataset, AutoEncoder"
   ]
  },
  {
   "cell_type": "code",
   "execution_count": 2,
   "id": "2180eb74",
   "metadata": {},
   "outputs": [
    {
     "name": "stdout",
     "output_type": "stream",
     "text": [
      "Using AutoEncoder\n",
      "int64\n",
      "{'observation_window_hours': 24, 'antibiotics_name': ['CEFTAZIDIME'], 'bacteria_ids': [80004, 80026, 80005, 80017, 80040, 80008, 80007, 80002], 'negative_to_positive_ratio': 2, 'test_set_fraction': 0.01, 'validation_set_fraction': 0.29, 'train_set_fraction': 0.8, 'random_state': 11, 'num_of_bins_for_numerics': 6}\n",
      "Train count: Counter({0: 2024, 1: 876})\n",
      "Validate count: Counter({0: 827, 1: 358})\n",
      "0.30210970464135023\n",
      "Train shape: (2900, 64)\n",
      "Validate shape: (1185, 64)\n",
      "Training Random Forest\n"
     ]
    },
    {
     "name": "stderr",
     "output_type": "stream",
     "text": [
      "/home/ec2-user/SageMaker/resistance-prediction/simple_model.py:113: DataConversionWarning: A column-vector y was passed when a 1d array was expected. Please change the shape of y to (n_samples,), for example using ravel().\n",
      "  rf.fit(X_train, y_train)\n"
     ]
    },
    {
     "name": "stdout",
     "output_type": "stream",
     "text": [
      "predictions mean: 0.4286919831223629\n",
      "simple_score: 0.6118143459915611\n",
      "fit_time: 1.38 (+/- 0.87)\n",
      "score_time: 0.22 (+/- 0.00)\n",
      "test_roc_auc: 0.68 (+/- 0.06)\n",
      "test_accuracy: 0.63 (+/- 0.06)\n",
      "test_precision: 0.43 (+/- 0.06)\n",
      "test_recall: 0.65 (+/- 0.05)\n",
      "test_f1: 0.52 (+/- 0.06)\n",
      "              precision    recall  f1-score   support\n",
      "\n",
      "           0       0.77      0.63      0.69       827\n",
      "           1       0.40      0.57      0.47       358\n",
      "\n",
      "    accuracy                           0.61      1185\n",
      "   macro avg       0.59      0.60      0.58      1185\n",
      "weighted avg       0.66      0.61      0.63      1185\n",
      "\n"
     ]
    }
   ],
   "source": [
    "# partial AE train\n",
    "import simple_model"
   ]
  },
  {
   "cell_type": "code",
   "execution_count": 15,
   "id": "b750078c",
   "metadata": {},
   "outputs": [
    {
     "name": "stdout",
     "output_type": "stream",
     "text": [
      "Using AutoEncoder\n",
      "int64\n",
      "{'observation_window_hours': 24, 'antibiotics_name': ['CEFTAZIDIME'], 'bacteria_ids': [80004, 80026, 80005, 80017, 80040, 80008, 80007, 80002], 'negative_to_positive_ratio': 2, 'test_set_fraction': 0.01, 'validation_set_fraction': 0.29, 'train_set_fraction': 0.8, 'random_state': 11, 'num_of_bins_for_numerics': 6}\n",
      "Train count: Counter({0: 2024, 1: 876})\n",
      "Validate count: Counter({0: 827, 1: 358})\n",
      "0.30210970464135023\n",
      "Train shape: (2900, 64)\n",
      "Validate shape: (1185, 64)\n",
      "Training Random Forest\n"
     ]
    },
    {
     "name": "stderr",
     "output_type": "stream",
     "text": [
      "/home/ec2-user/SageMaker/resistance-prediction/simple_model.py:114: DataConversionWarning: A column-vector y was passed when a 1d array was expected. Please change the shape of y to (n_samples,), for example using ravel().\n",
      "  rf.fit(X_train, y_train)\n"
     ]
    },
    {
     "name": "stdout",
     "output_type": "stream",
     "text": [
      "predictions mean: 0.4050632911392405\n",
      "simple_score: 0.6253164556962025\n",
      "fit_time: 1.73 (+/- 0.07)\n",
      "score_time: 0.21 (+/- 0.00)\n",
      "test_roc_auc: 0.67 (+/- 0.05)\n",
      "test_accuracy: 0.64 (+/- 0.06)\n",
      "test_precision: 0.44 (+/- 0.06)\n",
      "test_recall: 0.60 (+/- 0.07)\n",
      "test_f1: 0.50 (+/- 0.06)\n",
      "              precision    recall  f1-score   support\n",
      "\n",
      "           0       0.77      0.66      0.71       827\n",
      "           1       0.41      0.55      0.47       358\n",
      "\n",
      "    accuracy                           0.63      1185\n",
      "   macro avg       0.59      0.60      0.59      1185\n",
      "weighted avg       0.66      0.63      0.64      1185\n",
      "\n"
     ]
    }
   ],
   "source": [
    "# full AE train\n",
    "import simple_model"
   ]
  },
  {
   "cell_type": "code",
   "execution_count": null,
   "id": "5bb62277",
   "metadata": {},
   "outputs": [],
   "source": []
  }
 ],
 "metadata": {
  "kernelspec": {
   "display_name": "conda_amazonei_pytorch_latest_p36",
   "language": "python",
   "name": "conda_amazonei_pytorch_latest_p36"
  },
  "language_info": {
   "codemirror_mode": {
    "name": "ipython",
    "version": 3
   },
   "file_extension": ".py",
   "mimetype": "text/x-python",
   "name": "python",
   "nbconvert_exporter": "python",
   "pygments_lexer": "ipython3",
   "version": "3.6.13"
  }
 },
 "nbformat": 4,
 "nbformat_minor": 5
}
