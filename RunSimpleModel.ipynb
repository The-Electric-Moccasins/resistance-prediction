{
 "cells": [
  {
   "cell_type": "code",
   "execution_count": 5,
   "id": "5d15530d",
   "metadata": {},
   "outputs": [
    {
     "name": "stdout",
     "output_type": "stream",
     "text": [
      "aiobotocore @ file:///tmp/build/80754af9/aiobotocore_1613245695822/work\n",
      "aiohttp==3.7.4.post0\n",
      "aioitertools @ file:///tmp/build/80754af9/aioitertools_1607109665762/work\n",
      "alabaster==0.7.12\n",
      "anaconda-client==1.7.2\n",
      "anaconda-project @ file:///tmp/build/80754af9/anaconda-project_1610472525955/work\n",
      "anyio==2.2.0\n",
      "argh==0.26.2\n",
      "argon2-cffi @ file:///tmp/build/80754af9/argon2-cffi_1613037492802/work\n",
      "asn1crypto @ file:///tmp/build/80754af9/asn1crypto_1596577642040/work\n",
      "astroid @ file:///tmp/build/80754af9/astroid_1613500853908/work\n",
      "astropy==4.0.2\n",
      "async-generator==1.10\n",
      "async-timeout==3.0.1\n",
      "atomicwrites==1.4.0\n",
      "attrs @ file:///tmp/build/80754af9/attrs_1604765588209/work\n",
      "autopep8 @ file:///tmp/build/80754af9/autopep8_1613246362269/work\n",
      "autovizwidget==0.18.0\n",
      "awscli==1.19.55\n",
      "Babel @ file:///tmp/build/80754af9/babel_1607110387436/work\n",
      "backcall @ file:///home/ktietz/src/ci/backcall_1611930011877/work\n",
      "backports.shutil-get-terminal-size @ file:///tmp/build/80754af9/backports.shutil_get_terminal_size_1608222128777/work\n",
      "bcrypt==3.2.0\n",
      "beautifulsoup4 @ file:///home/linux1/recipes/ci/beautifulsoup4_1610988766420/work\n",
      "bitarray @ file:///tmp/build/80754af9/bitarray_1611254261018/work\n",
      "bkcharts==0.2\n",
      "bleach @ file:///tmp/build/80754af9/bleach_1612211392645/work\n",
      "bokeh @ file:///tmp/build/80754af9/bokeh_1603297819746/work\n",
      "boto==2.49.0\n",
      "boto3==1.17.55\n",
      "botocore==1.20.55\n",
      "Bottleneck==1.3.2\n",
      "brotlipy==0.7.0\n",
      "cached-property==1.5.2\n",
      "certifi==2020.12.5\n",
      "cffi @ file:///tmp/build/80754af9/cffi_1613246439577/work\n",
      "chardet @ file:///tmp/build/80754af9/chardet_1605303175790/work\n",
      "click @ file:///home/linux1/recipes/ci/click_1610990599742/work\n",
      "cloudpickle @ file:///tmp/build/80754af9/cloudpickle_1598884132938/work\n",
      "clyent==1.2.2\n",
      "colorama==0.4.3\n",
      "contextlib2==0.6.0.post1\n",
      "contextvars==2.4\n",
      "cryptography==3.4.6\n",
      "cycler==0.10.0\n",
      "Cython @ file:///tmp/build/80754af9/cython_1614014843172/work\n",
      "cytoolz==0.11.0\n",
      "dask @ file:///tmp/build/80754af9/dask-core_1613253194046/work\n",
      "dataclasses==0.8\n",
      "decorator @ file:///home/ktietz/src/ci/decorator_1611930055503/work\n",
      "defusedxml @ file:///home/ktietz/src/ci_mi/defusedxml_1612808095953/work\n",
      "diff-match-patch @ file:///tmp/build/80754af9/diff-match-patch_1594828741838/work\n",
      "dill==0.3.3\n",
      "distributed @ file:///tmp/build/80754af9/distributed_1613253470689/work\n",
      "distro==1.5.0\n",
      "docker==5.0.0\n",
      "docker-compose==1.29.1\n",
      "dockerpty==0.4.1\n",
      "docopt==0.6.2\n",
      "docutils==0.15.2\n",
      "entrypoints==0.3\n",
      "enum-compat==0.0.3\n",
      "environment-kernels==1.1.1\n",
      "et-xmlfile==1.0.1\n",
      "fastcache==1.1.0\n",
      "filelock @ file:///home/linux1/recipes/ci/filelock_1610993975404/work\n",
      "flake8 @ file:///tmp/build/80754af9/flake8_1601911421857/work\n",
      "Flask @ file:///home/ktietz/src/ci/flask_1611932660458/work\n",
      "Flask-Cors==3.0.10\n",
      "fsspec @ file:///tmp/build/80754af9/fsspec_1602684995936/work\n",
      "future==0.18.2\n",
      "gevent @ file:///tmp/build/80754af9/gevent_1610995727172/work\n",
      "glob2 @ file:///home/linux1/recipes/ci/glob2_1610991677669/work\n",
      "gmpy2==2.0.8\n",
      "google-pasta==0.2.0\n",
      "graphviz==0.13.2\n",
      "greenlet @ file:///tmp/build/80754af9/greenlet_1611958374945/work\n",
      "h5py==2.10.0\n",
      "hdijupyterutils==0.18.0\n",
      "HeapDict==1.0.1\n",
      "html5lib @ file:///tmp/build/80754af9/html5lib_1593446221756/work\n",
      "idna @ file:///home/linux1/recipes/ci/idna_1610986105248/work\n",
      "idna-ssl @ file:///tmp/build/80754af9/idna_ssl_1611752490495/work\n",
      "imageio @ file:///tmp/build/80754af9/imageio_1594161405741/work\n",
      "imagesize @ file:///home/ktietz/src/ci/imagesize_1611921604382/work\n",
      "imbalanced-learn==0.8.0\n",
      "immutables @ file:///tmp/build/80754af9/immutables_1613500267006/work\n",
      "importlib-metadata @ file:///tmp/build/80754af9/importlib-metadata_1602276842396/work\n",
      "iniconfig @ file:///home/linux1/recipes/ci/iniconfig_1610983019677/work\n",
      "intervaltree @ file:///tmp/build/80754af9/intervaltree_1598376443606/work\n",
      "ipykernel @ file:///tmp/build/80754af9/ipykernel_1596206602906/work/dist/ipykernel-5.3.4-py3-none-any.whl\n",
      "ipyparallel @ file:///tmp/build/80754af9/ipyparallel_1613482829078/work\n",
      "ipython==7.12.0\n",
      "ipython-genutils @ file:///tmp/build/80754af9/ipython_genutils_1606773439826/work\n",
      "ipywidgets @ file:///tmp/build/80754af9/ipywidgets_1610481889018/work\n",
      "isort @ file:///tmp/build/80754af9/isort_1612243941122/work\n",
      "itsdangerous==1.1.0\n",
      "jdcal==1.4.1\n",
      "jedi==0.17.0\n",
      "jeepney @ file:///tmp/build/80754af9/jeepney_1606148855031/work\n",
      "Jinja2 @ file:///tmp/build/80754af9/jinja2_1612213139570/work\n",
      "jmespath @ file:///tmp/build/80754af9/jmespath_1594304593830/work\n",
      "joblib @ file:///tmp/build/80754af9/joblib_1613502643832/work\n",
      "json5==0.9.5\n",
      "jsonschema @ file:///tmp/build/80754af9/jsonschema_1602607155483/work\n",
      "jupyter==1.0.0\n",
      "jupyter-client @ file:///tmp/build/80754af9/jupyter_client_1601311786391/work\n",
      "jupyter-console @ file:///tmp/build/80754af9/jupyter_console_1598884538475/work\n",
      "jupyter-core @ file:///tmp/build/80754af9/jupyter_core_1612213308682/work\n",
      "jupyter-packaging==0.7.12\n",
      "jupyter-server==1.5.0\n",
      "jupyterlab==3.0.12\n",
      "jupyterlab-pygments @ file:///tmp/build/80754af9/jupyterlab_pygments_1601490720602/work\n",
      "jupyterlab-server==2.3.0\n",
      "jupyterlab-widgets @ file:///tmp/build/80754af9/jupyterlab_widgets_1609884341231/work\n",
      "keyring @ file:///tmp/build/80754af9/keyring_1611778710190/work\n",
      "kiwisolver @ file:///tmp/build/80754af9/kiwisolver_1612282412546/work\n",
      "lazy-object-proxy @ file:///tmp/build/80754af9/lazy-object-proxy_1606850073715/work\n",
      "libarchive-c @ file:///home/linux1/recipes/ci/python-libarchive-c_1610974153025/work\n",
      "llvmlite==0.34.0\n",
      "locket==0.2.1\n",
      "lxml==4.6.3\n",
      "MarkupSafe==1.1.1\n",
      "matplotlib @ file:///tmp/build/80754af9/matplotlib-suite_1613407855456/work\n",
      "mccabe==0.6.1\n",
      "missingno==0.4.2\n",
      "mistune==0.8.4\n",
      "mkl-fft==1.3.0\n",
      "mkl-random==1.1.1\n",
      "mkl-service==2.3.0\n",
      "mock @ file:///tmp/build/80754af9/mock_1607622725907/work\n",
      "model-archiver==1.0.1\n",
      "more-itertools @ file:///tmp/build/80754af9/more-itertools_1613676688952/work\n",
      "mpmath==1.1.0\n",
      "msgpack @ file:///tmp/build/80754af9/msgpack-python_1612287171716/work\n",
      "multi-model-server==1.1.2\n",
      "multidict @ file:///tmp/build/80754af9/multidict_1600456401639/work\n",
      "multipledispatch==0.6.0\n",
      "multiprocess==0.70.11.1\n",
      "nb-conda==2.2.1\n",
      "nb-conda-kernels @ file:///tmp/build/80754af9/nb_conda_kernels_1606775948551/work\n",
      "nbclassic==0.2.6\n",
      "nbclient @ file:///tmp/build/80754af9/nbclient_1613676291033/work\n",
      "nbconvert @ file:///tmp/build/80754af9/nbconvert_1601914804165/work\n",
      "nbformat @ file:///tmp/build/80754af9/nbformat_1610738111109/work\n",
      "nest-asyncio @ file:///tmp/build/80754af9/nest-asyncio_1613680548246/work\n",
      "networkx @ file:///tmp/build/80754af9/networkx_1598376031484/work\n",
      "nltk @ file:///tmp/build/80754af9/nltk_1592496090529/work\n",
      "nose @ file:///tmp/build/80754af9/nose_1606773131901/work\n",
      "notebook @ file:///tmp/build/80754af9/notebook_1611341009357/work\n",
      "numba @ file:///tmp/build/80754af9/numba_1600094284200/work\n",
      "numexpr @ file:///home/conda/feedstock_root/build_artifacts/numexpr_1614971342269/work\n",
      "numpy @ file:///tmp/build/80754af9/numpy_and_numpy_base_1603487797006/work\n",
      "numpydoc @ file:///tmp/build/80754af9/numpydoc_1605117425582/work\n",
      "olefile==0.46\n",
      "opencv-python==4.5.1.48\n",
      "openpyxl @ file:///tmp/build/80754af9/openpyxl_1610651698508/work\n",
      "packaging @ file:///tmp/build/80754af9/packaging_1611952188834/work\n",
      "pandas==1.1.5\n",
      "pandocfilters @ file:///tmp/build/80754af9/pandocfilters_1605120937332/work\n",
      "paramiko==2.7.2\n",
      "parso @ file:///tmp/build/80754af9/parso_1607623074025/work\n",
      "partd==1.1.0\n",
      "path @ file:///tmp/build/80754af9/path_1614022224690/work\n",
      "pathlib2 @ file:///tmp/build/80754af9/pathlib2_1607024958299/work\n",
      "pathos==0.2.7\n",
      "pathtools==0.1.2\n",
      "patsy==0.5.1\n",
      "pep8==1.7.1\n",
      "pexpect @ file:///tmp/build/80754af9/pexpect_1605563209008/work\n",
      "pickleshare @ file:///tmp/build/80754af9/pickleshare_1606932040724/work\n",
      "Pillow @ file:///tmp/build/80754af9/pillow_1609786736246/work\n",
      "pkginfo==1.7.0\n",
      "plotly==4.14.3\n",
      "pluggy==0.13.1\n",
      "ply==3.11\n",
      "pox==0.2.9\n",
      "ppft==1.6.6.3\n",
      "prometheus-client @ file:///tmp/build/80754af9/prometheus_client_1606344362066/work\n",
      "prompt-toolkit @ file:///tmp/build/80754af9/prompt-toolkit_1602688806899/work\n",
      "protobuf==3.15.6\n",
      "protobuf3-to-dict==0.1.5\n",
      "psutil @ file:///tmp/build/80754af9/psutil_1612297621795/work\n",
      "psycopg2==2.7.5\n",
      "ptyprocess @ file:///tmp/build/80754af9/ptyprocess_1609355006118/work/dist/ptyprocess-0.7.0-py2.py3-none-any.whl\n",
      "py @ file:///tmp/build/80754af9/py_1607971587848/work\n",
      "py4j==0.10.7\n",
      "pyarrow==3.0.0\n",
      "pyasn1==0.4.8\n",
      "pyathena==2.2.0\n",
      "pybind11==2.6.2\n",
      "pycodestyle @ file:///home/ktietz/src/ci_mi/pycodestyle_1612807597675/work\n",
      "pycosat==0.6.3\n",
      "pycparser @ file:///tmp/build/80754af9/pycparser_1594388511720/work\n",
      "pycrypto==2.6.1\n",
      "pycurl==7.43.0.6\n",
      "pydocstyle @ file:///tmp/build/80754af9/pydocstyle_1598885001695/work\n",
      "pyflakes @ file:///home/ktietz/src/ci_ipy2/pyflakes_1612551159640/work\n",
      "pyfunctional==1.4.3\n",
      "pygal==2.4.0\n",
      "Pygments @ file:///tmp/build/80754af9/pygments_1613849567472/work\n",
      "pykerberos==1.2.1\n",
      "pylint @ file:///tmp/build/80754af9/pylint_1614008010956/work\n",
      "PyNaCl==1.4.0\n",
      "pyodbc===4.0.0-unsupported\n",
      "pyOpenSSL @ file:///tmp/build/80754af9/pyopenssl_1608057966937/work\n",
      "pyparsing @ file:///home/linux1/recipes/ci/pyparsing_1610983426697/work\n",
      "pyrsistent @ file:///tmp/build/80754af9/pyrsistent_1600141725711/work\n",
      "PySocks @ file:///tmp/build/80754af9/pysocks_1605305763431/work\n",
      "pyspark==2.3.4\n",
      "pytest==6.2.2\n",
      "python-dateutil @ file:///home/ktietz/src/ci/python-dateutil_1611928101742/work\n",
      "python-dotenv==0.17.0\n",
      "python-jsonrpc-server @ file:///tmp/build/80754af9/python-jsonrpc-server_1600278539111/work\n",
      "python-language-server @ file:///tmp/build/80754af9/python-language-server_1600454544709/work\n",
      "pytz @ file:///tmp/build/80754af9/pytz_1612215392582/work\n",
      "PyWavelets @ file:///tmp/build/80754af9/pywavelets_1601658315997/work\n",
      "pyxdg @ file:///tmp/build/80754af9/pyxdg_1603822279816/work\n",
      "PyYAML==5.4.1\n",
      "pyzmq==20.0.0\n",
      "QDarkStyle==2.8.1\n",
      "QtAwesome @ file:///tmp/build/80754af9/qtawesome_1602272867890/work\n",
      "qtconsole @ file:///tmp/build/80754af9/qtconsole_1612458529756/work\n",
      "QtPy==1.9.0\n",
      "regex @ file:///tmp/build/80754af9/regex_1606772707535/work\n",
      "requests @ file:///tmp/build/80754af9/requests_1608241421344/work\n",
      "requests-kerberos==0.12.0\n",
      "retrying==1.3.3\n",
      "rope @ file:///tmp/build/80754af9/rope_1602264064449/work\n",
      "rsa==4.7.2\n",
      "Rtree==0.9.4\n",
      "ruamel-yaml==0.15.87\n",
      "s3fs==0.4.2\n",
      "s3transfer==0.4.1\n",
      "sacremoses==0.0.43\n",
      "sagemaker==2.38.0\n",
      "sagemaker-pyspark==1.4.1\n",
      "scikit-image==0.16.2\n",
      "scikit-learn==0.24.2\n",
      "scipy @ file:///tmp/build/80754af9/scipy_1597686625380/work\n",
      "seaborn @ file:///tmp/build/80754af9/seaborn_1608578541026/work\n",
      "SecretStorage @ file:///tmp/build/80754af9/secretstorage_1614022884787/work\n",
      "Send2Trash @ file:///tmp/build/80754af9/send2trash_1607525499227/work\n",
      "simplegeneric==0.8.1\n",
      "singledispatch @ file:///tmp/build/80754af9/singledispatch_1614023095590/work\n",
      "six @ file:///tmp/build/80754af9/six_1605205335545/work\n",
      "sklearn==0.0\n",
      "smclarify @ file:///tmp/smclarify-0.1-py3-none-any.whl\n",
      "smdebug-rulesconfig==1.0.1\n",
      "sniffio==1.2.0\n",
      "snowballstemmer @ file:///tmp/build/80754af9/snowballstemmer_1611258885636/work\n",
      "sortedcollections @ file:///tmp/build/80754af9/sortedcollections_1611172717284/work\n",
      "sortedcontainers @ file:///tmp/build/80754af9/sortedcontainers_1606865132123/work\n",
      "soupsieve @ file:///tmp/build/80754af9/soupsieve_1614023247537/work\n",
      "sparkmagic==0.15.0\n",
      "Sphinx @ file:///tmp/build/80754af9/sphinx_1614023429948/work\n",
      "sphinxcontrib-applehelp @ file:///home/ktietz/src/ci/sphinxcontrib-applehelp_1611920841464/work\n",
      "sphinxcontrib-devhelp @ file:///home/ktietz/src/ci/sphinxcontrib-devhelp_1611920923094/work\n",
      "sphinxcontrib-htmlhelp @ file:///home/ktietz/src/ci/sphinxcontrib-htmlhelp_1611920974801/work\n",
      "sphinxcontrib-jsmath @ file:///home/ktietz/src/ci/sphinxcontrib-jsmath_1611920942228/work\n",
      "sphinxcontrib-qthelp @ file:///home/ktietz/src/ci/sphinxcontrib-qthelp_1611921055322/work\n",
      "sphinxcontrib-serializinghtml @ file:///home/ktietz/src/ci/sphinxcontrib-serializinghtml_1611920755253/work\n",
      "sphinxcontrib-websupport @ file:///tmp/build/80754af9/sphinxcontrib-websupport_1597081412696/work\n",
      "spyder==3.2.8\n",
      "spyder-kernels @ file:///tmp/build/80754af9/spyder-kernels_1614030581454/work\n",
      "SQLAlchemy @ file:///tmp/build/80754af9/sqlalchemy_1612467222059/work\n",
      "statsmodels @ file:///tmp/build/80754af9/statsmodels_1614023745203/work\n",
      "sympy @ file:///tmp/build/80754af9/sympy_1608137684998/work\n",
      "tables==3.6.1\n",
      "tabulate==0.8.9\n",
      "tblib @ file:///tmp/build/80754af9/tblib_1597928476713/work\n",
      "tenacity==7.0.0\n",
      "terminado==0.9.2\n",
      "testpath @ file:///home/ktietz/src/ci/testpath_1611930608132/work\n",
      "texttable==1.6.3\n",
      "threadpoolctl @ file:///tmp/tmp9twdgx9k/threadpoolctl-2.1.0-py3-none-any.whl\n",
      "tokenizers==0.10.1\n",
      "toml @ file:///tmp/build/80754af9/toml_1592853716807/work\n",
      "toolz @ file:///home/linux1/recipes/ci/toolz_1610987900194/work\n",
      "torch==1.5.1\n",
      "torcheia @ file:///tmp/torcheia-1.0.0-cp36-cp36m-manylinux1_x86_64.whl\n",
      "torchvision==0.6.1\n",
      "tornado @ file:///tmp/build/80754af9/tornado_1606942266872/work\n",
      "tqdm @ file:///tmp/build/80754af9/tqdm_1611857934208/work\n",
      "traitlets==4.3.3\n",
      "transformers==4.4.2\n",
      "typed-ast @ file:///tmp/build/80754af9/typed-ast_1610484534478/work\n",
      "typing-extensions @ file:///home/ktietz/src/ci_mi/typing_extensions_1612808209620/work\n",
      "ujson @ file:///tmp/build/80754af9/ujson_1611259495878/work\n",
      "unicodecsv==0.14.1\n",
      "urllib3==1.26.4\n",
      "watchdog @ file:///tmp/build/80754af9/watchdog_1612471132570/work\n",
      "wcwidth @ file:///tmp/build/80754af9/wcwidth_1593447189090/work\n",
      "webencodings==0.5.1\n",
      "websocket-client==0.58.0\n",
      "Werkzeug @ file:///home/ktietz/src/ci/werkzeug_1611932622770/work\n",
      "widgetsnbextension==3.5.1\n",
      "wrapt==1.12.1\n",
      "wurlitzer @ file:///tmp/build/80754af9/wurlitzer_1594753847913/work\n",
      "xgboost==1.4.1\n",
      "xlrd @ file:///tmp/build/80754af9/xlrd_1608072521494/work\n",
      "XlsxWriter @ file:///home/ktietz/src/ci_ipy2/xlsxwriter_1612556818988/work\n",
      "xlwt==1.3.0\n",
      "yapf @ file:///tmp/build/80754af9/yapf_1593528177422/work\n",
      "yarl @ file:///tmp/build/80754af9/yarl_1606939915466/work\n",
      "zict==2.0.0\n",
      "zipp @ file:///tmp/build/80754af9/zipp_1604001098328/work\n",
      "zope.event==4.5.0\n",
      "zope.interface @ file:///tmp/build/80754af9/zope.interface_1606940254119/work\n",
      "Note: you may need to restart the kernel to use updated packages.\n"
     ]
    }
   ],
   "source": [
    "%pip freeze"
   ]
  },
  {
   "cell_type": "code",
   "execution_count": 2,
   "id": "d70b3314",
   "metadata": {},
   "outputs": [
    {
     "name": "stdout",
     "output_type": "stream",
     "text": [
      "Note: you may need to restart the kernel to use updated packages.\n"
     ]
    }
   ],
   "source": [
    "%pip install -q imbalanced-learn"
   ]
  },
  {
   "cell_type": "code",
   "execution_count": 3,
   "id": "b26a5d6d",
   "metadata": {},
   "outputs": [
    {
     "name": "stdout",
     "output_type": "stream",
     "text": [
      "Note: you may need to restart the kernel to use updated packages.\n"
     ]
    }
   ],
   "source": [
    "%pip install -q xgboost"
   ]
  },
  {
   "cell_type": "code",
   "execution_count": 1,
   "id": "e3036c6b",
   "metadata": {},
   "outputs": [],
   "source": [
    "%load_ext autoreload\n",
    "%autoreload 2"
   ]
  },
  {
   "cell_type": "code",
   "execution_count": 1,
   "id": "19a5e383",
   "metadata": {},
   "outputs": [
    {
     "name": "stdout",
     "output_type": "stream",
     "text": [
      "Using AutoEncoder\n",
      "{'observation_window_hours': 6, 'antibiotics_name': ['CEFTAZIDIME'], 'bacteria_ids': [80004, 80026, 80005, 80017, 80040, 80008, 80007, 80002], 'negative_to_positive_ratio': 2.0, 'test_set_fraction': 0.01, 'validation_set_fraction': 0.18, 'train_set_fraction': 0.8, 'random_state': 11}\n",
      "Train shape: (1752, 32)\n",
      "Validate shape: (779, 32)\n",
      "predictions mean: 0.35430038510911427\n",
      "simple_score: 0.6675224646983312\n",
      "fit_time: 0.85 (+/- 0.79)\n",
      "score_time: 0.21 (+/- 0.00)\n",
      "test_roc_auc: 0.65 (+/- 0.04)\n",
      "test_accuracy: 0.63 (+/- 0.04)\n",
      "test_precision: 0.45 (+/- 0.06)\n",
      "test_recall: 0.51 (+/- 0.06)\n",
      "test_f1: 0.48 (+/- 0.05)\n",
      "              precision    recall  f1-score   support\n",
      "\n",
      "           0       0.91      0.68      0.78       672\n",
      "           1       0.22      0.58      0.32       107\n",
      "\n",
      "    accuracy                           0.67       779\n",
      "   macro avg       0.57      0.63      0.55       779\n",
      "weighted avg       0.82      0.67      0.72       779\n",
      "\n"
     ]
    }
   ],
   "source": [
    "import simple_model"
   ]
  },
  {
   "cell_type": "markdown",
   "id": "fa991dff",
   "metadata": {},
   "source": [
    "### Lab Values Only, No embeddings, XGBoost"
   ]
  },
  {
   "cell_type": "code",
   "execution_count": 1,
   "id": "a2038d45",
   "metadata": {},
   "outputs": [
    {
     "name": "stdout",
     "output_type": "stream",
     "text": [
      "Using Plain Embeddings\n",
      "{'observation_window_hours': 6, 'antibiotics_name': ['CEFTAZIDIME'], 'bacteria_ids': [80004, 80026, 80005, 80017, 80040, 80008, 80007, 80002], 'negative_to_positive_ratio': 2, 'test_set_fraction': 0.01, 'validation_set_fraction': 0.29, 'train_set_fraction': 0.8, 'random_state': 11}\n",
      "Train count: Counter({0.0: 2576, 1.0: 496})\n",
      "Validate count: Counter({0.0: 1053, 1.0: 203})\n",
      "0.16162420382165604\n",
      "Train shape: (3072, 216)\n",
      "Validate shape: (1256, 216)\n"
     ]
    },
    {
     "name": "stderr",
     "output_type": "stream",
     "text": [
      "/home/ec2-user/anaconda3/envs/amazonei_pytorch_latest_p36/lib/python3.6/site-packages/xgboost/sklearn.py:1146: UserWarning: The use of label encoder in XGBClassifier is deprecated and will be removed in a future release. To remove this warning, do the following: 1) Pass option use_label_encoder=False when constructing XGBClassifier object; and 2) Encode your labels (y) as integers starting with 0, i.e. 0, 1, 2, ..., [num_class - 1].\n",
      "  warnings.warn(label_encoder_deprecation_msg, UserWarning)\n",
      "/home/ec2-user/anaconda3/envs/amazonei_pytorch_latest_p36/lib/python3.6/site-packages/sklearn/utils/validation.py:63: DataConversionWarning: A column-vector y was passed when a 1d array was expected. Please change the shape of y to (n_samples, ), for example using ravel().\n",
      "  return f(*args, **kwargs)\n"
     ]
    },
    {
     "name": "stdout",
     "output_type": "stream",
     "text": [
      "predictions mean: 0.04219745222929936\n",
      "simple_score: 0.8328025477707006\n"
     ]
    },
    {
     "name": "stderr",
     "output_type": "stream",
     "text": [
      "/home/ec2-user/anaconda3/envs/amazonei_pytorch_latest_p36/lib/python3.6/site-packages/xgboost/sklearn.py:1146: UserWarning: The use of label encoder in XGBClassifier is deprecated and will be removed in a future release. To remove this warning, do the following: 1) Pass option use_label_encoder=False when constructing XGBClassifier object; and 2) Encode your labels (y) as integers starting with 0, i.e. 0, 1, 2, ..., [num_class - 1].\n",
      "  warnings.warn(label_encoder_deprecation_msg, UserWarning)\n",
      "/home/ec2-user/anaconda3/envs/amazonei_pytorch_latest_p36/lib/python3.6/site-packages/xgboost/sklearn.py:1146: UserWarning: The use of label encoder in XGBClassifier is deprecated and will be removed in a future release. To remove this warning, do the following: 1) Pass option use_label_encoder=False when constructing XGBClassifier object; and 2) Encode your labels (y) as integers starting with 0, i.e. 0, 1, 2, ..., [num_class - 1].\n",
      "  warnings.warn(label_encoder_deprecation_msg, UserWarning)\n",
      "/home/ec2-user/anaconda3/envs/amazonei_pytorch_latest_p36/lib/python3.6/site-packages/xgboost/sklearn.py:1146: UserWarning: The use of label encoder in XGBClassifier is deprecated and will be removed in a future release. To remove this warning, do the following: 1) Pass option use_label_encoder=False when constructing XGBClassifier object; and 2) Encode your labels (y) as integers starting with 0, i.e. 0, 1, 2, ..., [num_class - 1].\n",
      "  warnings.warn(label_encoder_deprecation_msg, UserWarning)\n",
      "/home/ec2-user/anaconda3/envs/amazonei_pytorch_latest_p36/lib/python3.6/site-packages/xgboost/sklearn.py:1146: UserWarning: The use of label encoder in XGBClassifier is deprecated and will be removed in a future release. To remove this warning, do the following: 1) Pass option use_label_encoder=False when constructing XGBClassifier object; and 2) Encode your labels (y) as integers starting with 0, i.e. 0, 1, 2, ..., [num_class - 1].\n",
      "  warnings.warn(label_encoder_deprecation_msg, UserWarning)\n",
      "/home/ec2-user/anaconda3/envs/amazonei_pytorch_latest_p36/lib/python3.6/site-packages/xgboost/sklearn.py:1146: UserWarning: The use of label encoder in XGBClassifier is deprecated and will be removed in a future release. To remove this warning, do the following: 1) Pass option use_label_encoder=False when constructing XGBClassifier object; and 2) Encode your labels (y) as integers starting with 0, i.e. 0, 1, 2, ..., [num_class - 1].\n",
      "  warnings.warn(label_encoder_deprecation_msg, UserWarning)\n"
     ]
    },
    {
     "name": "stdout",
     "output_type": "stream",
     "text": [
      "fit_time: 1.52 (+/- 0.04)\n",
      "score_time: 0.02 (+/- 0.00)\n",
      "test_roc_auc: 0.60 (+/- 0.04)\n",
      "test_accuracy: 0.82 (+/- 0.01)\n",
      "test_precision: 0.30 (+/- 0.05)\n",
      "test_recall: 0.09 (+/- 0.02)\n",
      "test_f1: 0.13 (+/- 0.03)\n",
      "              precision    recall  f1-score   support\n",
      "\n",
      "         0.0       0.85      0.97      0.91      1053\n",
      "         1.0       0.43      0.11      0.18       203\n",
      "\n",
      "    accuracy                           0.83      1256\n",
      "   macro avg       0.64      0.54      0.54      1256\n",
      "weighted avg       0.78      0.83      0.79      1256\n",
      "\n"
     ]
    }
   ],
   "source": [
    "import simple_model"
   ]
  },
  {
   "cell_type": "markdown",
   "id": "14308ee4",
   "metadata": {},
   "source": [
    "### Lab Values Only, AE Embeddings, XGBoost"
   ]
  },
  {
   "cell_type": "code",
   "execution_count": 1,
   "id": "e3de7785",
   "metadata": {},
   "outputs": [
    {
     "name": "stdout",
     "output_type": "stream",
     "text": [
      "Using AutoEncoder\n",
      "{'observation_window_hours': 6, 'antibiotics_name': ['CEFTAZIDIME'], 'bacteria_ids': [80004, 80026, 80005, 80017, 80040, 80008, 80007, 80002], 'negative_to_positive_ratio': 2, 'test_set_fraction': 0.01, 'validation_set_fraction': 0.29, 'train_set_fraction': 0.8, 'random_state': 11}\n",
      "Train count: Counter({0.0: 2576, 1.0: 496})\n",
      "Validate count: Counter({0.0: 1053, 1.0: 203})\n",
      "0.16162420382165604\n",
      "Train shape: (3072, 64)\n",
      "Validate shape: (1256, 64)\n"
     ]
    },
    {
     "name": "stderr",
     "output_type": "stream",
     "text": [
      "/home/ec2-user/anaconda3/envs/amazonei_pytorch_latest_p36/lib/python3.6/site-packages/xgboost/sklearn.py:1146: UserWarning: The use of label encoder in XGBClassifier is deprecated and will be removed in a future release. To remove this warning, do the following: 1) Pass option use_label_encoder=False when constructing XGBClassifier object; and 2) Encode your labels (y) as integers starting with 0, i.e. 0, 1, 2, ..., [num_class - 1].\n",
      "  warnings.warn(label_encoder_deprecation_msg, UserWarning)\n",
      "/home/ec2-user/anaconda3/envs/amazonei_pytorch_latest_p36/lib/python3.6/site-packages/sklearn/utils/validation.py:63: DataConversionWarning: A column-vector y was passed when a 1d array was expected. Please change the shape of y to (n_samples, ), for example using ravel().\n",
      "  return f(*args, **kwargs)\n"
     ]
    },
    {
     "name": "stdout",
     "output_type": "stream",
     "text": [
      "predictions mean: 0.030254777070063694\n",
      "simple_score: 0.8272292993630573\n"
     ]
    },
    {
     "name": "stderr",
     "output_type": "stream",
     "text": [
      "/home/ec2-user/anaconda3/envs/amazonei_pytorch_latest_p36/lib/python3.6/site-packages/xgboost/sklearn.py:1146: UserWarning: The use of label encoder in XGBClassifier is deprecated and will be removed in a future release. To remove this warning, do the following: 1) Pass option use_label_encoder=False when constructing XGBClassifier object; and 2) Encode your labels (y) as integers starting with 0, i.e. 0, 1, 2, ..., [num_class - 1].\n",
      "  warnings.warn(label_encoder_deprecation_msg, UserWarning)\n",
      "/home/ec2-user/anaconda3/envs/amazonei_pytorch_latest_p36/lib/python3.6/site-packages/xgboost/sklearn.py:1146: UserWarning: The use of label encoder in XGBClassifier is deprecated and will be removed in a future release. To remove this warning, do the following: 1) Pass option use_label_encoder=False when constructing XGBClassifier object; and 2) Encode your labels (y) as integers starting with 0, i.e. 0, 1, 2, ..., [num_class - 1].\n",
      "  warnings.warn(label_encoder_deprecation_msg, UserWarning)\n",
      "/home/ec2-user/anaconda3/envs/amazonei_pytorch_latest_p36/lib/python3.6/site-packages/xgboost/sklearn.py:1146: UserWarning: The use of label encoder in XGBClassifier is deprecated and will be removed in a future release. To remove this warning, do the following: 1) Pass option use_label_encoder=False when constructing XGBClassifier object; and 2) Encode your labels (y) as integers starting with 0, i.e. 0, 1, 2, ..., [num_class - 1].\n",
      "  warnings.warn(label_encoder_deprecation_msg, UserWarning)\n",
      "/home/ec2-user/anaconda3/envs/amazonei_pytorch_latest_p36/lib/python3.6/site-packages/xgboost/sklearn.py:1146: UserWarning: The use of label encoder in XGBClassifier is deprecated and will be removed in a future release. To remove this warning, do the following: 1) Pass option use_label_encoder=False when constructing XGBClassifier object; and 2) Encode your labels (y) as integers starting with 0, i.e. 0, 1, 2, ..., [num_class - 1].\n",
      "  warnings.warn(label_encoder_deprecation_msg, UserWarning)\n",
      "/home/ec2-user/anaconda3/envs/amazonei_pytorch_latest_p36/lib/python3.6/site-packages/xgboost/sklearn.py:1146: UserWarning: The use of label encoder in XGBClassifier is deprecated and will be removed in a future release. To remove this warning, do the following: 1) Pass option use_label_encoder=False when constructing XGBClassifier object; and 2) Encode your labels (y) as integers starting with 0, i.e. 0, 1, 2, ..., [num_class - 1].\n",
      "  warnings.warn(label_encoder_deprecation_msg, UserWarning)\n"
     ]
    },
    {
     "name": "stdout",
     "output_type": "stream",
     "text": [
      "fit_time: 1.37 (+/- 0.01)\n",
      "score_time: 0.01 (+/- 0.00)\n",
      "test_roc_auc: 0.57 (+/- 0.03)\n",
      "test_accuracy: 0.82 (+/- 0.01)\n",
      "test_precision: 0.23 (+/- 0.24)\n",
      "test_recall: 0.04 (+/- 0.06)\n",
      "test_f1: 0.07 (+/- 0.10)\n",
      "              precision    recall  f1-score   support\n",
      "\n",
      "         0.0       0.84      0.98      0.90      1053\n",
      "         1.0       0.32      0.06      0.10       203\n",
      "\n",
      "    accuracy                           0.83      1256\n",
      "   macro avg       0.58      0.52      0.50      1256\n",
      "weighted avg       0.76      0.83      0.77      1256\n",
      "\n"
     ]
    }
   ],
   "source": [
    "import simple_model"
   ]
  },
  {
   "cell_type": "markdown",
   "id": "e122d648",
   "metadata": {},
   "source": [
    "## new dataframe loading proc"
   ]
  },
  {
   "cell_type": "code",
   "execution_count": 4,
   "id": "b714cd44",
   "metadata": {},
   "outputs": [
    {
     "name": "stdout",
     "output_type": "stream",
     "text": [
      "Using Plain Embeddings\n",
      "float64\n",
      "{'observation_window_hours': 6, 'antibiotics_name': ['CEFTAZIDIME'], 'bacteria_ids': [80004, 80026, 80005, 80017, 80040, 80008, 80007, 80002], 'negative_to_positive_ratio': 2, 'test_set_fraction': 0.01, 'validation_set_fraction': 0.29, 'train_set_fraction': 0.8, 'random_state': 11}\n",
      "Train count: Counter({0.0: 2598, 1.0: 534})\n",
      "Validate count: Counter({0.0: 1062, 1.0: 218})\n",
      "0.1703125\n",
      "Train shape: (3132, 459)\n",
      "Validate shape: (1280, 459)\n",
      "Training XGBoost\n"
     ]
    },
    {
     "name": "stderr",
     "output_type": "stream",
     "text": [
      "/home/ec2-user/anaconda3/envs/amazonei_pytorch_latest_p36/lib/python3.6/site-packages/xgboost/sklearn.py:1146: UserWarning: The use of label encoder in XGBClassifier is deprecated and will be removed in a future release. To remove this warning, do the following: 1) Pass option use_label_encoder=False when constructing XGBClassifier object; and 2) Encode your labels (y) as integers starting with 0, i.e. 0, 1, 2, ..., [num_class - 1].\n",
      "  warnings.warn(label_encoder_deprecation_msg, UserWarning)\n",
      "/home/ec2-user/anaconda3/envs/amazonei_pytorch_latest_p36/lib/python3.6/site-packages/sklearn/utils/validation.py:63: DataConversionWarning: A column-vector y was passed when a 1d array was expected. Please change the shape of y to (n_samples, ), for example using ravel().\n",
      "  return f(*args, **kwargs)\n"
     ]
    },
    {
     "name": "stdout",
     "output_type": "stream",
     "text": [
      "predictions mean: 0.03828125\n",
      "simple_score: 0.81796875\n"
     ]
    },
    {
     "name": "stderr",
     "output_type": "stream",
     "text": [
      "/home/ec2-user/anaconda3/envs/amazonei_pytorch_latest_p36/lib/python3.6/site-packages/xgboost/sklearn.py:1146: UserWarning: The use of label encoder in XGBClassifier is deprecated and will be removed in a future release. To remove this warning, do the following: 1) Pass option use_label_encoder=False when constructing XGBClassifier object; and 2) Encode your labels (y) as integers starting with 0, i.e. 0, 1, 2, ..., [num_class - 1].\n",
      "  warnings.warn(label_encoder_deprecation_msg, UserWarning)\n",
      "/home/ec2-user/anaconda3/envs/amazonei_pytorch_latest_p36/lib/python3.6/site-packages/xgboost/sklearn.py:1146: UserWarning: The use of label encoder in XGBClassifier is deprecated and will be removed in a future release. To remove this warning, do the following: 1) Pass option use_label_encoder=False when constructing XGBClassifier object; and 2) Encode your labels (y) as integers starting with 0, i.e. 0, 1, 2, ..., [num_class - 1].\n",
      "  warnings.warn(label_encoder_deprecation_msg, UserWarning)\n",
      "/home/ec2-user/anaconda3/envs/amazonei_pytorch_latest_p36/lib/python3.6/site-packages/xgboost/sklearn.py:1146: UserWarning: The use of label encoder in XGBClassifier is deprecated and will be removed in a future release. To remove this warning, do the following: 1) Pass option use_label_encoder=False when constructing XGBClassifier object; and 2) Encode your labels (y) as integers starting with 0, i.e. 0, 1, 2, ..., [num_class - 1].\n",
      "  warnings.warn(label_encoder_deprecation_msg, UserWarning)\n",
      "/home/ec2-user/anaconda3/envs/amazonei_pytorch_latest_p36/lib/python3.6/site-packages/xgboost/sklearn.py:1146: UserWarning: The use of label encoder in XGBClassifier is deprecated and will be removed in a future release. To remove this warning, do the following: 1) Pass option use_label_encoder=False when constructing XGBClassifier object; and 2) Encode your labels (y) as integers starting with 0, i.e. 0, 1, 2, ..., [num_class - 1].\n",
      "  warnings.warn(label_encoder_deprecation_msg, UserWarning)\n",
      "/home/ec2-user/anaconda3/envs/amazonei_pytorch_latest_p36/lib/python3.6/site-packages/xgboost/sklearn.py:1146: UserWarning: The use of label encoder in XGBClassifier is deprecated and will be removed in a future release. To remove this warning, do the following: 1) Pass option use_label_encoder=False when constructing XGBClassifier object; and 2) Encode your labels (y) as integers starting with 0, i.e. 0, 1, 2, ..., [num_class - 1].\n",
      "  warnings.warn(label_encoder_deprecation_msg, UserWarning)\n"
     ]
    },
    {
     "name": "stdout",
     "output_type": "stream",
     "text": [
      "fit_time: 1.69 (+/- 0.02)\n",
      "score_time: 0.02 (+/- 0.00)\n",
      "test_roc_auc: 0.66 (+/- 0.01)\n",
      "test_accuracy: 0.82 (+/- 0.01)\n",
      "test_precision: 0.36 (+/- 0.12)\n",
      "test_recall: 0.11 (+/- 0.06)\n",
      "test_f1: 0.17 (+/- 0.09)\n",
      "              precision    recall  f1-score   support\n",
      "\n",
      "         0.0       0.84      0.97      0.90      1062\n",
      "         1.0       0.35      0.08      0.13       218\n",
      "\n",
      "    accuracy                           0.82      1280\n",
      "   macro avg       0.59      0.52      0.51      1280\n",
      "weighted avg       0.75      0.82      0.77      1280\n",
      "\n"
     ]
    }
   ],
   "source": [
    "import simple_model"
   ]
  },
  {
   "cell_type": "markdown",
   "id": "f27557ba",
   "metadata": {},
   "source": [
    "## New timewindow admission-7 days <--> admission + 24h"
   ]
  },
  {
   "cell_type": "code",
   "execution_count": 5,
   "id": "4706cdb4",
   "metadata": {},
   "outputs": [
    {
     "name": "stdout",
     "output_type": "stream",
     "text": [
      "Using Plain Embeddings\n",
      "float64\n",
      "{'observation_window_hours': 24, 'antibiotics_name': ['CEFTAZIDIME'], 'bacteria_ids': [80004, 80026, 80005, 80017, 80040, 80008, 80007, 80002], 'negative_to_positive_ratio': 2, 'test_set_fraction': 0.01, 'validation_set_fraction': 0.29, 'train_set_fraction': 0.8, 'random_state': 11}\n",
      "Train count: Counter({0.0: 2397, 1.0: 503})\n",
      "Validate count: Counter({0.0: 980, 1.0: 205})\n",
      "0.1729957805907173\n",
      "Train shape: (2900, 745)\n",
      "Validate shape: (1185, 745)\n",
      "Training XGBoost\n"
     ]
    },
    {
     "name": "stderr",
     "output_type": "stream",
     "text": [
      "/home/ec2-user/anaconda3/envs/amazonei_pytorch_latest_p36/lib/python3.6/site-packages/xgboost/sklearn.py:1146: UserWarning: The use of label encoder in XGBClassifier is deprecated and will be removed in a future release. To remove this warning, do the following: 1) Pass option use_label_encoder=False when constructing XGBClassifier object; and 2) Encode your labels (y) as integers starting with 0, i.e. 0, 1, 2, ..., [num_class - 1].\n",
      "  warnings.warn(label_encoder_deprecation_msg, UserWarning)\n",
      "/home/ec2-user/anaconda3/envs/amazonei_pytorch_latest_p36/lib/python3.6/site-packages/sklearn/utils/validation.py:63: DataConversionWarning: A column-vector y was passed when a 1d array was expected. Please change the shape of y to (n_samples, ), for example using ravel().\n",
      "  return f(*args, **kwargs)\n"
     ]
    },
    {
     "name": "stdout",
     "output_type": "stream",
     "text": [
      "predictions mean: 0.06329113924050633\n",
      "simple_score: 0.8075949367088607\n"
     ]
    },
    {
     "name": "stderr",
     "output_type": "stream",
     "text": [
      "/home/ec2-user/anaconda3/envs/amazonei_pytorch_latest_p36/lib/python3.6/site-packages/xgboost/sklearn.py:1146: UserWarning: The use of label encoder in XGBClassifier is deprecated and will be removed in a future release. To remove this warning, do the following: 1) Pass option use_label_encoder=False when constructing XGBClassifier object; and 2) Encode your labels (y) as integers starting with 0, i.e. 0, 1, 2, ..., [num_class - 1].\n",
      "  warnings.warn(label_encoder_deprecation_msg, UserWarning)\n",
      "/home/ec2-user/anaconda3/envs/amazonei_pytorch_latest_p36/lib/python3.6/site-packages/xgboost/sklearn.py:1146: UserWarning: The use of label encoder in XGBClassifier is deprecated and will be removed in a future release. To remove this warning, do the following: 1) Pass option use_label_encoder=False when constructing XGBClassifier object; and 2) Encode your labels (y) as integers starting with 0, i.e. 0, 1, 2, ..., [num_class - 1].\n",
      "  warnings.warn(label_encoder_deprecation_msg, UserWarning)\n",
      "/home/ec2-user/anaconda3/envs/amazonei_pytorch_latest_p36/lib/python3.6/site-packages/xgboost/sklearn.py:1146: UserWarning: The use of label encoder in XGBClassifier is deprecated and will be removed in a future release. To remove this warning, do the following: 1) Pass option use_label_encoder=False when constructing XGBClassifier object; and 2) Encode your labels (y) as integers starting with 0, i.e. 0, 1, 2, ..., [num_class - 1].\n",
      "  warnings.warn(label_encoder_deprecation_msg, UserWarning)\n",
      "/home/ec2-user/anaconda3/envs/amazonei_pytorch_latest_p36/lib/python3.6/site-packages/xgboost/sklearn.py:1146: UserWarning: The use of label encoder in XGBClassifier is deprecated and will be removed in a future release. To remove this warning, do the following: 1) Pass option use_label_encoder=False when constructing XGBClassifier object; and 2) Encode your labels (y) as integers starting with 0, i.e. 0, 1, 2, ..., [num_class - 1].\n",
      "  warnings.warn(label_encoder_deprecation_msg, UserWarning)\n",
      "/home/ec2-user/anaconda3/envs/amazonei_pytorch_latest_p36/lib/python3.6/site-packages/xgboost/sklearn.py:1146: UserWarning: The use of label encoder in XGBClassifier is deprecated and will be removed in a future release. To remove this warning, do the following: 1) Pass option use_label_encoder=False when constructing XGBClassifier object; and 2) Encode your labels (y) as integers starting with 0, i.e. 0, 1, 2, ..., [num_class - 1].\n",
      "  warnings.warn(label_encoder_deprecation_msg, UserWarning)\n"
     ]
    },
    {
     "name": "stdout",
     "output_type": "stream",
     "text": [
      "fit_time: 3.19 (+/- 0.05)\n",
      "score_time: 0.02 (+/- 0.00)\n",
      "test_roc_auc: 0.68 (+/- 0.05)\n",
      "test_accuracy: 0.81 (+/- 0.01)\n",
      "test_precision: 0.35 (+/- 0.09)\n",
      "test_recall: 0.12 (+/- 0.05)\n",
      "test_f1: 0.18 (+/- 0.07)\n",
      "              precision    recall  f1-score   support\n",
      "\n",
      "         0.0       0.84      0.95      0.89       980\n",
      "         1.0       0.35      0.13      0.19       205\n",
      "\n",
      "    accuracy                           0.81      1185\n",
      "   macro avg       0.59      0.54      0.54      1185\n",
      "weighted avg       0.75      0.81      0.77      1185\n",
      "\n"
     ]
    }
   ],
   "source": [
    "import simple_model"
   ]
  },
  {
   "cell_type": "code",
   "execution_count": null,
   "id": "f0ef7790",
   "metadata": {},
   "outputs": [],
   "source": []
  },
  {
   "cell_type": "markdown",
   "id": "e5a142ea",
   "metadata": {},
   "source": [
    "## New timewindow admission-7 days <--> admission + 24h + New Features (abiotics, open wounds, prev addmissions)"
   ]
  },
  {
   "cell_type": "code",
   "execution_count": 2,
   "id": "27f8080c",
   "metadata": {},
   "outputs": [
    {
     "name": "stdout",
     "output_type": "stream",
     "text": [
      "Using Plain Embeddings\n",
      "float64\n",
      "{'observation_window_hours': 24, 'antibiotics_name': ['CEFTAZIDIME'], 'bacteria_ids': [80004, 80026, 80005, 80017, 80040, 80008, 80007, 80002], 'negative_to_positive_ratio': 2, 'test_set_fraction': 0.01, 'validation_set_fraction': 0.29, 'train_set_fraction': 0.8, 'random_state': 11}\n",
      "Train count: Counter({0.0: 2397, 1.0: 503})\n",
      "Validate count: Counter({0.0: 980, 1.0: 205})\n",
      "0.1729957805907173\n",
      "Train shape: (2900, 841)\n",
      "Validate shape: (1185, 841)\n",
      "Training XGBoost\n"
     ]
    },
    {
     "name": "stderr",
     "output_type": "stream",
     "text": [
      "/home/ec2-user/anaconda3/envs/amazonei_pytorch_latest_p36/lib/python3.6/site-packages/xgboost/sklearn.py:1146: UserWarning: The use of label encoder in XGBClassifier is deprecated and will be removed in a future release. To remove this warning, do the following: 1) Pass option use_label_encoder=False when constructing XGBClassifier object; and 2) Encode your labels (y) as integers starting with 0, i.e. 0, 1, 2, ..., [num_class - 1].\n",
      "  warnings.warn(label_encoder_deprecation_msg, UserWarning)\n",
      "/home/ec2-user/anaconda3/envs/amazonei_pytorch_latest_p36/lib/python3.6/site-packages/sklearn/utils/validation.py:63: DataConversionWarning: A column-vector y was passed when a 1d array was expected. Please change the shape of y to (n_samples, ), for example using ravel().\n",
      "  return f(*args, **kwargs)\n"
     ]
    },
    {
     "name": "stdout",
     "output_type": "stream",
     "text": [
      "predictions mean: 0.07088607594936709\n",
      "simple_score: 0.810126582278481\n"
     ]
    },
    {
     "name": "stderr",
     "output_type": "stream",
     "text": [
      "/home/ec2-user/anaconda3/envs/amazonei_pytorch_latest_p36/lib/python3.6/site-packages/xgboost/sklearn.py:1146: UserWarning: The use of label encoder in XGBClassifier is deprecated and will be removed in a future release. To remove this warning, do the following: 1) Pass option use_label_encoder=False when constructing XGBClassifier object; and 2) Encode your labels (y) as integers starting with 0, i.e. 0, 1, 2, ..., [num_class - 1].\n",
      "  warnings.warn(label_encoder_deprecation_msg, UserWarning)\n",
      "/home/ec2-user/anaconda3/envs/amazonei_pytorch_latest_p36/lib/python3.6/site-packages/xgboost/sklearn.py:1146: UserWarning: The use of label encoder in XGBClassifier is deprecated and will be removed in a future release. To remove this warning, do the following: 1) Pass option use_label_encoder=False when constructing XGBClassifier object; and 2) Encode your labels (y) as integers starting with 0, i.e. 0, 1, 2, ..., [num_class - 1].\n",
      "  warnings.warn(label_encoder_deprecation_msg, UserWarning)\n",
      "/home/ec2-user/anaconda3/envs/amazonei_pytorch_latest_p36/lib/python3.6/site-packages/xgboost/sklearn.py:1146: UserWarning: The use of label encoder in XGBClassifier is deprecated and will be removed in a future release. To remove this warning, do the following: 1) Pass option use_label_encoder=False when constructing XGBClassifier object; and 2) Encode your labels (y) as integers starting with 0, i.e. 0, 1, 2, ..., [num_class - 1].\n",
      "  warnings.warn(label_encoder_deprecation_msg, UserWarning)\n",
      "/home/ec2-user/anaconda3/envs/amazonei_pytorch_latest_p36/lib/python3.6/site-packages/xgboost/sklearn.py:1146: UserWarning: The use of label encoder in XGBClassifier is deprecated and will be removed in a future release. To remove this warning, do the following: 1) Pass option use_label_encoder=False when constructing XGBClassifier object; and 2) Encode your labels (y) as integers starting with 0, i.e. 0, 1, 2, ..., [num_class - 1].\n",
      "  warnings.warn(label_encoder_deprecation_msg, UserWarning)\n",
      "/home/ec2-user/anaconda3/envs/amazonei_pytorch_latest_p36/lib/python3.6/site-packages/xgboost/sklearn.py:1146: UserWarning: The use of label encoder in XGBClassifier is deprecated and will be removed in a future release. To remove this warning, do the following: 1) Pass option use_label_encoder=False when constructing XGBClassifier object; and 2) Encode your labels (y) as integers starting with 0, i.e. 0, 1, 2, ..., [num_class - 1].\n",
      "  warnings.warn(label_encoder_deprecation_msg, UserWarning)\n"
     ]
    },
    {
     "name": "stdout",
     "output_type": "stream",
     "text": [
      "fit_time: 3.50 (+/- 0.06)\n",
      "score_time: 0.02 (+/- 0.00)\n",
      "test_roc_auc: 0.73 (+/- 0.04)\n",
      "test_accuracy: 0.82 (+/- 0.01)\n",
      "test_precision: 0.46 (+/- 0.08)\n",
      "test_recall: 0.18 (+/- 0.03)\n",
      "test_f1: 0.26 (+/- 0.04)\n",
      "              precision    recall  f1-score   support\n",
      "\n",
      "         0.0       0.84      0.95      0.89       980\n",
      "         1.0       0.38      0.16      0.22       205\n",
      "\n",
      "    accuracy                           0.81      1185\n",
      "   macro avg       0.61      0.55      0.56      1185\n",
      "weighted avg       0.76      0.81      0.78      1185\n",
      "\n"
     ]
    }
   ],
   "source": [
    "import simple_model"
   ]
  },
  {
   "cell_type": "code",
   "execution_count": null,
   "id": "9e01e861",
   "metadata": {},
   "outputs": [],
   "source": []
  }
 ],
 "metadata": {
  "kernelspec": {
   "display_name": "conda_amazonei_pytorch_latest_p36",
   "language": "python",
   "name": "conda_amazonei_pytorch_latest_p36"
  },
  "language_info": {
   "codemirror_mode": {
    "name": "ipython",
    "version": 3
   },
   "file_extension": ".py",
   "mimetype": "text/x-python",
   "name": "python",
   "nbconvert_exporter": "python",
   "pygments_lexer": "ipython3",
   "version": "3.6.13"
  }
 },
 "nbformat": 4,
 "nbformat_minor": 5
}
