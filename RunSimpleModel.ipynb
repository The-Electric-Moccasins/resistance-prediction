{
 "cells": [
  {
   "cell_type": "code",
   "execution_count": null,
   "id": "174f0f6f",
   "metadata": {},
   "outputs": [],
   "source": []
  },
  {
   "cell_type": "code",
   "execution_count": null,
   "id": "63619f2d",
   "metadata": {},
   "outputs": [],
   "source": [
    "%pip install -q imbalanced-learn"
   ]
  },
  {
   "cell_type": "code",
   "execution_count": null,
   "id": "766ad145",
   "metadata": {},
   "outputs": [],
   "source": [
    "%pip install -q xgboost"
   ]
  },
  {
   "cell_type": "code",
   "execution_count": 1,
   "id": "5bab0700",
   "metadata": {},
   "outputs": [],
   "source": [
    "%load_ext autoreload\n",
    "%autoreload 2"
   ]
  },
  {
   "cell_type": "code",
   "execution_count": null,
   "id": "9e8ef265",
   "metadata": {},
   "outputs": [],
   "source": [
    "import simple_model"
   ]
  },
  {
   "cell_type": "markdown",
   "id": "6fec0115",
   "metadata": {},
   "source": [
    "### Lab Values Only, No embeddings, XGBoost"
   ]
  },
  {
   "cell_type": "code",
   "execution_count": null,
   "id": "a790830c",
   "metadata": {},
   "outputs": [],
   "source": [
    "import simple_model"
   ]
  },
  {
   "cell_type": "markdown",
   "id": "fc61bedb",
   "metadata": {},
   "source": [
    "### Lab Values Only, AE Embeddings, XGBoost"
   ]
  },
  {
   "cell_type": "code",
   "execution_count": null,
   "id": "6604e30b",
   "metadata": {},
   "outputs": [],
   "source": [
    "import simple_model"
   ]
  },
  {
   "cell_type": "markdown",
   "id": "b27c8476",
   "metadata": {},
   "source": [
    "## new dataframe loading proc"
   ]
  },
  {
   "cell_type": "code",
   "execution_count": null,
   "id": "8e25a5cb",
   "metadata": {},
   "outputs": [],
   "source": [
    "import simple_model"
   ]
  },
  {
   "cell_type": "markdown",
   "id": "27260088",
   "metadata": {},
   "source": [
    "## New timewindow admission-7 days <--> admission + 24h"
   ]
  },
  {
   "cell_type": "code",
   "execution_count": null,
   "id": "92db87d0",
   "metadata": {},
   "outputs": [],
   "source": [
    "import simple_model"
   ]
  },
  {
   "cell_type": "code",
   "execution_count": null,
   "id": "d5573f1c",
   "metadata": {},
   "outputs": [],
   "source": []
  },
  {
   "cell_type": "markdown",
   "id": "6947c42a",
   "metadata": {},
   "source": [
    "## New timewindow admission-7 days <--> admission + 24h + New Features (abiotics, open wounds, prev addmissions)"
   ]
  },
  {
   "cell_type": "code",
   "execution_count": 2,
   "id": "7b09378e",
   "metadata": {},
   "outputs": [
    {
     "name": "stdout",
     "output_type": "stream",
     "text": [
      "Using Plain Embeddings\n",
      "float64\n",
      "{'observation_window_hours': 24, 'antibiotics_name': ['CEFTAZIDIME'], 'bacteria_ids': [80004, 80026, 80005, 80017, 80040, 80008, 80007, 80002], 'negative_to_positive_ratio': 2, 'test_set_fraction': 0.01, 'validation_set_fraction': 0.29, 'train_set_fraction': 0.8, 'random_state': 11}\n",
      "Train count: Counter({0.0: 2024, 1.0: 876})\n",
      "Validate count: Counter({0.0: 827, 1.0: 358})\n",
      "0.30210970464135023\n",
      "Train shape: (2900, 842)\n",
      "Validate shape: (1185, 842)\n",
      "Training XGBoost\n"
     ]
    },
    {
     "name": "stderr",
     "output_type": "stream",
     "text": [
      "/home/ec2-user/anaconda3/envs/amazonei_pytorch_latest_p36/lib/python3.6/site-packages/xgboost/sklearn.py:1146: UserWarning: The use of label encoder in XGBClassifier is deprecated and will be removed in a future release. To remove this warning, do the following: 1) Pass option use_label_encoder=False when constructing XGBClassifier object; and 2) Encode your labels (y) as integers starting with 0, i.e. 0, 1, 2, ..., [num_class - 1].\n",
      "  warnings.warn(label_encoder_deprecation_msg, UserWarning)\n",
      "/home/ec2-user/anaconda3/envs/amazonei_pytorch_latest_p36/lib/python3.6/site-packages/sklearn/utils/validation.py:63: DataConversionWarning: A column-vector y was passed when a 1d array was expected. Please change the shape of y to (n_samples, ), for example using ravel().\n",
      "  return f(*args, **kwargs)\n"
     ]
    },
    {
     "name": "stdout",
     "output_type": "stream",
     "text": [
      "predictions mean: 0.17637130801687764\n",
      "simple_score: 0.7122362869198312\n"
     ]
    },
    {
     "name": "stderr",
     "output_type": "stream",
     "text": [
      "/home/ec2-user/anaconda3/envs/amazonei_pytorch_latest_p36/lib/python3.6/site-packages/xgboost/sklearn.py:1146: UserWarning: The use of label encoder in XGBClassifier is deprecated and will be removed in a future release. To remove this warning, do the following: 1) Pass option use_label_encoder=False when constructing XGBClassifier object; and 2) Encode your labels (y) as integers starting with 0, i.e. 0, 1, 2, ..., [num_class - 1].\n",
      "  warnings.warn(label_encoder_deprecation_msg, UserWarning)\n",
      "/home/ec2-user/anaconda3/envs/amazonei_pytorch_latest_p36/lib/python3.6/site-packages/xgboost/sklearn.py:1146: UserWarning: The use of label encoder in XGBClassifier is deprecated and will be removed in a future release. To remove this warning, do the following: 1) Pass option use_label_encoder=False when constructing XGBClassifier object; and 2) Encode your labels (y) as integers starting with 0, i.e. 0, 1, 2, ..., [num_class - 1].\n",
      "  warnings.warn(label_encoder_deprecation_msg, UserWarning)\n",
      "/home/ec2-user/anaconda3/envs/amazonei_pytorch_latest_p36/lib/python3.6/site-packages/xgboost/sklearn.py:1146: UserWarning: The use of label encoder in XGBClassifier is deprecated and will be removed in a future release. To remove this warning, do the following: 1) Pass option use_label_encoder=False when constructing XGBClassifier object; and 2) Encode your labels (y) as integers starting with 0, i.e. 0, 1, 2, ..., [num_class - 1].\n",
      "  warnings.warn(label_encoder_deprecation_msg, UserWarning)\n",
      "/home/ec2-user/anaconda3/envs/amazonei_pytorch_latest_p36/lib/python3.6/site-packages/xgboost/sklearn.py:1146: UserWarning: The use of label encoder in XGBClassifier is deprecated and will be removed in a future release. To remove this warning, do the following: 1) Pass option use_label_encoder=False when constructing XGBClassifier object; and 2) Encode your labels (y) as integers starting with 0, i.e. 0, 1, 2, ..., [num_class - 1].\n",
      "  warnings.warn(label_encoder_deprecation_msg, UserWarning)\n",
      "/home/ec2-user/anaconda3/envs/amazonei_pytorch_latest_p36/lib/python3.6/site-packages/xgboost/sklearn.py:1146: UserWarning: The use of label encoder in XGBClassifier is deprecated and will be removed in a future release. To remove this warning, do the following: 1) Pass option use_label_encoder=False when constructing XGBClassifier object; and 2) Encode your labels (y) as integers starting with 0, i.e. 0, 1, 2, ..., [num_class - 1].\n",
      "  warnings.warn(label_encoder_deprecation_msg, UserWarning)\n"
     ]
    },
    {
     "name": "stdout",
     "output_type": "stream",
     "text": [
      "fit_time: 3.57 (+/- 0.05)\n",
      "score_time: 0.02 (+/- 0.00)\n",
      "test_roc_auc: 0.66 (+/- 0.05)\n",
      "test_accuracy: 0.69 (+/- 0.03)\n",
      "test_precision: 0.49 (+/- 0.06)\n",
      "test_recall: 0.31 (+/- 0.07)\n",
      "test_f1: 0.38 (+/- 0.05)\n",
      "              precision    recall  f1-score   support\n",
      "\n",
      "         0.0       0.75      0.88      0.81       827\n",
      "         1.0       0.54      0.32      0.40       358\n",
      "\n",
      "    accuracy                           0.71      1185\n",
      "   macro avg       0.64      0.60      0.60      1185\n",
      "weighted avg       0.69      0.71      0.69      1185\n",
      "\n"
     ]
    }
   ],
   "source": [
    "import simple_model"
   ]
  },
  {
   "cell_type": "code",
   "execution_count": 7,
   "id": "d52becb2",
   "metadata": {},
   "outputs": [
    {
     "name": "stdout",
     "output_type": "stream",
     "text": [
      "Using Plain Embeddings\n",
      "float64\n",
      "{'observation_window_hours': 24, 'antibiotics_name': ['CEFTAZIDIME'], 'bacteria_ids': [80004, 80026, 80005, 80017, 80040, 80008, 80007, 80002], 'negative_to_positive_ratio': 2, 'test_set_fraction': 0.01, 'validation_set_fraction': 0.29, 'train_set_fraction': 0.8, 'random_state': 11}\n",
      "Train count: Counter({0.0: 2024, 1.0: 876})\n",
      "Validate count: Counter({0.0: 827, 1.0: 358})\n",
      "0.30210970464135023\n",
      "Train shape: (2900, 842)\n",
      "Validate shape: (1185, 842)\n",
      "Training XGBoost\n"
     ]
    },
    {
     "name": "stderr",
     "output_type": "stream",
     "text": [
      "/home/ec2-user/anaconda3/envs/amazonei_pytorch_latest_p36/lib/python3.6/site-packages/xgboost/sklearn.py:1146: UserWarning: The use of label encoder in XGBClassifier is deprecated and will be removed in a future release. To remove this warning, do the following: 1) Pass option use_label_encoder=False when constructing XGBClassifier object; and 2) Encode your labels (y) as integers starting with 0, i.e. 0, 1, 2, ..., [num_class - 1].\n",
      "  warnings.warn(label_encoder_deprecation_msg, UserWarning)\n",
      "/home/ec2-user/anaconda3/envs/amazonei_pytorch_latest_p36/lib/python3.6/site-packages/sklearn/utils/validation.py:63: DataConversionWarning: A column-vector y was passed when a 1d array was expected. Please change the shape of y to (n_samples, ), for example using ravel().\n",
      "  return f(*args, **kwargs)\n"
     ]
    },
    {
     "name": "stdout",
     "output_type": "stream",
     "text": [
      "predictions mean: 0.16455696202531644\n",
      "simple_score: 0.6953586497890295\n"
     ]
    },
    {
     "name": "stderr",
     "output_type": "stream",
     "text": [
      "/home/ec2-user/anaconda3/envs/amazonei_pytorch_latest_p36/lib/python3.6/site-packages/xgboost/sklearn.py:1146: UserWarning: The use of label encoder in XGBClassifier is deprecated and will be removed in a future release. To remove this warning, do the following: 1) Pass option use_label_encoder=False when constructing XGBClassifier object; and 2) Encode your labels (y) as integers starting with 0, i.e. 0, 1, 2, ..., [num_class - 1].\n",
      "  warnings.warn(label_encoder_deprecation_msg, UserWarning)\n",
      "/home/ec2-user/anaconda3/envs/amazonei_pytorch_latest_p36/lib/python3.6/site-packages/xgboost/sklearn.py:1146: UserWarning: The use of label encoder in XGBClassifier is deprecated and will be removed in a future release. To remove this warning, do the following: 1) Pass option use_label_encoder=False when constructing XGBClassifier object; and 2) Encode your labels (y) as integers starting with 0, i.e. 0, 1, 2, ..., [num_class - 1].\n",
      "  warnings.warn(label_encoder_deprecation_msg, UserWarning)\n",
      "/home/ec2-user/anaconda3/envs/amazonei_pytorch_latest_p36/lib/python3.6/site-packages/xgboost/sklearn.py:1146: UserWarning: The use of label encoder in XGBClassifier is deprecated and will be removed in a future release. To remove this warning, do the following: 1) Pass option use_label_encoder=False when constructing XGBClassifier object; and 2) Encode your labels (y) as integers starting with 0, i.e. 0, 1, 2, ..., [num_class - 1].\n",
      "  warnings.warn(label_encoder_deprecation_msg, UserWarning)\n",
      "/home/ec2-user/anaconda3/envs/amazonei_pytorch_latest_p36/lib/python3.6/site-packages/xgboost/sklearn.py:1146: UserWarning: The use of label encoder in XGBClassifier is deprecated and will be removed in a future release. To remove this warning, do the following: 1) Pass option use_label_encoder=False when constructing XGBClassifier object; and 2) Encode your labels (y) as integers starting with 0, i.e. 0, 1, 2, ..., [num_class - 1].\n",
      "  warnings.warn(label_encoder_deprecation_msg, UserWarning)\n",
      "/home/ec2-user/anaconda3/envs/amazonei_pytorch_latest_p36/lib/python3.6/site-packages/xgboost/sklearn.py:1146: UserWarning: The use of label encoder in XGBClassifier is deprecated and will be removed in a future release. To remove this warning, do the following: 1) Pass option use_label_encoder=False when constructing XGBClassifier object; and 2) Encode your labels (y) as integers starting with 0, i.e. 0, 1, 2, ..., [num_class - 1].\n",
      "  warnings.warn(label_encoder_deprecation_msg, UserWarning)\n"
     ]
    },
    {
     "name": "stdout",
     "output_type": "stream",
     "text": [
      "fit_time: 4.91 (+/- 0.08)\n",
      "score_time: 0.02 (+/- 0.00)\n",
      "test_roc_auc: 0.68 (+/- 0.05)\n",
      "test_accuracy: 0.71 (+/- 0.04)\n",
      "test_precision: 0.53 (+/- 0.12)\n",
      "test_recall: 0.31 (+/- 0.04)\n",
      "test_f1: 0.39 (+/- 0.05)\n",
      "              precision    recall  f1-score   support\n",
      "\n",
      "         0.0       0.74      0.88      0.80       827\n",
      "         1.0       0.49      0.27      0.35       358\n",
      "\n",
      "    accuracy                           0.70      1185\n",
      "   macro avg       0.61      0.57      0.57      1185\n",
      "weighted avg       0.66      0.70      0.66      1185\n",
      "\n"
     ]
    }
   ],
   "source": [
    "import simple_model"
   ]
  },
  {
   "cell_type": "markdown",
   "id": "9eed5e80",
   "metadata": {},
   "source": [
    "## new dataset, AutoEncoder"
   ]
  },
  {
   "cell_type": "code",
   "execution_count": 2,
   "id": "b96ff339",
   "metadata": {},
   "outputs": [
    {
     "name": "stdout",
     "output_type": "stream",
     "text": [
      "Using AutoEncoder\n",
      "int64\n",
      "{'observation_window_hours': 24, 'antibiotics_name': ['CEFTAZIDIME'], 'bacteria_ids': [80004, 80026, 80005, 80017, 80040, 80008, 80007, 80002], 'negative_to_positive_ratio': 2, 'test_set_fraction': 0.01, 'validation_set_fraction': 0.29, 'train_set_fraction': 0.8, 'random_state': 11, 'num_of_bins_for_numerics': 6}\n",
      "Train count: Counter({0: 2024, 1: 876})\n",
      "Validate count: Counter({0: 827, 1: 358})\n",
      "0.30210970464135023\n",
      "Train shape: (2900, 64)\n",
      "Validate shape: (1185, 64)\n",
      "Training Random Forest\n"
     ]
    },
    {
     "name": "stderr",
     "output_type": "stream",
     "text": [
      "/home/ec2-user/SageMaker/resistance-prediction/simple_model.py:113: DataConversionWarning: A column-vector y was passed when a 1d array was expected. Please change the shape of y to (n_samples,), for example using ravel().\n",
      "  rf.fit(X_train, y_train)\n"
     ]
    },
    {
     "name": "stdout",
     "output_type": "stream",
     "text": [
      "predictions mean: 0.4286919831223629\n",
      "simple_score: 0.6118143459915611\n",
      "fit_time: 1.38 (+/- 0.87)\n",
      "score_time: 0.22 (+/- 0.00)\n",
      "test_roc_auc: 0.68 (+/- 0.06)\n",
      "test_accuracy: 0.63 (+/- 0.06)\n",
      "test_precision: 0.43 (+/- 0.06)\n",
      "test_recall: 0.65 (+/- 0.05)\n",
      "test_f1: 0.52 (+/- 0.06)\n",
      "              precision    recall  f1-score   support\n",
      "\n",
      "           0       0.77      0.63      0.69       827\n",
      "           1       0.40      0.57      0.47       358\n",
      "\n",
      "    accuracy                           0.61      1185\n",
      "   macro avg       0.59      0.60      0.58      1185\n",
      "weighted avg       0.66      0.61      0.63      1185\n",
      "\n"
     ]
    }
   ],
   "source": [
    "import simple_model"
   ]
  },
  {
   "cell_type": "code",
   "execution_count": null,
   "id": "1aaf8a16",
   "metadata": {},
   "outputs": [],
   "source": []
  }
 ],
 "metadata": {
  "kernelspec": {
   "display_name": "conda_amazonei_pytorch_latest_p36",
   "language": "python",
   "name": "conda_amazonei_pytorch_latest_p36"
  },
  "language_info": {
   "codemirror_mode": {
    "name": "ipython",
    "version": 3
   },
   "file_extension": ".py",
   "mimetype": "text/x-python",
   "name": "python",
   "nbconvert_exporter": "python",
   "pygments_lexer": "ipython3",
   "version": "3.6.13"
  }
 },
 "nbformat": 4,
 "nbformat_minor": 5
}
