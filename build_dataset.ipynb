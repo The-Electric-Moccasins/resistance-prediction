{
 "cells": [
  {
   "cell_type": "code",
   "execution_count": null,
   "id": "c0f753d2",
   "metadata": {},
   "outputs": [],
   "source": [
    "%pip install -q -r requirements.txt"
   ]
  },
  {
   "cell_type": "code",
   "execution_count": null,
   "id": "d9095555",
   "metadata": {},
   "outputs": [],
   "source": [
    "%load_ext autoreload\n",
    "%autoreload 2"
   ]
  },
  {
   "cell_type": "code",
   "execution_count": null,
   "id": "00e2420a",
   "metadata": {},
   "outputs": [],
   "source": [
    "# load hyperparams instance\n",
    "from hyper_params import HyperParams\n",
    "params = HyperParams()"
   ]
  },
  {
   "cell_type": "code",
   "execution_count": null,
   "id": "fbefcdb8",
   "metadata": {},
   "outputs": [],
   "source": [
    "DATA_DIR='data'"
   ]
  },
  {
   "cell_type": "code",
   "execution_count": null,
   "id": "4aa976e0",
   "metadata": {},
   "outputs": [],
   "source": [
    "from dataproc import io\n",
    "io.DATA_DIR='data'"
   ]
  },
  {
   "cell_type": "code",
   "execution_count": null,
   "id": "ccff0ead",
   "metadata": {},
   "outputs": [],
   "source": [
    "# build all features dataset\n",
    "import featues_datasets_all_patients\n",
    "featues_datasets_all_patients.DATA_DIR = DATA_DIR\n",
    "df_final_dataset = featues_datasets_all_patients.run(params)"
   ]
  },
  {
   "cell_type": "code",
   "execution_count": 23,
   "id": "2477009e",
   "metadata": {},
   "outputs": [
    {
     "name": "stdout",
     "output_type": "stream",
     "text": [
      "df_cohort: (4130, 2)\n",
      "cohort data saved to data/fulldata.npy\n"
     ]
    }
   ],
   "source": [
    "# create a cohort dataframe and numpy file\n",
    "import build_cohort_dataset\n",
    "df_cohort = build_cohort_dataset.build_cohort(params, df_final_dataset)"
   ]
  },
  {
   "cell_type": "markdown",
   "id": "49823e09",
   "metadata": {},
   "source": [
    "## Tools to explore too many unique values"
   ]
  },
  {
   "cell_type": "code",
   "execution_count": null,
   "id": "9ae2d969",
   "metadata": {},
   "outputs": [],
   "source": [
    "df_dataset_unprocessed[categorical_cols].nunique().sort_values(ascending=False)[0:20]"
   ]
  },
  {
   "cell_type": "code",
   "execution_count": null,
   "id": "18321fc2",
   "metadata": {},
   "outputs": [],
   "source": [
    "allvals = df_dataset_unprocessed['51508'].unique().tolist()\n",
    "len(allvals), df_dataset_unprocessed['51508'].notna().sum()"
   ]
  },
  {
   "cell_type": "code",
   "execution_count": null,
   "id": "b8f40dcf",
   "metadata": {},
   "outputs": [],
   "source": [
    "df_dataset_unprocessed['51508'].value_counts()"
   ]
  },
  {
   "cell_type": "code",
   "execution_count": null,
   "id": "659b96f3",
   "metadata": {},
   "outputs": [],
   "source": []
  },
  {
   "cell_type": "code",
   "execution_count": null,
   "id": "30a28ff5",
   "metadata": {},
   "outputs": [],
   "source": [
    "[x for x in allvals if x and not x == np.nan and not str(x).replace('.','').isnumeric()]"
   ]
  },
  {
   "cell_type": "code",
   "execution_count": null,
   "id": "c7817289",
   "metadata": {},
   "outputs": [],
   "source": [
    "pd.Series(sorted([float(x) for x in allvals if x and str(x).replace('.','').isnumeric() and float(x) > 1000.0])).describe()\n"
   ]
  },
  {
   "cell_type": "code",
   "execution_count": null,
   "id": "be4b9f51",
   "metadata": {},
   "outputs": [],
   "source": [
    "df_dataset_unprocessed.nunique().sort_values(ascending=False)"
   ]
  },
  {
   "cell_type": "markdown",
   "id": "46ad07a7",
   "metadata": {},
   "source": [
    "## THE END"
   ]
  },
  {
   "cell_type": "code",
   "execution_count": null,
   "id": "3bc665b2",
   "metadata": {},
   "outputs": [],
   "source": [
    "import torch\n",
    "torch.__version__"
   ]
  },
  {
   "cell_type": "code",
   "execution_count": null,
   "id": "7cde56ba",
   "metadata": {},
   "outputs": [],
   "source": []
  },
  {
   "cell_type": "code",
   "execution_count": null,
   "id": "95a0158d",
   "metadata": {},
   "outputs": [],
   "source": [
    "fulldata"
   ]
  },
  {
   "cell_type": "code",
   "execution_count": null,
   "id": "14130ce5",
   "metadata": {},
   "outputs": [],
   "source": []
  }
 ],
 "metadata": {
  "kernelspec": {
   "display_name": "conda_amazonei_pytorch_latest_p36",
   "language": "python",
   "name": "conda_amazonei_pytorch_latest_p36"
  },
  "language_info": {
   "codemirror_mode": {
    "name": "ipython",
    "version": 3
   },
   "file_extension": ".py",
   "mimetype": "text/x-python",
   "name": "python",
   "nbconvert_exporter": "python",
   "pygments_lexer": "ipython3",
   "version": "3.6.13"
  }
 },
 "nbformat": 4,
 "nbformat_minor": 5
}
