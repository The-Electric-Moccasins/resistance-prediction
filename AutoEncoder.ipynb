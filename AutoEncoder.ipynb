{
 "cells": [
  {
   "cell_type": "code",
   "execution_count": 1,
   "id": "18696bcf",
   "metadata": {},
   "outputs": [],
   "source": [
    "%load_ext autoreload\n",
    "%autoreload 2"
   ]
  },
  {
   "cell_type": "code",
   "execution_count": 2,
   "id": "c8f2eb6a",
   "metadata": {},
   "outputs": [],
   "source": [
    "import numpy as np\n",
    "\n",
    "import torch\n",
    "import torch.nn as nn\n",
    "import torch.nn.functional as F\n",
    "from torch.utils.data import Dataset\n",
    "from embeddings.dataloader import TheDataSet\n",
    "%matplotlib inline\n",
    "import matplotlib.pyplot as plt\n",
    "# import tensorboard\n",
    "# from tensorboard import SummaryWriter\n",
    "\n"
   ]
  },
  {
   "cell_type": "code",
   "execution_count": 3,
   "id": "a07048a1",
   "metadata": {
    "collapsed": false,
    "jupyter": {
     "outputs_hidden": false
    },
    "pycharm": {
     "name": "#%%\n"
    }
   },
   "outputs": [],
   "source": [
    "encoder_training_epochs = 500\n",
    "# dataset_file = 'data_ae_train/fulldata.npy'\n",
    "# dataset_file = 'data/fulldata.npy'\n",
    "dataset_file = 'data/autoencoder_fulldata.npy'\n",
    "# dataset_file = 'data/autoencoder_fulldata_mini.npy'\n",
    "\n",
    "# dataset_file = 'data/labdata.npy'"
   ]
  },
  {
   "cell_type": "code",
   "execution_count": 4,
   "id": "25a85cf8",
   "metadata": {},
   "outputs": [],
   "source": [
    "mxxx = np.load(dataset_file)"
   ]
  },
  {
   "cell_type": "code",
   "execution_count": 5,
   "id": "964b6a64",
   "metadata": {},
   "outputs": [
    {
     "data": {
      "text/plain": [
       "((54871, 1338), 1.0, 0.0)"
      ]
     },
     "execution_count": 5,
     "metadata": {},
     "output_type": "execute_result"
    }
   ],
   "source": [
    "mxxx.shape, np.max(mxxx), np.min(mxxx)"
   ]
  },
  {
   "cell_type": "code",
   "execution_count": 6,
   "id": "91f0d352",
   "metadata": {},
   "outputs": [],
   "source": [
    "del mxxx"
   ]
  },
  {
   "cell_type": "code",
   "execution_count": 6,
   "id": "26108d57",
   "metadata": {
    "collapsed": false,
    "jupyter": {
     "outputs_hidden": false
    },
    "pycharm": {
     "name": "#%%\n"
    }
   },
   "outputs": [],
   "source": [
    "# default `log_dir` is \"runs\" - we'll be more specific here\n",
    "# writer = SummaryWriter(f\"runs/autoencoder_experiment_{encoder_training_epochs}\")\n"
   ]
  },
  {
   "cell_type": "markdown",
   "id": "b50248b0",
   "metadata": {},
   "source": [
    "## AutoEncoder\n"
   ]
  },
  {
   "cell_type": "code",
   "execution_count": 7,
   "id": "5e178edc",
   "metadata": {},
   "outputs": [
    {
     "name": "stdout",
     "output_type": "stream",
     "text": [
      "Overwriting embeddings/autoencoder.py\n"
     ]
    }
   ],
   "source": [
    "%%writefile embeddings/autoencoder.py\n",
    "\n",
    "# d=64\n",
    "import torch\n",
    "import torch.nn as nn\n",
    "\n",
    "\n",
    "class Autoencoder(nn.Module):\n",
    "    def __init__(self, num_features):\n",
    "        super(Autoencoder, self).__init__()\n",
    "        self.encoder = nn.Sequential(\n",
    "            nn.Linear(in_features=num_features, out_features=num_features // 2 , bias=True),\n",
    "            nn.Dropout(p = 0.1),\n",
    "            nn.ReLU(),\n",
    "            nn.Linear(in_features=num_features // 2, out_features=128, bias=True),\n",
    "            nn.ReLU(),\n",
    "            nn.Linear(in_features=128, out_features=64, bias=True),\n",
    "            nn.Tanh()\n",
    "        )\n",
    "        self.decoder = nn.Sequential(\n",
    "            nn.Linear(in_features=64, out_features=128, bias=True),\n",
    "            nn.Tanh(),\n",
    "            nn.Linear(in_features=128, out_features=num_features // 2, bias=True),\n",
    "            nn.ReLU(),\n",
    "            nn.Linear(in_features=num_features // 2, out_features=num_features, bias=True ),\n",
    "            #nn.Sigmoid()\n",
    "            nn.ReLU()\n",
    "#             nn.Tanh()\n",
    "        )\n",
    "\n",
    "    def forward(self, x):\n",
    "        x = self.encoder(x)\n",
    "        x = self.decoder(x)\n",
    "        return x\n"
   ]
  },
  {
   "cell_type": "code",
   "execution_count": 8,
   "id": "cdf64569",
   "metadata": {},
   "outputs": [
    {
     "name": "stdout",
     "output_type": "stream",
     "text": [
      "Overwriting embeddings/autoencoder.py\n"
     ]
    }
   ],
   "source": [
    "%%writefile embeddings/autoencoder.py\n",
    "\n",
    "# d= 128\n",
    "import torch\n",
    "import torch.nn as nn\n",
    "\n",
    "\n",
    "class Autoencoder(nn.Module):\n",
    "    def __init__(self, num_features):\n",
    "        super(Autoencoder, self).__init__()\n",
    "        self.encoder = nn.Sequential(\n",
    "            nn.Linear(in_features=num_features, out_features=num_features // 2 , bias=True),\n",
    "            nn.Dropout(p = 0.1),\n",
    "            nn.ReLU(),\n",
    "            nn.Linear(in_features=num_features // 2, out_features=256, bias=True),\n",
    "            nn.ReLU(),\n",
    "            nn.Linear(in_features=256, out_features=128, bias=True),\n",
    "            nn.Tanh()\n",
    "        )\n",
    "        self.decoder = nn.Sequential(\n",
    "            nn.Linear(in_features=128, out_features=256, bias=True),\n",
    "            nn.Tanh(),\n",
    "            nn.Linear(in_features=256, out_features=num_features // 2, bias=True),\n",
    "            nn.ReLU(),\n",
    "            nn.Linear(in_features=num_features // 2, out_features=num_features, bias=True ),\n",
    "            #nn.Sigmoid()\n",
    "            nn.ReLU()\n",
    "#             nn.Tanh()\n",
    "        )\n",
    "\n",
    "    def forward(self, x):\n",
    "        x = self.encoder(x)\n",
    "        x = self.decoder(x)\n",
    "        return x\n"
   ]
  },
  {
   "cell_type": "code",
   "execution_count": 3,
   "id": "677ebd1c",
   "metadata": {},
   "outputs": [
    {
     "name": "stdout",
     "output_type": "stream",
     "text": [
      "Overwriting embeddings/autoencoder.py\n"
     ]
    }
   ],
   "source": [
    "%%writefile embeddings/autoencoder.py\n",
    "\n",
    "import torch\n",
    "import torch.nn as nn\n",
    "\n",
    "\n",
    "class Autoencoder(nn.Module):\n",
    "    def __init__(self, num_features):\n",
    "        super(Autoencoder, self).__init__()\n",
    "        self.encoder = nn.Sequential(\n",
    "            nn.Linear(in_features=num_features, out_features=128 , bias=True),\n",
    "            nn.Tanh(),\n",
    "            nn.Linear(in_features=128, out_features=64, bias=True),\n",
    "            nn.Tanh(),\n",
    "#             nn.Linear(in_features=64, out_features=32, bias=True),\n",
    "#             nn.Tanh()\n",
    "        )\n",
    "        self.decoder = nn.Sequential(\n",
    "#             nn.Linear(in_features=32, out_features=64, bias=True),\n",
    "#             nn.Tanh(),\n",
    "            nn.Linear(in_features=64, out_features=128, bias=True),\n",
    "            nn.Tanh(),\n",
    "            nn.Linear(in_features=128, out_features=num_features, bias=True ),\n",
    "            #nn.Sigmoid()\n",
    "            nn.Tanh()\n",
    "#             nn.Tanh()\n",
    "        )\n",
    "\n",
    "    def forward(self, x):\n",
    "        x = self.encoder(x)\n",
    "        x = self.decoder(x)\n",
    "        return x\n"
   ]
  },
  {
   "cell_type": "code",
   "execution_count": 9,
   "id": "8ec29379",
   "metadata": {
    "collapsed": false,
    "jupyter": {
     "outputs_hidden": false
    },
    "pycharm": {
     "name": "#%%\n"
    }
   },
   "outputs": [],
   "source": [
    "from embeddings.autoencoder import Autoencoder"
   ]
  },
  {
   "cell_type": "markdown",
   "id": "b296239d",
   "metadata": {},
   "source": [
    "## Training"
   ]
  },
  {
   "cell_type": "code",
   "execution_count": 10,
   "id": "9c939b93",
   "metadata": {},
   "outputs": [],
   "source": [
    "def train(model, dataset, num_epochs=5, batch_size=64, learning_rate=1e-3):\n",
    "    device = 'cuda' if torch.cuda.is_available() else 'cpu'\n",
    "    model = model.to(device)\n",
    "    torch.manual_seed(42)\n",
    "    criterion = nn.MSELoss() # mean square error loss\n",
    "#     criterion = nn.L1Loss()\n",
    "#     criterion = nn.BCELoss()\n",
    "    optimizer = torch.optim.Adam(model.parameters(),\n",
    "                                 lr=learning_rate, \n",
    "                                 weight_decay=1e-5) # <--\n",
    "    train_loader = torch.utils.data.DataLoader(dataset, batch_size=batch_size, shuffle=True)\n",
    "    outputs = []\n",
    "    losses = []\n",
    "    for epoch in range(num_epochs):\n",
    "        for X, y in train_loader:\n",
    "            X = X.to(device)\n",
    "            recon = model(X.float())\n",
    "            loss = criterion(recon, X.float())\n",
    "            loss.backward()\n",
    "            optimizer.step()\n",
    "            optimizer.zero_grad()\n",
    "\n",
    "        print('Epoch:{}, Loss:{:.4f}'.format(epoch+1, float(loss)))\n",
    "        losses.append(float(loss))\n",
    "#         writer.add_scalar(f'training loss {num_epochs}',\n",
    "#                             loss,\n",
    "#                             epoch * len(train_loader))\n",
    "        # stop training if loss is low\n",
    "        if loss < 0.0050:\n",
    "            break\n",
    "    return outputs, losses"
   ]
  },
  {
   "cell_type": "code",
   "execution_count": 11,
   "id": "0220edcc",
   "metadata": {},
   "outputs": [
    {
     "name": "stdout",
     "output_type": "stream",
     "text": [
      "dataset length = 54871 num features = 1337\n",
      "Autoencoder(\n",
      "  (encoder): Sequential(\n",
      "    (0): Linear(in_features=1337, out_features=668, bias=True)\n",
      "    (1): Dropout(p=0.1, inplace=False)\n",
      "    (2): ReLU()\n",
      "    (3): Linear(in_features=668, out_features=256, bias=True)\n",
      "    (4): ReLU()\n",
      "    (5): Linear(in_features=256, out_features=128, bias=True)\n",
      "    (6): Tanh()\n",
      "  )\n",
      "  (decoder): Sequential(\n",
      "    (0): Linear(in_features=128, out_features=256, bias=True)\n",
      "    (1): Tanh()\n",
      "    (2): Linear(in_features=256, out_features=668, bias=True)\n",
      "    (3): ReLU()\n",
      "    (4): Linear(in_features=668, out_features=1337, bias=True)\n",
      "    (5): ReLU()\n",
      "  )\n",
      ")\n"
     ]
    }
   ],
   "source": [
    "dataset = TheDataSet(datafile=dataset_file, pad_to_360=False)\n",
    "print(f\"dataset length = {len(dataset)} num features = {dataset.num_features()}\")\n",
    "model = Autoencoder(num_features=dataset.num_features())\n",
    "print(model)\n",
    "max_epochs = encoder_training_epochs"
   ]
  },
  {
   "cell_type": "code",
   "execution_count": 12,
   "id": "c544a290",
   "metadata": {},
   "outputs": [
    {
     "name": "stdout",
     "output_type": "stream",
     "text": [
      "Epoch:1, Loss:0.0467\n",
      "Epoch:2, Loss:0.0466\n",
      "Epoch:3, Loss:0.0478\n",
      "Epoch:4, Loss:0.0399\n",
      "Epoch:5, Loss:0.0318\n",
      "Epoch:6, Loss:0.0289\n",
      "Epoch:7, Loss:0.0262\n",
      "Epoch:8, Loss:0.0242\n",
      "Epoch:9, Loss:0.0239\n",
      "Epoch:10, Loss:0.0238\n",
      "Epoch:11, Loss:0.0230\n",
      "Epoch:12, Loss:0.0224\n",
      "Epoch:13, Loss:0.0203\n",
      "Epoch:14, Loss:0.0206\n",
      "Epoch:15, Loss:0.0199\n",
      "Epoch:16, Loss:0.0193\n",
      "Epoch:17, Loss:0.0193\n",
      "Epoch:18, Loss:0.0192\n",
      "Epoch:19, Loss:0.0196\n",
      "Epoch:20, Loss:0.0177\n",
      "Epoch:21, Loss:0.0184\n",
      "Epoch:22, Loss:0.0163\n",
      "Epoch:23, Loss:0.0177\n",
      "Epoch:24, Loss:0.0196\n",
      "Epoch:25, Loss:0.0180\n",
      "Epoch:26, Loss:0.0186\n",
      "Epoch:27, Loss:0.0180\n",
      "Epoch:28, Loss:0.0174\n",
      "Epoch:29, Loss:0.0181\n",
      "Epoch:30, Loss:0.0175\n",
      "Epoch:31, Loss:0.0168\n",
      "Epoch:32, Loss:0.0169\n",
      "Epoch:33, Loss:0.0163\n",
      "Epoch:34, Loss:0.0185\n",
      "Epoch:35, Loss:0.0177\n",
      "Epoch:36, Loss:0.0165\n",
      "Epoch:37, Loss:0.0176\n",
      "Epoch:38, Loss:0.0155\n",
      "Epoch:39, Loss:0.0169\n",
      "Epoch:40, Loss:0.0165\n",
      "Epoch:41, Loss:0.0154\n",
      "Epoch:42, Loss:0.0166\n",
      "Epoch:43, Loss:0.0168\n",
      "Epoch:44, Loss:0.0159\n",
      "Epoch:45, Loss:0.0161\n",
      "Epoch:46, Loss:0.0178\n",
      "Epoch:47, Loss:0.0165\n",
      "Epoch:48, Loss:0.0148\n",
      "Epoch:49, Loss:0.0169\n",
      "Epoch:50, Loss:0.0147\n",
      "Epoch:51, Loss:0.0169\n",
      "Epoch:52, Loss:0.0154\n",
      "Epoch:53, Loss:0.0149\n",
      "Epoch:54, Loss:0.0164\n",
      "Epoch:55, Loss:0.0150\n",
      "Epoch:56, Loss:0.0148\n",
      "Epoch:57, Loss:0.0155\n",
      "Epoch:58, Loss:0.0166\n",
      "Epoch:59, Loss:0.0148\n",
      "Epoch:60, Loss:0.0169\n",
      "Epoch:61, Loss:0.0148\n",
      "Epoch:62, Loss:0.0156\n",
      "Epoch:63, Loss:0.0146\n",
      "Epoch:64, Loss:0.0149\n",
      "Epoch:65, Loss:0.0144\n",
      "Epoch:66, Loss:0.0159\n",
      "Epoch:67, Loss:0.0156\n",
      "Epoch:68, Loss:0.0142\n",
      "Epoch:69, Loss:0.0161\n",
      "Epoch:70, Loss:0.0145\n",
      "Epoch:71, Loss:0.0150\n",
      "Epoch:72, Loss:0.0161\n",
      "Epoch:73, Loss:0.0161\n",
      "Epoch:74, Loss:0.0147\n",
      "Epoch:75, Loss:0.0132\n",
      "Epoch:76, Loss:0.0134\n",
      "Epoch:77, Loss:0.0132\n",
      "Epoch:78, Loss:0.0148\n",
      "Epoch:79, Loss:0.0139\n",
      "Epoch:80, Loss:0.0154\n",
      "Epoch:81, Loss:0.0167\n",
      "Epoch:82, Loss:0.0145\n",
      "Epoch:83, Loss:0.0126\n",
      "Epoch:84, Loss:0.0129\n",
      "Epoch:85, Loss:0.0131\n",
      "Epoch:86, Loss:0.0137\n",
      "Epoch:87, Loss:0.0119\n",
      "Epoch:88, Loss:0.0148\n",
      "Epoch:89, Loss:0.0148\n",
      "Epoch:90, Loss:0.0140\n",
      "Epoch:91, Loss:0.0150\n",
      "Epoch:92, Loss:0.0136\n",
      "Epoch:93, Loss:0.0159\n",
      "Epoch:94, Loss:0.0132\n",
      "Epoch:95, Loss:0.0147\n",
      "Epoch:96, Loss:0.0140\n",
      "Epoch:97, Loss:0.0127\n",
      "Epoch:98, Loss:0.0157\n",
      "Epoch:99, Loss:0.0147\n",
      "Epoch:100, Loss:0.0133\n",
      "Epoch:101, Loss:0.0130\n",
      "Epoch:102, Loss:0.0127\n",
      "Epoch:103, Loss:0.0140\n",
      "Epoch:104, Loss:0.0140\n",
      "Epoch:105, Loss:0.0127\n",
      "Epoch:106, Loss:0.0139\n",
      "Epoch:107, Loss:0.0156\n",
      "Epoch:108, Loss:0.0149\n",
      "Epoch:109, Loss:0.0150\n",
      "Epoch:110, Loss:0.0145\n",
      "Epoch:111, Loss:0.0128\n",
      "Epoch:112, Loss:0.0138\n",
      "Epoch:113, Loss:0.0146\n",
      "Epoch:114, Loss:0.0140\n",
      "Epoch:115, Loss:0.0141\n",
      "Epoch:116, Loss:0.0132\n",
      "Epoch:117, Loss:0.0131\n",
      "Epoch:118, Loss:0.0133\n",
      "Epoch:119, Loss:0.0137\n",
      "Epoch:120, Loss:0.0124\n",
      "Epoch:121, Loss:0.0136\n",
      "Epoch:122, Loss:0.0144\n",
      "Epoch:123, Loss:0.0152\n",
      "Epoch:124, Loss:0.0138\n",
      "Epoch:125, Loss:0.0125\n",
      "Epoch:126, Loss:0.0121\n",
      "Epoch:127, Loss:0.0132\n",
      "Epoch:128, Loss:0.0139\n",
      "Epoch:129, Loss:0.0146\n",
      "Epoch:130, Loss:0.0142\n",
      "Epoch:131, Loss:0.0130\n",
      "Epoch:132, Loss:0.0124\n",
      "Epoch:133, Loss:0.0124\n",
      "Epoch:134, Loss:0.0157\n",
      "Epoch:135, Loss:0.0147\n",
      "Epoch:136, Loss:0.0128\n",
      "Epoch:137, Loss:0.0142\n",
      "Epoch:138, Loss:0.0116\n",
      "Epoch:139, Loss:0.0128\n",
      "Epoch:140, Loss:0.0128\n",
      "Epoch:141, Loss:0.0130\n",
      "Epoch:142, Loss:0.0141\n",
      "Epoch:143, Loss:0.0130\n",
      "Epoch:144, Loss:0.0142\n",
      "Epoch:145, Loss:0.0144\n",
      "Epoch:146, Loss:0.0144\n",
      "Epoch:147, Loss:0.0120\n",
      "Epoch:148, Loss:0.0141\n",
      "Epoch:149, Loss:0.0131\n",
      "Epoch:150, Loss:0.0146\n",
      "Epoch:151, Loss:0.0124\n",
      "Epoch:152, Loss:0.0135\n",
      "Epoch:153, Loss:0.0139\n",
      "Epoch:154, Loss:0.0140\n",
      "Epoch:155, Loss:0.0147\n",
      "Epoch:156, Loss:0.0136\n",
      "Epoch:157, Loss:0.0127\n",
      "Epoch:158, Loss:0.0135\n",
      "Epoch:159, Loss:0.0138\n",
      "Epoch:160, Loss:0.0141\n",
      "Epoch:161, Loss:0.0128\n",
      "Epoch:162, Loss:0.0137\n",
      "Epoch:163, Loss:0.0141\n",
      "Epoch:164, Loss:0.0121\n",
      "Epoch:165, Loss:0.0137\n",
      "Epoch:166, Loss:0.0130\n",
      "Epoch:167, Loss:0.0137\n",
      "Epoch:168, Loss:0.0126\n",
      "Epoch:169, Loss:0.0130\n",
      "Epoch:170, Loss:0.0110\n",
      "Epoch:171, Loss:0.0146\n",
      "Epoch:172, Loss:0.0126\n",
      "Epoch:173, Loss:0.0137\n",
      "Epoch:174, Loss:0.0140\n",
      "Epoch:175, Loss:0.0133\n",
      "Epoch:176, Loss:0.0124\n",
      "Epoch:177, Loss:0.0135\n",
      "Epoch:178, Loss:0.0144\n",
      "Epoch:179, Loss:0.0135\n",
      "Epoch:180, Loss:0.0123\n",
      "Epoch:181, Loss:0.0137\n",
      "Epoch:182, Loss:0.0132\n",
      "Epoch:183, Loss:0.0144\n",
      "Epoch:184, Loss:0.0128\n",
      "Epoch:185, Loss:0.0126\n",
      "Epoch:186, Loss:0.0126\n",
      "Epoch:187, Loss:0.0141\n",
      "Epoch:188, Loss:0.0138\n",
      "Epoch:189, Loss:0.0140\n",
      "Epoch:190, Loss:0.0145\n",
      "Epoch:191, Loss:0.0146\n",
      "Epoch:192, Loss:0.0126\n",
      "Epoch:193, Loss:0.0151\n",
      "Epoch:194, Loss:0.0130\n",
      "Epoch:195, Loss:0.0146\n",
      "Epoch:196, Loss:0.0141\n",
      "Epoch:197, Loss:0.0139\n",
      "Epoch:198, Loss:0.0128\n",
      "Epoch:199, Loss:0.0129\n",
      "Epoch:200, Loss:0.0146\n",
      "Epoch:201, Loss:0.0129\n",
      "Epoch:202, Loss:0.0116\n",
      "Epoch:203, Loss:0.0134\n",
      "Epoch:204, Loss:0.0135\n",
      "Epoch:205, Loss:0.0133\n",
      "Epoch:206, Loss:0.0139\n",
      "Epoch:207, Loss:0.0129\n",
      "Epoch:208, Loss:0.0127\n",
      "Epoch:209, Loss:0.0130\n",
      "Epoch:210, Loss:0.0135\n",
      "Epoch:211, Loss:0.0134\n",
      "Epoch:212, Loss:0.0121\n",
      "Epoch:213, Loss:0.0127\n",
      "Epoch:214, Loss:0.0133\n",
      "Epoch:215, Loss:0.0131\n",
      "Epoch:216, Loss:0.0109\n",
      "Epoch:217, Loss:0.0139\n",
      "Epoch:218, Loss:0.0142\n",
      "Epoch:219, Loss:0.0140\n",
      "Epoch:220, Loss:0.0133\n",
      "Epoch:221, Loss:0.0134\n",
      "Epoch:222, Loss:0.0124\n",
      "Epoch:223, Loss:0.0120\n",
      "Epoch:224, Loss:0.0109\n",
      "Epoch:225, Loss:0.0134\n",
      "Epoch:226, Loss:0.0118\n",
      "Epoch:227, Loss:0.0126\n",
      "Epoch:228, Loss:0.0132\n",
      "Epoch:229, Loss:0.0140\n",
      "Epoch:230, Loss:0.0119\n",
      "Epoch:231, Loss:0.0145\n",
      "Epoch:232, Loss:0.0113\n",
      "Epoch:233, Loss:0.0122\n",
      "Epoch:234, Loss:0.0115\n",
      "Epoch:235, Loss:0.0132\n",
      "Epoch:236, Loss:0.0135\n",
      "Epoch:237, Loss:0.0127\n",
      "Epoch:238, Loss:0.0122\n",
      "Epoch:239, Loss:0.0131\n",
      "Epoch:240, Loss:0.0127\n",
      "Epoch:241, Loss:0.0123\n",
      "Epoch:242, Loss:0.0116\n",
      "Epoch:243, Loss:0.0120\n",
      "Epoch:244, Loss:0.0128\n",
      "Epoch:245, Loss:0.0131\n",
      "Epoch:246, Loss:0.0133\n",
      "Epoch:247, Loss:0.0129\n",
      "Epoch:248, Loss:0.0129\n",
      "Epoch:249, Loss:0.0129\n",
      "Epoch:250, Loss:0.0132\n",
      "Epoch:251, Loss:0.0131\n",
      "Epoch:252, Loss:0.0129\n",
      "Epoch:253, Loss:0.0131\n",
      "Epoch:254, Loss:0.0128\n",
      "Epoch:255, Loss:0.0123\n",
      "Epoch:256, Loss:0.0129\n",
      "Epoch:257, Loss:0.0138\n",
      "Epoch:258, Loss:0.0120\n",
      "Epoch:259, Loss:0.0120\n",
      "Epoch:260, Loss:0.0113\n",
      "Epoch:261, Loss:0.0123\n",
      "Epoch:262, Loss:0.0134\n",
      "Epoch:263, Loss:0.0120\n",
      "Epoch:264, Loss:0.0134\n",
      "Epoch:265, Loss:0.0124\n",
      "Epoch:266, Loss:0.0122\n",
      "Epoch:267, Loss:0.0115\n",
      "Epoch:268, Loss:0.0110\n",
      "Epoch:269, Loss:0.0115\n",
      "Epoch:270, Loss:0.0137\n",
      "Epoch:271, Loss:0.0123\n",
      "Epoch:272, Loss:0.0113\n",
      "Epoch:273, Loss:0.0136\n",
      "Epoch:274, Loss:0.0122\n",
      "Epoch:275, Loss:0.0122\n",
      "Epoch:276, Loss:0.0124\n",
      "Epoch:277, Loss:0.0117\n",
      "Epoch:278, Loss:0.0118\n",
      "Epoch:279, Loss:0.0121\n",
      "Epoch:280, Loss:0.0131\n",
      "Epoch:281, Loss:0.0114\n",
      "Epoch:282, Loss:0.0119\n",
      "Epoch:283, Loss:0.0112\n",
      "Epoch:284, Loss:0.0116\n",
      "Epoch:285, Loss:0.0127\n",
      "Epoch:286, Loss:0.0137\n",
      "Epoch:287, Loss:0.0122\n",
      "Epoch:288, Loss:0.0127\n",
      "Epoch:289, Loss:0.0130\n",
      "Epoch:290, Loss:0.0116\n",
      "Epoch:291, Loss:0.0115\n",
      "Epoch:292, Loss:0.0128\n",
      "Epoch:293, Loss:0.0117\n",
      "Epoch:294, Loss:0.0127\n",
      "Epoch:295, Loss:0.0127\n",
      "Epoch:296, Loss:0.0120\n",
      "Epoch:297, Loss:0.0119\n",
      "Epoch:298, Loss:0.0136\n",
      "Epoch:299, Loss:0.0132\n",
      "Epoch:300, Loss:0.0131\n",
      "Epoch:301, Loss:0.0122\n",
      "Epoch:302, Loss:0.0128\n",
      "Epoch:303, Loss:0.0135\n",
      "Epoch:304, Loss:0.0128\n",
      "Epoch:305, Loss:0.0120\n",
      "Epoch:306, Loss:0.0122\n",
      "Epoch:307, Loss:0.0124\n",
      "Epoch:308, Loss:0.0128\n",
      "Epoch:309, Loss:0.0121\n",
      "Epoch:310, Loss:0.0121\n",
      "Epoch:311, Loss:0.0129\n",
      "Epoch:312, Loss:0.0130\n",
      "Epoch:313, Loss:0.0131\n",
      "Epoch:314, Loss:0.0119\n",
      "Epoch:315, Loss:0.0123\n",
      "Epoch:316, Loss:0.0132\n",
      "Epoch:317, Loss:0.0131\n",
      "Epoch:318, Loss:0.0127\n",
      "Epoch:319, Loss:0.0138\n",
      "Epoch:320, Loss:0.0114\n",
      "Epoch:321, Loss:0.0115\n",
      "Epoch:322, Loss:0.0115\n",
      "Epoch:323, Loss:0.0125\n",
      "Epoch:324, Loss:0.0127\n",
      "Epoch:325, Loss:0.0127\n",
      "Epoch:326, Loss:0.0124\n",
      "Epoch:327, Loss:0.0113\n",
      "Epoch:328, Loss:0.0139\n",
      "Epoch:329, Loss:0.0119\n",
      "Epoch:330, Loss:0.0133\n",
      "Epoch:331, Loss:0.0128\n",
      "Epoch:332, Loss:0.0127\n",
      "Epoch:333, Loss:0.0126\n",
      "Epoch:334, Loss:0.0121\n",
      "Epoch:335, Loss:0.0125\n",
      "Epoch:336, Loss:0.0115\n",
      "Epoch:337, Loss:0.0122\n",
      "Epoch:338, Loss:0.0111\n",
      "Epoch:339, Loss:0.0111\n",
      "Epoch:340, Loss:0.0120\n",
      "Epoch:341, Loss:0.0131\n",
      "Epoch:342, Loss:0.0126\n",
      "Epoch:343, Loss:0.0118\n",
      "Epoch:344, Loss:0.0114\n",
      "Epoch:345, Loss:0.0140\n",
      "Epoch:346, Loss:0.0132\n",
      "Epoch:347, Loss:0.0112\n",
      "Epoch:348, Loss:0.0126\n",
      "Epoch:349, Loss:0.0118\n",
      "Epoch:350, Loss:0.0127\n",
      "Epoch:351, Loss:0.0115\n",
      "Epoch:352, Loss:0.0125\n",
      "Epoch:353, Loss:0.0117\n",
      "Epoch:354, Loss:0.0120\n",
      "Epoch:355, Loss:0.0117\n",
      "Epoch:356, Loss:0.0112\n",
      "Epoch:357, Loss:0.0108\n",
      "Epoch:358, Loss:0.0121\n",
      "Epoch:359, Loss:0.0122\n",
      "Epoch:360, Loss:0.0124\n",
      "Epoch:361, Loss:0.0119\n",
      "Epoch:362, Loss:0.0125\n",
      "Epoch:363, Loss:0.0120\n",
      "Epoch:364, Loss:0.0119\n",
      "Epoch:365, Loss:0.0138\n",
      "Epoch:366, Loss:0.0117\n",
      "Epoch:367, Loss:0.0110\n",
      "Epoch:368, Loss:0.0118\n",
      "Epoch:369, Loss:0.0123\n",
      "Epoch:370, Loss:0.0134\n",
      "Epoch:371, Loss:0.0114\n",
      "Epoch:372, Loss:0.0114\n",
      "Epoch:373, Loss:0.0121\n",
      "Epoch:374, Loss:0.0117\n",
      "Epoch:375, Loss:0.0113\n",
      "Epoch:376, Loss:0.0112\n",
      "Epoch:377, Loss:0.0124\n",
      "Epoch:378, Loss:0.0123\n",
      "Epoch:379, Loss:0.0112\n",
      "Epoch:380, Loss:0.0110\n",
      "Epoch:381, Loss:0.0108\n",
      "Epoch:382, Loss:0.0128\n",
      "Epoch:383, Loss:0.0116\n",
      "Epoch:384, Loss:0.0118\n",
      "Epoch:385, Loss:0.0111\n",
      "Epoch:386, Loss:0.0125\n",
      "Epoch:387, Loss:0.0121\n",
      "Epoch:388, Loss:0.0126\n",
      "Epoch:389, Loss:0.0131\n",
      "Epoch:390, Loss:0.0109\n",
      "Epoch:391, Loss:0.0131\n",
      "Epoch:392, Loss:0.0115\n",
      "Epoch:393, Loss:0.0104\n",
      "Epoch:394, Loss:0.0128\n",
      "Epoch:395, Loss:0.0123\n",
      "Epoch:396, Loss:0.0116\n",
      "Epoch:397, Loss:0.0104\n",
      "Epoch:398, Loss:0.0130\n",
      "Epoch:399, Loss:0.0128\n",
      "Epoch:400, Loss:0.0118\n",
      "Epoch:401, Loss:0.0113\n",
      "Epoch:402, Loss:0.0117\n",
      "Epoch:403, Loss:0.0127\n",
      "Epoch:404, Loss:0.0112\n",
      "Epoch:405, Loss:0.0120\n",
      "Epoch:406, Loss:0.0124\n",
      "Epoch:407, Loss:0.0129\n",
      "Epoch:408, Loss:0.0116\n",
      "Epoch:409, Loss:0.0115\n",
      "Epoch:410, Loss:0.0122\n",
      "Epoch:411, Loss:0.0113\n",
      "Epoch:412, Loss:0.0136\n",
      "Epoch:413, Loss:0.0123\n",
      "Epoch:414, Loss:0.0121\n",
      "Epoch:415, Loss:0.0116\n",
      "Epoch:416, Loss:0.0113\n",
      "Epoch:417, Loss:0.0121\n",
      "Epoch:418, Loss:0.0114\n",
      "Epoch:419, Loss:0.0128\n",
      "Epoch:420, Loss:0.0109\n",
      "Epoch:421, Loss:0.0114\n",
      "Epoch:422, Loss:0.0129\n",
      "Epoch:423, Loss:0.0110\n",
      "Epoch:424, Loss:0.0119\n",
      "Epoch:425, Loss:0.0112\n",
      "Epoch:426, Loss:0.0108\n",
      "Epoch:427, Loss:0.0123\n",
      "Epoch:428, Loss:0.0105\n",
      "Epoch:429, Loss:0.0121\n",
      "Epoch:430, Loss:0.0117\n",
      "Epoch:431, Loss:0.0128\n",
      "Epoch:432, Loss:0.0122\n",
      "Epoch:433, Loss:0.0116\n",
      "Epoch:434, Loss:0.0126\n",
      "Epoch:435, Loss:0.0114\n",
      "Epoch:436, Loss:0.0103\n",
      "Epoch:437, Loss:0.0104\n",
      "Epoch:438, Loss:0.0116\n",
      "Epoch:439, Loss:0.0106\n",
      "Epoch:440, Loss:0.0106\n",
      "Epoch:441, Loss:0.0103\n",
      "Epoch:442, Loss:0.0122\n",
      "Epoch:443, Loss:0.0125\n",
      "Epoch:444, Loss:0.0119\n",
      "Epoch:445, Loss:0.0121\n",
      "Epoch:446, Loss:0.0130\n",
      "Epoch:447, Loss:0.0121\n",
      "Epoch:448, Loss:0.0099\n",
      "Epoch:449, Loss:0.0108\n",
      "Epoch:450, Loss:0.0142\n",
      "Epoch:451, Loss:0.0126\n",
      "Epoch:452, Loss:0.0125\n",
      "Epoch:453, Loss:0.0120\n",
      "Epoch:454, Loss:0.0117\n",
      "Epoch:455, Loss:0.0138\n",
      "Epoch:456, Loss:0.0128\n",
      "Epoch:457, Loss:0.0102\n",
      "Epoch:458, Loss:0.0120\n",
      "Epoch:459, Loss:0.0116\n",
      "Epoch:460, Loss:0.0122\n",
      "Epoch:461, Loss:0.0108\n",
      "Epoch:462, Loss:0.0119\n",
      "Epoch:463, Loss:0.0117\n",
      "Epoch:464, Loss:0.0117\n",
      "Epoch:465, Loss:0.0115\n",
      "Epoch:466, Loss:0.0113\n",
      "Epoch:467, Loss:0.0119\n",
      "Epoch:468, Loss:0.0112\n",
      "Epoch:469, Loss:0.0122\n",
      "Epoch:470, Loss:0.0123\n",
      "Epoch:471, Loss:0.0114\n",
      "Epoch:472, Loss:0.0125\n",
      "Epoch:473, Loss:0.0107\n",
      "Epoch:474, Loss:0.0118\n",
      "Epoch:475, Loss:0.0107\n",
      "Epoch:476, Loss:0.0132\n",
      "Epoch:477, Loss:0.0122\n",
      "Epoch:478, Loss:0.0113\n",
      "Epoch:479, Loss:0.0105\n",
      "Epoch:480, Loss:0.0120\n",
      "Epoch:481, Loss:0.0112\n",
      "Epoch:482, Loss:0.0111\n",
      "Epoch:483, Loss:0.0127\n",
      "Epoch:484, Loss:0.0123\n",
      "Epoch:485, Loss:0.0106\n",
      "Epoch:486, Loss:0.0118\n",
      "Epoch:487, Loss:0.0104\n",
      "Epoch:488, Loss:0.0115\n",
      "Epoch:489, Loss:0.0122\n",
      "Epoch:490, Loss:0.0113\n",
      "Epoch:491, Loss:0.0110\n",
      "Epoch:492, Loss:0.0118\n",
      "Epoch:493, Loss:0.0117\n",
      "Epoch:494, Loss:0.0120\n",
      "Epoch:495, Loss:0.0116\n",
      "Epoch:496, Loss:0.0115\n",
      "Epoch:497, Loss:0.0116\n",
      "Epoch:498, Loss:0.0111\n",
      "Epoch:499, Loss:0.0124\n",
      "Epoch:500, Loss:0.0117\n",
      "CPU times: user 16min 14s, sys: 14.2 s, total: 16min 29s\n",
      "Wall time: 15min 27s\n"
     ]
    }
   ],
   "source": [
    "%%time\n",
    "outputs, losses = train(model, dataset=dataset, num_epochs=max_epochs, batch_size = 512, learning_rate=1e-3)"
   ]
  },
  {
   "cell_type": "code",
   "execution_count": 13,
   "id": "6211a317",
   "metadata": {},
   "outputs": [
    {
     "data": {
      "image/png": "[encoded data removed]",
      "text/plain": [
       "<Figure size 432x288 with 1 Axes>"
      ]
     },
     "metadata": {
      "needs_background": "light"
     },
     "output_type": "display_data"
    }
   ],
   "source": [
    "fig = plt.figure()\n",
    "ax = plt.axes()\n",
    "\n",
    "# x = np.linspace(0, 10, 1000)\n",
    "ax.plot(losses);"
   ]
  },
  {
   "cell_type": "code",
   "execution_count": 16,
   "id": "e1985411",
   "metadata": {},
   "outputs": [],
   "source": [
    "device = 'cuda' if torch.cuda.is_available() else 'cpu'\n",
    "dataset = TheDataSet(datafile='data/fulldata.npy', pad_to_360=False)\n",
    "data_loader = torch.utils.data.DataLoader(dataset, batch_size=1, shuffle=False)\n",
    "rows=[]\n",
    "for X, y in data_loader:\n",
    "    X = X.to(device)\n",
    "    y = y.to(device)\n",
    "    row = model.encoder(X.float())\n",
    "    row = torch.cat([row.reshape(1,-1),y.reshape(1,-1).float()], dim=1)\n",
    "    rows.append(row)"
   ]
  },
  {
   "cell_type": "code",
   "execution_count": 17,
   "id": "9448515c",
   "metadata": {},
   "outputs": [
    {
     "data": {
      "text/plain": [
       "4085"
      ]
     },
     "execution_count": 17,
     "metadata": {},
     "output_type": "execute_result"
    }
   ],
   "source": [
    "len(rows)"
   ]
  },
  {
   "cell_type": "code",
   "execution_count": 18,
   "id": "2f569c93",
   "metadata": {},
   "outputs": [],
   "source": [
    "encoded_data = torch.cat(rows, dim=0)"
   ]
  },
  {
   "cell_type": "code",
   "execution_count": 19,
   "id": "07e81f20",
   "metadata": {},
   "outputs": [],
   "source": [
    "np_labeled_data = encoded_data.detach().to('cpu').numpy()"
   ]
  },
  {
   "cell_type": "code",
   "execution_count": 20,
   "id": "1686fc0f",
   "metadata": {},
   "outputs": [],
   "source": [
    "np.save('data/np_autoencoded_labeled_data.npy', np_labeled_data)"
   ]
  },
  {
   "cell_type": "code",
   "execution_count": 34,
   "id": "d49f6c4f",
   "metadata": {},
   "outputs": [
    {
     "data": {
      "text/plain": [
       "(torch.Size([1, 65]),\n",
       " tensor([[ 0.1479, -0.2890, -0.5155, -0.3377, -0.1543,  0.9087,  0.3199, -0.0341,\n",
       "          -0.6982,  0.9970,  0.3223, -0.0421, -0.2520,  0.6466, -0.0977,  0.2991,\n",
       "           0.8181,  0.4294, -0.0431, -0.3838,  0.9970,  0.6513, -0.9836,  0.9970,\n",
       "           0.2387, -0.9970,  0.9970, -0.1760, -0.5356, -0.8139, -0.4584, -0.3392,\n",
       "           0.0995,  0.9159, -0.9970,  0.0716, -0.1129,  0.4067,  0.9970, -0.4828,\n",
       "           0.8070,  0.1122,  0.0312, -0.9970,  0.0856, -0.1463, -0.9970,  0.3189,\n",
       "           0.8918,  0.1904,  0.9970, -0.9951, -0.5434,  0.1786, -0.7900, -0.5141,\n",
       "           0.3048, -0.8398, -0.9355,  0.1171,  0.8686,  0.2800,  0.4023, -0.3393,\n",
       "           0.0000,  0.0000]], device='cuda:0', grad_fn=<CatBackward>))"
      ]
     },
     "execution_count": 34,
     "metadata": {},
     "output_type": "execute_result"
    }
   ],
   "source": [
    "row.reshape(1,-1).shape, torch.cat([row.reshape(1,-1),y.reshape(1,-1).float()], dim=1)"
   ]
  },
  {
   "cell_type": "code",
   "execution_count": null,
   "id": "3d4f7561",
   "metadata": {},
   "outputs": [],
   "source": [
    "import numpy as np\n",
    "np.save()"
   ]
  },
  {
   "cell_type": "code",
   "execution_count": 41,
   "id": "629ffc2c",
   "metadata": {},
   "outputs": [
    {
     "data": {
      "text/plain": [
       "0.009168824180960655"
      ]
     },
     "execution_count": 41,
     "metadata": {},
     "output_type": "execute_result"
    }
   ],
   "source": [
    "min(losses)"
   ]
  },
  {
   "cell_type": "code",
   "execution_count": 14,
   "id": "48d74428",
   "metadata": {
    "collapsed": false,
    "jupyter": {
     "outputs_hidden": false
    },
    "pycharm": {
     "name": "#%%\n"
    }
   },
   "outputs": [],
   "source": [
    "# persist the encoder\n",
    "\n",
    "\n",
    "with open('data/autoencoder.pic', 'bw') as f:\n",
    "    torch.save(model, f, pickle_protocol=4)\n",
    "\n",
    "\n"
   ]
  },
  {
   "cell_type": "code",
   "execution_count": 10,
   "id": "d9539b46",
   "metadata": {
    "collapsed": false,
    "jupyter": {
     "outputs_hidden": false
    },
    "pycharm": {
     "name": "#%%\n"
    }
   },
   "outputs": [],
   "source": [
    "with open('data/autoencoder.pic', 'rb') as f:\n",
    "    autoencoder = torch.load(f)"
   ]
  },
  {
   "cell_type": "code",
   "execution_count": 10,
   "id": "1ea9d17a",
   "metadata": {
    "collapsed": false,
    "jupyter": {
     "outputs_hidden": false
    },
    "pycharm": {
     "name": "#%%\n"
    }
   },
   "outputs": [],
   "source": []
  }
 ],
 "metadata": {
  "kernelspec": {
   "display_name": "conda_amazonei_pytorch_latest_p36",
   "language": "python",
   "name": "conda_amazonei_pytorch_latest_p36"
  },
  "language_info": {
   "codemirror_mode": {
    "name": "ipython",
    "version": 3
   },
   "file_extension": ".py",
   "mimetype": "text/x-python",
   "name": "python",
   "nbconvert_exporter": "python",
   "pygments_lexer": "ipython3",
   "version": "3.6.13"
  }
 },
 "nbformat": 4,
 "nbformat_minor": 5
}
