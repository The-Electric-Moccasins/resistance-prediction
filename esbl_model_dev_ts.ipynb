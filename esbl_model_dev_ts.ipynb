{
 "cells": [
  {
   "cell_type": "code",
   "execution_count": 4,
   "id": "magnetic-soviet",
   "metadata": {},
   "outputs": [],
   "source": [
    "!pip install -q PyAthena"
   ]
  },
  {
   "cell_type": "markdown",
   "id": "velvet-respondent",
   "metadata": {},
   "source": [
    "## Prepare Datasets for Predictor Training, Validation and Testing"
   ]
  },
  {
   "cell_type": "markdown",
   "id": "alpha-christmas",
   "metadata": {},
   "source": [
    "#### TS"
   ]
  },
  {
   "cell_type": "markdown",
   "id": "stuck-people",
   "metadata": {},
   "source": [
    "Import modules that build patient cohort, extract demographics and lab events data:"
   ]
  },
  {
   "cell_type": "code",
   "execution_count": 1,
   "id": "accessible-accounting",
   "metadata": {
    "scrolled": true
   },
   "outputs": [],
   "source": [
    "from dataproc.cohort import query_esbl_pts, remove_dups, observation_window\n",
    "from dataproc.sampling import generate_samples\n",
    "from dataproc.create_dataset import dataset_creation\n",
    "from hyper_params import HyperParams\n",
    "\n",
    "import numpy as np\n",
    "import pandas as pd\n",
    "from matplotlib import pyplot\n",
    "%matplotlib inline\n",
    "\n",
    "from sklearn.preprocessing import OneHotEncoder"
   ]
  },
  {
   "cell_type": "code",
   "execution_count": 2,
   "id": "voluntary-tracker",
   "metadata": {},
   "outputs": [
    {
     "data": {
      "text/plain": [
       "'1.1.5'"
      ]
     },
     "execution_count": 2,
     "metadata": {},
     "output_type": "execute_result"
    }
   ],
   "source": [
    "pd.__version__"
   ]
  },
  {
   "cell_type": "code",
   "execution_count": 3,
   "id": "offshore-joshua",
   "metadata": {},
   "outputs": [],
   "source": [
    "# load hyperparams instance\n",
    "params = HyperParams()"
   ]
  },
  {
   "cell_type": "markdown",
   "id": "passing-collapse",
   "metadata": {},
   "source": [
    "Patients cohort:"
   ]
  },
  {
   "cell_type": "code",
   "execution_count": 44,
   "id": "effective-yield",
   "metadata": {},
   "outputs": [],
   "source": [
    "# Select esbl microbiology test\n",
    "esbl_admits = query_esbl_pts()\n",
    "# Remove dups\n",
    "esbl_admits = remove_dups(esbl_admits)\n",
    "# Create observation window\n",
    "esbl_admits_window = observation_window(esbl_admits, window_size=params.observation_window_hours)\n",
    "# Subset columns\n",
    "pts_labels = esbl_admits_window[['hadm_id', 'index_date','RESISTANT_YN']]\n",
    "pts_labels.to_pickle('data/patient_labels.pkl')"
   ]
  },
  {
   "cell_type": "markdown",
   "id": "excessive-republican",
   "metadata": {},
   "source": [
    "Import cohort/labels data from the .pkl file:"
   ]
  },
  {
   "cell_type": "code",
   "execution_count": 4,
   "id": "rental-victorian",
   "metadata": {},
   "outputs": [
    {
     "name": "stdout",
     "output_type": "stream",
     "text": [
      "(4636, 3)\n"
     ]
    },
    {
     "data": {
      "text/html": [
       "<div>\n",
       "<style scoped>\n",
       "    .dataframe tbody tr th:only-of-type {\n",
       "        vertical-align: middle;\n",
       "    }\n",
       "\n",
       "    .dataframe tbody tr th {\n",
       "        vertical-align: top;\n",
       "    }\n",
       "\n",
       "    .dataframe thead th {\n",
       "        text-align: right;\n",
       "    }\n",
       "</style>\n",
       "<table border=\"1\" class=\"dataframe\">\n",
       "  <thead>\n",
       "    <tr style=\"text-align: right;\">\n",
       "      <th></th>\n",
       "      <th>hadm_id</th>\n",
       "      <th>index_date</th>\n",
       "      <th>RESISTANT_YN</th>\n",
       "    </tr>\n",
       "  </thead>\n",
       "  <tbody>\n",
       "    <tr>\n",
       "      <th>1755</th>\n",
       "      <td>101757</td>\n",
       "      <td>2132-12-31 16:30:00</td>\n",
       "      <td>0</td>\n",
       "    </tr>\n",
       "    <tr>\n",
       "      <th>1760</th>\n",
       "      <td>186474</td>\n",
       "      <td>2155-02-25 18:45:00</td>\n",
       "      <td>0</td>\n",
       "    </tr>\n",
       "    <tr>\n",
       "      <th>1761</th>\n",
       "      <td>194730</td>\n",
       "      <td>2170-12-22 06:12:00</td>\n",
       "      <td>0</td>\n",
       "    </tr>\n",
       "    <tr>\n",
       "      <th>1762</th>\n",
       "      <td>112086</td>\n",
       "      <td>2147-04-05 14:00:00</td>\n",
       "      <td>0</td>\n",
       "    </tr>\n",
       "    <tr>\n",
       "      <th>1763</th>\n",
       "      <td>158569</td>\n",
       "      <td>2142-04-01 18:34:00</td>\n",
       "      <td>1</td>\n",
       "    </tr>\n",
       "  </tbody>\n",
       "</table>\n",
       "</div>"
      ],
      "text/plain": [
       "      hadm_id          index_date  RESISTANT_YN\n",
       "1755   101757 2132-12-31 16:30:00             0\n",
       "1760   186474 2155-02-25 18:45:00             0\n",
       "1761   194730 2170-12-22 06:12:00             0\n",
       "1762   112086 2147-04-05 14:00:00             0\n",
       "1763   158569 2142-04-01 18:34:00             1"
      ]
     },
     "execution_count": 4,
     "metadata": {},
     "output_type": "execute_result"
    }
   ],
   "source": [
    "pts_labels = pd.read_pickle('data/patient_labels.pkl')\n",
    "print(pts_labels.shape)\n",
    "pts_labels.head()"
   ]
  },
  {
   "cell_type": "markdown",
   "id": "competent-object",
   "metadata": {},
   "source": [
    "Patient's features data:"
   ]
  },
  {
   "cell_type": "code",
   "execution_count": 45,
   "id": "advanced-peeing",
   "metadata": {},
   "outputs": [],
   "source": [
    "# Loading the features\n",
    "features = dataset_creation(pts_labels['hadm_id'], params.observation_window_hours)\n",
    "features = features.merge(pts_labels[['hadm_id','RESISTANT_YN']], on='hadm_id')\n",
    "features.to_pickle('data/features.pkl')"
   ]
  },
  {
   "cell_type": "markdown",
   "id": "domestic-regard",
   "metadata": {},
   "source": [
    "Import features data from the .pkl file:"
   ]
  },
  {
   "cell_type": "code",
   "execution_count": 4,
   "id": "aboriginal-tender",
   "metadata": {},
   "outputs": [
    {
     "name": "stdout",
     "output_type": "stream",
     "text": [
      "['hadm_id', 'subject_id', '10378-8', '10535-3', '10839-9', '11555-0', '11556-8', '11557-6', '11558-4', '13362-9', '1644-4', '1742-6', '1751-7', '17849-1', '1798-8', '1863-0', '1920-8', '1959-6', '1963-8', '1968-7', '1971-1', '1975-2', '1988-5', '1994-3', '19991-9', '19994-3', '2000-8', '20077-4', '20112-9', '20564-1', '20569-0', '20570-8', '20578-1', '2069-3', '2075-0', '2078-4', '2085-9', '2090-9', '2093-3', '2143-6', '2157-6', '2160-0', '2161-8', '2170-9', '2276-4', '2284-8', '2339-0', '2345-7', '2498-4', '2500-7', '2532-0', '2601-3', '26498-6', '2692-2', '2695-5', '2777-1', '2823-3', '2828-2', '28541-1', '2947-0', '2951-2', '2955-3', '30089-7', '3016-3', '30226-5', '3040-3', '3094-0', '3095-7', '3151-8', '3173-2', '3255-7', '32693-4', '3297-9', '3349-8', '3376-1', '33762-6', '3377-9', '3390-2', '33914-3', '3397-7', '34728-6', '3773-9', '3879-4', '3967-7', '4023-8', '4073-3', '42662-7', '4542-7', '4544-3', '4548-4', '48065-7', '5642-4', '5767-9', '5769-5', '5770-3', '5778-6', '5787-7', '5792-7', '5793-5', '5794-3', '5796-8', '5797-6', '5799-2', '5802-4', '5803-2', '5804-0', '5808-1', '5811-5', '5818-0', '5821-4', '5822-2', '5895-7', '5902-2', '6298-4', '6598-7', '6768-6', '6773-6', '702-1', '704-7', '711-2', '718-7', '728-6', '731-0', '733-6', '738-5', '741-9', '742-7', '761-7', '763-3', '772-4', '774-0', '777-3', '778-1', '779-9', '7790-9', '7791-7', '785-6', '786-4', '787-2', '788-0', '789-8', '800-3', '804-5', '8246-1', '8247-9', '9322-9', 'admittime', 'admission_type', 'admission_location', 'insurance', 'language', 'religion', 'marital_status', 'ethnicity', 'gender', 'RESISTANT_YN']\n"
     ]
    }
   ],
   "source": [
    "features = pd.read_pickle('data/features.pkl')\n",
    "print(list(features.columns))"
   ]
  },
  {
   "cell_type": "code",
   "execution_count": 8,
   "id": "precise-wildlife",
   "metadata": {},
   "outputs": [
    {
     "name": "stdout",
     "output_type": "stream",
     "text": [
      "['10378-8', '10535-3', '10839-9', '11555-0', '11556-8', '11557-6', '11558-4', '13362-9', '1644-4', '1742-6', '1751-7', '17849-1', '1798-8', '1863-0', '1920-8', '1959-6', '1963-8', '1968-7', '1971-1', '1975-2', '1988-5', '1994-3', '19991-9', '19994-3', '2000-8', '20077-4', '20112-9', '20564-1', '20569-0', '20570-8', '20578-1', '2069-3', '2075-0', '2078-4', '2085-9', '2090-9', '2093-3', '2143-6', '2157-6', '2160-0', '2161-8', '2170-9', '2276-4', '2284-8', '2339-0', '2345-7', '2498-4', '2500-7', '2532-0', '2601-3', '26498-6', '2692-2', '2695-5', '2777-1', '2823-3', '2828-2', '28541-1', '2947-0', '2951-2', '2955-3', '30089-7', '3016-3', '30226-5', '3040-3', '3094-0', '3095-7', '3151-8', '3173-2', '3255-7', '32693-4', '3297-9', '3349-8', '3376-1', '33762-6', '3377-9', '3390-2', '33914-3', '3397-7', '34728-6', '3773-9', '3879-4', '3967-7', '4023-8', '4073-3', '42662-7', '4542-7', '4544-3', '4548-4', '48065-7', '5642-4', '5767-9', '5769-5', '5770-3', '5778-6', '5787-7', '5792-7', '5793-5', '5794-3', '5796-8', '5797-6', '5799-2', '5802-4', '5803-2', '5804-0', '5808-1', '5811-5', '5818-0', '5821-4', '5822-2', '5895-7', '5902-2', '6298-4', '6598-7', '6768-6', '6773-6', '702-1', '704-7', '711-2', '718-7', '728-6', '731-0', '733-6', '738-5', '741-9', '742-7', '761-7', '763-3', '772-4', '774-0', '777-3', '778-1', '779-9', '7790-9', '7791-7', '785-6', '786-4', '787-2', '788-0', '789-8', '800-3', '804-5', '8246-1', '8247-9', '9322-9']\n"
     ]
    }
   ],
   "source": [
    "loinc_codes = list(features.drop(columns=['hadm_id', 'subject_id', 'admittime','admission_type']).columns)[:-8]\n",
    "print(list(loinc_codes))"
   ]
  },
  {
   "cell_type": "code",
   "execution_count": 47,
   "id": "vanilla-toddler",
   "metadata": {},
   "outputs": [],
   "source": [
    "features_summary = features[loinc_codes].describe()"
   ]
  },
  {
   "cell_type": "code",
   "execution_count": 9,
   "id": "crude-journey",
   "metadata": {},
   "outputs": [
    {
     "data": {
      "text/html": [
       "<div>\n",
       "<style scoped>\n",
       "    .dataframe tbody tr th:only-of-type {\n",
       "        vertical-align: middle;\n",
       "    }\n",
       "\n",
       "    .dataframe tbody tr th {\n",
       "        vertical-align: top;\n",
       "    }\n",
       "\n",
       "    .dataframe thead th {\n",
       "        text-align: right;\n",
       "    }\n",
       "</style>\n",
       "<table border=\"1\" class=\"dataframe\">\n",
       "  <thead>\n",
       "    <tr style=\"text-align: right;\">\n",
       "      <th></th>\n",
       "      <th>value</th>\n",
       "    </tr>\n",
       "    <tr>\n",
       "      <th>loinc_code</th>\n",
       "      <th></th>\n",
       "    </tr>\n",
       "  </thead>\n",
       "  <tbody>\n",
       "    <tr>\n",
       "      <th>42662-7</th>\n",
       "      <td>NEG</td>\n",
       "    </tr>\n",
       "    <tr>\n",
       "      <th>2160-0</th>\n",
       "      <td>3.6</td>\n",
       "    </tr>\n",
       "    <tr>\n",
       "      <th>3040-3</th>\n",
       "      <td>27</td>\n",
       "    </tr>\n",
       "    <tr>\n",
       "      <th>5895-7</th>\n",
       "      <td>1.1</td>\n",
       "    </tr>\n",
       "    <tr>\n",
       "      <th>785-6</th>\n",
       "      <td>28.8</td>\n",
       "    </tr>\n",
       "    <tr>\n",
       "      <th>...</th>\n",
       "      <td>...</td>\n",
       "    </tr>\n",
       "    <tr>\n",
       "      <th>2160-0</th>\n",
       "      <td>0.8</td>\n",
       "    </tr>\n",
       "    <tr>\n",
       "      <th>2601-3</th>\n",
       "      <td>1.8</td>\n",
       "    </tr>\n",
       "    <tr>\n",
       "      <th>2777-1</th>\n",
       "      <td>3.6</td>\n",
       "    </tr>\n",
       "    <tr>\n",
       "      <th>2823-3</th>\n",
       "      <td>4.2</td>\n",
       "    </tr>\n",
       "    <tr>\n",
       "      <th>785-6</th>\n",
       "      <td>31.8</td>\n",
       "    </tr>\n",
       "  </tbody>\n",
       "</table>\n",
       "<p>26420286 rows × 1 columns</p>\n",
       "</div>"
      ],
      "text/plain": [
       "           value\n",
       "loinc_code      \n",
       "42662-7      NEG\n",
       "2160-0       3.6\n",
       "3040-3        27\n",
       "5895-7       1.1\n",
       "785-6       28.8\n",
       "...          ...\n",
       "2160-0       0.8\n",
       "2601-3       1.8\n",
       "2777-1       3.6\n",
       "2823-3       4.2\n",
       "785-6       31.8\n",
       "\n",
       "[26420286 rows x 1 columns]"
      ]
     },
     "execution_count": 9,
     "metadata": {},
     "output_type": "execute_result"
    }
   ],
   "source": [
    "# Embedding the features\n",
    "from dataproc.embeddings import loinc_values\n",
    "\n",
    "loinc_vals = loinc_values(loinc_codes)\n",
    "loinc_vals.to_pickle('data/loinc_vals_raw.pic')\n",
    "loinc_vals.shape\n",
    "# loinc_vals.set_index('loinc_code')"
   ]
  },
  {
   "cell_type": "code",
   "execution_count": 12,
   "id": "diverse-transmission",
   "metadata": {},
   "outputs": [],
   "source": [
    "loinc_vals.dropna(subset=['value'], inplace=True)\n",
    "loinc_vals = loinc_vals.astype({'value': 'string', 'loinc_code': 'category'})\n",
    "loinc_vals['value'] = loinc_vals['value'].map(lambda x: x.lstrip('LESS THAN '))\n",
    "loinc_vals['value'] = loinc_vals['value'].map(lambda x: x.lstrip('GREATER THAN '))\n",
    "loinc_vals['value'] = loinc_vals['value'].map(lambda x: x.lstrip('>GREATER THAN '))\n",
    "loinc_vals['value'] = loinc_vals['value'].map(lambda x: x.lstrip('<LESS THAN '))\n",
    "loinc_vals['value'] = loinc_vals['value'].map(lambda x: x.rstrip(' NG/ML'))\n",
    "loinc_vals['value'] = loinc_vals['value'].map(lambda x: x.lstrip('<>'))\n",
    "loinc_vals['value'] = loinc_vals['value'].map(lambda x: x.replace(',', '.'))\n",
    "loinc_vals.to_pickle('data/loinc_vals_str_clean.pic')"
   ]
  },
  {
   "cell_type": "code",
   "execution_count": 59,
   "id": "cooperative-option",
   "metadata": {},
   "outputs": [],
   "source": [
    "if loinc_vals is None:\n",
    "    loinc_vals = pd.read_pickle('data/loinc_vals_str_clean.pic')"
   ]
  },
  {
   "cell_type": "code",
   "execution_count": 13,
   "id": "medium-alabama",
   "metadata": {},
   "outputs": [],
   "source": [
    "loinc_vals.drop(list(loinc_vals.loc[loinc_vals['value'] == 'UNABLE TO ANALYZE'].index),  inplace=True)\n",
    "loinc_vals.drop(list(loinc_vals.loc[loinc_vals['value'] == 'MOLYSIS FALSELY DECREASES THIS RESULT'].index),  inplace=True)\n",
    "loinc_vals.drop(list(loinc_vals.loc[loinc_vals['value'] == 'COMPUTER NETWORK FAILURE. TEST NOT RESULTED.'].index),  inplace=True)\n",
    "loinc_vals.drop(list(loinc_vals.loc[loinc_vals['value'] == 'UNABLE TO DETERMINE'].index),  inplace=True)\n",
    "loinc_vals.drop(list(loinc_vals.loc[loinc_vals['value'] == ':UNABLE TO DETERMINE'].index),  inplace=True)\n",
    "loinc_vals.drop(list(loinc_vals.loc[loinc_vals['value'] == 'UNABLE TO QUANTITATE'].index),  inplace=True)\n",
    "loinc_vals.drop(list(loinc_vals.loc[loinc_vals['value'] == 'UNABLE TO REPORT'].index),  inplace=True)\n",
    "loinc_vals.to_pickle('data/loinc_vals.pic')"
   ]
  },
  {
   "cell_type": "code",
   "execution_count": 5,
   "id": "honest-linux",
   "metadata": {},
   "outputs": [],
   "source": [
    "loinc_vals = pd.read_pickle('data/loinc_vals.pic')"
   ]
  },
  {
   "cell_type": "code",
   "execution_count": 9,
   "id": "conservative-worry",
   "metadata": {},
   "outputs": [],
   "source": [
    "numeric = []\n",
    "categorical = []\n",
    "weird = []\n",
    "for code in loinc_codes:\n",
    "    size = len(loinc_vals.loc[loinc_vals['loinc_code'] == str(code), 'value'])\n",
    "    size_unique = len(loinc_vals.loc[loinc_vals['loinc_code'] == str(code), 'value'].unique())\n",
    "    sum_na = pd.to_numeric(loinc_vals.loc[loinc_vals['loinc_code'] == str(code), 'value'], errors='coerce').isna().sum()\n",
    "    if sum_na / size < 0.05:\n",
    "        numeric.append(code)\n",
    "    elif sum_na / size > 0.05 and size_unique < 100:\n",
    "        categorical.append(code)\n",
    "    else:\n",
    "        weird.append(code)"
   ]
  },
  {
   "cell_type": "code",
   "execution_count": 10,
   "id": "reverse-appraisal",
   "metadata": {},
   "outputs": [],
   "source": [
    "# remove lab column that contains only 'inf' and 'Nan'\n",
    "numeric.remove('26498-6')\n",
    "# remove lab column that contains phrase 'See comments'\n",
    "categorical.remove('33914-3')\n",
    "# remove lab column that contains phrase 'Random'\n",
    "categorical.remove('13362-9')"
   ]
  },
  {
   "cell_type": "code",
   "execution_count": 11,
   "id": "fresh-footage",
   "metadata": {},
   "outputs": [
    {
     "name": "stdout",
     "output_type": "stream",
     "text": [
      "All: 144\n",
      "Numeric:  94\n",
      "Categorical:  36\n",
      "Weird: 11\n"
     ]
    }
   ],
   "source": [
    "print('All:', len(loinc_codes))\n",
    "print('Numeric: ', len(numeric))\n",
    "print('Categorical: ', len(categorical))\n",
    "print('Weird:', len(weird))"
   ]
  },
  {
   "cell_type": "code",
   "execution_count": null,
   "id": "engaged-franklin",
   "metadata": {},
   "outputs": [],
   "source": [
    "numeric = ['10535-3','11555-0','11556-8','11557-6','11558-4','1644-4','1742-6','1751-7','17849-1','1798-8','1863-0','1920-8','1959-6','1963-8','1968-7','1971-1','1975-2','1988-5','1994-3','19991-9','19994-3','2000-8','20077-4','20112-9','20564-1','20569-0','20570-8','20578-1','2069-3','2075-0','2078-4','2085-9','2090-9','2093-3','2143-6','2157-6','2160-0','2161-8','2170-9','2276-4','2284-8','2339-0','2345-7','2498-4','2500-7','2532-0','2601-3','2692-2','2695-5','2777-1','2823-3','2828-2','28541-1','2947-0','2951-2','2955-3','3016-3','3040-3','3094-0','3095-7','3151-8','3173-2','3255-7','32693-4','33762-6','34728-6','3967-7','4544-3','5803-2','5811-5','5895-7','5902-2','6298-4','6768-6','704-7','711-2','718-7','731-0','733-6','742-7','761-7','763-3','772-4','777-3','785-6','786-4','787-2','788-0','789-8','804-5','9322-9']\n",
    "categorical = ['10378-8','30089-7','30226-5','3349-8','3376-1','3377-9','3390-2','3397-7','3773-9','3879-4','4073-3','42662-7','5767-9','5769-5','5770-3','5778-6','5792-7','5794-3','5797-6','5799-2','5802-4','5804-0','5818-0','5822-2','702-1','728-6','738-5','741-9','774-0','778-1','779-9','7790-9','7791-7','800-3','8246-1','8247-9]\n",
    "weird = ['10839-9','3297-9','4023-8','4542-7','4548-4','48065-7','5642-4','5787-7','5793-5','5796-8','5808-1','5821-4','6598-7','6773-6']               "
   ]
  },
  {
   "cell_type": "markdown",
   "id": "virgin-conversion",
   "metadata": {},
   "source": [
    "Summary statistics for numeric lab codes:"
   ]
  },
  {
   "cell_type": "code",
   "execution_count": 14,
   "id": "individual-entrance",
   "metadata": {},
   "outputs": [],
   "source": [
    "numeric_stats = []\n",
    "for code in numeric:\n",
    "    a = pd.to_numeric(loinc_vals.loc[loinc_vals['loinc_code'] == str(code), 'value'], errors='coerce').describe(percentiles=[.01,.25, .5, .75,.99])\n",
    "    numeric_stats.append(a)\n",
    "numeric_stats_df = pd.concat(numeric_stats, axis=1, keys=numeric)"
   ]
  },
  {
   "cell_type": "code",
   "execution_count": 15,
   "id": "resistant-guidance",
   "metadata": {},
   "outputs": [
    {
     "data": {
      "text/html": [
       "<div>\n",
       "<style scoped>\n",
       "    .dataframe tbody tr th:only-of-type {\n",
       "        vertical-align: middle;\n",
       "    }\n",
       "\n",
       "    .dataframe tbody tr th {\n",
       "        vertical-align: top;\n",
       "    }\n",
       "\n",
       "    .dataframe thead th {\n",
       "        text-align: right;\n",
       "    }\n",
       "</style>\n",
       "<table border=\"1\" class=\"dataframe\">\n",
       "  <thead>\n",
       "    <tr style=\"text-align: right;\">\n",
       "      <th></th>\n",
       "      <th>10535-3</th>\n",
       "      <th>10839-9</th>\n",
       "      <th>11555-0</th>\n",
       "      <th>11556-8</th>\n",
       "      <th>11557-6</th>\n",
       "      <th>11558-4</th>\n",
       "      <th>1644-4</th>\n",
       "      <th>1742-6</th>\n",
       "      <th>1751-7</th>\n",
       "      <th>17849-1</th>\n",
       "      <th>...</th>\n",
       "      <th>763-3</th>\n",
       "      <th>772-4</th>\n",
       "      <th>777-3</th>\n",
       "      <th>785-6</th>\n",
       "      <th>786-4</th>\n",
       "      <th>787-2</th>\n",
       "      <th>788-0</th>\n",
       "      <th>789-8</th>\n",
       "      <th>804-5</th>\n",
       "      <th>9322-9</th>\n",
       "    </tr>\n",
       "  </thead>\n",
       "  <tbody>\n",
       "    <tr>\n",
       "      <th>count</th>\n",
       "      <td>8358.000000</td>\n",
       "      <td>11447.000000</td>\n",
       "      <td>490527.000000</td>\n",
       "      <td>490523.000000</td>\n",
       "      <td>490504.000000</td>\n",
       "      <td>530658.000000</td>\n",
       "      <td>24986.000000</td>\n",
       "      <td>219448.000000</td>\n",
       "      <td>146690.000000</td>\n",
       "      <td>10073.000000</td>\n",
       "      <td>...</td>\n",
       "      <td>75587.000000</td>\n",
       "      <td>16564.000000</td>\n",
       "      <td>778241.000000</td>\n",
       "      <td>747560.000000</td>\n",
       "      <td>747921.000000</td>\n",
       "      <td>747537.000000</td>\n",
       "      <td>746408.000000</td>\n",
       "      <td>747568.000000</td>\n",
       "      <td>753127.000000</td>\n",
       "      <td>18128.000000</td>\n",
       "    </tr>\n",
       "    <tr>\n",
       "      <th>mean</th>\n",
       "      <td>1.129834</td>\n",
       "      <td>7.479856</td>\n",
       "      <td>-0.090604</td>\n",
       "      <td>136.737019</td>\n",
       "      <td>42.736738</td>\n",
       "      <td>7.379366</td>\n",
       "      <td>167.710318</td>\n",
       "      <td>129.960002</td>\n",
       "      <td>3.178038</td>\n",
       "      <td>2.534686</td>\n",
       "      <td>...</td>\n",
       "      <td>3.046492</td>\n",
       "      <td>13.766542</td>\n",
       "      <td>239.295564</td>\n",
       "      <td>30.220467</td>\n",
       "      <td>33.508648</td>\n",
       "      <td>90.264973</td>\n",
       "      <td>15.799282</td>\n",
       "      <td>3.510249</td>\n",
       "      <td>10.499787</td>\n",
       "      <td>3.920383</td>\n",
       "    </tr>\n",
       "    <tr>\n",
       "      <th>std</th>\n",
       "      <td>0.749934</td>\n",
       "      <td>16.189266</td>\n",
       "      <td>5.353903</td>\n",
       "      <td>92.114782</td>\n",
       "      <td>11.388981</td>\n",
       "      <td>0.087115</td>\n",
       "      <td>229.124373</td>\n",
       "      <td>536.810586</td>\n",
       "      <td>0.757973</td>\n",
       "      <td>1.775861</td>\n",
       "      <td>...</td>\n",
       "      <td>6.148193</td>\n",
       "      <td>59.786263</td>\n",
       "      <td>150.321123</td>\n",
       "      <td>2.574024</td>\n",
       "      <td>1.573992</td>\n",
       "      <td>6.987865</td>\n",
       "      <td>2.356128</td>\n",
       "      <td>0.656843</td>\n",
       "      <td>9.006713</td>\n",
       "      <td>2.365156</td>\n",
       "    </tr>\n",
       "    <tr>\n",
       "      <th>min</th>\n",
       "      <td>0.020000</td>\n",
       "      <td>0.000000</td>\n",
       "      <td>-414.000000</td>\n",
       "      <td>0.000000</td>\n",
       "      <td>0.000000</td>\n",
       "      <td>0.000000</td>\n",
       "      <td>1.000000</td>\n",
       "      <td>0.000000</td>\n",
       "      <td>0.900000</td>\n",
       "      <td>0.000000</td>\n",
       "      <td>...</td>\n",
       "      <td>0.000000</td>\n",
       "      <td>0.000000</td>\n",
       "      <td>4.000000</td>\n",
       "      <td>0.000000</td>\n",
       "      <td>0.000000</td>\n",
       "      <td>0.000000</td>\n",
       "      <td>0.000000</td>\n",
       "      <td>0.000000</td>\n",
       "      <td>0.000000</td>\n",
       "      <td>0.800000</td>\n",
       "    </tr>\n",
       "    <tr>\n",
       "      <th>1%</th>\n",
       "      <td>0.200000</td>\n",
       "      <td>0.300000</td>\n",
       "      <td>-14.000000</td>\n",
       "      <td>31.000000</td>\n",
       "      <td>24.000000</td>\n",
       "      <td>7.110000</td>\n",
       "      <td>34.000000</td>\n",
       "      <td>5.000000</td>\n",
       "      <td>1.600000</td>\n",
       "      <td>0.200000</td>\n",
       "      <td>...</td>\n",
       "      <td>0.000000</td>\n",
       "      <td>1.000000</td>\n",
       "      <td>17.000000</td>\n",
       "      <td>23.000000</td>\n",
       "      <td>29.500000</td>\n",
       "      <td>74.000000</td>\n",
       "      <td>12.300000</td>\n",
       "      <td>2.240000</td>\n",
       "      <td>0.600000</td>\n",
       "      <td>1.700000</td>\n",
       "    </tr>\n",
       "    <tr>\n",
       "      <th>25%</th>\n",
       "      <td>0.600000</td>\n",
       "      <td>0.300000</td>\n",
       "      <td>-3.000000</td>\n",
       "      <td>81.000000</td>\n",
       "      <td>36.000000</td>\n",
       "      <td>7.330000</td>\n",
       "      <td>85.000000</td>\n",
       "      <td>18.000000</td>\n",
       "      <td>2.600000</td>\n",
       "      <td>1.400000</td>\n",
       "      <td>...</td>\n",
       "      <td>0.000000</td>\n",
       "      <td>1.000000</td>\n",
       "      <td>139.000000</td>\n",
       "      <td>28.900000</td>\n",
       "      <td>32.500000</td>\n",
       "      <td>86.000000</td>\n",
       "      <td>14.100000</td>\n",
       "      <td>3.050000</td>\n",
       "      <td>6.400000</td>\n",
       "      <td>2.800000</td>\n",
       "    </tr>\n",
       "    <tr>\n",
       "      <th>50%</th>\n",
       "      <td>1.000000</td>\n",
       "      <td>0.400000</td>\n",
       "      <td>0.000000</td>\n",
       "      <td>109.000000</td>\n",
       "      <td>41.000000</td>\n",
       "      <td>7.390000</td>\n",
       "      <td>124.000000</td>\n",
       "      <td>32.000000</td>\n",
       "      <td>3.100000</td>\n",
       "      <td>2.100000</td>\n",
       "      <td>...</td>\n",
       "      <td>0.000000</td>\n",
       "      <td>3.000000</td>\n",
       "      <td>215.000000</td>\n",
       "      <td>30.300000</td>\n",
       "      <td>33.600000</td>\n",
       "      <td>90.000000</td>\n",
       "      <td>15.300000</td>\n",
       "      <td>3.440000</td>\n",
       "      <td>9.100000</td>\n",
       "      <td>3.500000</td>\n",
       "    </tr>\n",
       "    <tr>\n",
       "      <th>75%</th>\n",
       "      <td>1.400000</td>\n",
       "      <td>4.700000</td>\n",
       "      <td>3.000000</td>\n",
       "      <td>156.000000</td>\n",
       "      <td>47.000000</td>\n",
       "      <td>7.440000</td>\n",
       "      <td>187.000000</td>\n",
       "      <td>69.000000</td>\n",
       "      <td>3.700000</td>\n",
       "      <td>3.200000</td>\n",
       "      <td>...</td>\n",
       "      <td>3.000000</td>\n",
       "      <td>8.000000</td>\n",
       "      <td>307.000000</td>\n",
       "      <td>31.600000</td>\n",
       "      <td>34.600000</td>\n",
       "      <td>94.000000</td>\n",
       "      <td>17.000000</td>\n",
       "      <td>3.900000</td>\n",
       "      <td>12.800000</td>\n",
       "      <td>4.500000</td>\n",
       "    </tr>\n",
       "    <tr>\n",
       "      <th>99%</th>\n",
       "      <td>3.900000</td>\n",
       "      <td>50.000000</td>\n",
       "      <td>13.000000</td>\n",
       "      <td>463.000000</td>\n",
       "      <td>83.000000</td>\n",
       "      <td>7.540000</td>\n",
       "      <td>835.150000</td>\n",
       "      <td>2208.000000</td>\n",
       "      <td>4.800000</td>\n",
       "      <td>8.700000</td>\n",
       "      <td>...</td>\n",
       "      <td>30.000000</td>\n",
       "      <td>210.000000</td>\n",
       "      <td>739.000000</td>\n",
       "      <td>37.200000</td>\n",
       "      <td>37.000000</td>\n",
       "      <td>111.000000</td>\n",
       "      <td>23.400000</td>\n",
       "      <td>5.290000</td>\n",
       "      <td>33.500000</td>\n",
       "      <td>11.600000</td>\n",
       "    </tr>\n",
       "    <tr>\n",
       "      <th>max</th>\n",
       "      <td>8.000000</td>\n",
       "      <td>575.000000</td>\n",
       "      <td>162.000000</td>\n",
       "      <td>1914.000000</td>\n",
       "      <td>247.000000</td>\n",
       "      <td>7.990000</td>\n",
       "      <td>12496.000000</td>\n",
       "      <td>25460.000000</td>\n",
       "      <td>6.900000</td>\n",
       "      <td>22.100000</td>\n",
       "      <td>...</td>\n",
       "      <td>94.000000</td>\n",
       "      <td>2879.000000</td>\n",
       "      <td>4504.000000</td>\n",
       "      <td>48.900000</td>\n",
       "      <td>45.800000</td>\n",
       "      <td>147.000000</td>\n",
       "      <td>36.400000</td>\n",
       "      <td>32.970000</td>\n",
       "      <td>846.700000</td>\n",
       "      <td>65.400000</td>\n",
       "    </tr>\n",
       "  </tbody>\n",
       "</table>\n",
       "<p>10 rows × 94 columns</p>\n",
       "</div>"
      ],
      "text/plain": [
       "           10535-3       10839-9        11555-0        11556-8        11557-6  \\\n",
       "count  8358.000000  11447.000000  490527.000000  490523.000000  490504.000000   \n",
       "mean      1.129834      7.479856      -0.090604     136.737019      42.736738   \n",
       "std       0.749934     16.189266       5.353903      92.114782      11.388981   \n",
       "min       0.020000      0.000000    -414.000000       0.000000       0.000000   \n",
       "1%        0.200000      0.300000     -14.000000      31.000000      24.000000   \n",
       "25%       0.600000      0.300000      -3.000000      81.000000      36.000000   \n",
       "50%       1.000000      0.400000       0.000000     109.000000      41.000000   \n",
       "75%       1.400000      4.700000       3.000000     156.000000      47.000000   \n",
       "99%       3.900000     50.000000      13.000000     463.000000      83.000000   \n",
       "max       8.000000    575.000000     162.000000    1914.000000     247.000000   \n",
       "\n",
       "             11558-4        1644-4         1742-6         1751-7  \\\n",
       "count  530658.000000  24986.000000  219448.000000  146690.000000   \n",
       "mean        7.379366    167.710318     129.960002       3.178038   \n",
       "std         0.087115    229.124373     536.810586       0.757973   \n",
       "min         0.000000      1.000000       0.000000       0.900000   \n",
       "1%          7.110000     34.000000       5.000000       1.600000   \n",
       "25%         7.330000     85.000000      18.000000       2.600000   \n",
       "50%         7.390000    124.000000      32.000000       3.100000   \n",
       "75%         7.440000    187.000000      69.000000       3.700000   \n",
       "99%         7.540000    835.150000    2208.000000       4.800000   \n",
       "max         7.990000  12496.000000   25460.000000       6.900000   \n",
       "\n",
       "            17849-1  ...         763-3         772-4          777-3  \\\n",
       "count  10073.000000  ...  75587.000000  16564.000000  778241.000000   \n",
       "mean       2.534686  ...      3.046492     13.766542     239.295564   \n",
       "std        1.775861  ...      6.148193     59.786263     150.321123   \n",
       "min        0.000000  ...      0.000000      0.000000       4.000000   \n",
       "1%         0.200000  ...      0.000000      1.000000      17.000000   \n",
       "25%        1.400000  ...      0.000000      1.000000     139.000000   \n",
       "50%        2.100000  ...      0.000000      3.000000     215.000000   \n",
       "75%        3.200000  ...      3.000000      8.000000     307.000000   \n",
       "99%        8.700000  ...     30.000000    210.000000     739.000000   \n",
       "max       22.100000  ...     94.000000   2879.000000    4504.000000   \n",
       "\n",
       "               785-6          786-4          787-2          788-0  \\\n",
       "count  747560.000000  747921.000000  747537.000000  746408.000000   \n",
       "mean       30.220467      33.508648      90.264973      15.799282   \n",
       "std         2.574024       1.573992       6.987865       2.356128   \n",
       "min         0.000000       0.000000       0.000000       0.000000   \n",
       "1%         23.000000      29.500000      74.000000      12.300000   \n",
       "25%        28.900000      32.500000      86.000000      14.100000   \n",
       "50%        30.300000      33.600000      90.000000      15.300000   \n",
       "75%        31.600000      34.600000      94.000000      17.000000   \n",
       "99%        37.200000      37.000000     111.000000      23.400000   \n",
       "max        48.900000      45.800000     147.000000      36.400000   \n",
       "\n",
       "               789-8          804-5        9322-9  \n",
       "count  747568.000000  753127.000000  18128.000000  \n",
       "mean        3.510249      10.499787      3.920383  \n",
       "std         0.656843       9.006713      2.365156  \n",
       "min         0.000000       0.000000      0.800000  \n",
       "1%          2.240000       0.600000      1.700000  \n",
       "25%         3.050000       6.400000      2.800000  \n",
       "50%         3.440000       9.100000      3.500000  \n",
       "75%         3.900000      12.800000      4.500000  \n",
       "99%         5.290000      33.500000     11.600000  \n",
       "max        32.970000     846.700000     65.400000  \n",
       "\n",
       "[10 rows x 94 columns]"
      ]
     },
     "execution_count": 15,
     "metadata": {},
     "output_type": "execute_result"
    }
   ],
   "source": [
    "numeric_stats_df"
   ]
  },
  {
   "cell_type": "code",
   "execution_count": 4,
   "id": "known-summary",
   "metadata": {},
   "outputs": [],
   "source": [
    "weird = ['3297-9',\n",
    " '4023-8',\n",
    " '4548-4',\n",
    " '48065-7',\n",
    " '5642-4',\n",
    " '5787-7',\n",
    " '5793-5',\n",
    " '5796-8',\n",
    " '5808-1',\n",
    " '5821-4',\n",
    " '6773-6']"
   ]
  },
  {
   "cell_type": "code",
   "execution_count": 44,
   "id": "black-portable",
   "metadata": {},
   "outputs": [],
   "source": [
    "# for now, ignoring the mixed type lab tests\n",
    "dataset = features.drop(columns=weird, errors='ignore')"
   ]
  },
  {
   "cell_type": "code",
   "execution_count": 45,
   "id": "informative-expert",
   "metadata": {},
   "outputs": [
    {
     "data": {
      "text/plain": [
       "(4328, 145)"
      ]
     },
     "execution_count": 45,
     "metadata": {},
     "output_type": "execute_result"
    }
   ],
   "source": [
    "dataset.shape"
   ]
  },
  {
   "cell_type": "markdown",
   "id": "finished-optimum",
   "metadata": {},
   "source": [
    "### Data Preprocessing  and Embeddings:"
   ]
  },
  {
   "cell_type": "code",
   "execution_count": 50,
   "id": "young-crest",
   "metadata": {},
   "outputs": [
    {
     "name": "stdout",
     "output_type": "stream",
     "text": [
      "['hadm_id', 'subject_id', '10378-8', '10535-3', '10839-9', '11555-0', '11556-8', '11557-6', '11558-4', '13362-9', '1644-4', '1742-6', '1751-7', '17849-1', '1798-8', '1863-0', '1920-8', '1959-6', '1963-8', '1968-7', '1971-1', '1975-2', '1988-5', '1994-3', '19991-9', '19994-3', '2000-8', '20077-4', '20112-9', '20564-1', '20569-0', '20570-8', '20578-1', '2069-3', '2075-0', '2078-4', '2085-9', '2090-9', '2093-3', '2143-6', '2157-6', '2160-0', '2161-8', '2170-9', '2276-4', '2284-8', '2339-0', '2345-7', '2498-4', '2500-7', '2532-0', '2601-3', '26498-6', '2692-2', '2695-5', '2777-1', '2823-3', '2828-2', '28541-1', '2947-0', '2951-2', '2955-3', '30089-7', '3016-3', '30226-5', '3040-3', '3094-0', '3095-7', '3151-8', '3173-2', '3255-7', '32693-4', '3349-8', '3376-1', '33762-6', '3377-9', '3390-2', '33914-3', '3397-7', '34728-6', '3773-9', '3879-4', '3967-7', '4073-3', '42662-7', '4542-7', '4544-3', '5767-9', '5769-5', '5770-3', '5778-6', '5792-7', '5794-3', '5797-6', '5799-2', '5802-4', '5803-2', '5804-0', '5811-5', '5818-0', '5822-2', '5895-7', '5902-2', '6298-4', '6598-7', '6768-6', '702-1', '704-7', '711-2', '718-7', '728-6', '731-0', '733-6', '738-5', '741-9', '742-7', '761-7', '763-3', '772-4', '774-0', '777-3', '778-1', '779-9', '7790-9', '7791-7', '785-6', '786-4', '787-2', '788-0', '789-8', '800-3', '804-5', '8246-1', '8247-9', '9322-9', 'admittime', 'admission_type', 'admission_location', 'insurance', 'language', 'religion', 'marital_status', 'ethnicity', 'gender', 'RESISTANT_YN']\n"
     ]
    }
   ],
   "source": [
    "print(list(dataset.columns))"
   ]
  },
  {
   "cell_type": "markdown",
   "id": "fifteen-fishing",
   "metadata": {},
   "source": [
    "#### Clean lab numeric variables:"
   ]
  },
  {
   "cell_type": "code",
   "execution_count": 46,
   "id": "blind-density",
   "metadata": {},
   "outputs": [],
   "source": [
    "# Convert to numeric selected columns\n",
    "dataset[numeric] = dataset[numeric].apply(pd.to_numeric, errors='coerce', axis=1)"
   ]
  },
  {
   "cell_type": "markdown",
   "id": "bronze-portland",
   "metadata": {},
   "source": [
    "Since many lab data have outliers the median and interquartile range can be used to standardizing the numeric variables:   \n",
    "- value = (value – median) / (p75 – p25)"
   ]
  },
  {
   "cell_type": "code",
   "execution_count": 47,
   "id": "trying-surface",
   "metadata": {},
   "outputs": [],
   "source": [
    "def stanardize_numeric_values(df, list_of_clms, ref_df):\n",
    "    \"\"\"\n",
    "    Use the median and interquartile range to \n",
    "    standardize the numeric variables\n",
    "    value = (value – median) / (p75 – p25)\n",
    "    \"\"\"\n",
    "    for code in list_of_clms:\n",
    "        median = ref_df[code]['50%']\n",
    "        # p25 = ref_df[code]['25%']\n",
    "        p01 = ref_df[code]['1%']\n",
    "        # p75 = ref_df[code]['75%']\n",
    "        p99 = ref_df[code]['99%']\n",
    "        df[code] = (df[code] - median) / (p99 - p01)\n",
    "    return df\n",
    "    "
   ]
  },
  {
   "cell_type": "code",
   "execution_count": 48,
   "id": "relevant-thesis",
   "metadata": {},
   "outputs": [],
   "source": [
    "dataset = stanardize_numeric_values(dataset, numeric, numeric_stats_df)"
   ]
  },
  {
   "cell_type": "markdown",
   "id": "acceptable-delicious",
   "metadata": {},
   "source": [
    "Imputation of missing values using scikit-learn https://scikit-learn.org/stable/modules/impute.html#impute"
   ]
  },
  {
   "cell_type": "code",
   "execution_count": 49,
   "id": "killing-beaver",
   "metadata": {},
   "outputs": [],
   "source": [
    "from sklearn.impute import SimpleImputer\n",
    "\n",
    "def replace_missing_val(df, list_of_clms, how='median'):\n",
    "    \"\"\"\n",
    "    Imputation of missing values using median\n",
    "    \"\"\"\n",
    "    imp = SimpleImputer(strategy=how)\n",
    "    df_prc = imp.fit_transform(df[list_of_clms])\n",
    "    #df[list_of_clms] = pd.DataFrame(df_prc, columns=list_of_clms)\n",
    "    return df_prc\n"
   ]
  },
  {
   "cell_type": "code",
   "execution_count": 50,
   "id": "hazardous-coral",
   "metadata": {},
   "outputs": [],
   "source": [
    "numlabvars = replace_missing_val(dataset, numeric, how='median')"
   ]
  },
  {
   "cell_type": "code",
   "execution_count": 51,
   "id": "fossil-schema",
   "metadata": {},
   "outputs": [
    {
     "data": {
      "text/plain": [
       "(4328, 94)"
      ]
     },
     "execution_count": 51,
     "metadata": {},
     "output_type": "execute_result"
    }
   ],
   "source": [
    "numlabvars.shape"
   ]
  },
  {
   "cell_type": "markdown",
   "id": "serious-trust",
   "metadata": {},
   "source": [
    "#### Clean lab categorical variables:"
   ]
  },
  {
   "cell_type": "code",
   "execution_count": 52,
   "id": "subjective-antenna",
   "metadata": {},
   "outputs": [],
   "source": [
    "dataset['30089-7'] = np.where(dataset['30089-7'].isin(['<1','1','2']), '0-2',\n",
    "                     np.where(dataset['30089-7'].isin(['3','4']),'3-5', dataset['30089-7']))\n",
    "\n",
    "dataset['5767-9'] = np.where(dataset['5767-9'].isin(['CLEAR']), 'Clear',\n",
    "                    np.where(dataset['5767-9'].isin(['SLHAZY']), 'SlHazy',\n",
    "                    np.where(dataset['5767-9'].isin(['HAZY']), 'Hazy',\n",
    "                    np.where(dataset['5767-9'].isin(['SlCloudy']),'SlCldy',  \n",
    "                    np.where(dataset['5767-9'].isin(['CLOUDY']),'Cloudy',dataset['5767-9'])))))\n",
    "\n",
    "dataset['5769-5'] = np.where(dataset['5769-5'].isin(['0']), 'NEG',\n",
    "                    np.where(dataset['5769-5'].isin(['NOTDONE']), 'NONE',\n",
    "                    np.where(dataset['5769-5'].isin(['LRG']), 'MANY', dataset['5769-5'])))\n",
    "\n",
    "dataset['5778-6'] = np.where(dataset['5778-6'].isin(['YELLOW','YEL']), 'Yellow',\n",
    "                    np.where(dataset['5778-6'].isin(['STRAW']), 'Straw',\n",
    "                    np.where(dataset['5778-6'].isin(['AMBER','AMB']), 'Amber', \n",
    "                    np.where(dataset['5778-6'].isin(['RED']), 'Red', \n",
    "                    np.where(dataset['5778-6'].isin(['ORANGE']), 'Orange', \n",
    "                    np.where(dataset['5778-6'].isin(['DKAMB','DKAMBER']), 'DkAmb', \n",
    "                    np.where(dataset['5778-6'].isin([' ']), np.nan, dataset['5778-6'])))))))\n",
    "\n",
    "dataset['5797-6'] = np.where(dataset['5797-6'].isin(['>80']), '80',dataset['5797-6'])\n",
    "\n",
    "dataset['5804-0'] = np.where(dataset['5804-0'].isin(['>300']), '300',\n",
    "                    np.where(dataset['5804-0'].isin([' ']), np.nan, dataset['5804-0']))\n",
    "\n",
    "dataset['5818-0'] = np.where(dataset['5818-0'].isin(['.2']), '0.2',\n",
    "                    np.where(dataset['5818-0'].isin(['>8','>8.0']), '8',\n",
    "                    np.where(dataset['5818-0'].isin(['>12']), '12',\n",
    "                    np.where(dataset['5818-0'].isin(['NotDone']), np.nan, dataset['5818-0']))))\n",
    "\n",
    "dataset['5822-2'] = np.where(dataset['5822-2'].isin(['0', 'N']), 'NONE',\n",
    "                    np.where(dataset['5822-2'].isin(['NOTDONE']), np.nan, dataset['5822-2']))\n",
    "\n",
    "dataset['778-1'] = np.where(dataset['778-1'].isin(['UNABLE TO ESTIMATE DUE TO PLATELET CLUMPS']), 'NOTDETECTED', dataset['778-1'])\n"
   ]
  },
  {
   "cell_type": "code",
   "execution_count": 53,
   "id": "young-terror",
   "metadata": {},
   "outputs": [
    {
     "name": "stdout",
     "output_type": "stream",
     "text": [
      "----------------------------------\n",
      "Column name:  10378-8\n",
      "NORMAL        457\n",
      "1+            141\n",
      "OCCASIONAL    126\n",
      "2+             45\n",
      "3+              8\n",
      "Name: 10378-8, dtype: int64\n",
      "----------------------------------\n",
      "Column name:  30089-7\n",
      "0-2      88\n",
      "3-5      19\n",
      "6-10      3\n",
      "11-20     1\n",
      "21-50     1\n",
      "Name: 30089-7, dtype: int64\n",
      "----------------------------------\n",
      "Column name:  30226-5\n",
      "10-40       15\n",
      "0-10        15\n",
      "40-80       15\n",
      "80-160       4\n",
      "160-320      2\n",
      "640-1280     1\n",
      ">1280        1\n",
      "Name: 30226-5, dtype: int64\n",
      "----------------------------------\n",
      "Column name:  3349-8\n",
      "NEG    427\n",
      "POS     10\n",
      "Name: 3349-8, dtype: int64\n",
      "----------------------------------\n",
      "Column name:  3376-1\n",
      "NEG    665\n",
      "POS      4\n",
      "Name: 3376-1, dtype: int64\n",
      "----------------------------------\n",
      "Column name:  3377-9\n",
      "NEG    427\n",
      "POS     11\n",
      "Name: 3377-9, dtype: int64\n",
      "----------------------------------\n",
      "Column name:  3390-2\n",
      "NEG    337\n",
      "POS    102\n",
      "Name: 3390-2, dtype: int64\n",
      "----------------------------------\n",
      "Column name:  3397-7\n",
      "NEG    412\n",
      "POS     27\n",
      "Name: 3397-7, dtype: int64\n",
      "----------------------------------\n",
      "Column name:  3773-9\n",
      "NEG    424\n",
      "POS     14\n",
      "Name: 3773-9, dtype: int64\n",
      "----------------------------------\n",
      "Column name:  3879-4\n",
      "NEG    367\n",
      "POS     72\n",
      "Name: 3879-4, dtype: int64\n",
      "----------------------------------\n",
      "Column name:  4073-3\n",
      "NEG    661\n",
      "POS      5\n",
      "Name: 4073-3, dtype: int64\n",
      "----------------------------------\n",
      "Column name:  42662-7\n",
      "NEG    652\n",
      "POS     18\n",
      "Name: 42662-7, dtype: int64\n",
      "----------------------------------\n",
      "Column name:  5767-9\n",
      "Clear     1334\n",
      "Hazy       236\n",
      "Cloudy     138\n",
      "SlHazy      42\n",
      "SlCldy      13\n",
      "             1\n",
      "Name: 5767-9, dtype: int64\n",
      "----------------------------------\n",
      "Column name:  5769-5\n",
      "FEW     364\n",
      "NONE    289\n",
      "MANY    212\n",
      "OCC     201\n",
      "MOD     187\n",
      "RARE    135\n",
      "NEG      32\n",
      "Name: 5769-5, dtype: int64\n",
      "----------------------------------\n",
      "Column name:  5770-3\n",
      "NEG    1532\n",
      "SM      178\n",
      "MOD      29\n",
      "LG       25\n",
      "Name: 5770-3, dtype: int64\n",
      "----------------------------------\n",
      "Column name:  5778-6\n",
      "Yellow    1044\n",
      "Straw      458\n",
      "Amber      195\n",
      "LtAmb       22\n",
      "Red         16\n",
      "Orange      14\n",
      "DkAmb       14\n",
      "Brown        9\n",
      "None         2\n",
      "Green        1\n",
      "Name: 5778-6, dtype: int64\n",
      "----------------------------------\n",
      "Column name:  5792-7\n",
      "NEG      1470\n",
      "1000       77\n",
      "TR         77\n",
      "100        72\n",
      "250        62\n",
      ">1000      12\n",
      "300         8\n",
      "500         5\n",
      "70          4\n",
      "150         3\n",
      "Name: 5792-7, dtype: int64\n",
      "----------------------------------\n",
      "Column name:  5794-3\n",
      "NEG    698\n",
      "LG     444\n",
      "SM     208\n",
      "MOD    191\n",
      "TR     171\n",
      "LGE     51\n",
      "Name: 5794-3, dtype: int64\n",
      "----------------------------------\n",
      "Column name:  5797-6\n",
      "NEG    1222\n",
      "TR      344\n",
      "15      106\n",
      "50       49\n",
      "10       35\n",
      "150      26\n",
      "40       25\n",
      "80        6\n",
      "Name: 5797-6, dtype: int64\n",
      "----------------------------------\n",
      "Column name:  5799-2\n",
      "NEG    1230\n",
      "MOD     206\n",
      "TR      164\n",
      "SM       99\n",
      "LG       22\n",
      "Name: 5799-2, dtype: int64\n",
      "----------------------------------\n",
      "Column name:  5802-4\n",
      "NEG    1644\n",
      "POS     120\n",
      "Name: 5802-4, dtype: int64\n",
      "----------------------------------\n",
      "Column name:  5804-0\n",
      "NEG    734\n",
      "30     402\n",
      "TR     348\n",
      "100    168\n",
      "500     66\n",
      "25      63\n",
      "75      43\n",
      "300     40\n",
      "150     24\n",
      "600      2\n",
      "Name: 5804-0, dtype: int64\n",
      "----------------------------------\n",
      "Column name:  5818-0\n",
      "NEG    1303\n",
      "0.2     224\n",
      "1       131\n",
      "4        65\n",
      "2        42\n",
      "8        37\n",
      "12        8\n",
      "Name: 5818-0, dtype: int64\n",
      "----------------------------------\n",
      "Column name:  5822-2\n",
      "NONE    1536\n",
      "FEW       32\n",
      "MANY      26\n",
      "MOD       26\n",
      "OCC       18\n",
      "RARE      13\n",
      "Name: 5822-2, dtype: int64\n",
      "----------------------------------\n",
      "Column name:  702-1\n",
      "1+            388\n",
      "NORMAL        353\n",
      "2+            163\n",
      "OCCASIONAL     43\n",
      "3+             27\n",
      "Name: 702-1, dtype: int64\n",
      "----------------------------------\n",
      "Column name:  728-6\n",
      "NORMAL        490\n",
      "1+            206\n",
      "2+            135\n",
      "3+            114\n",
      "OCCASIONAL     34\n",
      "Name: 728-6, dtype: int64\n",
      "----------------------------------\n",
      "Column name:  738-5\n",
      "NORMAL        481\n",
      "1+            250\n",
      "2+            111\n",
      "3+             80\n",
      "OCCASIONAL     50\n",
      "Name: 738-5, dtype: int64\n",
      "----------------------------------\n",
      "Column name:  741-9\n",
      "NORMAL        608\n",
      "1+            190\n",
      "OCCASIONAL     56\n",
      "2+             50\n",
      "3+             18\n",
      "Name: 741-9, dtype: int64\n",
      "----------------------------------\n",
      "Column name:  774-0\n",
      "1+            122\n",
      "OCCASIONAL     77\n",
      "2+             15\n",
      "Name: 774-0, dtype: int64\n",
      "----------------------------------\n",
      "Column name:  778-1\n",
      "NORMAL         374\n",
      "LOW            139\n",
      "VERY LOW        97\n",
      "HIGH            37\n",
      "VERY HIGH       22\n",
      "NOTDETECTED     11\n",
      "RARE             7\n",
      "Name: 778-1, dtype: int64\n",
      "----------------------------------\n",
      "Column name:  779-9\n",
      "NORMAL        485\n",
      "1+            262\n",
      "OCCASIONAL     84\n",
      "2+             66\n",
      "3+             15\n",
      "Name: 779-9, dtype: int64\n",
      "----------------------------------\n",
      "Column name:  7790-9\n",
      "1+            57\n",
      "OCCASIONAL    35\n",
      "2+            27\n",
      "3+             2\n",
      "NORMAL         1\n",
      "Name: 7790-9, dtype: int64\n",
      "----------------------------------\n",
      "Column name:  7791-7\n",
      "OCCASIONAL    75\n",
      "1+            38\n",
      "2+             9\n",
      "Name: 7791-7, dtype: int64\n",
      "----------------------------------\n",
      "Column name:  800-3\n",
      "OCCASIONAL    71\n",
      "1+            55\n",
      "2+             8\n",
      "Name: 800-3, dtype: int64\n",
      "----------------------------------\n",
      "Column name:  8246-1\n",
      "FEW     62\n",
      "MOD     52\n",
      "MANY    25\n",
      "OCC     24\n",
      "RARE     5\n",
      "Name: 8246-1, dtype: int64\n",
      "----------------------------------\n",
      "Column name:  8247-9\n",
      "FEW     58\n",
      "RARE    52\n",
      "OCC     48\n",
      "MOD     28\n",
      "MANY    15\n",
      "Name: 8247-9, dtype: int64\n"
     ]
    }
   ],
   "source": [
    "# print value counts for each lab categorical variable:\n",
    "for col in categorical:\n",
    "    print('----------------------------------')\n",
    "    print('Column name: ', col)\n",
    "    print(dataset[col].value_counts())"
   ]
  },
  {
   "cell_type": "code",
   "execution_count": 54,
   "id": "insured-cruise",
   "metadata": {},
   "outputs": [],
   "source": [
    "# replace 'Nan' values in categorical variables by 'UNKNOWN'\n",
    "dataset.update(dataset[categorical].fillna('UNKNOWN'))"
   ]
  },
  {
   "cell_type": "code",
   "execution_count": 55,
   "id": "cross-estonia",
   "metadata": {},
   "outputs": [
    {
     "data": {
      "text/html": [
       "<div>\n",
       "<style scoped>\n",
       "    .dataframe tbody tr th:only-of-type {\n",
       "        vertical-align: middle;\n",
       "    }\n",
       "\n",
       "    .dataframe tbody tr th {\n",
       "        vertical-align: top;\n",
       "    }\n",
       "\n",
       "    .dataframe thead th {\n",
       "        text-align: right;\n",
       "    }\n",
       "</style>\n",
       "<table border=\"1\" class=\"dataframe\">\n",
       "  <thead>\n",
       "    <tr style=\"text-align: right;\">\n",
       "      <th></th>\n",
       "      <th>10378-8</th>\n",
       "      <th>30089-7</th>\n",
       "      <th>30226-5</th>\n",
       "      <th>3349-8</th>\n",
       "      <th>3376-1</th>\n",
       "      <th>3377-9</th>\n",
       "      <th>3390-2</th>\n",
       "      <th>3397-7</th>\n",
       "      <th>3773-9</th>\n",
       "      <th>3879-4</th>\n",
       "      <th>...</th>\n",
       "      <th>738-5</th>\n",
       "      <th>741-9</th>\n",
       "      <th>774-0</th>\n",
       "      <th>778-1</th>\n",
       "      <th>779-9</th>\n",
       "      <th>7790-9</th>\n",
       "      <th>7791-7</th>\n",
       "      <th>800-3</th>\n",
       "      <th>8246-1</th>\n",
       "      <th>8247-9</th>\n",
       "    </tr>\n",
       "  </thead>\n",
       "  <tbody>\n",
       "    <tr>\n",
       "      <th>0</th>\n",
       "      <td>UNKNOWN</td>\n",
       "      <td>UNKNOWN</td>\n",
       "      <td>UNKNOWN</td>\n",
       "      <td>NEG</td>\n",
       "      <td>NEG</td>\n",
       "      <td>NEG</td>\n",
       "      <td>NEG</td>\n",
       "      <td>POS</td>\n",
       "      <td>NEG</td>\n",
       "      <td>POS</td>\n",
       "      <td>...</td>\n",
       "      <td>UNKNOWN</td>\n",
       "      <td>UNKNOWN</td>\n",
       "      <td>UNKNOWN</td>\n",
       "      <td>LOW</td>\n",
       "      <td>UNKNOWN</td>\n",
       "      <td>UNKNOWN</td>\n",
       "      <td>UNKNOWN</td>\n",
       "      <td>UNKNOWN</td>\n",
       "      <td>UNKNOWN</td>\n",
       "      <td>UNKNOWN</td>\n",
       "    </tr>\n",
       "    <tr>\n",
       "      <th>1</th>\n",
       "      <td>2+</td>\n",
       "      <td>UNKNOWN</td>\n",
       "      <td>UNKNOWN</td>\n",
       "      <td>UNKNOWN</td>\n",
       "      <td>NEG</td>\n",
       "      <td>UNKNOWN</td>\n",
       "      <td>UNKNOWN</td>\n",
       "      <td>UNKNOWN</td>\n",
       "      <td>UNKNOWN</td>\n",
       "      <td>UNKNOWN</td>\n",
       "      <td>...</td>\n",
       "      <td>2+</td>\n",
       "      <td>2+</td>\n",
       "      <td>2+</td>\n",
       "      <td>LOW</td>\n",
       "      <td>2+</td>\n",
       "      <td>UNKNOWN</td>\n",
       "      <td>1+</td>\n",
       "      <td>1+</td>\n",
       "      <td>UNKNOWN</td>\n",
       "      <td>UNKNOWN</td>\n",
       "    </tr>\n",
       "    <tr>\n",
       "      <th>2</th>\n",
       "      <td>UNKNOWN</td>\n",
       "      <td>UNKNOWN</td>\n",
       "      <td>UNKNOWN</td>\n",
       "      <td>UNKNOWN</td>\n",
       "      <td>UNKNOWN</td>\n",
       "      <td>UNKNOWN</td>\n",
       "      <td>UNKNOWN</td>\n",
       "      <td>UNKNOWN</td>\n",
       "      <td>UNKNOWN</td>\n",
       "      <td>UNKNOWN</td>\n",
       "      <td>...</td>\n",
       "      <td>UNKNOWN</td>\n",
       "      <td>UNKNOWN</td>\n",
       "      <td>UNKNOWN</td>\n",
       "      <td>UNKNOWN</td>\n",
       "      <td>UNKNOWN</td>\n",
       "      <td>UNKNOWN</td>\n",
       "      <td>UNKNOWN</td>\n",
       "      <td>UNKNOWN</td>\n",
       "      <td>UNKNOWN</td>\n",
       "      <td>UNKNOWN</td>\n",
       "    </tr>\n",
       "    <tr>\n",
       "      <th>3</th>\n",
       "      <td>UNKNOWN</td>\n",
       "      <td>UNKNOWN</td>\n",
       "      <td>UNKNOWN</td>\n",
       "      <td>UNKNOWN</td>\n",
       "      <td>UNKNOWN</td>\n",
       "      <td>UNKNOWN</td>\n",
       "      <td>UNKNOWN</td>\n",
       "      <td>UNKNOWN</td>\n",
       "      <td>UNKNOWN</td>\n",
       "      <td>UNKNOWN</td>\n",
       "      <td>...</td>\n",
       "      <td>1+</td>\n",
       "      <td>1+</td>\n",
       "      <td>UNKNOWN</td>\n",
       "      <td>UNKNOWN</td>\n",
       "      <td>1+</td>\n",
       "      <td>UNKNOWN</td>\n",
       "      <td>UNKNOWN</td>\n",
       "      <td>UNKNOWN</td>\n",
       "      <td>UNKNOWN</td>\n",
       "      <td>UNKNOWN</td>\n",
       "    </tr>\n",
       "    <tr>\n",
       "      <th>4</th>\n",
       "      <td>UNKNOWN</td>\n",
       "      <td>UNKNOWN</td>\n",
       "      <td>UNKNOWN</td>\n",
       "      <td>UNKNOWN</td>\n",
       "      <td>UNKNOWN</td>\n",
       "      <td>UNKNOWN</td>\n",
       "      <td>UNKNOWN</td>\n",
       "      <td>UNKNOWN</td>\n",
       "      <td>UNKNOWN</td>\n",
       "      <td>UNKNOWN</td>\n",
       "      <td>...</td>\n",
       "      <td>UNKNOWN</td>\n",
       "      <td>UNKNOWN</td>\n",
       "      <td>UNKNOWN</td>\n",
       "      <td>UNKNOWN</td>\n",
       "      <td>UNKNOWN</td>\n",
       "      <td>UNKNOWN</td>\n",
       "      <td>UNKNOWN</td>\n",
       "      <td>UNKNOWN</td>\n",
       "      <td>UNKNOWN</td>\n",
       "      <td>UNKNOWN</td>\n",
       "    </tr>\n",
       "  </tbody>\n",
       "</table>\n",
       "<p>5 rows × 36 columns</p>\n",
       "</div>"
      ],
      "text/plain": [
       "   10378-8  30089-7  30226-5   3349-8   3376-1   3377-9   3390-2   3397-7  \\\n",
       "0  UNKNOWN  UNKNOWN  UNKNOWN      NEG      NEG      NEG      NEG      POS   \n",
       "1       2+  UNKNOWN  UNKNOWN  UNKNOWN      NEG  UNKNOWN  UNKNOWN  UNKNOWN   \n",
       "2  UNKNOWN  UNKNOWN  UNKNOWN  UNKNOWN  UNKNOWN  UNKNOWN  UNKNOWN  UNKNOWN   \n",
       "3  UNKNOWN  UNKNOWN  UNKNOWN  UNKNOWN  UNKNOWN  UNKNOWN  UNKNOWN  UNKNOWN   \n",
       "4  UNKNOWN  UNKNOWN  UNKNOWN  UNKNOWN  UNKNOWN  UNKNOWN  UNKNOWN  UNKNOWN   \n",
       "\n",
       "    3773-9   3879-4  ...    738-5    741-9    774-0    778-1    779-9  \\\n",
       "0      NEG      POS  ...  UNKNOWN  UNKNOWN  UNKNOWN      LOW  UNKNOWN   \n",
       "1  UNKNOWN  UNKNOWN  ...       2+       2+       2+      LOW       2+   \n",
       "2  UNKNOWN  UNKNOWN  ...  UNKNOWN  UNKNOWN  UNKNOWN  UNKNOWN  UNKNOWN   \n",
       "3  UNKNOWN  UNKNOWN  ...       1+       1+  UNKNOWN  UNKNOWN       1+   \n",
       "4  UNKNOWN  UNKNOWN  ...  UNKNOWN  UNKNOWN  UNKNOWN  UNKNOWN  UNKNOWN   \n",
       "\n",
       "    7790-9   7791-7    800-3   8246-1   8247-9  \n",
       "0  UNKNOWN  UNKNOWN  UNKNOWN  UNKNOWN  UNKNOWN  \n",
       "1  UNKNOWN       1+       1+  UNKNOWN  UNKNOWN  \n",
       "2  UNKNOWN  UNKNOWN  UNKNOWN  UNKNOWN  UNKNOWN  \n",
       "3  UNKNOWN  UNKNOWN  UNKNOWN  UNKNOWN  UNKNOWN  \n",
       "4  UNKNOWN  UNKNOWN  UNKNOWN  UNKNOWN  UNKNOWN  \n",
       "\n",
       "[5 rows x 36 columns]"
      ]
     },
     "execution_count": 55,
     "metadata": {},
     "output_type": "execute_result"
    }
   ],
   "source": [
    "dataset[categorical].head()"
   ]
  },
  {
   "cell_type": "markdown",
   "id": "obvious-cartridge",
   "metadata": {},
   "source": [
    "Use one hot encoder for categoric lab features:"
   ]
  },
  {
   "cell_type": "code",
   "execution_count": 56,
   "id": "suitable-electronics",
   "metadata": {},
   "outputs": [
    {
     "data": {
      "text/plain": [
       "[array(['1+', '2+', '3+', 'NORMAL', 'OCCASIONAL', 'UNKNOWN'], dtype=object),\n",
       " array(['0-2', '11-20', '21-50', '3-5', '6-10', 'UNKNOWN'], dtype=object),\n",
       " array(['0-10', '10-40', '160-320', '40-80', '640-1280', '80-160', '>1280',\n",
       "        'UNKNOWN'], dtype=object),\n",
       " array(['NEG', 'POS', 'UNKNOWN'], dtype=object)]"
      ]
     },
     "execution_count": 56,
     "metadata": {},
     "output_type": "execute_result"
    }
   ],
   "source": [
    "enc = OneHotEncoder()\n",
    "enc.fit(dataset[categorical])\n",
    "enc.categories_[0:4]"
   ]
  },
  {
   "cell_type": "code",
   "execution_count": 57,
   "id": "color-exemption",
   "metadata": {},
   "outputs": [],
   "source": [
    "onehotlabvars = enc.transform(dataset[categorical]).toarray()"
   ]
  },
  {
   "cell_type": "code",
   "execution_count": 58,
   "id": "binary-teacher",
   "metadata": {},
   "outputs": [
    {
     "data": {
      "text/plain": [
       "(4328, 208)"
      ]
     },
     "execution_count": 58,
     "metadata": {},
     "output_type": "execute_result"
    }
   ],
   "source": [
    "onehotlabvars.shape"
   ]
  },
  {
   "cell_type": "markdown",
   "id": "robust-emission",
   "metadata": {},
   "source": [
    "#### Clean demographic static variables:"
   ]
  },
  {
   "cell_type": "code",
   "execution_count": 59,
   "id": "silver-border",
   "metadata": {},
   "outputs": [],
   "source": [
    "staticvars = ['admission_type', 'admission_location', 'insurance', 'language', \n",
    "               'religion', 'marital_status', 'ethnicity', 'gender']"
   ]
  },
  {
   "cell_type": "code",
   "execution_count": 60,
   "id": "opponent-yield",
   "metadata": {},
   "outputs": [],
   "source": [
    "dataset['admission_location'] = \\\n",
    "np.where(dataset['admission_location'].isin(['** INFO NOT AVAILABLE **']), 'EMERGENCY ROOM ADMIT',\n",
    "np.where(dataset['admission_location'].isin(['TRANSFER FROM SKILLED NUR','TRANSFER FROM OTHER HEALT',\n",
    "                        'TRANSFER FROM HOSP/EXTRAM']), 'TRANSFER FROM MED FACILITY',dataset['admission_location']))\n",
    "dataset['language'] = \\\n",
    "np.where(~dataset['language'].isin(['ENGL','SPAN']),'OTHER',dataset['language'])\n",
    "\n",
    "dataset['religion'] = \\\n",
    "np.where(~dataset['religion'].isin(['CATHOLIC','NOT SPECIFIED','UNOBTAINABLE','PROTESTANT QUAKER','JEWISH']),'OTHER',\n",
    "np.where(dataset['religion'].isin(['UNOBTAINABLE']),'NOT SPECIFIED', dataset['religion'] ))\n",
    "\n",
    "dataset['ethnicity'] = \\\n",
    "np.where(dataset['ethnicity'].isin(['ASIAN - CHINESE',\n",
    "                                    'ASIAN - ASIAN INDIAN',\n",
    "                                    'ASIAN - VIETNAMESE',\n",
    "                                    'ASIAN - OTHER',\n",
    "                                    'ASIAN - FILIPINO',\n",
    "                                    'ASIAN - CAMBODIAN']), 'ASIAN',\n",
    "np.where(dataset['ethnicity'].isin(['WHITE - RUSSIAN',\n",
    "                                    'WHITE - BRAZILIAN',\n",
    "                                    'WHITE - OTHER EUROPEAN']),'WHITE',\n",
    "np.where(dataset['ethnicity'].isin(['BLACK/CAPE VERDEAN',\n",
    "                                    'BLACK/HAITIAN',\n",
    "                                    'BLACK/AFRICAN']), 'BLACK/AFRICAN AMERICAN',\n",
    "np.where(dataset['ethnicity'].isin(['HISPANIC/LATINO - PUERTO RICAN',\n",
    "                                   'HISPANIC/LATINO - DOMINICAN',\n",
    "                                   'HISPANIC/LATINO - SALVADORAN',\n",
    "                                   'HISPANIC/LATINO - CUBAN',\n",
    "                                   'HISPANIC/LATINO - MEXICAN']), 'HISPANIC OR LATINO',   \n",
    "np.where(dataset['ethnicity'].isin(['MULTI RACE ETHNICITY',\n",
    "                                    'MIDDLE EASTERN',\n",
    "                                    'PORTUGUESE',\n",
    "                                    'AMERICAN INDIAN/ALASKA NATIVE',\n",
    "                                    'NATIVE HAWAIIAN OR OTHER PACIFIC ISLANDER',\n",
    "                                    'AMERICAN INDIAN/ALASKA NATIVE FEDERALLY RECOGNIZED TRIBE']), 'OTHER',\n",
    "np.where(dataset['ethnicity'].isin(['UNABLE TO OBTAIN',\n",
    "                                    'PATIENT DECLINED TO ANSWER']), 'UNKNOWN/NOT SPECIFIED',\n",
    "dataset['ethnicity']))))))"
   ]
  },
  {
   "cell_type": "code",
   "execution_count": 61,
   "id": "brown-cooler",
   "metadata": {},
   "outputs": [],
   "source": [
    "dataset['marital_status'] = dataset['marital_status'].fillna(value='UNKNOWN')"
   ]
  },
  {
   "cell_type": "code",
   "execution_count": 62,
   "id": "prepared-theta",
   "metadata": {},
   "outputs": [
    {
     "name": "stdout",
     "output_type": "stream",
     "text": [
      "----------------------------------\n",
      "Column name:  admission_type\n",
      "EMERGENCY    3682\n",
      "ELECTIVE      445\n",
      "URGENT        130\n",
      "NEWBORN        71\n",
      "Name: admission_type, dtype: int64\n",
      "----------------------------------\n",
      "Column name:  admission_location\n",
      "EMERGENCY ROOM ADMIT          2088\n",
      "TRANSFER FROM MED FACILITY     822\n",
      "CLINIC REFERRAL/PREMATURE      802\n",
      "PHYS REFERRAL/NORMAL DELI      616\n",
      "Name: admission_location, dtype: int64\n",
      "----------------------------------\n",
      "Column name:  insurance\n",
      "Medicare      2688\n",
      "Private       1183\n",
      "Medicaid       347\n",
      "Government      89\n",
      "Self Pay        21\n",
      "Name: insurance, dtype: int64\n",
      "----------------------------------\n",
      "Column name:  language\n",
      "ENGL     2269\n",
      "OTHER    1963\n",
      "SPAN       96\n",
      "Name: language, dtype: int64\n",
      "----------------------------------\n",
      "Column name:  religion\n",
      "CATHOLIC             1598\n",
      "NOT SPECIFIED        1254\n",
      "PROTESTANT QUAKER     589\n",
      "OTHER                 477\n",
      "JEWISH                410\n",
      "Name: religion, dtype: int64\n",
      "----------------------------------\n",
      "Column name:  marital_status\n",
      "MARRIED              1925\n",
      "SINGLE               1026\n",
      "WIDOWED               708\n",
      "DIVORCED              320\n",
      "UNKNOWN               274\n",
      "SEPARATED              47\n",
      "UNKNOWN (DEFAULT)      28\n",
      "Name: marital_status, dtype: int64\n",
      "----------------------------------\n",
      "Column name:  ethnicity\n",
      "WHITE                     3098\n",
      "BLACK/AFRICAN AMERICAN     435\n",
      "UNKNOWN/NOT SPECIFIED      418\n",
      "HISPANIC OR LATINO         143\n",
      "OTHER                      125\n",
      "ASIAN                      109\n",
      "Name: ethnicity, dtype: int64\n",
      "----------------------------------\n",
      "Column name:  gender\n",
      "F    2174\n",
      "M    2154\n",
      "Name: gender, dtype: int64\n"
     ]
    }
   ],
   "source": [
    "# print value counts for each demographic variable:\n",
    "for col in staticvars:\n",
    "    print('----------------------------------')\n",
    "    print('Column name: ', col)\n",
    "    print(dataset[col].value_counts(dropna=False))"
   ]
  },
  {
   "cell_type": "markdown",
   "id": "increasing-variance",
   "metadata": {},
   "source": [
    "#### Use one hot encoder for demographic features:"
   ]
  },
  {
   "cell_type": "code",
   "execution_count": null,
   "id": "oriental-marking",
   "metadata": {},
   "outputs": [],
   "source": []
  },
  {
   "cell_type": "code",
   "execution_count": 63,
   "id": "suspected-roller",
   "metadata": {},
   "outputs": [
    {
     "data": {
      "text/plain": [
       "(4328, 8)"
      ]
     },
     "execution_count": 63,
     "metadata": {},
     "output_type": "execute_result"
    }
   ],
   "source": [
    "dataset[staticvars].shape"
   ]
  },
  {
   "cell_type": "code",
   "execution_count": 64,
   "id": "collectible-desktop",
   "metadata": {},
   "outputs": [
    {
     "data": {
      "text/plain": [
       "[array(['ELECTIVE', 'EMERGENCY', 'NEWBORN', 'URGENT'], dtype=object),\n",
       " array(['CLINIC REFERRAL/PREMATURE', 'EMERGENCY ROOM ADMIT',\n",
       "        'PHYS REFERRAL/NORMAL DELI', 'TRANSFER FROM MED FACILITY'],\n",
       "       dtype=object),\n",
       " array(['Government', 'Medicaid', 'Medicare', 'Private', 'Self Pay'],\n",
       "       dtype=object),\n",
       " array(['ENGL', 'OTHER', 'SPAN'], dtype=object),\n",
       " array(['CATHOLIC', 'JEWISH', 'NOT SPECIFIED', 'OTHER',\n",
       "        'PROTESTANT QUAKER'], dtype=object),\n",
       " array(['DIVORCED', 'MARRIED', 'SEPARATED', 'SINGLE', 'UNKNOWN',\n",
       "        'UNKNOWN (DEFAULT)', 'WIDOWED'], dtype=object),\n",
       " array(['ASIAN', 'BLACK/AFRICAN AMERICAN', 'HISPANIC OR LATINO', 'OTHER',\n",
       "        'UNKNOWN/NOT SPECIFIED', 'WHITE'], dtype=object),\n",
       " array(['F', 'M'], dtype=object)]"
      ]
     },
     "execution_count": 64,
     "metadata": {},
     "output_type": "execute_result"
    }
   ],
   "source": [
    "enc = OneHotEncoder(handle_unknown='ignore')\n",
    "enc.fit(dataset[staticvars])\n",
    "enc.categories_"
   ]
  },
  {
   "cell_type": "code",
   "execution_count": 65,
   "id": "expanded-drain",
   "metadata": {},
   "outputs": [],
   "source": [
    "onehotstaticvars = enc.transform(dataset[staticvars]).toarray()"
   ]
  },
  {
   "cell_type": "code",
   "execution_count": 66,
   "id": "adapted-major",
   "metadata": {},
   "outputs": [
    {
     "data": {
      "text/plain": [
       "(4328, 36)"
      ]
     },
     "execution_count": 66,
     "metadata": {},
     "output_type": "execute_result"
    }
   ],
   "source": [
    "onehotstaticvars.shape"
   ]
  },
  {
   "cell_type": "code",
   "execution_count": 67,
   "id": "intellectual-following",
   "metadata": {},
   "outputs": [
    {
     "data": {
      "text/plain": [
       "array([[0., 1., 0., ..., 0., 0., 1.],\n",
       "       [0., 1., 0., ..., 1., 1., 0.],\n",
       "       [1., 0., 0., ..., 1., 0., 1.],\n",
       "       ...,\n",
       "       [0., 1., 0., ..., 0., 1., 0.],\n",
       "       [0., 1., 0., ..., 1., 0., 1.],\n",
       "       [1., 0., 0., ..., 1., 0., 1.]])"
      ]
     },
     "execution_count": 67,
     "metadata": {},
     "output_type": "execute_result"
    }
   ],
   "source": [
    "onehotstaticvars"
   ]
  },
  {
   "cell_type": "markdown",
   "id": "friendly-diagnosis",
   "metadata": {},
   "source": [
    "#### Combine all features and constract full dataset"
   ]
  },
  {
   "cell_type": "code",
   "execution_count": 68,
   "id": "mobile-george",
   "metadata": {},
   "outputs": [
    {
     "data": {
      "text/plain": [
       "(4328, 1)"
      ]
     },
     "execution_count": 68,
     "metadata": {},
     "output_type": "execute_result"
    }
   ],
   "source": [
    "# response variable\n",
    "response = np.array([dataset['RESISTANT_YN']])\n",
    "response = response.T\n",
    "response.shape"
   ]
  },
  {
   "cell_type": "code",
   "execution_count": 69,
   "id": "deadly-duration",
   "metadata": {},
   "outputs": [
    {
     "data": {
      "text/plain": [
       "(4328, 339)"
      ]
     },
     "execution_count": 69,
     "metadata": {},
     "output_type": "execute_result"
    }
   ],
   "source": [
    "# the last variable is a target variable \n",
    "fulldata = np.concatenate((numlabvars, onehotlabvars, onehotstaticvars, response), axis=1)\n",
    "fulldata.shape"
   ]
  },
  {
   "cell_type": "code",
   "execution_count": 70,
   "id": "qualified-converter",
   "metadata": {},
   "outputs": [],
   "source": [
    "# Save to a file\n",
    "np.save('data/fulldata.npy', fulldata)"
   ]
  },
  {
   "cell_type": "code",
   "execution_count": 387,
   "id": "downtown-country",
   "metadata": {},
   "outputs": [
    {
     "data": {
      "text/plain": [
       "(4328, 339)"
      ]
     },
     "execution_count": 387,
     "metadata": {},
     "output_type": "execute_result"
    }
   ],
   "source": [
    "# Load data\n",
    "fulldata = np.load('data/fulldata.npy')"
   ]
  },
  {
   "cell_type": "code",
   "execution_count": 94,
   "id": "viral-collector",
   "metadata": {},
   "outputs": [
    {
     "data": {
      "text/plain": [
       "'1.5.1'"
      ]
     },
     "execution_count": 94,
     "metadata": {},
     "output_type": "execute_result"
    }
   ],
   "source": [
    "import torch\n",
    "torch.__version__"
   ]
  },
  {
   "cell_type": "code",
   "execution_count": null,
   "id": "essential-performer",
   "metadata": {},
   "outputs": [],
   "source": []
  }
 ],
 "metadata": {
  "kernelspec": {
   "display_name": "conda_amazonei_pytorch_latest_p36",
   "language": "python",
   "name": "conda_amazonei_pytorch_latest_p36"
  },
  "language_info": {
   "codemirror_mode": {
    "name": "ipython",
    "version": 3
   },
   "file_extension": ".py",
   "mimetype": "text/x-python",
   "name": "python",
   "nbconvert_exporter": "python",
   "pygments_lexer": "ipython3",
   "version": "3.6.13"
  }
 },
 "nbformat": 4,
 "nbformat_minor": 5
}
